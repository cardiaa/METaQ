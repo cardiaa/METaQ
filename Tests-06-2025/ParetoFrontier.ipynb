{
 "cells": [
  {
   "cell_type": "code",
   "execution_count": 59,
   "id": "229c31c5",
   "metadata": {},
   "outputs": [
    {
     "data": {
      "application/vnd.plotly.v1+json": {
       "config": {
        "plotlyServerURL": "https://plot.ly"
       },
       "data": [
        {
         "hoverinfo": "text",
         "marker": {
          "color": "blue",
          "size": 8
         },
         "mode": "markers",
         "name": "Unefficient points",
         "text": [
          "File: output-Test-2025-06-09-A.log<br>r = 1.1031<br>Accuracy: 98.3<br>Compression: 2.87%<br><b>Params:</b><br>model=LeNet-5<br>criterion=CrossEntropy<br>C=6<br>lr=0.0007<br>lambda_reg=0.0015<br>alpha=0.533<br>[T1=lambda_reg*alpha=0.0008]<br>[T2=lambda_reg*(1-alpha)=0.0007]<br>subgradient_step=100000.0<br>w0=-0.11<br>target_acc=98.0<br>target_zstd_ratio=0.0297<br>min_xi=0<br>max_xi=1<br>upper_c=44426<br>lower_c=0.01<br>zeta=50000<br>l=0.5<br>n_epochs=100<br>max_iterations=15<br>train_optimizer=ADAM<br>entropy_optimizer=FISTA<br>delta=1000<br>pruning=Y<br>QuantizationType=center",
          "File: output-Test-2025-06-09-A.log<br>r = 1.1031<br>Accuracy: 98.26<br>Compression: 2.69%<br><b>Params:</b><br>model=LeNet-5<br>criterion=CrossEntropy<br>C=6<br>lr=0.0007<br>lambda_reg=0.0015<br>alpha=0.533<br>[T1=lambda_reg*alpha=0.0008]<br>[T2=lambda_reg*(1-alpha)=0.0007]<br>subgradient_step=100000.0<br>w0=-0.11<br>target_acc=98.0<br>target_zstd_ratio=0.0297<br>min_xi=0<br>max_xi=1<br>upper_c=44426<br>lower_c=0.01<br>zeta=50000<br>l=0.5<br>n_epochs=100<br>max_iterations=15<br>train_optimizer=ADAM<br>entropy_optimizer=FISTA<br>delta=1000<br>pruning=Y<br>QuantizationType=center",
          "File: output-Test-2025-06-09-A.log<br>r = 1.1031<br>Accuracy: 98.25<br>Compression: 2.86%<br><b>Params:</b><br>model=LeNet-5<br>criterion=CrossEntropy<br>C=6<br>lr=0.0007<br>lambda_reg=0.0015<br>alpha=0.533<br>[T1=lambda_reg*alpha=0.0008]<br>[T2=lambda_reg*(1-alpha)=0.0007]<br>subgradient_step=100000.0<br>w0=-0.11<br>target_acc=98.0<br>target_zstd_ratio=0.0297<br>min_xi=0<br>max_xi=1<br>upper_c=44426<br>lower_c=0.01<br>zeta=50000<br>l=0.5<br>n_epochs=100<br>max_iterations=15<br>train_optimizer=ADAM<br>entropy_optimizer=FISTA<br>delta=1000<br>pruning=Y<br>QuantizationType=center",
          "File: output-Test-2025-06-09-A.log<br>r = 1.1031<br>Accuracy: 98.2<br>Compression: 2.96%<br><b>Params:</b><br>model=LeNet-5<br>criterion=CrossEntropy<br>C=6<br>lr=0.0007<br>lambda_reg=0.0015<br>alpha=0.533<br>[T1=lambda_reg*alpha=0.0008]<br>[T2=lambda_reg*(1-alpha)=0.0007]<br>subgradient_step=100000.0<br>w0=-0.11<br>target_acc=98.0<br>target_zstd_ratio=0.0297<br>min_xi=0<br>max_xi=1<br>upper_c=44426<br>lower_c=0.01<br>zeta=50000<br>l=0.5<br>n_epochs=100<br>max_iterations=15<br>train_optimizer=ADAM<br>entropy_optimizer=FISTA<br>delta=1000<br>pruning=Y<br>QuantizationType=center",
          "File: output-Test-2025-06-09-A.log<br>r = 1.1031<br>Accuracy: 98.2<br>Compression: 2.97%<br><b>Params:</b><br>model=LeNet-5<br>criterion=CrossEntropy<br>C=6<br>lr=0.0007<br>lambda_reg=0.0015<br>alpha=0.533<br>[T1=lambda_reg*alpha=0.0008]<br>[T2=lambda_reg*(1-alpha)=0.0007]<br>subgradient_step=100000.0<br>w0=-0.11<br>target_acc=98.0<br>target_zstd_ratio=0.0297<br>min_xi=0<br>max_xi=1<br>upper_c=44426<br>lower_c=0.01<br>zeta=50000<br>l=0.5<br>n_epochs=100<br>max_iterations=15<br>train_optimizer=ADAM<br>entropy_optimizer=FISTA<br>delta=1000<br>pruning=Y<br>QuantizationType=center",
          "File: output-Test-2025-06-09-A.log<br>r = 1.1031<br>Accuracy: 98.19<br>Compression: 3.04%<br><b>Params:</b><br>model=LeNet-5<br>criterion=CrossEntropy<br>C=6<br>lr=0.0007<br>lambda_reg=0.0015<br>alpha=0.533<br>[T1=lambda_reg*alpha=0.0008]<br>[T2=lambda_reg*(1-alpha)=0.0007]<br>subgradient_step=100000.0<br>w0=-0.11<br>target_acc=98.0<br>target_zstd_ratio=0.0297<br>min_xi=0<br>max_xi=1<br>upper_c=44426<br>lower_c=0.01<br>zeta=50000<br>l=0.5<br>n_epochs=100<br>max_iterations=15<br>train_optimizer=ADAM<br>entropy_optimizer=FISTA<br>delta=1000<br>pruning=Y<br>QuantizationType=center",
          "File: output-Test-2025-06-09-A.log<br>r = 1.1031<br>Accuracy: 98.18<br>Compression: 3.13%<br><b>Params:</b><br>model=LeNet-5<br>criterion=CrossEntropy<br>C=6<br>lr=0.0007<br>lambda_reg=0.0015<br>alpha=0.533<br>[T1=lambda_reg*alpha=0.0008]<br>[T2=lambda_reg*(1-alpha)=0.0007]<br>subgradient_step=100000.0<br>w0=-0.11<br>target_acc=98.0<br>target_zstd_ratio=0.0297<br>min_xi=0<br>max_xi=1<br>upper_c=44426<br>lower_c=0.01<br>zeta=50000<br>l=0.5<br>n_epochs=100<br>max_iterations=15<br>train_optimizer=ADAM<br>entropy_optimizer=FISTA<br>delta=1000<br>pruning=Y<br>QuantizationType=center",
          "File: output-Test-2025-06-09-A.log<br>r = 1.1031<br>Accuracy: 98.14<br>Compression: 2.76%<br><b>Params:</b><br>model=LeNet-5<br>criterion=CrossEntropy<br>C=6<br>lr=0.0007<br>lambda_reg=0.0015<br>alpha=0.533<br>[T1=lambda_reg*alpha=0.0008]<br>[T2=lambda_reg*(1-alpha)=0.0007]<br>subgradient_step=100000.0<br>w0=-0.11<br>target_acc=98.0<br>target_zstd_ratio=0.0297<br>min_xi=0<br>max_xi=1<br>upper_c=44426<br>lower_c=0.01<br>zeta=50000<br>l=0.5<br>n_epochs=100<br>max_iterations=15<br>train_optimizer=ADAM<br>entropy_optimizer=FISTA<br>delta=1000<br>pruning=Y<br>QuantizationType=center",
          "File: output-Test-2025-06-09-A.log<br>r = 1.1031<br>Accuracy: 98.25<br>Compression: 2.84%<br><b>Params:</b><br>model=LeNet-5<br>criterion=CrossEntropy<br>C=6<br>lr=0.0007<br>lambda_reg=0.0015<br>alpha=0.533<br>[T1=lambda_reg*alpha=0.0008]<br>[T2=lambda_reg*(1-alpha)=0.0007]<br>subgradient_step=100000.0<br>w0=-0.11<br>target_acc=98.0<br>target_zstd_ratio=0.0297<br>min_xi=0<br>max_xi=1<br>upper_c=44426<br>lower_c=0.01<br>zeta=50000<br>l=0.5<br>n_epochs=100<br>max_iterations=15<br>train_optimizer=ADAM<br>entropy_optimizer=FISTA<br>delta=1000<br>pruning=Y<br>QuantizationType=center",
          "File: output-Test-2025-06-09-A.log<br>r = 1.1031<br>Accuracy: 98.24<br>Compression: 2.94%<br><b>Params:</b><br>model=LeNet-5<br>criterion=CrossEntropy<br>C=6<br>lr=0.0007<br>lambda_reg=0.0015<br>alpha=0.533<br>[T1=lambda_reg*alpha=0.0008]<br>[T2=lambda_reg*(1-alpha)=0.0007]<br>subgradient_step=100000.0<br>w0=-0.11<br>target_acc=98.0<br>target_zstd_ratio=0.0297<br>min_xi=0<br>max_xi=1<br>upper_c=44426<br>lower_c=0.01<br>zeta=50000<br>l=0.5<br>n_epochs=100<br>max_iterations=15<br>train_optimizer=ADAM<br>entropy_optimizer=FISTA<br>delta=1000<br>pruning=Y<br>QuantizationType=center",
          "File: output-Test-2025-06-09-A.log<br>r = 1.1031<br>Accuracy: 98.22<br>Compression: 3.04%<br><b>Params:</b><br>model=LeNet-5<br>criterion=CrossEntropy<br>C=6<br>lr=0.0007<br>lambda_reg=0.0015<br>alpha=0.533<br>[T1=lambda_reg*alpha=0.0008]<br>[T2=lambda_reg*(1-alpha)=0.0007]<br>subgradient_step=100000.0<br>w0=-0.11<br>target_acc=98.0<br>target_zstd_ratio=0.0297<br>min_xi=0<br>max_xi=1<br>upper_c=44426<br>lower_c=0.01<br>zeta=50000<br>l=0.5<br>n_epochs=100<br>max_iterations=15<br>train_optimizer=ADAM<br>entropy_optimizer=FISTA<br>delta=1000<br>pruning=Y<br>QuantizationType=center",
          "File: output-Test-2025-06-09-A.log<br>r = 1.1031<br>Accuracy: 98.32<br>Compression: 3.23%<br><b>Params:</b><br>model=LeNet-5<br>criterion=CrossEntropy<br>C=6<br>lr=0.0007<br>lambda_reg=0.0015<br>alpha=0.533<br>[T1=lambda_reg*alpha=0.0008]<br>[T2=lambda_reg*(1-alpha)=0.0007]<br>subgradient_step=100000.0<br>w0=-0.11<br>target_acc=98.0<br>target_zstd_ratio=0.0297<br>min_xi=0<br>max_xi=1<br>upper_c=44426<br>lower_c=0.01<br>zeta=50000<br>l=0.5<br>n_epochs=100<br>max_iterations=15<br>train_optimizer=ADAM<br>entropy_optimizer=FISTA<br>delta=1000<br>pruning=Y<br>QuantizationType=center",
          "File: output-Test-2025-06-09-A.log<br>r = 1.1031<br>Accuracy: 98.27<br>Compression: 3.41%<br><b>Params:</b><br>model=LeNet-5<br>criterion=CrossEntropy<br>C=6<br>lr=0.0007<br>lambda_reg=0.0015<br>alpha=0.533<br>[T1=lambda_reg*alpha=0.0008]<br>[T2=lambda_reg*(1-alpha)=0.0007]<br>subgradient_step=100000.0<br>w0=-0.11<br>target_acc=98.0<br>target_zstd_ratio=0.0297<br>min_xi=0<br>max_xi=1<br>upper_c=44426<br>lower_c=0.01<br>zeta=50000<br>l=0.5<br>n_epochs=100<br>max_iterations=15<br>train_optimizer=ADAM<br>entropy_optimizer=FISTA<br>delta=1000<br>pruning=Y<br>QuantizationType=center",
          "File: output-Test-2025-06-09-A.log<br>r = 1.1031<br>Accuracy: 98.26<br>Compression: 3.07%<br><b>Params:</b><br>model=LeNet-5<br>criterion=CrossEntropy<br>C=6<br>lr=0.0007<br>lambda_reg=0.0015<br>alpha=0.533<br>[T1=lambda_reg*alpha=0.0008]<br>[T2=lambda_reg*(1-alpha)=0.0007]<br>subgradient_step=100000.0<br>w0=-0.11<br>target_acc=98.0<br>target_zstd_ratio=0.0297<br>min_xi=0<br>max_xi=1<br>upper_c=44426<br>lower_c=0.01<br>zeta=50000<br>l=0.5<br>n_epochs=100<br>max_iterations=15<br>train_optimizer=ADAM<br>entropy_optimizer=FISTA<br>delta=1000<br>pruning=Y<br>QuantizationType=center",
          "File: output-Test-2025-06-09-A.log<br>r = 1.1031<br>Accuracy: 98.26<br>Compression: 3.06%<br><b>Params:</b><br>model=LeNet-5<br>criterion=CrossEntropy<br>C=6<br>lr=0.0007<br>lambda_reg=0.0015<br>alpha=0.533<br>[T1=lambda_reg*alpha=0.0008]<br>[T2=lambda_reg*(1-alpha)=0.0007]<br>subgradient_step=100000.0<br>w0=-0.11<br>target_acc=98.0<br>target_zstd_ratio=0.0297<br>min_xi=0<br>max_xi=1<br>upper_c=44426<br>lower_c=0.01<br>zeta=50000<br>l=0.5<br>n_epochs=100<br>max_iterations=15<br>train_optimizer=ADAM<br>entropy_optimizer=FISTA<br>delta=1000<br>pruning=Y<br>QuantizationType=center",
          "File: output-Test-2025-06-09-A.log<br>r = 1.1031<br>Accuracy: 98.23<br>Compression: 2.99%<br><b>Params:</b><br>model=LeNet-5<br>criterion=CrossEntropy<br>C=6<br>lr=0.0007<br>lambda_reg=0.0015<br>alpha=0.533<br>[T1=lambda_reg*alpha=0.0008]<br>[T2=lambda_reg*(1-alpha)=0.0007]<br>subgradient_step=100000.0<br>w0=-0.11<br>target_acc=98.0<br>target_zstd_ratio=0.0297<br>min_xi=0<br>max_xi=1<br>upper_c=44426<br>lower_c=0.01<br>zeta=50000<br>l=0.5<br>n_epochs=100<br>max_iterations=15<br>train_optimizer=ADAM<br>entropy_optimizer=FISTA<br>delta=1000<br>pruning=Y<br>QuantizationType=center",
          "File: output-Test-2025-06-09-A.log<br>r = 1.1031<br>Accuracy: 98.17<br>Compression: 3.09%<br><b>Params:</b><br>model=LeNet-5<br>criterion=CrossEntropy<br>C=6<br>lr=0.0007<br>lambda_reg=0.0015<br>alpha=0.533<br>[T1=lambda_reg*alpha=0.0008]<br>[T2=lambda_reg*(1-alpha)=0.0007]<br>subgradient_step=100000.0<br>w0=-0.11<br>target_acc=98.0<br>target_zstd_ratio=0.0297<br>min_xi=0<br>max_xi=1<br>upper_c=44426<br>lower_c=0.01<br>zeta=50000<br>l=0.5<br>n_epochs=100<br>max_iterations=15<br>train_optimizer=ADAM<br>entropy_optimizer=FISTA<br>delta=1000<br>pruning=Y<br>QuantizationType=center",
          "File: output-Test-2025-06-09-A.log<br>r = 1.1031<br>Accuracy: 98.32<br>Compression: 3.41%<br><b>Params:</b><br>model=LeNet-5<br>criterion=CrossEntropy<br>C=6<br>lr=0.0007<br>lambda_reg=0.0015<br>alpha=0.533<br>[T1=lambda_reg*alpha=0.0008]<br>[T2=lambda_reg*(1-alpha)=0.0007]<br>subgradient_step=100000.0<br>w0=-0.11<br>target_acc=98.0<br>target_zstd_ratio=0.0297<br>min_xi=0<br>max_xi=1<br>upper_c=44426<br>lower_c=0.01<br>zeta=50000<br>l=0.5<br>n_epochs=100<br>max_iterations=15<br>train_optimizer=ADAM<br>entropy_optimizer=FISTA<br>delta=1000<br>pruning=Y<br>QuantizationType=center",
          "File: output-Test-2025-06-09-A.log<br>r = 1.1031<br>Accuracy: 98.32<br>Compression: 3.18%<br><b>Params:</b><br>model=LeNet-5<br>criterion=CrossEntropy<br>C=6<br>lr=0.0007<br>lambda_reg=0.0015<br>alpha=0.533<br>[T1=lambda_reg*alpha=0.0008]<br>[T2=lambda_reg*(1-alpha)=0.0007]<br>subgradient_step=100000.0<br>w0=-0.11<br>target_acc=98.0<br>target_zstd_ratio=0.0297<br>min_xi=0<br>max_xi=1<br>upper_c=44426<br>lower_c=0.01<br>zeta=50000<br>l=0.5<br>n_epochs=100<br>max_iterations=15<br>train_optimizer=ADAM<br>entropy_optimizer=FISTA<br>delta=1000<br>pruning=Y<br>QuantizationType=center",
          "File: output-Test-2025-06-09-A.log<br>r = 1.1031<br>Accuracy: 98.34<br>Compression: 3.41%<br><b>Params:</b><br>model=LeNet-5<br>criterion=CrossEntropy<br>C=6<br>lr=0.0007<br>lambda_reg=0.0015<br>alpha=0.533<br>[T1=lambda_reg*alpha=0.0008]<br>[T2=lambda_reg*(1-alpha)=0.0007]<br>subgradient_step=100000.0<br>w0=-0.11<br>target_acc=98.0<br>target_zstd_ratio=0.0297<br>min_xi=0<br>max_xi=1<br>upper_c=44426<br>lower_c=0.01<br>zeta=50000<br>l=0.5<br>n_epochs=100<br>max_iterations=15<br>train_optimizer=ADAM<br>entropy_optimizer=FISTA<br>delta=1000<br>pruning=Y<br>QuantizationType=center",
          "File: output-Test-2025-06-09-A.log<br>r = 1.1031<br>Accuracy: 98.23<br>Compression: 2.9%<br><b>Params:</b><br>model=LeNet-5<br>criterion=CrossEntropy<br>C=6<br>lr=0.0007<br>lambda_reg=0.0015<br>alpha=0.533<br>[T1=lambda_reg*alpha=0.0008]<br>[T2=lambda_reg*(1-alpha)=0.0007]<br>subgradient_step=100000.0<br>w0=-0.11<br>target_acc=98.0<br>target_zstd_ratio=0.0297<br>min_xi=0<br>max_xi=1<br>upper_c=44426<br>lower_c=0.01<br>zeta=50000<br>l=0.5<br>n_epochs=100<br>max_iterations=15<br>train_optimizer=ADAM<br>entropy_optimizer=FISTA<br>delta=1000<br>pruning=Y<br>QuantizationType=center",
          "File: output-Test-2025-06-09-A.log<br>r = 1.1031<br>Accuracy: 98.2<br>Compression: 3.42%<br><b>Params:</b><br>model=LeNet-5<br>criterion=CrossEntropy<br>C=6<br>lr=0.0007<br>lambda_reg=0.0015<br>alpha=0.533<br>[T1=lambda_reg*alpha=0.0008]<br>[T2=lambda_reg*(1-alpha)=0.0007]<br>subgradient_step=100000.0<br>w0=-0.11<br>target_acc=98.0<br>target_zstd_ratio=0.0297<br>min_xi=0<br>max_xi=1<br>upper_c=44426<br>lower_c=0.01<br>zeta=50000<br>l=0.5<br>n_epochs=100<br>max_iterations=15<br>train_optimizer=ADAM<br>entropy_optimizer=FISTA<br>delta=1000<br>pruning=Y<br>QuantizationType=center",
          "File: output-Test-2025-06-09-A.log<br>r = 1.1031<br>Accuracy: 98.17<br>Compression: 3.26%<br><b>Params:</b><br>model=LeNet-5<br>criterion=CrossEntropy<br>C=6<br>lr=0.0007<br>lambda_reg=0.0015<br>alpha=0.533<br>[T1=lambda_reg*alpha=0.0008]<br>[T2=lambda_reg*(1-alpha)=0.0007]<br>subgradient_step=100000.0<br>w0=-0.11<br>target_acc=98.0<br>target_zstd_ratio=0.0297<br>min_xi=0<br>max_xi=1<br>upper_c=44426<br>lower_c=0.01<br>zeta=50000<br>l=0.5<br>n_epochs=100<br>max_iterations=15<br>train_optimizer=ADAM<br>entropy_optimizer=FISTA<br>delta=1000<br>pruning=Y<br>QuantizationType=center",
          "File: output-Test-2025-06-09-A.log<br>r = 1.1031<br>Accuracy: 98.33<br>Compression: 3.09%<br><b>Params:</b><br>model=LeNet-5<br>criterion=CrossEntropy<br>C=6<br>lr=0.0007<br>lambda_reg=0.0015<br>alpha=0.533<br>[T1=lambda_reg*alpha=0.0008]<br>[T2=lambda_reg*(1-alpha)=0.0007]<br>subgradient_step=100000.0<br>w0=-0.11<br>target_acc=98.0<br>target_zstd_ratio=0.0297<br>min_xi=0<br>max_xi=1<br>upper_c=44426<br>lower_c=0.01<br>zeta=50000<br>l=0.5<br>n_epochs=100<br>max_iterations=15<br>train_optimizer=ADAM<br>entropy_optimizer=FISTA<br>delta=1000<br>pruning=Y<br>QuantizationType=center",
          "File: output-Test-2025-06-09-A.log<br>r = 1.1031<br>Accuracy: 98.27<br>Compression: 3.11%<br><b>Params:</b><br>model=LeNet-5<br>criterion=CrossEntropy<br>C=6<br>lr=0.0007<br>lambda_reg=0.0015<br>alpha=0.533<br>[T1=lambda_reg*alpha=0.0008]<br>[T2=lambda_reg*(1-alpha)=0.0007]<br>subgradient_step=100000.0<br>w0=-0.11<br>target_acc=98.0<br>target_zstd_ratio=0.0297<br>min_xi=0<br>max_xi=1<br>upper_c=44426<br>lower_c=0.01<br>zeta=50000<br>l=0.5<br>n_epochs=100<br>max_iterations=15<br>train_optimizer=ADAM<br>entropy_optimizer=FISTA<br>delta=1000<br>pruning=Y<br>QuantizationType=center",
          "File: output-Test-2025-06-09-A.log<br>r = 1.1031<br>Accuracy: 98.26<br>Compression: 3.49%<br><b>Params:</b><br>model=LeNet-5<br>criterion=CrossEntropy<br>C=6<br>lr=0.0007<br>lambda_reg=0.0015<br>alpha=0.533<br>[T1=lambda_reg*alpha=0.0008]<br>[T2=lambda_reg*(1-alpha)=0.0007]<br>subgradient_step=100000.0<br>w0=-0.11<br>target_acc=98.0<br>target_zstd_ratio=0.0297<br>min_xi=0<br>max_xi=1<br>upper_c=44426<br>lower_c=0.01<br>zeta=50000<br>l=0.5<br>n_epochs=100<br>max_iterations=15<br>train_optimizer=ADAM<br>entropy_optimizer=FISTA<br>delta=1000<br>pruning=Y<br>QuantizationType=center",
          "File: output-Test-2025-06-09-A.log<br>r = 1.1031<br>Accuracy: 98.25<br>Compression: 3.21%<br><b>Params:</b><br>model=LeNet-5<br>criterion=CrossEntropy<br>C=6<br>lr=0.0007<br>lambda_reg=0.0015<br>alpha=0.533<br>[T1=lambda_reg*alpha=0.0008]<br>[T2=lambda_reg*(1-alpha)=0.0007]<br>subgradient_step=100000.0<br>w0=-0.11<br>target_acc=98.0<br>target_zstd_ratio=0.0297<br>min_xi=0<br>max_xi=1<br>upper_c=44426<br>lower_c=0.01<br>zeta=50000<br>l=0.5<br>n_epochs=100<br>max_iterations=15<br>train_optimizer=ADAM<br>entropy_optimizer=FISTA<br>delta=1000<br>pruning=Y<br>QuantizationType=center",
          "File: output-Test-2025-06-09-A.log<br>r = 1.1031<br>Accuracy: 98.28<br>Compression: 3.36%<br><b>Params:</b><br>model=LeNet-5<br>criterion=CrossEntropy<br>C=6<br>lr=0.0007<br>lambda_reg=0.0015<br>alpha=0.533<br>[T1=lambda_reg*alpha=0.0008]<br>[T2=lambda_reg*(1-alpha)=0.0007]<br>subgradient_step=100000.0<br>w0=-0.11<br>target_acc=98.0<br>target_zstd_ratio=0.0297<br>min_xi=0<br>max_xi=1<br>upper_c=44426<br>lower_c=0.01<br>zeta=50000<br>l=0.5<br>n_epochs=100<br>max_iterations=15<br>train_optimizer=ADAM<br>entropy_optimizer=FISTA<br>delta=1000<br>pruning=Y<br>QuantizationType=center",
          "File: output-Test-2025-06-09-A.log<br>r = 1.1031<br>Accuracy: 98.27<br>Compression: 3.44%<br><b>Params:</b><br>model=LeNet-5<br>criterion=CrossEntropy<br>C=6<br>lr=0.0007<br>lambda_reg=0.0015<br>alpha=0.533<br>[T1=lambda_reg*alpha=0.0008]<br>[T2=lambda_reg*(1-alpha)=0.0007]<br>subgradient_step=100000.0<br>w0=-0.11<br>target_acc=98.0<br>target_zstd_ratio=0.0297<br>min_xi=0<br>max_xi=1<br>upper_c=44426<br>lower_c=0.01<br>zeta=50000<br>l=0.5<br>n_epochs=100<br>max_iterations=15<br>train_optimizer=ADAM<br>entropy_optimizer=FISTA<br>delta=1000<br>pruning=Y<br>QuantizationType=center",
          "File: output-Test-2025-06-12-Fenchel.log<br>r = 1.1017<br>Accuracy: 98.88<br>Compression: 3.33%<br><b>Params:</b><br>model=LeNet-5<br>criterion=CrossEntropy<br>C=6<br>lr=0.0007<br>lambda_reg=0.0015<br>alpha=0.533<br>[T1=lambda_reg*alpha=0.0008]<br>[T2=lambda_reg*(1-alpha)=0.0007]<br>subgradient_step=100000.0<br>w0=-0.11<br>target_acc=98.8<br>target_zstd_ratio=0.0297<br>min_xi=0<br>max_xi=1<br>upper_c=44426<br>lower_c=0.01<br>zeta=50000<br>l=0.5<br>n_epochs=500<br>max_iterations=15<br>train_optimizer=ADAM<br>entropy_optimizer=FISTA<br>delta=1000<br>pruning=Y<br>QuantizationType=center",
          "File: output-Test-2025-06-13-B-Fenchel.log<br>r = 1.1026<br>Accuracy: 98.19<br>Compression: 3.32%<br><b>Params:</b><br>model=LeNet-5<br>criterion=CrossEntropy<br>C=64<br>lr=0.0007<br>lambda_reg=0.0015<br>alpha=0.533<br>[T1=lambda_reg*alpha=0.0008]<br>[T2=lambda_reg*(1-alpha)=0.0007]<br>subgradient_step=100000.0<br>w0=-0.11<br>target_acc=98.8<br>target_zstd_ratio=0.0297<br>min_xi=0<br>max_xi=1<br>upper_c=44426<br>lower_c=0.01<br>zeta=50000<br>l=0.5<br>n_epochs=30<br>max_iterations=15<br>train_optimizer=ADAM<br>entropy_optimizer=FISTA<br>delta=1000<br>pruning=Y<br>QuantizationType=center",
          "File: output-Test-2025-06-13-B-Fenchel.log<br>r = 1.102<br>Accuracy: 98.22<br>Compression: 3.21%<br><b>Params:</b><br>model=LeNet-5<br>criterion=CrossEntropy<br>C=64<br>lr=0.0007<br>lambda_reg=0.0015<br>alpha=0.533<br>[T1=lambda_reg*alpha=0.0008]<br>[T2=lambda_reg*(1-alpha)=0.0007]<br>subgradient_step=100000.0<br>w0=-0.11<br>target_acc=98.8<br>target_zstd_ratio=0.0297<br>min_xi=0<br>max_xi=1<br>upper_c=44426<br>lower_c=0.01<br>zeta=50000<br>l=0.5<br>n_epochs=30<br>max_iterations=15<br>train_optimizer=ADAM<br>entropy_optimizer=FISTA<br>delta=1000<br>pruning=Y<br>QuantizationType=center",
          "File: output-Test-2025-06-13-B-Fenchel.log<br>r = 1.102<br>Accuracy: 98.11<br>Compression: 3.15%<br><b>Params:</b><br>model=LeNet-5<br>criterion=CrossEntropy<br>C=64<br>lr=0.0007<br>lambda_reg=0.0015<br>alpha=0.533<br>[T1=lambda_reg*alpha=0.0008]<br>[T2=lambda_reg*(1-alpha)=0.0007]<br>subgradient_step=100000.0<br>w0=-0.11<br>target_acc=98.8<br>target_zstd_ratio=0.0297<br>min_xi=0<br>max_xi=1<br>upper_c=44426<br>lower_c=0.01<br>zeta=50000<br>l=0.5<br>n_epochs=30<br>max_iterations=15<br>train_optimizer=ADAM<br>entropy_optimizer=FISTA<br>delta=1000<br>pruning=Y<br>QuantizationType=center",
          "File: output-Test-2025-06-13-B-Fenchel.log<br>r = 1.102<br>Accuracy: 98.1<br>Compression: 3.1%<br><b>Params:</b><br>model=LeNet-5<br>criterion=CrossEntropy<br>C=64<br>lr=0.0007<br>lambda_reg=0.0015<br>alpha=0.533<br>[T1=lambda_reg*alpha=0.0008]<br>[T2=lambda_reg*(1-alpha)=0.0007]<br>subgradient_step=100000.0<br>w0=-0.11<br>target_acc=98.8<br>target_zstd_ratio=0.0297<br>min_xi=0<br>max_xi=1<br>upper_c=44426<br>lower_c=0.01<br>zeta=50000<br>l=0.5<br>n_epochs=30<br>max_iterations=15<br>train_optimizer=ADAM<br>entropy_optimizer=FISTA<br>delta=1000<br>pruning=Y<br>QuantizationType=center",
          "File: output-Test-2025-06-13-A-Dantzig.log<br>r = 1.1021<br>Accuracy: 98.02<br>Compression: 1.43%<br><b>Params:</b><br>model=LeNet-5<br>criterion=CrossEntropy<br>C=128<br>lr=0.0007<br>lambda_reg=0.0015<br>alpha=0.533<br>[T1=lambda_reg*alpha=0.0008]<br>[T2=lambda_reg*(1-alpha)=0.0007]<br>subgradient_step=100000.0<br>w0=-0.11<br>target_acc=98.8<br>target_zstd_ratio=0.0297<br>min_xi=0<br>max_xi=1<br>upper_c=44426<br>lower_c=0.01<br>zeta=50000<br>l=0.5<br>n_epochs=30<br>max_iterations=15<br>train_optimizer=ADAM<br>entropy_optimizer=FISTA<br>delta=0<br>pruning=Y<br>QuantizationType=center",
          "File: output-Test-2025-06-13-A-Dantzig.log<br>r = 1.1014<br>Accuracy: 98.08<br>Compression: 1.53%<br><b>Params:</b><br>model=LeNet-5<br>criterion=CrossEntropy<br>C=128<br>lr=0.0007<br>lambda_reg=0.0015<br>alpha=0.533<br>[T1=lambda_reg*alpha=0.0008]<br>[T2=lambda_reg*(1-alpha)=0.0007]<br>subgradient_step=100000.0<br>w0=-0.11<br>target_acc=98.8<br>target_zstd_ratio=0.0297<br>min_xi=0<br>max_xi=1<br>upper_c=44426<br>lower_c=0.01<br>zeta=50000<br>l=0.5<br>n_epochs=30<br>max_iterations=15<br>train_optimizer=ADAM<br>entropy_optimizer=FISTA<br>delta=0<br>pruning=Y<br>QuantizationType=center",
          "File: output-Test-2025-06-13-A-Dantzig.log<br>r = 1.1014<br>Accuracy: 98.02<br>Compression: 1.47%<br><b>Params:</b><br>model=LeNet-5<br>criterion=CrossEntropy<br>C=128<br>lr=0.0007<br>lambda_reg=0.0015<br>alpha=0.533<br>[T1=lambda_reg*alpha=0.0008]<br>[T2=lambda_reg*(1-alpha)=0.0007]<br>subgradient_step=100000.0<br>w0=-0.11<br>target_acc=98.8<br>target_zstd_ratio=0.0297<br>min_xi=0<br>max_xi=1<br>upper_c=44426<br>lower_c=0.01<br>zeta=50000<br>l=0.5<br>n_epochs=30<br>max_iterations=15<br>train_optimizer=ADAM<br>entropy_optimizer=FISTA<br>delta=0<br>pruning=Y<br>QuantizationType=center",
          "File: output-Test-2025-06-13-A-Dantzig.log<br>r = 1.1014<br>Accuracy: 98.12<br>Compression: 1.5%<br><b>Params:</b><br>model=LeNet-5<br>criterion=CrossEntropy<br>C=128<br>lr=0.0007<br>lambda_reg=0.0015<br>alpha=0.533<br>[T1=lambda_reg*alpha=0.0008]<br>[T2=lambda_reg*(1-alpha)=0.0007]<br>subgradient_step=100000.0<br>w0=-0.11<br>target_acc=98.8<br>target_zstd_ratio=0.0297<br>min_xi=0<br>max_xi=1<br>upper_c=44426<br>lower_c=0.01<br>zeta=50000<br>l=0.5<br>n_epochs=30<br>max_iterations=15<br>train_optimizer=ADAM<br>entropy_optimizer=FISTA<br>delta=0<br>pruning=Y<br>QuantizationType=center",
          "File: output-Test-2025-06-13-A-Dantzig.log<br>r = 1.1014<br>Accuracy: 98.11<br>Compression: 1.51%<br><b>Params:</b><br>model=LeNet-5<br>criterion=CrossEntropy<br>C=128<br>lr=0.0007<br>lambda_reg=0.0015<br>alpha=0.533<br>[T1=lambda_reg*alpha=0.0008]<br>[T2=lambda_reg*(1-alpha)=0.0007]<br>subgradient_step=100000.0<br>w0=-0.11<br>target_acc=98.8<br>target_zstd_ratio=0.0297<br>min_xi=0<br>max_xi=1<br>upper_c=44426<br>lower_c=0.01<br>zeta=50000<br>l=0.5<br>n_epochs=30<br>max_iterations=15<br>train_optimizer=ADAM<br>entropy_optimizer=FISTA<br>delta=0<br>pruning=Y<br>QuantizationType=center",
          "File: output-Test-2025-06-13-A-Dantzig.log<br>r = 1.1004<br>Accuracy: 98.01<br>Compression: 1.45%<br><b>Params:</b><br>model=LeNet-5<br>criterion=CrossEntropy<br>C=128<br>lr=0.0007<br>lambda_reg=0.0015<br>alpha=0.533<br>[T1=lambda_reg*alpha=0.0008]<br>[T2=lambda_reg*(1-alpha)=0.0007]<br>subgradient_step=100000.0<br>w0=-0.11<br>target_acc=98.8<br>target_zstd_ratio=0.0297<br>min_xi=0<br>max_xi=1<br>upper_c=44426<br>lower_c=0.01<br>zeta=50000<br>l=0.5<br>n_epochs=30<br>max_iterations=15<br>train_optimizer=ADAM<br>entropy_optimizer=FISTA<br>delta=0<br>pruning=Y<br>QuantizationType=center",
          "File: output-Test-2025-06-15-Fenchel.log<br>r = 1.1019<br>Accuracy: 98.17<br>Compression: 2.92%<br><b>Params:</b><br>model=LeNet-5<br>criterion=CrossEntropy<br>C=64<br>lr=0.0007<br>lambda_reg=0.0015<br>alpha=0.533<br>[T1=lambda_reg*alpha=0.0008]<br>[T2=lambda_reg*(1-alpha)=0.0007]<br>subgradient_step=100000.0<br>w0=-0.11<br>target_acc=98.4<br>target_zstd_ratio=0.0297<br>min_xi=0<br>max_xi=1<br>upper_c=44426<br>lower_c=0.01<br>zeta=50000<br>l=0.5<br>n_epochs=90<br>max_iterations=15<br>train_optimizer=ADAM<br>entropy_optimizer=FISTA<br>delta=32<br>pruning=Y<br>QuantizationType=center",
          "File: output-Test-2025-06-15-Fenchel.log<br>r = 1.1019<br>Accuracy: 98.06<br>Compression: 2.92%<br><b>Params:</b><br>model=LeNet-5<br>criterion=CrossEntropy<br>C=64<br>lr=0.0007<br>lambda_reg=0.0015<br>alpha=0.533<br>[T1=lambda_reg*alpha=0.0008]<br>[T2=lambda_reg*(1-alpha)=0.0007]<br>subgradient_step=100000.0<br>w0=-0.11<br>target_acc=98.4<br>target_zstd_ratio=0.0297<br>min_xi=0<br>max_xi=1<br>upper_c=44426<br>lower_c=0.01<br>zeta=50000<br>l=0.5<br>n_epochs=90<br>max_iterations=15<br>train_optimizer=ADAM<br>entropy_optimizer=FISTA<br>delta=32<br>pruning=Y<br>QuantizationType=center",
          "File: output-Test-2025-06-15-Fenchel.log<br>r = 1.1019<br>Accuracy: 98.35<br>Compression: 2.88%<br><b>Params:</b><br>model=LeNet-5<br>criterion=CrossEntropy<br>C=64<br>lr=0.0007<br>lambda_reg=0.0015<br>alpha=0.533<br>[T1=lambda_reg*alpha=0.0008]<br>[T2=lambda_reg*(1-alpha)=0.0007]<br>subgradient_step=100000.0<br>w0=-0.11<br>target_acc=98.4<br>target_zstd_ratio=0.0297<br>min_xi=0<br>max_xi=1<br>upper_c=44426<br>lower_c=0.01<br>zeta=50000<br>l=0.5<br>n_epochs=90<br>max_iterations=15<br>train_optimizer=ADAM<br>entropy_optimizer=FISTA<br>delta=32<br>pruning=Y<br>QuantizationType=center",
          "File: output-Test-2025-06-15-Fenchel.log<br>r = 1.1019<br>Accuracy: 98.63<br>Compression: 3.41%<br><b>Params:</b><br>model=LeNet-5<br>criterion=CrossEntropy<br>C=64<br>lr=0.0007<br>lambda_reg=0.0015<br>alpha=0.533<br>[T1=lambda_reg*alpha=0.0008]<br>[T2=lambda_reg*(1-alpha)=0.0007]<br>subgradient_step=100000.0<br>w0=-0.11<br>target_acc=98.4<br>target_zstd_ratio=0.0297<br>min_xi=0<br>max_xi=1<br>upper_c=44426<br>lower_c=0.01<br>zeta=50000<br>l=0.5<br>n_epochs=90<br>max_iterations=15<br>train_optimizer=ADAM<br>entropy_optimizer=FISTA<br>delta=32<br>pruning=Y<br>QuantizationType=center",
          "File: output-Test-2025-06-15-Fenchel.log<br>r = 1.1019<br>Accuracy: 98.04<br>Compression: 2.88%<br><b>Params:</b><br>model=LeNet-5<br>criterion=CrossEntropy<br>C=64<br>lr=0.0007<br>lambda_reg=0.0015<br>alpha=0.533<br>[T1=lambda_reg*alpha=0.0008]<br>[T2=lambda_reg*(1-alpha)=0.0007]<br>subgradient_step=100000.0<br>w0=-0.11<br>target_acc=98.4<br>target_zstd_ratio=0.0297<br>min_xi=0<br>max_xi=1<br>upper_c=44426<br>lower_c=0.01<br>zeta=50000<br>l=0.5<br>n_epochs=90<br>max_iterations=15<br>train_optimizer=ADAM<br>entropy_optimizer=FISTA<br>delta=32<br>pruning=Y<br>QuantizationType=center",
          "File: output-Test-2025-06-15-Fenchel.log<br>r = 1.1019<br>Accuracy: 98.01<br>Compression: 2.72%<br><b>Params:</b><br>model=LeNet-5<br>criterion=CrossEntropy<br>C=64<br>lr=0.0007<br>lambda_reg=0.0015<br>alpha=0.533<br>[T1=lambda_reg*alpha=0.0008]<br>[T2=lambda_reg*(1-alpha)=0.0007]<br>subgradient_step=100000.0<br>w0=-0.11<br>target_acc=98.4<br>target_zstd_ratio=0.0297<br>min_xi=0<br>max_xi=1<br>upper_c=44426<br>lower_c=0.01<br>zeta=50000<br>l=0.5<br>n_epochs=90<br>max_iterations=15<br>train_optimizer=ADAM<br>entropy_optimizer=FISTA<br>delta=32<br>pruning=Y<br>QuantizationType=center",
          "File: output-Test-2025-06-15-Fenchel.log<br>r = 1.1019<br>Accuracy: 98.37<br>Compression: 2.68%<br><b>Params:</b><br>model=LeNet-5<br>criterion=CrossEntropy<br>C=64<br>lr=0.0007<br>lambda_reg=0.0015<br>alpha=0.533<br>[T1=lambda_reg*alpha=0.0008]<br>[T2=lambda_reg*(1-alpha)=0.0007]<br>subgradient_step=100000.0<br>w0=-0.11<br>target_acc=98.4<br>target_zstd_ratio=0.0297<br>min_xi=0<br>max_xi=1<br>upper_c=44426<br>lower_c=0.01<br>zeta=50000<br>l=0.5<br>n_epochs=90<br>max_iterations=15<br>train_optimizer=ADAM<br>entropy_optimizer=FISTA<br>delta=32<br>pruning=Y<br>QuantizationType=center",
          "File: output-Test-2025-06-15-Fenchel.log<br>r = 1.1019<br>Accuracy: 98.76<br>Compression: 3.36%<br><b>Params:</b><br>model=LeNet-5<br>criterion=CrossEntropy<br>C=64<br>lr=0.0007<br>lambda_reg=0.0015<br>alpha=0.533<br>[T1=lambda_reg*alpha=0.0008]<br>[T2=lambda_reg*(1-alpha)=0.0007]<br>subgradient_step=100000.0<br>w0=-0.11<br>target_acc=98.4<br>target_zstd_ratio=0.0297<br>min_xi=0<br>max_xi=1<br>upper_c=44426<br>lower_c=0.01<br>zeta=50000<br>l=0.5<br>n_epochs=90<br>max_iterations=15<br>train_optimizer=ADAM<br>entropy_optimizer=FISTA<br>delta=32<br>pruning=Y<br>QuantizationType=center",
          "File: output-Test-2025-06-15-Fenchel.log<br>r = 1.1007<br>Accuracy: 98.42<br>Compression: 3.49%<br><b>Params:</b><br>model=LeNet-5<br>criterion=CrossEntropy<br>C=64<br>lr=0.0007<br>lambda_reg=0.0015<br>alpha=0.533<br>[T1=lambda_reg*alpha=0.0008]<br>[T2=lambda_reg*(1-alpha)=0.0007]<br>subgradient_step=100000.0<br>w0=-0.11<br>target_acc=98.4<br>target_zstd_ratio=0.0297<br>min_xi=0<br>max_xi=1<br>upper_c=44426<br>lower_c=0.01<br>zeta=50000<br>l=0.5<br>n_epochs=90<br>max_iterations=15<br>train_optimizer=ADAM<br>entropy_optimizer=FISTA<br>delta=32<br>pruning=Y<br>QuantizationType=center",
          "File: output-Test-2025-06-15-Fenchel.log<br>r = 1.1007<br>Accuracy: 98.37<br>Compression: 3.46%<br><b>Params:</b><br>model=LeNet-5<br>criterion=CrossEntropy<br>C=64<br>lr=0.0007<br>lambda_reg=0.0015<br>alpha=0.533<br>[T1=lambda_reg*alpha=0.0008]<br>[T2=lambda_reg*(1-alpha)=0.0007]<br>subgradient_step=100000.0<br>w0=-0.11<br>target_acc=98.4<br>target_zstd_ratio=0.0297<br>min_xi=0<br>max_xi=1<br>upper_c=44426<br>lower_c=0.01<br>zeta=50000<br>l=0.5<br>n_epochs=90<br>max_iterations=15<br>train_optimizer=ADAM<br>entropy_optimizer=FISTA<br>delta=32<br>pruning=Y<br>QuantizationType=center",
          "File: output-Test-2025-06-15-Fenchel.log<br>r = 1.1007<br>Accuracy: 98.26<br>Compression: 3.42%<br><b>Params:</b><br>model=LeNet-5<br>criterion=CrossEntropy<br>C=64<br>lr=0.0007<br>lambda_reg=0.0015<br>alpha=0.533<br>[T1=lambda_reg*alpha=0.0008]<br>[T2=lambda_reg*(1-alpha)=0.0007]<br>subgradient_step=100000.0<br>w0=-0.11<br>target_acc=98.4<br>target_zstd_ratio=0.0297<br>min_xi=0<br>max_xi=1<br>upper_c=44426<br>lower_c=0.01<br>zeta=50000<br>l=0.5<br>n_epochs=90<br>max_iterations=15<br>train_optimizer=ADAM<br>entropy_optimizer=FISTA<br>delta=32<br>pruning=Y<br>QuantizationType=center",
          "File: output-Test-2025-06-15-Fenchel.log<br>r = 1.1007<br>Accuracy: 98.08<br>Compression: 3.37%<br><b>Params:</b><br>model=LeNet-5<br>criterion=CrossEntropy<br>C=64<br>lr=0.0007<br>lambda_reg=0.0015<br>alpha=0.533<br>[T1=lambda_reg*alpha=0.0008]<br>[T2=lambda_reg*(1-alpha)=0.0007]<br>subgradient_step=100000.0<br>w0=-0.11<br>target_acc=98.4<br>target_zstd_ratio=0.0297<br>min_xi=0<br>max_xi=1<br>upper_c=44426<br>lower_c=0.01<br>zeta=50000<br>l=0.5<br>n_epochs=90<br>max_iterations=15<br>train_optimizer=ADAM<br>entropy_optimizer=FISTA<br>delta=32<br>pruning=Y<br>QuantizationType=center",
          "File: output-Test-2025-06-15-Fenchel.log<br>r = 1.1007<br>Accuracy: 98.23<br>Compression: 3.37%<br><b>Params:</b><br>model=LeNet-5<br>criterion=CrossEntropy<br>C=64<br>lr=0.0007<br>lambda_reg=0.0015<br>alpha=0.533<br>[T1=lambda_reg*alpha=0.0008]<br>[T2=lambda_reg*(1-alpha)=0.0007]<br>subgradient_step=100000.0<br>w0=-0.11<br>target_acc=98.4<br>target_zstd_ratio=0.0297<br>min_xi=0<br>max_xi=1<br>upper_c=44426<br>lower_c=0.01<br>zeta=50000<br>l=0.5<br>n_epochs=90<br>max_iterations=15<br>train_optimizer=ADAM<br>entropy_optimizer=FISTA<br>delta=32<br>pruning=Y<br>QuantizationType=center",
          "File: output-Test-2025-06-15-Fenchel.log<br>r = 1.1007<br>Accuracy: 98.22<br>Compression: 3.33%<br><b>Params:</b><br>model=LeNet-5<br>criterion=CrossEntropy<br>C=64<br>lr=0.0007<br>lambda_reg=0.0015<br>alpha=0.533<br>[T1=lambda_reg*alpha=0.0008]<br>[T2=lambda_reg*(1-alpha)=0.0007]<br>subgradient_step=100000.0<br>w0=-0.11<br>target_acc=98.4<br>target_zstd_ratio=0.0297<br>min_xi=0<br>max_xi=1<br>upper_c=44426<br>lower_c=0.01<br>zeta=50000<br>l=0.5<br>n_epochs=90<br>max_iterations=15<br>train_optimizer=ADAM<br>entropy_optimizer=FISTA<br>delta=32<br>pruning=Y<br>QuantizationType=center",
          "File: output-Test-2025-06-15-Fenchel.log<br>r = 1.1007<br>Accuracy: 98.34<br>Compression: 3.25%<br><b>Params:</b><br>model=LeNet-5<br>criterion=CrossEntropy<br>C=64<br>lr=0.0007<br>lambda_reg=0.0015<br>alpha=0.533<br>[T1=lambda_reg*alpha=0.0008]<br>[T2=lambda_reg*(1-alpha)=0.0007]<br>subgradient_step=100000.0<br>w0=-0.11<br>target_acc=98.4<br>target_zstd_ratio=0.0297<br>min_xi=0<br>max_xi=1<br>upper_c=44426<br>lower_c=0.01<br>zeta=50000<br>l=0.5<br>n_epochs=90<br>max_iterations=15<br>train_optimizer=ADAM<br>entropy_optimizer=FISTA<br>delta=32<br>pruning=Y<br>QuantizationType=center",
          "File: output-Test-2025-06-15-Fenchel.log<br>r = 1.1007<br>Accuracy: 98.29<br>Compression: 3.2%<br><b>Params:</b><br>model=LeNet-5<br>criterion=CrossEntropy<br>C=64<br>lr=0.0007<br>lambda_reg=0.0015<br>alpha=0.533<br>[T1=lambda_reg*alpha=0.0008]<br>[T2=lambda_reg*(1-alpha)=0.0007]<br>subgradient_step=100000.0<br>w0=-0.11<br>target_acc=98.4<br>target_zstd_ratio=0.0297<br>min_xi=0<br>max_xi=1<br>upper_c=44426<br>lower_c=0.01<br>zeta=50000<br>l=0.5<br>n_epochs=90<br>max_iterations=15<br>train_optimizer=ADAM<br>entropy_optimizer=FISTA<br>delta=32<br>pruning=Y<br>QuantizationType=center",
          "File: output-Test-2025-06-15-Fenchel.log<br>r = 1.1007<br>Accuracy: 98.39<br>Compression: 3.24%<br><b>Params:</b><br>model=LeNet-5<br>criterion=CrossEntropy<br>C=64<br>lr=0.0007<br>lambda_reg=0.0015<br>alpha=0.533<br>[T1=lambda_reg*alpha=0.0008]<br>[T2=lambda_reg*(1-alpha)=0.0007]<br>subgradient_step=100000.0<br>w0=-0.11<br>target_acc=98.4<br>target_zstd_ratio=0.0297<br>min_xi=0<br>max_xi=1<br>upper_c=44426<br>lower_c=0.01<br>zeta=50000<br>l=0.5<br>n_epochs=90<br>max_iterations=15<br>train_optimizer=ADAM<br>entropy_optimizer=FISTA<br>delta=32<br>pruning=Y<br>QuantizationType=center",
          "File: output-Test-2025-06-15-Fenchel.log<br>r = 1.1007<br>Accuracy: 98.66<br>Compression: 3.24%<br><b>Params:</b><br>model=LeNet-5<br>criterion=CrossEntropy<br>C=64<br>lr=0.0007<br>lambda_reg=0.0015<br>alpha=0.533<br>[T1=lambda_reg*alpha=0.0008]<br>[T2=lambda_reg*(1-alpha)=0.0007]<br>subgradient_step=100000.0<br>w0=-0.11<br>target_acc=98.4<br>target_zstd_ratio=0.0297<br>min_xi=0<br>max_xi=1<br>upper_c=44426<br>lower_c=0.01<br>zeta=50000<br>l=0.5<br>n_epochs=90<br>max_iterations=15<br>train_optimizer=ADAM<br>entropy_optimizer=FISTA<br>delta=32<br>pruning=Y<br>QuantizationType=center",
          "File: output-Test-2025-06-15-Fenchel.log<br>r = 1.1007<br>Accuracy: 98.72<br>Compression: 3.22%<br><b>Params:</b><br>model=LeNet-5<br>criterion=CrossEntropy<br>C=64<br>lr=0.0007<br>lambda_reg=0.0015<br>alpha=0.533<br>[T1=lambda_reg*alpha=0.0008]<br>[T2=lambda_reg*(1-alpha)=0.0007]<br>subgradient_step=100000.0<br>w0=-0.11<br>target_acc=98.4<br>target_zstd_ratio=0.0297<br>min_xi=0<br>max_xi=1<br>upper_c=44426<br>lower_c=0.01<br>zeta=50000<br>l=0.5<br>n_epochs=90<br>max_iterations=15<br>train_optimizer=ADAM<br>entropy_optimizer=FISTA<br>delta=32<br>pruning=Y<br>QuantizationType=center",
          "File: output-Test-2025-06-15-Fenchel.log<br>r = 1.1007<br>Accuracy: 98.04<br>Compression: 3.07%<br><b>Params:</b><br>model=LeNet-5<br>criterion=CrossEntropy<br>C=64<br>lr=0.0007<br>lambda_reg=0.0015<br>alpha=0.533<br>[T1=lambda_reg*alpha=0.0008]<br>[T2=lambda_reg*(1-alpha)=0.0007]<br>subgradient_step=100000.0<br>w0=-0.11<br>target_acc=98.4<br>target_zstd_ratio=0.0297<br>min_xi=0<br>max_xi=1<br>upper_c=44426<br>lower_c=0.01<br>zeta=50000<br>l=0.5<br>n_epochs=90<br>max_iterations=15<br>train_optimizer=ADAM<br>entropy_optimizer=FISTA<br>delta=32<br>pruning=Y<br>QuantizationType=center",
          "File: output-Test-2025-06-15-Fenchel.log<br>r = 1.1007<br>Accuracy: 98.08<br>Compression: 3.08%<br><b>Params:</b><br>model=LeNet-5<br>criterion=CrossEntropy<br>C=64<br>lr=0.0007<br>lambda_reg=0.0015<br>alpha=0.533<br>[T1=lambda_reg*alpha=0.0008]<br>[T2=lambda_reg*(1-alpha)=0.0007]<br>subgradient_step=100000.0<br>w0=-0.11<br>target_acc=98.4<br>target_zstd_ratio=0.0297<br>min_xi=0<br>max_xi=1<br>upper_c=44426<br>lower_c=0.01<br>zeta=50000<br>l=0.5<br>n_epochs=90<br>max_iterations=15<br>train_optimizer=ADAM<br>entropy_optimizer=FISTA<br>delta=32<br>pruning=Y<br>QuantizationType=center",
          "File: output-Test-2025-06-15-Fenchel.log<br>r = 1.1007<br>Accuracy: 98.24<br>Compression: 3.04%<br><b>Params:</b><br>model=LeNet-5<br>criterion=CrossEntropy<br>C=64<br>lr=0.0007<br>lambda_reg=0.0015<br>alpha=0.533<br>[T1=lambda_reg*alpha=0.0008]<br>[T2=lambda_reg*(1-alpha)=0.0007]<br>subgradient_step=100000.0<br>w0=-0.11<br>target_acc=98.4<br>target_zstd_ratio=0.0297<br>min_xi=0<br>max_xi=1<br>upper_c=44426<br>lower_c=0.01<br>zeta=50000<br>l=0.5<br>n_epochs=90<br>max_iterations=15<br>train_optimizer=ADAM<br>entropy_optimizer=FISTA<br>delta=32<br>pruning=Y<br>QuantizationType=center",
          "File: output-Test-2025-06-15-Fenchel.log<br>r = 1.1007<br>Accuracy: 98.33<br>Compression: 3.0%<br><b>Params:</b><br>model=LeNet-5<br>criterion=CrossEntropy<br>C=64<br>lr=0.0007<br>lambda_reg=0.0015<br>alpha=0.533<br>[T1=lambda_reg*alpha=0.0008]<br>[T2=lambda_reg*(1-alpha)=0.0007]<br>subgradient_step=100000.0<br>w0=-0.11<br>target_acc=98.4<br>target_zstd_ratio=0.0297<br>min_xi=0<br>max_xi=1<br>upper_c=44426<br>lower_c=0.01<br>zeta=50000<br>l=0.5<br>n_epochs=90<br>max_iterations=15<br>train_optimizer=ADAM<br>entropy_optimizer=FISTA<br>delta=32<br>pruning=Y<br>QuantizationType=center",
          "File: output-Test-2025-06-15-Fenchel.log<br>r = 1.1003<br>Accuracy: 98.36<br>Compression: 3.35%<br><b>Params:</b><br>model=LeNet-5<br>criterion=CrossEntropy<br>C=64<br>lr=0.0007<br>lambda_reg=0.0015<br>alpha=0.533<br>[T1=lambda_reg*alpha=0.0008]<br>[T2=lambda_reg*(1-alpha)=0.0007]<br>subgradient_step=100000.0<br>w0=-0.11<br>target_acc=98.4<br>target_zstd_ratio=0.0297<br>min_xi=0<br>max_xi=1<br>upper_c=44426<br>lower_c=0.01<br>zeta=50000<br>l=0.5<br>n_epochs=90<br>max_iterations=15<br>train_optimizer=ADAM<br>entropy_optimizer=FISTA<br>delta=32<br>pruning=Y<br>QuantizationType=center",
          "File: output-Test-2025-06-15-Fenchel.log<br>r = 1.1003<br>Accuracy: 98.23<br>Compression: 3.36%<br><b>Params:</b><br>model=LeNet-5<br>criterion=CrossEntropy<br>C=64<br>lr=0.0007<br>lambda_reg=0.0015<br>alpha=0.533<br>[T1=lambda_reg*alpha=0.0008]<br>[T2=lambda_reg*(1-alpha)=0.0007]<br>subgradient_step=100000.0<br>w0=-0.11<br>target_acc=98.4<br>target_zstd_ratio=0.0297<br>min_xi=0<br>max_xi=1<br>upper_c=44426<br>lower_c=0.01<br>zeta=50000<br>l=0.5<br>n_epochs=90<br>max_iterations=15<br>train_optimizer=ADAM<br>entropy_optimizer=FISTA<br>delta=32<br>pruning=Y<br>QuantizationType=center",
          "File: output-Test-2025-06-15-Fenchel.log<br>r = 1.1003<br>Accuracy: 98.33<br>Compression: 3.35%<br><b>Params:</b><br>model=LeNet-5<br>criterion=CrossEntropy<br>C=64<br>lr=0.0007<br>lambda_reg=0.0015<br>alpha=0.533<br>[T1=lambda_reg*alpha=0.0008]<br>[T2=lambda_reg*(1-alpha)=0.0007]<br>subgradient_step=100000.0<br>w0=-0.11<br>target_acc=98.4<br>target_zstd_ratio=0.0297<br>min_xi=0<br>max_xi=1<br>upper_c=44426<br>lower_c=0.01<br>zeta=50000<br>l=0.5<br>n_epochs=90<br>max_iterations=15<br>train_optimizer=ADAM<br>entropy_optimizer=FISTA<br>delta=32<br>pruning=Y<br>QuantizationType=center",
          "File: output-Test-2025-06-15-Fenchel.log<br>r = 1.1003<br>Accuracy: 98.08<br>Compression: 3.29%<br><b>Params:</b><br>model=LeNet-5<br>criterion=CrossEntropy<br>C=64<br>lr=0.0007<br>lambda_reg=0.0015<br>alpha=0.533<br>[T1=lambda_reg*alpha=0.0008]<br>[T2=lambda_reg*(1-alpha)=0.0007]<br>subgradient_step=100000.0<br>w0=-0.11<br>target_acc=98.4<br>target_zstd_ratio=0.0297<br>min_xi=0<br>max_xi=1<br>upper_c=44426<br>lower_c=0.01<br>zeta=50000<br>l=0.5<br>n_epochs=90<br>max_iterations=15<br>train_optimizer=ADAM<br>entropy_optimizer=FISTA<br>delta=32<br>pruning=Y<br>QuantizationType=center",
          "File: output-Test-2025-06-15-Fenchel.log<br>r = 1.1003<br>Accuracy: 98.24<br>Compression: 3.22%<br><b>Params:</b><br>model=LeNet-5<br>criterion=CrossEntropy<br>C=64<br>lr=0.0007<br>lambda_reg=0.0015<br>alpha=0.533<br>[T1=lambda_reg*alpha=0.0008]<br>[T2=lambda_reg*(1-alpha)=0.0007]<br>subgradient_step=100000.0<br>w0=-0.11<br>target_acc=98.4<br>target_zstd_ratio=0.0297<br>min_xi=0<br>max_xi=1<br>upper_c=44426<br>lower_c=0.01<br>zeta=50000<br>l=0.5<br>n_epochs=90<br>max_iterations=15<br>train_optimizer=ADAM<br>entropy_optimizer=FISTA<br>delta=32<br>pruning=Y<br>QuantizationType=center",
          "File: output-Test-2025-06-15-Fenchel.log<br>r = 1.1003<br>Accuracy: 98.38<br>Compression: 3.26%<br><b>Params:</b><br>model=LeNet-5<br>criterion=CrossEntropy<br>C=64<br>lr=0.0007<br>lambda_reg=0.0015<br>alpha=0.533<br>[T1=lambda_reg*alpha=0.0008]<br>[T2=lambda_reg*(1-alpha)=0.0007]<br>subgradient_step=100000.0<br>w0=-0.11<br>target_acc=98.4<br>target_zstd_ratio=0.0297<br>min_xi=0<br>max_xi=1<br>upper_c=44426<br>lower_c=0.01<br>zeta=50000<br>l=0.5<br>n_epochs=90<br>max_iterations=15<br>train_optimizer=ADAM<br>entropy_optimizer=FISTA<br>delta=32<br>pruning=Y<br>QuantizationType=center",
          "File: output-Test-2025-06-15-Fenchel.log<br>r = 1.1014<br>Accuracy: 98.1<br>Compression: 3.25%<br><b>Params:</b><br>model=LeNet-5<br>criterion=CrossEntropy<br>C=64<br>lr=0.0007<br>lambda_reg=0.0015<br>alpha=0.533<br>[T1=lambda_reg*alpha=0.0008]<br>[T2=lambda_reg*(1-alpha)=0.0007]<br>subgradient_step=100000.0<br>w0=-0.11<br>target_acc=98.4<br>target_zstd_ratio=0.0297<br>min_xi=0<br>max_xi=1<br>upper_c=44426<br>lower_c=0.01<br>zeta=50000<br>l=0.5<br>n_epochs=90<br>max_iterations=15<br>train_optimizer=ADAM<br>entropy_optimizer=FISTA<br>delta=32<br>pruning=Y<br>QuantizationType=center",
          "File: output-Test-2025-06-15-Fenchel.log<br>r = 1.1014<br>Accuracy: 98.09<br>Compression: 3.23%<br><b>Params:</b><br>model=LeNet-5<br>criterion=CrossEntropy<br>C=64<br>lr=0.0007<br>lambda_reg=0.0015<br>alpha=0.533<br>[T1=lambda_reg*alpha=0.0008]<br>[T2=lambda_reg*(1-alpha)=0.0007]<br>subgradient_step=100000.0<br>w0=-0.11<br>target_acc=98.4<br>target_zstd_ratio=0.0297<br>min_xi=0<br>max_xi=1<br>upper_c=44426<br>lower_c=0.01<br>zeta=50000<br>l=0.5<br>n_epochs=90<br>max_iterations=15<br>train_optimizer=ADAM<br>entropy_optimizer=FISTA<br>delta=32<br>pruning=Y<br>QuantizationType=center",
          "File: output-Test-2025-06-15-Fenchel.log<br>r = 1.1014<br>Accuracy: 98.23<br>Compression: 3.18%<br><b>Params:</b><br>model=LeNet-5<br>criterion=CrossEntropy<br>C=64<br>lr=0.0007<br>lambda_reg=0.0015<br>alpha=0.533<br>[T1=lambda_reg*alpha=0.0008]<br>[T2=lambda_reg*(1-alpha)=0.0007]<br>subgradient_step=100000.0<br>w0=-0.11<br>target_acc=98.4<br>target_zstd_ratio=0.0297<br>min_xi=0<br>max_xi=1<br>upper_c=44426<br>lower_c=0.01<br>zeta=50000<br>l=0.5<br>n_epochs=90<br>max_iterations=15<br>train_optimizer=ADAM<br>entropy_optimizer=FISTA<br>delta=32<br>pruning=Y<br>QuantizationType=center",
          "File: output-Test-2025-06-15-Fenchel.log<br>r = 1.1014<br>Accuracy: 98.02<br>Compression: 3.11%<br><b>Params:</b><br>model=LeNet-5<br>criterion=CrossEntropy<br>C=64<br>lr=0.0007<br>lambda_reg=0.0015<br>alpha=0.533<br>[T1=lambda_reg*alpha=0.0008]<br>[T2=lambda_reg*(1-alpha)=0.0007]<br>subgradient_step=100000.0<br>w0=-0.11<br>target_acc=98.4<br>target_zstd_ratio=0.0297<br>min_xi=0<br>max_xi=1<br>upper_c=44426<br>lower_c=0.01<br>zeta=50000<br>l=0.5<br>n_epochs=90<br>max_iterations=15<br>train_optimizer=ADAM<br>entropy_optimizer=FISTA<br>delta=32<br>pruning=Y<br>QuantizationType=center",
          "File: output-Test-2025-06-15-Fenchel.log<br>r = 1.1014<br>Accuracy: 98.07<br>Compression: 2.98%<br><b>Params:</b><br>model=LeNet-5<br>criterion=CrossEntropy<br>C=64<br>lr=0.0007<br>lambda_reg=0.0015<br>alpha=0.533<br>[T1=lambda_reg*alpha=0.0008]<br>[T2=lambda_reg*(1-alpha)=0.0007]<br>subgradient_step=100000.0<br>w0=-0.11<br>target_acc=98.4<br>target_zstd_ratio=0.0297<br>min_xi=0<br>max_xi=1<br>upper_c=44426<br>lower_c=0.01<br>zeta=50000<br>l=0.5<br>n_epochs=90<br>max_iterations=15<br>train_optimizer=ADAM<br>entropy_optimizer=FISTA<br>delta=32<br>pruning=Y<br>QuantizationType=center",
          "File: output-Test-2025-06-15-Fenchel.log<br>r = 1.1014<br>Accuracy: 98.32<br>Compression: 2.94%<br><b>Params:</b><br>model=LeNet-5<br>criterion=CrossEntropy<br>C=64<br>lr=0.0007<br>lambda_reg=0.0015<br>alpha=0.533<br>[T1=lambda_reg*alpha=0.0008]<br>[T2=lambda_reg*(1-alpha)=0.0007]<br>subgradient_step=100000.0<br>w0=-0.11<br>target_acc=98.4<br>target_zstd_ratio=0.0297<br>min_xi=0<br>max_xi=1<br>upper_c=44426<br>lower_c=0.01<br>zeta=50000<br>l=0.5<br>n_epochs=90<br>max_iterations=15<br>train_optimizer=ADAM<br>entropy_optimizer=FISTA<br>delta=32<br>pruning=Y<br>QuantizationType=center",
          "File: output-Test-2025-06-15-Fenchel.log<br>r = 1.1014<br>Accuracy: 98.63<br>Compression: 3.39%<br><b>Params:</b><br>model=LeNet-5<br>criterion=CrossEntropy<br>C=64<br>lr=0.0007<br>lambda_reg=0.0015<br>alpha=0.533<br>[T1=lambda_reg*alpha=0.0008]<br>[T2=lambda_reg*(1-alpha)=0.0007]<br>subgradient_step=100000.0<br>w0=-0.11<br>target_acc=98.4<br>target_zstd_ratio=0.0297<br>min_xi=0<br>max_xi=1<br>upper_c=44426<br>lower_c=0.01<br>zeta=50000<br>l=0.5<br>n_epochs=90<br>max_iterations=15<br>train_optimizer=ADAM<br>entropy_optimizer=FISTA<br>delta=32<br>pruning=Y<br>QuantizationType=center",
          "File: output-Test-2025-06-15-Fenchel.log<br>r = 1.1014<br>Accuracy: 98.58<br>Compression: 3.27%<br><b>Params:</b><br>model=LeNet-5<br>criterion=CrossEntropy<br>C=64<br>lr=0.0007<br>lambda_reg=0.0015<br>alpha=0.533<br>[T1=lambda_reg*alpha=0.0008]<br>[T2=lambda_reg*(1-alpha)=0.0007]<br>subgradient_step=100000.0<br>w0=-0.11<br>target_acc=98.4<br>target_zstd_ratio=0.0297<br>min_xi=0<br>max_xi=1<br>upper_c=44426<br>lower_c=0.01<br>zeta=50000<br>l=0.5<br>n_epochs=90<br>max_iterations=15<br>train_optimizer=ADAM<br>entropy_optimizer=FISTA<br>delta=32<br>pruning=Y<br>QuantizationType=center",
          "File: output-Test-2025-06-15-Fenchel.log<br>r = 1.1014<br>Accuracy: 98.54<br>Compression: 2.88%<br><b>Params:</b><br>model=LeNet-5<br>criterion=CrossEntropy<br>C=64<br>lr=0.0007<br>lambda_reg=0.0015<br>alpha=0.533<br>[T1=lambda_reg*alpha=0.0008]<br>[T2=lambda_reg*(1-alpha)=0.0007]<br>subgradient_step=100000.0<br>w0=-0.11<br>target_acc=98.4<br>target_zstd_ratio=0.0297<br>min_xi=0<br>max_xi=1<br>upper_c=44426<br>lower_c=0.01<br>zeta=50000<br>l=0.5<br>n_epochs=90<br>max_iterations=15<br>train_optimizer=ADAM<br>entropy_optimizer=FISTA<br>delta=32<br>pruning=Y<br>QuantizationType=center",
          "File: output-Test-2025-06-15-Fenchel.log<br>r = 1.1014<br>Accuracy: 98.67<br>Compression: 3.4%<br><b>Params:</b><br>model=LeNet-5<br>criterion=CrossEntropy<br>C=64<br>lr=0.0007<br>lambda_reg=0.0015<br>alpha=0.533<br>[T1=lambda_reg*alpha=0.0008]<br>[T2=lambda_reg*(1-alpha)=0.0007]<br>subgradient_step=100000.0<br>w0=-0.11<br>target_acc=98.4<br>target_zstd_ratio=0.0297<br>min_xi=0<br>max_xi=1<br>upper_c=44426<br>lower_c=0.01<br>zeta=50000<br>l=0.5<br>n_epochs=90<br>max_iterations=15<br>train_optimizer=ADAM<br>entropy_optimizer=FISTA<br>delta=32<br>pruning=Y<br>QuantizationType=center",
          "File: output-Test-2025-06-15-Fenchel.log<br>r = 1.1014<br>Accuracy: 98.66<br>Compression: 3.35%<br><b>Params:</b><br>model=LeNet-5<br>criterion=CrossEntropy<br>C=64<br>lr=0.0007<br>lambda_reg=0.0015<br>alpha=0.533<br>[T1=lambda_reg*alpha=0.0008]<br>[T2=lambda_reg*(1-alpha)=0.0007]<br>subgradient_step=100000.0<br>w0=-0.11<br>target_acc=98.4<br>target_zstd_ratio=0.0297<br>min_xi=0<br>max_xi=1<br>upper_c=44426<br>lower_c=0.01<br>zeta=50000<br>l=0.5<br>n_epochs=90<br>max_iterations=15<br>train_optimizer=ADAM<br>entropy_optimizer=FISTA<br>delta=32<br>pruning=Y<br>QuantizationType=center",
          "File: output-Test-2025-06-15-Fenchel.log<br>r = 1.1014<br>Accuracy: 98.66<br>Compression: 3.45%<br><b>Params:</b><br>model=LeNet-5<br>criterion=CrossEntropy<br>C=64<br>lr=0.0007<br>lambda_reg=0.0015<br>alpha=0.533<br>[T1=lambda_reg*alpha=0.0008]<br>[T2=lambda_reg*(1-alpha)=0.0007]<br>subgradient_step=100000.0<br>w0=-0.11<br>target_acc=98.4<br>target_zstd_ratio=0.0297<br>min_xi=0<br>max_xi=1<br>upper_c=44426<br>lower_c=0.01<br>zeta=50000<br>l=0.5<br>n_epochs=90<br>max_iterations=15<br>train_optimizer=ADAM<br>entropy_optimizer=FISTA<br>delta=32<br>pruning=Y<br>QuantizationType=center",
          "File: output-Test-2025-06-15-Fenchel.log<br>r = 1.1014<br>Accuracy: 98.36<br>Compression: 2.86%<br><b>Params:</b><br>model=LeNet-5<br>criterion=CrossEntropy<br>C=64<br>lr=0.0007<br>lambda_reg=0.0015<br>alpha=0.533<br>[T1=lambda_reg*alpha=0.0008]<br>[T2=lambda_reg*(1-alpha)=0.0007]<br>subgradient_step=100000.0<br>w0=-0.11<br>target_acc=98.4<br>target_zstd_ratio=0.0297<br>min_xi=0<br>max_xi=1<br>upper_c=44426<br>lower_c=0.01<br>zeta=50000<br>l=0.5<br>n_epochs=90<br>max_iterations=15<br>train_optimizer=ADAM<br>entropy_optimizer=FISTA<br>delta=32<br>pruning=Y<br>QuantizationType=center",
          "File: output-Test-2025-06-15-Fenchel.log<br>r = 1.1014<br>Accuracy: 98.01<br>Compression: 2.78%<br><b>Params:</b><br>model=LeNet-5<br>criterion=CrossEntropy<br>C=64<br>lr=0.0007<br>lambda_reg=0.0015<br>alpha=0.533<br>[T1=lambda_reg*alpha=0.0008]<br>[T2=lambda_reg*(1-alpha)=0.0007]<br>subgradient_step=100000.0<br>w0=-0.11<br>target_acc=98.4<br>target_zstd_ratio=0.0297<br>min_xi=0<br>max_xi=1<br>upper_c=44426<br>lower_c=0.01<br>zeta=50000<br>l=0.5<br>n_epochs=90<br>max_iterations=15<br>train_optimizer=ADAM<br>entropy_optimizer=FISTA<br>delta=32<br>pruning=Y<br>QuantizationType=center",
          "File: output-Test-2025-06-15-Fenchel.log<br>r = 1.1014<br>Accuracy: 98.45<br>Compression: 2.76%<br><b>Params:</b><br>model=LeNet-5<br>criterion=CrossEntropy<br>C=64<br>lr=0.0007<br>lambda_reg=0.0015<br>alpha=0.533<br>[T1=lambda_reg*alpha=0.0008]<br>[T2=lambda_reg*(1-alpha)=0.0007]<br>subgradient_step=100000.0<br>w0=-0.11<br>target_acc=98.4<br>target_zstd_ratio=0.0297<br>min_xi=0<br>max_xi=1<br>upper_c=44426<br>lower_c=0.01<br>zeta=50000<br>l=0.5<br>n_epochs=90<br>max_iterations=15<br>train_optimizer=ADAM<br>entropy_optimizer=FISTA<br>delta=32<br>pruning=Y<br>QuantizationType=center",
          "File: output-Test-2025-06-15-Fenchel.log<br>r = 1.1014<br>Accuracy: 98.32<br>Compression: 2.73%<br><b>Params:</b><br>model=LeNet-5<br>criterion=CrossEntropy<br>C=64<br>lr=0.0007<br>lambda_reg=0.0015<br>alpha=0.533<br>[T1=lambda_reg*alpha=0.0008]<br>[T2=lambda_reg*(1-alpha)=0.0007]<br>subgradient_step=100000.0<br>w0=-0.11<br>target_acc=98.4<br>target_zstd_ratio=0.0297<br>min_xi=0<br>max_xi=1<br>upper_c=44426<br>lower_c=0.01<br>zeta=50000<br>l=0.5<br>n_epochs=90<br>max_iterations=15<br>train_optimizer=ADAM<br>entropy_optimizer=FISTA<br>delta=32<br>pruning=Y<br>QuantizationType=center",
          "File: output-Test-2025-06-15-Fenchel.log<br>r = 1.1014<br>Accuracy: 98.03<br>Compression: 2.7%<br><b>Params:</b><br>model=LeNet-5<br>criterion=CrossEntropy<br>C=64<br>lr=0.0007<br>lambda_reg=0.0015<br>alpha=0.533<br>[T1=lambda_reg*alpha=0.0008]<br>[T2=lambda_reg*(1-alpha)=0.0007]<br>subgradient_step=100000.0<br>w0=-0.11<br>target_acc=98.4<br>target_zstd_ratio=0.0297<br>min_xi=0<br>max_xi=1<br>upper_c=44426<br>lower_c=0.01<br>zeta=50000<br>l=0.5<br>n_epochs=90<br>max_iterations=15<br>train_optimizer=ADAM<br>entropy_optimizer=FISTA<br>delta=32<br>pruning=Y<br>QuantizationType=center",
          "File: output-Test-2025-06-15-Fenchel.log<br>r = 1.1014<br>Accuracy: 98.12<br>Compression: 2.69%<br><b>Params:</b><br>model=LeNet-5<br>criterion=CrossEntropy<br>C=64<br>lr=0.0007<br>lambda_reg=0.0015<br>alpha=0.533<br>[T1=lambda_reg*alpha=0.0008]<br>[T2=lambda_reg*(1-alpha)=0.0007]<br>subgradient_step=100000.0<br>w0=-0.11<br>target_acc=98.4<br>target_zstd_ratio=0.0297<br>min_xi=0<br>max_xi=1<br>upper_c=44426<br>lower_c=0.01<br>zeta=50000<br>l=0.5<br>n_epochs=90<br>max_iterations=15<br>train_optimizer=ADAM<br>entropy_optimizer=FISTA<br>delta=32<br>pruning=Y<br>QuantizationType=center",
          "File: output-Test-2025-06-15-Fenchel.log<br>r = 1.101<br>Accuracy: 98.11<br>Compression: 3.49%<br><b>Params:</b><br>model=LeNet-5<br>criterion=CrossEntropy<br>C=64<br>lr=0.0007<br>lambda_reg=0.0015<br>alpha=0.533<br>[T1=lambda_reg*alpha=0.0008]<br>[T2=lambda_reg*(1-alpha)=0.0007]<br>subgradient_step=100000.0<br>w0=-0.11<br>target_acc=98.4<br>target_zstd_ratio=0.0297<br>min_xi=0<br>max_xi=1<br>upper_c=44426<br>lower_c=0.01<br>zeta=50000<br>l=0.5<br>n_epochs=90<br>max_iterations=15<br>train_optimizer=ADAM<br>entropy_optimizer=FISTA<br>delta=32<br>pruning=Y<br>QuantizationType=center",
          "File: output-Test-2025-06-15-Fenchel.log<br>r = 1.101<br>Accuracy: 98.25<br>Compression: 3.43%<br><b>Params:</b><br>model=LeNet-5<br>criterion=CrossEntropy<br>C=64<br>lr=0.0007<br>lambda_reg=0.0015<br>alpha=0.533<br>[T1=lambda_reg*alpha=0.0008]<br>[T2=lambda_reg*(1-alpha)=0.0007]<br>subgradient_step=100000.0<br>w0=-0.11<br>target_acc=98.4<br>target_zstd_ratio=0.0297<br>min_xi=0<br>max_xi=1<br>upper_c=44426<br>lower_c=0.01<br>zeta=50000<br>l=0.5<br>n_epochs=90<br>max_iterations=15<br>train_optimizer=ADAM<br>entropy_optimizer=FISTA<br>delta=32<br>pruning=Y<br>QuantizationType=center",
          "File: output-Test-2025-06-15-Fenchel.log<br>r = 1.101<br>Accuracy: 98.55<br>Compression: 3.4%<br><b>Params:</b><br>model=LeNet-5<br>criterion=CrossEntropy<br>C=64<br>lr=0.0007<br>lambda_reg=0.0015<br>alpha=0.533<br>[T1=lambda_reg*alpha=0.0008]<br>[T2=lambda_reg*(1-alpha)=0.0007]<br>subgradient_step=100000.0<br>w0=-0.11<br>target_acc=98.4<br>target_zstd_ratio=0.0297<br>min_xi=0<br>max_xi=1<br>upper_c=44426<br>lower_c=0.01<br>zeta=50000<br>l=0.5<br>n_epochs=90<br>max_iterations=15<br>train_optimizer=ADAM<br>entropy_optimizer=FISTA<br>delta=32<br>pruning=Y<br>QuantizationType=center",
          "File: output-Test-2025-06-15-Fenchel.log<br>r = 1.101<br>Accuracy: 98.04<br>Compression: 3.33%<br><b>Params:</b><br>model=LeNet-5<br>criterion=CrossEntropy<br>C=64<br>lr=0.0007<br>lambda_reg=0.0015<br>alpha=0.533<br>[T1=lambda_reg*alpha=0.0008]<br>[T2=lambda_reg*(1-alpha)=0.0007]<br>subgradient_step=100000.0<br>w0=-0.11<br>target_acc=98.4<br>target_zstd_ratio=0.0297<br>min_xi=0<br>max_xi=1<br>upper_c=44426<br>lower_c=0.01<br>zeta=50000<br>l=0.5<br>n_epochs=90<br>max_iterations=15<br>train_optimizer=ADAM<br>entropy_optimizer=FISTA<br>delta=32<br>pruning=Y<br>QuantizationType=center",
          "File: output-Test-2025-06-15-Fenchel.log<br>r = 1.101<br>Accuracy: 98.12<br>Compression: 3.28%<br><b>Params:</b><br>model=LeNet-5<br>criterion=CrossEntropy<br>C=64<br>lr=0.0007<br>lambda_reg=0.0015<br>alpha=0.533<br>[T1=lambda_reg*alpha=0.0008]<br>[T2=lambda_reg*(1-alpha)=0.0007]<br>subgradient_step=100000.0<br>w0=-0.11<br>target_acc=98.4<br>target_zstd_ratio=0.0297<br>min_xi=0<br>max_xi=1<br>upper_c=44426<br>lower_c=0.01<br>zeta=50000<br>l=0.5<br>n_epochs=90<br>max_iterations=15<br>train_optimizer=ADAM<br>entropy_optimizer=FISTA<br>delta=32<br>pruning=Y<br>QuantizationType=center",
          "File: output-Test-2025-06-15-Fenchel.log<br>r = 1.101<br>Accuracy: 98.37<br>Compression: 3.25%<br><b>Params:</b><br>model=LeNet-5<br>criterion=CrossEntropy<br>C=64<br>lr=0.0007<br>lambda_reg=0.0015<br>alpha=0.533<br>[T1=lambda_reg*alpha=0.0008]<br>[T2=lambda_reg*(1-alpha)=0.0007]<br>subgradient_step=100000.0<br>w0=-0.11<br>target_acc=98.4<br>target_zstd_ratio=0.0297<br>min_xi=0<br>max_xi=1<br>upper_c=44426<br>lower_c=0.01<br>zeta=50000<br>l=0.5<br>n_epochs=90<br>max_iterations=15<br>train_optimizer=ADAM<br>entropy_optimizer=FISTA<br>delta=32<br>pruning=Y<br>QuantizationType=center",
          "File: output-Test-2025-06-15-Fenchel.log<br>r = 1.101<br>Accuracy: 98.07<br>Compression: 3.24%<br><b>Params:</b><br>model=LeNet-5<br>criterion=CrossEntropy<br>C=64<br>lr=0.0007<br>lambda_reg=0.0015<br>alpha=0.533<br>[T1=lambda_reg*alpha=0.0008]<br>[T2=lambda_reg*(1-alpha)=0.0007]<br>subgradient_step=100000.0<br>w0=-0.11<br>target_acc=98.4<br>target_zstd_ratio=0.0297<br>min_xi=0<br>max_xi=1<br>upper_c=44426<br>lower_c=0.01<br>zeta=50000<br>l=0.5<br>n_epochs=90<br>max_iterations=15<br>train_optimizer=ADAM<br>entropy_optimizer=FISTA<br>delta=32<br>pruning=Y<br>QuantizationType=center",
          "File: output-Test-2025-06-15-Fenchel.log<br>r = 1.103<br>Accuracy: 98.22<br>Compression: 3.48%<br><b>Params:</b><br>model=LeNet-5<br>criterion=CrossEntropy<br>C=64<br>lr=0.0007<br>lambda_reg=0.0015<br>alpha=0.533<br>[T1=lambda_reg*alpha=0.0008]<br>[T2=lambda_reg*(1-alpha)=0.0007]<br>subgradient_step=100000.0<br>w0=-0.11<br>target_acc=98.4<br>target_zstd_ratio=0.0297<br>min_xi=0<br>max_xi=1<br>upper_c=44426<br>lower_c=0.01<br>zeta=50000<br>l=0.5<br>n_epochs=90<br>max_iterations=15<br>train_optimizer=ADAM<br>entropy_optimizer=FISTA<br>delta=32<br>pruning=Y<br>QuantizationType=center",
          "File: output-Test-2025-06-15-Fenchel.log<br>r = 1.103<br>Accuracy: 98.8<br>Compression: 3.44%<br><b>Params:</b><br>model=LeNet-5<br>criterion=CrossEntropy<br>C=64<br>lr=0.0007<br>lambda_reg=0.0015<br>alpha=0.533<br>[T1=lambda_reg*alpha=0.0008]<br>[T2=lambda_reg*(1-alpha)=0.0007]<br>subgradient_step=100000.0<br>w0=-0.11<br>target_acc=98.4<br>target_zstd_ratio=0.0297<br>min_xi=0<br>max_xi=1<br>upper_c=44426<br>lower_c=0.01<br>zeta=50000<br>l=0.5<br>n_epochs=90<br>max_iterations=15<br>train_optimizer=ADAM<br>entropy_optimizer=FISTA<br>delta=32<br>pruning=Y<br>QuantizationType=center",
          "File: output-Test-2025-06-15-Fenchel.log<br>r = 1.103<br>Accuracy: 98.34<br>Compression: 3.37%<br><b>Params:</b><br>model=LeNet-5<br>criterion=CrossEntropy<br>C=64<br>lr=0.0007<br>lambda_reg=0.0015<br>alpha=0.533<br>[T1=lambda_reg*alpha=0.0008]<br>[T2=lambda_reg*(1-alpha)=0.0007]<br>subgradient_step=100000.0<br>w0=-0.11<br>target_acc=98.4<br>target_zstd_ratio=0.0297<br>min_xi=0<br>max_xi=1<br>upper_c=44426<br>lower_c=0.01<br>zeta=50000<br>l=0.5<br>n_epochs=90<br>max_iterations=15<br>train_optimizer=ADAM<br>entropy_optimizer=FISTA<br>delta=32<br>pruning=Y<br>QuantizationType=center",
          "File: output-Test-2025-06-15-Fenchel.log<br>r = 1.103<br>Accuracy: 98.34<br>Compression: 3.34%<br><b>Params:</b><br>model=LeNet-5<br>criterion=CrossEntropy<br>C=64<br>lr=0.0007<br>lambda_reg=0.0015<br>alpha=0.533<br>[T1=lambda_reg*alpha=0.0008]<br>[T2=lambda_reg*(1-alpha)=0.0007]<br>subgradient_step=100000.0<br>w0=-0.11<br>target_acc=98.4<br>target_zstd_ratio=0.0297<br>min_xi=0<br>max_xi=1<br>upper_c=44426<br>lower_c=0.01<br>zeta=50000<br>l=0.5<br>n_epochs=90<br>max_iterations=15<br>train_optimizer=ADAM<br>entropy_optimizer=FISTA<br>delta=32<br>pruning=Y<br>QuantizationType=center",
          "File: output-Test-2025-06-15-Fenchel.log<br>r = 1.103<br>Accuracy: 98.16<br>Compression: 3.33%<br><b>Params:</b><br>model=LeNet-5<br>criterion=CrossEntropy<br>C=64<br>lr=0.0007<br>lambda_reg=0.0015<br>alpha=0.533<br>[T1=lambda_reg*alpha=0.0008]<br>[T2=lambda_reg*(1-alpha)=0.0007]<br>subgradient_step=100000.0<br>w0=-0.11<br>target_acc=98.4<br>target_zstd_ratio=0.0297<br>min_xi=0<br>max_xi=1<br>upper_c=44426<br>lower_c=0.01<br>zeta=50000<br>l=0.5<br>n_epochs=90<br>max_iterations=15<br>train_optimizer=ADAM<br>entropy_optimizer=FISTA<br>delta=32<br>pruning=Y<br>QuantizationType=center",
          "File: output-Test-2025-06-15-Fenchel.log<br>r = 1.103<br>Accuracy: 98.12<br>Compression: 3.29%<br><b>Params:</b><br>model=LeNet-5<br>criterion=CrossEntropy<br>C=64<br>lr=0.0007<br>lambda_reg=0.0015<br>alpha=0.533<br>[T1=lambda_reg*alpha=0.0008]<br>[T2=lambda_reg*(1-alpha)=0.0007]<br>subgradient_step=100000.0<br>w0=-0.11<br>target_acc=98.4<br>target_zstd_ratio=0.0297<br>min_xi=0<br>max_xi=1<br>upper_c=44426<br>lower_c=0.01<br>zeta=50000<br>l=0.5<br>n_epochs=90<br>max_iterations=15<br>train_optimizer=ADAM<br>entropy_optimizer=FISTA<br>delta=32<br>pruning=Y<br>QuantizationType=center",
          "File: output-Test-2025-06-15-Fenchel.log<br>r = 1.103<br>Accuracy: 98.5<br>Compression: 3.23%<br><b>Params:</b><br>model=LeNet-5<br>criterion=CrossEntropy<br>C=64<br>lr=0.0007<br>lambda_reg=0.0015<br>alpha=0.533<br>[T1=lambda_reg*alpha=0.0008]<br>[T2=lambda_reg*(1-alpha)=0.0007]<br>subgradient_step=100000.0<br>w0=-0.11<br>target_acc=98.4<br>target_zstd_ratio=0.0297<br>min_xi=0<br>max_xi=1<br>upper_c=44426<br>lower_c=0.01<br>zeta=50000<br>l=0.5<br>n_epochs=90<br>max_iterations=15<br>train_optimizer=ADAM<br>entropy_optimizer=FISTA<br>delta=32<br>pruning=Y<br>QuantizationType=center",
          "File: output-Test-2025-06-15-Fenchel.log<br>r = 1.103<br>Accuracy: 98.44<br>Compression: 3.16%<br><b>Params:</b><br>model=LeNet-5<br>criterion=CrossEntropy<br>C=64<br>lr=0.0007<br>lambda_reg=0.0015<br>alpha=0.533<br>[T1=lambda_reg*alpha=0.0008]<br>[T2=lambda_reg*(1-alpha)=0.0007]<br>subgradient_step=100000.0<br>w0=-0.11<br>target_acc=98.4<br>target_zstd_ratio=0.0297<br>min_xi=0<br>max_xi=1<br>upper_c=44426<br>lower_c=0.01<br>zeta=50000<br>l=0.5<br>n_epochs=90<br>max_iterations=15<br>train_optimizer=ADAM<br>entropy_optimizer=FISTA<br>delta=32<br>pruning=Y<br>QuantizationType=center",
          "File: output-Test-2025-06-15-Fenchel.log<br>r = 1.1016<br>Accuracy: 98.01<br>Compression: 3.49%<br><b>Params:</b><br>model=LeNet-5<br>criterion=CrossEntropy<br>C=64<br>lr=0.0007<br>lambda_reg=0.0015<br>alpha=0.533<br>[T1=lambda_reg*alpha=0.0008]<br>[T2=lambda_reg*(1-alpha)=0.0007]<br>subgradient_step=100000.0<br>w0=-0.11<br>target_acc=98.4<br>target_zstd_ratio=0.0297<br>min_xi=0<br>max_xi=1<br>upper_c=44426<br>lower_c=0.01<br>zeta=50000<br>l=0.5<br>n_epochs=90<br>max_iterations=15<br>train_optimizer=ADAM<br>entropy_optimizer=FISTA<br>delta=32<br>pruning=Y<br>QuantizationType=center",
          "File: output-Test-2025-06-15-Fenchel.log<br>r = 1.1016<br>Accuracy: 98.29<br>Compression: 3.4%<br><b>Params:</b><br>model=LeNet-5<br>criterion=CrossEntropy<br>C=64<br>lr=0.0007<br>lambda_reg=0.0015<br>alpha=0.533<br>[T1=lambda_reg*alpha=0.0008]<br>[T2=lambda_reg*(1-alpha)=0.0007]<br>subgradient_step=100000.0<br>w0=-0.11<br>target_acc=98.4<br>target_zstd_ratio=0.0297<br>min_xi=0<br>max_xi=1<br>upper_c=44426<br>lower_c=0.01<br>zeta=50000<br>l=0.5<br>n_epochs=90<br>max_iterations=15<br>train_optimizer=ADAM<br>entropy_optimizer=FISTA<br>delta=32<br>pruning=Y<br>QuantizationType=center",
          "File: output-Test-2025-06-15-Fenchel.log<br>r = 1.1016<br>Accuracy: 98.16<br>Compression: 3.31%<br><b>Params:</b><br>model=LeNet-5<br>criterion=CrossEntropy<br>C=64<br>lr=0.0007<br>lambda_reg=0.0015<br>alpha=0.533<br>[T1=lambda_reg*alpha=0.0008]<br>[T2=lambda_reg*(1-alpha)=0.0007]<br>subgradient_step=100000.0<br>w0=-0.11<br>target_acc=98.4<br>target_zstd_ratio=0.0297<br>min_xi=0<br>max_xi=1<br>upper_c=44426<br>lower_c=0.01<br>zeta=50000<br>l=0.5<br>n_epochs=90<br>max_iterations=15<br>train_optimizer=ADAM<br>entropy_optimizer=FISTA<br>delta=32<br>pruning=Y<br>QuantizationType=center",
          "File: output-Test-2025-06-15-Fenchel.log<br>r = 1.1016<br>Accuracy: 98.22<br>Compression: 3.22%<br><b>Params:</b><br>model=LeNet-5<br>criterion=CrossEntropy<br>C=64<br>lr=0.0007<br>lambda_reg=0.0015<br>alpha=0.533<br>[T1=lambda_reg*alpha=0.0008]<br>[T2=lambda_reg*(1-alpha)=0.0007]<br>subgradient_step=100000.0<br>w0=-0.11<br>target_acc=98.4<br>target_zstd_ratio=0.0297<br>min_xi=0<br>max_xi=1<br>upper_c=44426<br>lower_c=0.01<br>zeta=50000<br>l=0.5<br>n_epochs=90<br>max_iterations=15<br>train_optimizer=ADAM<br>entropy_optimizer=FISTA<br>delta=32<br>pruning=Y<br>QuantizationType=center",
          "File: output-Test-2025-06-15-Fenchel.log<br>r = 1.1016<br>Accuracy: 98.07<br>Compression: 3.17%<br><b>Params:</b><br>model=LeNet-5<br>criterion=CrossEntropy<br>C=64<br>lr=0.0007<br>lambda_reg=0.0015<br>alpha=0.533<br>[T1=lambda_reg*alpha=0.0008]<br>[T2=lambda_reg*(1-alpha)=0.0007]<br>subgradient_step=100000.0<br>w0=-0.11<br>target_acc=98.4<br>target_zstd_ratio=0.0297<br>min_xi=0<br>max_xi=1<br>upper_c=44426<br>lower_c=0.01<br>zeta=50000<br>l=0.5<br>n_epochs=90<br>max_iterations=15<br>train_optimizer=ADAM<br>entropy_optimizer=FISTA<br>delta=32<br>pruning=Y<br>QuantizationType=center",
          "File: output-Test-2025-06-15-Fenchel.log<br>r = 1.1016<br>Accuracy: 98.03<br>Compression: 3.12%<br><b>Params:</b><br>model=LeNet-5<br>criterion=CrossEntropy<br>C=64<br>lr=0.0007<br>lambda_reg=0.0015<br>alpha=0.533<br>[T1=lambda_reg*alpha=0.0008]<br>[T2=lambda_reg*(1-alpha)=0.0007]<br>subgradient_step=100000.0<br>w0=-0.11<br>target_acc=98.4<br>target_zstd_ratio=0.0297<br>min_xi=0<br>max_xi=1<br>upper_c=44426<br>lower_c=0.01<br>zeta=50000<br>l=0.5<br>n_epochs=90<br>max_iterations=15<br>train_optimizer=ADAM<br>entropy_optimizer=FISTA<br>delta=32<br>pruning=Y<br>QuantizationType=center",
          "File: output-Test-2025-06-15-Fenchel.log<br>r = 1.1016<br>Accuracy: 98.54<br>Compression: 2.88%<br><b>Params:</b><br>model=LeNet-5<br>criterion=CrossEntropy<br>C=64<br>lr=0.0007<br>lambda_reg=0.0015<br>alpha=0.533<br>[T1=lambda_reg*alpha=0.0008]<br>[T2=lambda_reg*(1-alpha)=0.0007]<br>subgradient_step=100000.0<br>w0=-0.11<br>target_acc=98.4<br>target_zstd_ratio=0.0297<br>min_xi=0<br>max_xi=1<br>upper_c=44426<br>lower_c=0.01<br>zeta=50000<br>l=0.5<br>n_epochs=90<br>max_iterations=15<br>train_optimizer=ADAM<br>entropy_optimizer=FISTA<br>delta=32<br>pruning=Y<br>QuantizationType=center",
          "File: output-Test-2025-06-15-Fenchel.log<br>r = 1.1016<br>Accuracy: 98.51<br>Compression: 3.08%<br><b>Params:</b><br>model=LeNet-5<br>criterion=CrossEntropy<br>C=64<br>lr=0.0007<br>lambda_reg=0.0015<br>alpha=0.533<br>[T1=lambda_reg*alpha=0.0008]<br>[T2=lambda_reg*(1-alpha)=0.0007]<br>subgradient_step=100000.0<br>w0=-0.11<br>target_acc=98.4<br>target_zstd_ratio=0.0297<br>min_xi=0<br>max_xi=1<br>upper_c=44426<br>lower_c=0.01<br>zeta=50000<br>l=0.5<br>n_epochs=90<br>max_iterations=15<br>train_optimizer=ADAM<br>entropy_optimizer=FISTA<br>delta=32<br>pruning=Y<br>QuantizationType=center",
          "File: output-Test-2025-06-15-Fenchel.log<br>r = 1.1016<br>Accuracy: 98.15<br>Compression: 3.03%<br><b>Params:</b><br>model=LeNet-5<br>criterion=CrossEntropy<br>C=64<br>lr=0.0007<br>lambda_reg=0.0015<br>alpha=0.533<br>[T1=lambda_reg*alpha=0.0008]<br>[T2=lambda_reg*(1-alpha)=0.0007]<br>subgradient_step=100000.0<br>w0=-0.11<br>target_acc=98.4<br>target_zstd_ratio=0.0297<br>min_xi=0<br>max_xi=1<br>upper_c=44426<br>lower_c=0.01<br>zeta=50000<br>l=0.5<br>n_epochs=90<br>max_iterations=15<br>train_optimizer=ADAM<br>entropy_optimizer=FISTA<br>delta=32<br>pruning=Y<br>QuantizationType=center",
          "File: output-Test-2025-06-15-Fenchel.log<br>r = 1.1016<br>Accuracy: 98.36<br>Compression: 3.03%<br><b>Params:</b><br>model=LeNet-5<br>criterion=CrossEntropy<br>C=64<br>lr=0.0007<br>lambda_reg=0.0015<br>alpha=0.533<br>[T1=lambda_reg*alpha=0.0008]<br>[T2=lambda_reg*(1-alpha)=0.0007]<br>subgradient_step=100000.0<br>w0=-0.11<br>target_acc=98.4<br>target_zstd_ratio=0.0297<br>min_xi=0<br>max_xi=1<br>upper_c=44426<br>lower_c=0.01<br>zeta=50000<br>l=0.5<br>n_epochs=90<br>max_iterations=15<br>train_optimizer=ADAM<br>entropy_optimizer=FISTA<br>delta=32<br>pruning=Y<br>QuantizationType=center",
          "File: output-Test-2025-06-15-Fenchel.log<br>r = 1.1016<br>Accuracy: 98.23<br>Compression: 2.97%<br><b>Params:</b><br>model=LeNet-5<br>criterion=CrossEntropy<br>C=64<br>lr=0.0007<br>lambda_reg=0.0015<br>alpha=0.533<br>[T1=lambda_reg*alpha=0.0008]<br>[T2=lambda_reg*(1-alpha)=0.0007]<br>subgradient_step=100000.0<br>w0=-0.11<br>target_acc=98.4<br>target_zstd_ratio=0.0297<br>min_xi=0<br>max_xi=1<br>upper_c=44426<br>lower_c=0.01<br>zeta=50000<br>l=0.5<br>n_epochs=90<br>max_iterations=15<br>train_optimizer=ADAM<br>entropy_optimizer=FISTA<br>delta=32<br>pruning=Y<br>QuantizationType=center",
          "File: output-Test-2025-06-15-Fenchel.log<br>r = 1.1016<br>Accuracy: 98.01<br>Compression: 2.95%<br><b>Params:</b><br>model=LeNet-5<br>criterion=CrossEntropy<br>C=64<br>lr=0.0007<br>lambda_reg=0.0015<br>alpha=0.533<br>[T1=lambda_reg*alpha=0.0008]<br>[T2=lambda_reg*(1-alpha)=0.0007]<br>subgradient_step=100000.0<br>w0=-0.11<br>target_acc=98.4<br>target_zstd_ratio=0.0297<br>min_xi=0<br>max_xi=1<br>upper_c=44426<br>lower_c=0.01<br>zeta=50000<br>l=0.5<br>n_epochs=90<br>max_iterations=15<br>train_optimizer=ADAM<br>entropy_optimizer=FISTA<br>delta=32<br>pruning=Y<br>QuantizationType=center",
          "File: output-Test-2025-06-15-Fenchel.log<br>r = 1.1016<br>Accuracy: 98.45<br>Compression: 2.96%<br><b>Params:</b><br>model=LeNet-5<br>criterion=CrossEntropy<br>C=64<br>lr=0.0007<br>lambda_reg=0.0015<br>alpha=0.533<br>[T1=lambda_reg*alpha=0.0008]<br>[T2=lambda_reg*(1-alpha)=0.0007]<br>subgradient_step=100000.0<br>w0=-0.11<br>target_acc=98.4<br>target_zstd_ratio=0.0297<br>min_xi=0<br>max_xi=1<br>upper_c=44426<br>lower_c=0.01<br>zeta=50000<br>l=0.5<br>n_epochs=90<br>max_iterations=15<br>train_optimizer=ADAM<br>entropy_optimizer=FISTA<br>delta=32<br>pruning=Y<br>QuantizationType=center",
          "File: output-Test-2025-06-15-Fenchel.log<br>r = 1.1016<br>Accuracy: 98.12<br>Compression: 2.93%<br><b>Params:</b><br>model=LeNet-5<br>criterion=CrossEntropy<br>C=64<br>lr=0.0007<br>lambda_reg=0.0015<br>alpha=0.533<br>[T1=lambda_reg*alpha=0.0008]<br>[T2=lambda_reg*(1-alpha)=0.0007]<br>subgradient_step=100000.0<br>w0=-0.11<br>target_acc=98.4<br>target_zstd_ratio=0.0297<br>min_xi=0<br>max_xi=1<br>upper_c=44426<br>lower_c=0.01<br>zeta=50000<br>l=0.5<br>n_epochs=90<br>max_iterations=15<br>train_optimizer=ADAM<br>entropy_optimizer=FISTA<br>delta=32<br>pruning=Y<br>QuantizationType=center",
          "File: output-Test-2025-06-15-Fenchel.log<br>r = 1.1016<br>Accuracy: 98.35<br>Compression: 2.94%<br><b>Params:</b><br>model=LeNet-5<br>criterion=CrossEntropy<br>C=64<br>lr=0.0007<br>lambda_reg=0.0015<br>alpha=0.533<br>[T1=lambda_reg*alpha=0.0008]<br>[T2=lambda_reg*(1-alpha)=0.0007]<br>subgradient_step=100000.0<br>w0=-0.11<br>target_acc=98.4<br>target_zstd_ratio=0.0297<br>min_xi=0<br>max_xi=1<br>upper_c=44426<br>lower_c=0.01<br>zeta=50000<br>l=0.5<br>n_epochs=90<br>max_iterations=15<br>train_optimizer=ADAM<br>entropy_optimizer=FISTA<br>delta=32<br>pruning=Y<br>QuantizationType=center",
          "File: output-Test-2025-06-15-Fenchel.log<br>r = 1.1016<br>Accuracy: 98.07<br>Compression: 2.9%<br><b>Params:</b><br>model=LeNet-5<br>criterion=CrossEntropy<br>C=64<br>lr=0.0007<br>lambda_reg=0.0015<br>alpha=0.533<br>[T1=lambda_reg*alpha=0.0008]<br>[T2=lambda_reg*(1-alpha)=0.0007]<br>subgradient_step=100000.0<br>w0=-0.11<br>target_acc=98.4<br>target_zstd_ratio=0.0297<br>min_xi=0<br>max_xi=1<br>upper_c=44426<br>lower_c=0.01<br>zeta=50000<br>l=0.5<br>n_epochs=90<br>max_iterations=15<br>train_optimizer=ADAM<br>entropy_optimizer=FISTA<br>delta=32<br>pruning=Y<br>QuantizationType=center",
          "File: output-Test-2025-06-15-Fenchel.log<br>r = 1.1016<br>Accuracy: 98.13<br>Compression: 2.82%<br><b>Params:</b><br>model=LeNet-5<br>criterion=CrossEntropy<br>C=64<br>lr=0.0007<br>lambda_reg=0.0015<br>alpha=0.533<br>[T1=lambda_reg*alpha=0.0008]<br>[T2=lambda_reg*(1-alpha)=0.0007]<br>subgradient_step=100000.0<br>w0=-0.11<br>target_acc=98.4<br>target_zstd_ratio=0.0297<br>min_xi=0<br>max_xi=1<br>upper_c=44426<br>lower_c=0.01<br>zeta=50000<br>l=0.5<br>n_epochs=90<br>max_iterations=15<br>train_optimizer=ADAM<br>entropy_optimizer=FISTA<br>delta=32<br>pruning=Y<br>QuantizationType=center",
          "File: output-Test-2025-06-15-Fenchel.log<br>r = 1.1016<br>Accuracy: 98.47<br>Compression: 2.79%<br><b>Params:</b><br>model=LeNet-5<br>criterion=CrossEntropy<br>C=64<br>lr=0.0007<br>lambda_reg=0.0015<br>alpha=0.533<br>[T1=lambda_reg*alpha=0.0008]<br>[T2=lambda_reg*(1-alpha)=0.0007]<br>subgradient_step=100000.0<br>w0=-0.11<br>target_acc=98.4<br>target_zstd_ratio=0.0297<br>min_xi=0<br>max_xi=1<br>upper_c=44426<br>lower_c=0.01<br>zeta=50000<br>l=0.5<br>n_epochs=90<br>max_iterations=15<br>train_optimizer=ADAM<br>entropy_optimizer=FISTA<br>delta=32<br>pruning=Y<br>QuantizationType=center",
          "File: output-Test-2025-06-15-Fenchel.log<br>r = 1.1016<br>Accuracy: 98.01<br>Compression: 2.77%<br><b>Params:</b><br>model=LeNet-5<br>criterion=CrossEntropy<br>C=64<br>lr=0.0007<br>lambda_reg=0.0015<br>alpha=0.533<br>[T1=lambda_reg*alpha=0.0008]<br>[T2=lambda_reg*(1-alpha)=0.0007]<br>subgradient_step=100000.0<br>w0=-0.11<br>target_acc=98.4<br>target_zstd_ratio=0.0297<br>min_xi=0<br>max_xi=1<br>upper_c=44426<br>lower_c=0.01<br>zeta=50000<br>l=0.5<br>n_epochs=90<br>max_iterations=15<br>train_optimizer=ADAM<br>entropy_optimizer=FISTA<br>delta=32<br>pruning=Y<br>QuantizationType=center",
          "File: output-Test-2025-06-15-Fenchel.log<br>r = 1.1016<br>Accuracy: 98.28<br>Compression: 2.75%<br><b>Params:</b><br>model=LeNet-5<br>criterion=CrossEntropy<br>C=64<br>lr=0.0007<br>lambda_reg=0.0015<br>alpha=0.533<br>[T1=lambda_reg*alpha=0.0008]<br>[T2=lambda_reg*(1-alpha)=0.0007]<br>subgradient_step=100000.0<br>w0=-0.11<br>target_acc=98.4<br>target_zstd_ratio=0.0297<br>min_xi=0<br>max_xi=1<br>upper_c=44426<br>lower_c=0.01<br>zeta=50000<br>l=0.5<br>n_epochs=90<br>max_iterations=15<br>train_optimizer=ADAM<br>entropy_optimizer=FISTA<br>delta=32<br>pruning=Y<br>QuantizationType=center",
          "File: output-Test-2025-06-15-Fenchel.log<br>r = 1.1016<br>Accuracy: 98.16<br>Compression: 2.76%<br><b>Params:</b><br>model=LeNet-5<br>criterion=CrossEntropy<br>C=64<br>lr=0.0007<br>lambda_reg=0.0015<br>alpha=0.533<br>[T1=lambda_reg*alpha=0.0008]<br>[T2=lambda_reg*(1-alpha)=0.0007]<br>subgradient_step=100000.0<br>w0=-0.11<br>target_acc=98.4<br>target_zstd_ratio=0.0297<br>min_xi=0<br>max_xi=1<br>upper_c=44426<br>lower_c=0.01<br>zeta=50000<br>l=0.5<br>n_epochs=90<br>max_iterations=15<br>train_optimizer=ADAM<br>entropy_optimizer=FISTA<br>delta=32<br>pruning=Y<br>QuantizationType=center",
          "File: output-Test-2025-06-15-Fenchel.log<br>r = 1.1016<br>Accuracy: 98.15<br>Compression: 2.74%<br><b>Params:</b><br>model=LeNet-5<br>criterion=CrossEntropy<br>C=64<br>lr=0.0007<br>lambda_reg=0.0015<br>alpha=0.533<br>[T1=lambda_reg*alpha=0.0008]<br>[T2=lambda_reg*(1-alpha)=0.0007]<br>subgradient_step=100000.0<br>w0=-0.11<br>target_acc=98.4<br>target_zstd_ratio=0.0297<br>min_xi=0<br>max_xi=1<br>upper_c=44426<br>lower_c=0.01<br>zeta=50000<br>l=0.5<br>n_epochs=90<br>max_iterations=15<br>train_optimizer=ADAM<br>entropy_optimizer=FISTA<br>delta=32<br>pruning=Y<br>QuantizationType=center",
          "File: output-Test-2025-06-15-Fenchel.log<br>r = 1.1016<br>Accuracy: 98.38<br>Compression: 2.73%<br><b>Params:</b><br>model=LeNet-5<br>criterion=CrossEntropy<br>C=64<br>lr=0.0007<br>lambda_reg=0.0015<br>alpha=0.533<br>[T1=lambda_reg*alpha=0.0008]<br>[T2=lambda_reg*(1-alpha)=0.0007]<br>subgradient_step=100000.0<br>w0=-0.11<br>target_acc=98.4<br>target_zstd_ratio=0.0297<br>min_xi=0<br>max_xi=1<br>upper_c=44426<br>lower_c=0.01<br>zeta=50000<br>l=0.5<br>n_epochs=90<br>max_iterations=15<br>train_optimizer=ADAM<br>entropy_optimizer=FISTA<br>delta=32<br>pruning=Y<br>QuantizationType=center",
          "File: output-Test-2025-06-15-Fenchel.log<br>r = 1.1016<br>Accuracy: 98.37<br>Compression: 2.66%<br><b>Params:</b><br>model=LeNet-5<br>criterion=CrossEntropy<br>C=64<br>lr=0.0007<br>lambda_reg=0.0015<br>alpha=0.533<br>[T1=lambda_reg*alpha=0.0008]<br>[T2=lambda_reg*(1-alpha)=0.0007]<br>subgradient_step=100000.0<br>w0=-0.11<br>target_acc=98.4<br>target_zstd_ratio=0.0297<br>min_xi=0<br>max_xi=1<br>upper_c=44426<br>lower_c=0.01<br>zeta=50000<br>l=0.5<br>n_epochs=90<br>max_iterations=15<br>train_optimizer=ADAM<br>entropy_optimizer=FISTA<br>delta=32<br>pruning=Y<br>QuantizationType=center",
          "File: output-Test-2025-06-15-Fenchel.log<br>r = 1.1016<br>Accuracy: 98.24<br>Compression: 2.71%<br><b>Params:</b><br>model=LeNet-5<br>criterion=CrossEntropy<br>C=64<br>lr=0.0007<br>lambda_reg=0.0015<br>alpha=0.533<br>[T1=lambda_reg*alpha=0.0008]<br>[T2=lambda_reg*(1-alpha)=0.0007]<br>subgradient_step=100000.0<br>w0=-0.11<br>target_acc=98.4<br>target_zstd_ratio=0.0297<br>min_xi=0<br>max_xi=1<br>upper_c=44426<br>lower_c=0.01<br>zeta=50000<br>l=0.5<br>n_epochs=90<br>max_iterations=15<br>train_optimizer=ADAM<br>entropy_optimizer=FISTA<br>delta=32<br>pruning=Y<br>QuantizationType=center",
          "File: output-Test-2025-06-15-Fenchel.log<br>r = 1.1016<br>Accuracy: 98.18<br>Compression: 2.69%<br><b>Params:</b><br>model=LeNet-5<br>criterion=CrossEntropy<br>C=64<br>lr=0.0007<br>lambda_reg=0.0015<br>alpha=0.533<br>[T1=lambda_reg*alpha=0.0008]<br>[T2=lambda_reg*(1-alpha)=0.0007]<br>subgradient_step=100000.0<br>w0=-0.11<br>target_acc=98.4<br>target_zstd_ratio=0.0297<br>min_xi=0<br>max_xi=1<br>upper_c=44426<br>lower_c=0.01<br>zeta=50000<br>l=0.5<br>n_epochs=90<br>max_iterations=15<br>train_optimizer=ADAM<br>entropy_optimizer=FISTA<br>delta=32<br>pruning=Y<br>QuantizationType=center",
          "File: output-Test-2025-06-15-Fenchel.log<br>r = 1.1016<br>Accuracy: 98.43<br>Compression: 2.69%<br><b>Params:</b><br>model=LeNet-5<br>criterion=CrossEntropy<br>C=64<br>lr=0.0007<br>lambda_reg=0.0015<br>alpha=0.533<br>[T1=lambda_reg*alpha=0.0008]<br>[T2=lambda_reg*(1-alpha)=0.0007]<br>subgradient_step=100000.0<br>w0=-0.11<br>target_acc=98.4<br>target_zstd_ratio=0.0297<br>min_xi=0<br>max_xi=1<br>upper_c=44426<br>lower_c=0.01<br>zeta=50000<br>l=0.5<br>n_epochs=90<br>max_iterations=15<br>train_optimizer=ADAM<br>entropy_optimizer=FISTA<br>delta=32<br>pruning=Y<br>QuantizationType=center",
          "File: output-Test-2025-06-15-Fenchel.log<br>r = 1.1016<br>Accuracy: 98.16<br>Compression: 2.64%<br><b>Params:</b><br>model=LeNet-5<br>criterion=CrossEntropy<br>C=64<br>lr=0.0007<br>lambda_reg=0.0015<br>alpha=0.533<br>[T1=lambda_reg*alpha=0.0008]<br>[T2=lambda_reg*(1-alpha)=0.0007]<br>subgradient_step=100000.0<br>w0=-0.11<br>target_acc=98.4<br>target_zstd_ratio=0.0297<br>min_xi=0<br>max_xi=1<br>upper_c=44426<br>lower_c=0.01<br>zeta=50000<br>l=0.5<br>n_epochs=90<br>max_iterations=15<br>train_optimizer=ADAM<br>entropy_optimizer=FISTA<br>delta=32<br>pruning=Y<br>QuantizationType=center",
          "File: output-Test-2025-06-15-Fenchel.log<br>r = 1.1016<br>Accuracy: 98.19<br>Compression: 2.61%<br><b>Params:</b><br>model=LeNet-5<br>criterion=CrossEntropy<br>C=64<br>lr=0.0007<br>lambda_reg=0.0015<br>alpha=0.533<br>[T1=lambda_reg*alpha=0.0008]<br>[T2=lambda_reg*(1-alpha)=0.0007]<br>subgradient_step=100000.0<br>w0=-0.11<br>target_acc=98.4<br>target_zstd_ratio=0.0297<br>min_xi=0<br>max_xi=1<br>upper_c=44426<br>lower_c=0.01<br>zeta=50000<br>l=0.5<br>n_epochs=90<br>max_iterations=15<br>train_optimizer=ADAM<br>entropy_optimizer=FISTA<br>delta=32<br>pruning=Y<br>QuantizationType=center",
          "File: output-Test-2025-06-15-Fenchel.log<br>r = 1.1018<br>Accuracy: 98.1<br>Compression: 3.49%<br><b>Params:</b><br>model=LeNet-5<br>criterion=CrossEntropy<br>C=64<br>lr=0.0007<br>lambda_reg=0.0015<br>alpha=0.533<br>[T1=lambda_reg*alpha=0.0008]<br>[T2=lambda_reg*(1-alpha)=0.0007]<br>subgradient_step=100000.0<br>w0=-0.11<br>target_acc=98.4<br>target_zstd_ratio=0.0297<br>min_xi=0<br>max_xi=1<br>upper_c=44426<br>lower_c=0.01<br>zeta=50000<br>l=0.5<br>n_epochs=90<br>max_iterations=15<br>train_optimizer=ADAM<br>entropy_optimizer=FISTA<br>delta=32<br>pruning=Y<br>QuantizationType=center",
          "File: output-Test-2025-06-15-Fenchel.log<br>r = 1.1018<br>Accuracy: 98.4<br>Compression: 3.48%<br><b>Params:</b><br>model=LeNet-5<br>criterion=CrossEntropy<br>C=64<br>lr=0.0007<br>lambda_reg=0.0015<br>alpha=0.533<br>[T1=lambda_reg*alpha=0.0008]<br>[T2=lambda_reg*(1-alpha)=0.0007]<br>subgradient_step=100000.0<br>w0=-0.11<br>target_acc=98.4<br>target_zstd_ratio=0.0297<br>min_xi=0<br>max_xi=1<br>upper_c=44426<br>lower_c=0.01<br>zeta=50000<br>l=0.5<br>n_epochs=90<br>max_iterations=15<br>train_optimizer=ADAM<br>entropy_optimizer=FISTA<br>delta=32<br>pruning=Y<br>QuantizationType=center",
          "File: output-Test-2025-06-15-Fenchel.log<br>r = 1.1018<br>Accuracy: 98.41<br>Compression: 3.46%<br><b>Params:</b><br>model=LeNet-5<br>criterion=CrossEntropy<br>C=64<br>lr=0.0007<br>lambda_reg=0.0015<br>alpha=0.533<br>[T1=lambda_reg*alpha=0.0008]<br>[T2=lambda_reg*(1-alpha)=0.0007]<br>subgradient_step=100000.0<br>w0=-0.11<br>target_acc=98.4<br>target_zstd_ratio=0.0297<br>min_xi=0<br>max_xi=1<br>upper_c=44426<br>lower_c=0.01<br>zeta=50000<br>l=0.5<br>n_epochs=90<br>max_iterations=15<br>train_optimizer=ADAM<br>entropy_optimizer=FISTA<br>delta=32<br>pruning=Y<br>QuantizationType=center",
          "File: output-Test-2025-06-15-Fenchel.log<br>r = 1.1018<br>Accuracy: 98.72<br>Compression: 3.38%<br><b>Params:</b><br>model=LeNet-5<br>criterion=CrossEntropy<br>C=64<br>lr=0.0007<br>lambda_reg=0.0015<br>alpha=0.533<br>[T1=lambda_reg*alpha=0.0008]<br>[T2=lambda_reg*(1-alpha)=0.0007]<br>subgradient_step=100000.0<br>w0=-0.11<br>target_acc=98.4<br>target_zstd_ratio=0.0297<br>min_xi=0<br>max_xi=1<br>upper_c=44426<br>lower_c=0.01<br>zeta=50000<br>l=0.5<br>n_epochs=90<br>max_iterations=15<br>train_optimizer=ADAM<br>entropy_optimizer=FISTA<br>delta=32<br>pruning=Y<br>QuantizationType=center",
          "File: output-Test-2025-06-15-Fenchel.log<br>r = 1.1018<br>Accuracy: 98.07<br>Compression: 3.38%<br><b>Params:</b><br>model=LeNet-5<br>criterion=CrossEntropy<br>C=64<br>lr=0.0007<br>lambda_reg=0.0015<br>alpha=0.533<br>[T1=lambda_reg*alpha=0.0008]<br>[T2=lambda_reg*(1-alpha)=0.0007]<br>subgradient_step=100000.0<br>w0=-0.11<br>target_acc=98.4<br>target_zstd_ratio=0.0297<br>min_xi=0<br>max_xi=1<br>upper_c=44426<br>lower_c=0.01<br>zeta=50000<br>l=0.5<br>n_epochs=90<br>max_iterations=15<br>train_optimizer=ADAM<br>entropy_optimizer=FISTA<br>delta=32<br>pruning=Y<br>QuantizationType=center"
         ],
         "type": "scatter",
         "x": [
          98.3,
          98.26,
          98.25,
          98.2,
          98.2,
          98.19,
          98.18,
          98.14,
          98.25,
          98.24,
          98.22,
          98.32,
          98.27,
          98.26,
          98.26,
          98.23,
          98.17,
          98.32,
          98.32,
          98.34,
          98.23,
          98.2,
          98.17,
          98.33,
          98.27,
          98.26,
          98.25,
          98.28,
          98.27,
          98.88,
          98.19,
          98.22,
          98.11,
          98.1,
          98.02,
          98.08,
          98.02,
          98.12,
          98.11,
          98.01,
          98.17,
          98.06,
          98.35,
          98.63,
          98.04,
          98.01,
          98.37,
          98.76,
          98.42,
          98.37,
          98.26,
          98.08,
          98.23,
          98.22,
          98.34,
          98.29,
          98.39,
          98.66,
          98.72,
          98.04,
          98.08,
          98.24,
          98.33,
          98.36,
          98.23,
          98.33,
          98.08,
          98.24,
          98.38,
          98.1,
          98.09,
          98.23,
          98.02,
          98.07,
          98.32,
          98.63,
          98.58,
          98.54,
          98.67,
          98.66,
          98.66,
          98.36,
          98.01,
          98.45,
          98.32,
          98.03,
          98.12,
          98.11,
          98.25,
          98.55,
          98.04,
          98.12,
          98.37,
          98.07,
          98.22,
          98.8,
          98.34,
          98.34,
          98.16,
          98.12,
          98.5,
          98.44,
          98.01,
          98.29,
          98.16,
          98.22,
          98.07,
          98.03,
          98.54,
          98.51,
          98.15,
          98.36,
          98.23,
          98.01,
          98.45,
          98.12,
          98.35,
          98.07,
          98.13,
          98.47,
          98.01,
          98.28,
          98.16,
          98.15,
          98.38,
          98.37,
          98.24,
          98.18,
          98.43,
          98.16,
          98.19,
          98.1,
          98.4,
          98.41,
          98.72,
          98.07
         ],
         "y": [
          2.87,
          2.69,
          2.86,
          2.96,
          2.97,
          3.04,
          3.13,
          2.76,
          2.84,
          2.94,
          3.04,
          3.23,
          3.41,
          3.07,
          3.06,
          2.99,
          3.09,
          3.41,
          3.18,
          3.41,
          2.9,
          3.42,
          3.26,
          3.09,
          3.11,
          3.49,
          3.21,
          3.36,
          3.44,
          3.33,
          3.32,
          3.21,
          3.15,
          3.1,
          1.43,
          1.53,
          1.47,
          1.5,
          1.51,
          1.45,
          2.92,
          2.92,
          2.88,
          3.41,
          2.88,
          2.72,
          2.68,
          3.36,
          3.49,
          3.46,
          3.42,
          3.37,
          3.37,
          3.33,
          3.25,
          3.2,
          3.24,
          3.24,
          3.22,
          3.07,
          3.08,
          3.04,
          3,
          3.35,
          3.36,
          3.35,
          3.29,
          3.22,
          3.26,
          3.25,
          3.23,
          3.18,
          3.11,
          2.98,
          2.94,
          3.39,
          3.27,
          2.88,
          3.4,
          3.35,
          3.45,
          2.86,
          2.78,
          2.76,
          2.73,
          2.7,
          2.69,
          3.49,
          3.43,
          3.4,
          3.33,
          3.28,
          3.25,
          3.24,
          3.48,
          3.44,
          3.37,
          3.34,
          3.33,
          3.29,
          3.23,
          3.16,
          3.49,
          3.4,
          3.31,
          3.22,
          3.17,
          3.12,
          2.88,
          3.08,
          3.03,
          3.03,
          2.97,
          2.95,
          2.96,
          2.93,
          2.94,
          2.9,
          2.82,
          2.79,
          2.77,
          2.75,
          2.76,
          2.74,
          2.73,
          2.66,
          2.71,
          2.69,
          2.69,
          2.64,
          2.61,
          3.49,
          3.48,
          3.46,
          3.38,
          3.38
         ]
        },
        {
         "hoverinfo": "text",
         "line": {
          "color": "red",
          "dash": "dash",
          "width": 2
         },
         "marker": {
          "size": 10,
          "symbol": "diamond"
         },
         "mode": "markers+lines",
         "name": "Pareto Frontier",
         "text": [
          "File: output-Test-2025-06-13-A-Dantzig.log<br>r = 1.1015<br>Accuracy: 98.05<br>Compression: 1.43%<br><b>Params:</b><br>model=LeNet-5<br>criterion=CrossEntropy<br>C=128<br>lr=0.0007<br>lambda_reg=0.0015<br>alpha=0.533<br>[T1=lambda_reg*alpha=0.0008]<br>[T2=lambda_reg*(1-alpha)=0.0007]<br>subgradient_step=100000.0<br>w0=-0.11<br>target_acc=98.8<br>target_zstd_ratio=0.0297<br>min_xi=0<br>max_xi=1<br>upper_c=44426<br>lower_c=0.01<br>zeta=50000<br>l=0.5<br>n_epochs=30<br>max_iterations=15<br>train_optimizer=ADAM<br>entropy_optimizer=FISTA<br>delta=0<br>pruning=Y<br>QuantizationType=center",
          "File: output-Test-2025-06-13-A-Dantzig.log<br>r = 1.1014<br>Accuracy: 98.19<br>Compression: 1.47%<br><b>Params:</b><br>model=LeNet-5<br>criterion=CrossEntropy<br>C=128<br>lr=0.0007<br>lambda_reg=0.0015<br>alpha=0.533<br>[T1=lambda_reg*alpha=0.0008]<br>[T2=lambda_reg*(1-alpha)=0.0007]<br>subgradient_step=100000.0<br>w0=-0.11<br>target_acc=98.8<br>target_zstd_ratio=0.0297<br>min_xi=0<br>max_xi=1<br>upper_c=44426<br>lower_c=0.01<br>zeta=50000<br>l=0.5<br>n_epochs=30<br>max_iterations=15<br>train_optimizer=ADAM<br>entropy_optimizer=FISTA<br>delta=0<br>pruning=Y<br>QuantizationType=center",
          "File: output-Test-2025-06-16-Fenchel.log<br>r = 1.1021<br>Accuracy: 98.2<br>Compression: 2.56%<br><b>Params:</b><br>model=LeNet-5<br>criterion=CrossEntropy<br>C=64<br>lr=0.0007<br>lambda_reg=0.0015<br>alpha=0.533<br>[T1=lambda_reg*alpha=0.0008]<br>[T2=lambda_reg*(1-alpha)=0.0007]<br>subgradient_step=100000.0<br>w0=-0.11<br>target_acc=98.4<br>target_zstd_ratio=0.0297<br>min_xi=0<br>max_xi=1<br>upper_c=44426<br>lower_c=0.01<br>zeta=50000<br>l=0.5<br>n_epochs=90<br>max_iterations=15<br>train_optimizer=ADAM<br>entropy_optimizer=FISTA<br>delta=28<br>pruning=Y<br>QuantizationType=center",
          "File: output-Test-2025-06-16-Fenchel.log<br>r = 1.1021<br>Accuracy: 98.24<br>Compression: 2.58%<br><b>Params:</b><br>model=LeNet-5<br>criterion=CrossEntropy<br>C=64<br>lr=0.0007<br>lambda_reg=0.0015<br>alpha=0.533<br>[T1=lambda_reg*alpha=0.0008]<br>[T2=lambda_reg*(1-alpha)=0.0007]<br>subgradient_step=100000.0<br>w0=-0.11<br>target_acc=98.4<br>target_zstd_ratio=0.0297<br>min_xi=0<br>max_xi=1<br>upper_c=44426<br>lower_c=0.01<br>zeta=50000<br>l=0.5<br>n_epochs=90<br>max_iterations=15<br>train_optimizer=ADAM<br>entropy_optimizer=FISTA<br>delta=28<br>pruning=Y<br>QuantizationType=center",
          "File: output-Test-2025-06-15-Fenchel.log<br>r = 1.1016<br>Accuracy: 98.32<br>Compression: 2.65%<br><b>Params:</b><br>model=LeNet-5<br>criterion=CrossEntropy<br>C=64<br>lr=0.0007<br>lambda_reg=0.0015<br>alpha=0.533<br>[T1=lambda_reg*alpha=0.0008]<br>[T2=lambda_reg*(1-alpha)=0.0007]<br>subgradient_step=100000.0<br>w0=-0.11<br>target_acc=98.4<br>target_zstd_ratio=0.0297<br>min_xi=0<br>max_xi=1<br>upper_c=44426<br>lower_c=0.01<br>zeta=50000<br>l=0.5<br>n_epochs=90<br>max_iterations=15<br>train_optimizer=ADAM<br>entropy_optimizer=FISTA<br>delta=32<br>pruning=Y<br>QuantizationType=center",
          "File: output-Test-2025-06-15-Fenchel.log<br>r = 1.1016<br>Accuracy: 98.46<br>Compression: 2.66%<br><b>Params:</b><br>model=LeNet-5<br>criterion=CrossEntropy<br>C=64<br>lr=0.0007<br>lambda_reg=0.0015<br>alpha=0.533<br>[T1=lambda_reg*alpha=0.0008]<br>[T2=lambda_reg*(1-alpha)=0.0007]<br>subgradient_step=100000.0<br>w0=-0.11<br>target_acc=98.4<br>target_zstd_ratio=0.0297<br>min_xi=0<br>max_xi=1<br>upper_c=44426<br>lower_c=0.01<br>zeta=50000<br>l=0.5<br>n_epochs=90<br>max_iterations=15<br>train_optimizer=ADAM<br>entropy_optimizer=FISTA<br>delta=32<br>pruning=Y<br>QuantizationType=center",
          "File: output-Test-2025-06-16-Fenchel.log<br>r = 1.1018<br>Accuracy: 98.49<br>Compression: 2.67%<br><b>Params:</b><br>model=LeNet-5<br>criterion=CrossEntropy<br>C=64<br>lr=0.0007<br>lambda_reg=0.0015<br>alpha=0.533<br>[T1=lambda_reg*alpha=0.0008]<br>[T2=lambda_reg*(1-alpha)=0.0007]<br>subgradient_step=100000.0<br>w0=-0.11<br>target_acc=98.4<br>target_zstd_ratio=0.0297<br>min_xi=0<br>max_xi=1<br>upper_c=44426<br>lower_c=0.01<br>zeta=50000<br>l=0.5<br>n_epochs=90<br>max_iterations=15<br>train_optimizer=ADAM<br>entropy_optimizer=FISTA<br>delta=28<br>pruning=Y<br>QuantizationType=center",
          "File: output-Test-2025-06-15-Fenchel.log<br>r = 1.1014<br>Accuracy: 98.58<br>Compression: 2.77%<br><b>Params:</b><br>model=LeNet-5<br>criterion=CrossEntropy<br>C=64<br>lr=0.0007<br>lambda_reg=0.0015<br>alpha=0.533<br>[T1=lambda_reg*alpha=0.0008]<br>[T2=lambda_reg*(1-alpha)=0.0007]<br>subgradient_step=100000.0<br>w0=-0.11<br>target_acc=98.4<br>target_zstd_ratio=0.0297<br>min_xi=0<br>max_xi=1<br>upper_c=44426<br>lower_c=0.01<br>zeta=50000<br>l=0.5<br>n_epochs=90<br>max_iterations=15<br>train_optimizer=ADAM<br>entropy_optimizer=FISTA<br>delta=32<br>pruning=Y<br>QuantizationType=center",
          "File: output-Test-2025-06-12-Fenchel.log<br>r = 1.1029<br>Accuracy: 98.95<br>Compression: 3.16%<br><b>Params:</b><br>model=LeNet-5<br>criterion=CrossEntropy<br>C=6<br>lr=0.0007<br>lambda_reg=0.0015<br>alpha=0.533<br>[T1=lambda_reg*alpha=0.0008]<br>[T2=lambda_reg*(1-alpha)=0.0007]<br>subgradient_step=100000.0<br>w0=-0.11<br>target_acc=98.8<br>target_zstd_ratio=0.0297<br>min_xi=0<br>max_xi=1<br>upper_c=44426<br>lower_c=0.01<br>zeta=50000<br>l=0.5<br>n_epochs=500<br>max_iterations=15<br>train_optimizer=ADAM<br>entropy_optimizer=FISTA<br>delta=1000<br>pruning=Y<br>QuantizationType=center"
         ],
         "type": "scatter",
         "x": [
          98.05,
          98.19,
          98.2,
          98.24,
          98.32,
          98.46,
          98.49,
          98.58,
          98.95
         ],
         "y": [
          1.43,
          1.47,
          2.56,
          2.58,
          2.65,
          2.66,
          2.67,
          2.77,
          3.16
         ]
        },
        {
         "hoverinfo": "text",
         "marker": {
          "color": "yellow",
          "line": {
           "color": "black",
           "width": 1
          },
          "size": 9
         },
         "mode": "markers",
         "name": "Last two tests",
         "text": [
          "File: output-Test-2025-06-16-Fenchel.log<br>r = 1.1021<br>Accuracy: 98.04<br>Compression: 3.16%<br><b>Params:</b><br>model=LeNet-5<br>criterion=CrossEntropy<br>C=64<br>lr=0.0007<br>lambda_reg=0.0015<br>alpha=0.533<br>[T1=lambda_reg*alpha=0.0008]<br>[T2=lambda_reg*(1-alpha)=0.0007]<br>subgradient_step=100000.0<br>w0=-0.11<br>target_acc=98.4<br>target_zstd_ratio=0.0297<br>min_xi=0<br>max_xi=1<br>upper_c=44426<br>lower_c=0.01<br>zeta=50000<br>l=0.5<br>n_epochs=90<br>max_iterations=15<br>train_optimizer=ADAM<br>entropy_optimizer=FISTA<br>delta=28<br>pruning=Y<br>QuantizationType=center",
          "File: output-Test-2025-06-16-Fenchel.log<br>r = 1.1021<br>Accuracy: 98.04<br>Compression: 3.08%<br><b>Params:</b><br>model=LeNet-5<br>criterion=CrossEntropy<br>C=64<br>lr=0.0007<br>lambda_reg=0.0015<br>alpha=0.533<br>[T1=lambda_reg*alpha=0.0008]<br>[T2=lambda_reg*(1-alpha)=0.0007]<br>subgradient_step=100000.0<br>w0=-0.11<br>target_acc=98.4<br>target_zstd_ratio=0.0297<br>min_xi=0<br>max_xi=1<br>upper_c=44426<br>lower_c=0.01<br>zeta=50000<br>l=0.5<br>n_epochs=90<br>max_iterations=15<br>train_optimizer=ADAM<br>entropy_optimizer=FISTA<br>delta=28<br>pruning=Y<br>QuantizationType=center",
          "File: output-Test-2025-06-16-Fenchel.log<br>r = 1.1021<br>Accuracy: 98.15<br>Compression: 3.02%<br><b>Params:</b><br>model=LeNet-5<br>criterion=CrossEntropy<br>C=64<br>lr=0.0007<br>lambda_reg=0.0015<br>alpha=0.533<br>[T1=lambda_reg*alpha=0.0008]<br>[T2=lambda_reg*(1-alpha)=0.0007]<br>subgradient_step=100000.0<br>w0=-0.11<br>target_acc=98.4<br>target_zstd_ratio=0.0297<br>min_xi=0<br>max_xi=1<br>upper_c=44426<br>lower_c=0.01<br>zeta=50000<br>l=0.5<br>n_epochs=90<br>max_iterations=15<br>train_optimizer=ADAM<br>entropy_optimizer=FISTA<br>delta=28<br>pruning=Y<br>QuantizationType=center",
          "File: output-Test-2025-06-16-Fenchel.log<br>r = 1.1021<br>Accuracy: 98.37<br>Compression: 2.82%<br><b>Params:</b><br>model=LeNet-5<br>criterion=CrossEntropy<br>C=64<br>lr=0.0007<br>lambda_reg=0.0015<br>alpha=0.533<br>[T1=lambda_reg*alpha=0.0008]<br>[T2=lambda_reg*(1-alpha)=0.0007]<br>subgradient_step=100000.0<br>w0=-0.11<br>target_acc=98.4<br>target_zstd_ratio=0.0297<br>min_xi=0<br>max_xi=1<br>upper_c=44426<br>lower_c=0.01<br>zeta=50000<br>l=0.5<br>n_epochs=90<br>max_iterations=15<br>train_optimizer=ADAM<br>entropy_optimizer=FISTA<br>delta=28<br>pruning=Y<br>QuantizationType=center",
          "File: output-Test-2025-06-16-Fenchel.log<br>r = 1.1021<br>Accuracy: 98.3<br>Compression: 2.85%<br><b>Params:</b><br>model=LeNet-5<br>criterion=CrossEntropy<br>C=64<br>lr=0.0007<br>lambda_reg=0.0015<br>alpha=0.533<br>[T1=lambda_reg*alpha=0.0008]<br>[T2=lambda_reg*(1-alpha)=0.0007]<br>subgradient_step=100000.0<br>w0=-0.11<br>target_acc=98.4<br>target_zstd_ratio=0.0297<br>min_xi=0<br>max_xi=1<br>upper_c=44426<br>lower_c=0.01<br>zeta=50000<br>l=0.5<br>n_epochs=90<br>max_iterations=15<br>train_optimizer=ADAM<br>entropy_optimizer=FISTA<br>delta=28<br>pruning=Y<br>QuantizationType=center",
          "File: output-Test-2025-06-16-Fenchel.log<br>r = 1.1021<br>Accuracy: 98.1<br>Compression: 2.79%<br><b>Params:</b><br>model=LeNet-5<br>criterion=CrossEntropy<br>C=64<br>lr=0.0007<br>lambda_reg=0.0015<br>alpha=0.533<br>[T1=lambda_reg*alpha=0.0008]<br>[T2=lambda_reg*(1-alpha)=0.0007]<br>subgradient_step=100000.0<br>w0=-0.11<br>target_acc=98.4<br>target_zstd_ratio=0.0297<br>min_xi=0<br>max_xi=1<br>upper_c=44426<br>lower_c=0.01<br>zeta=50000<br>l=0.5<br>n_epochs=90<br>max_iterations=15<br>train_optimizer=ADAM<br>entropy_optimizer=FISTA<br>delta=28<br>pruning=Y<br>QuantizationType=center",
          "File: output-Test-2025-06-16-Fenchel.log<br>r = 1.1021<br>Accuracy: 98.06<br>Compression: 2.74%<br><b>Params:</b><br>model=LeNet-5<br>criterion=CrossEntropy<br>C=64<br>lr=0.0007<br>lambda_reg=0.0015<br>alpha=0.533<br>[T1=lambda_reg*alpha=0.0008]<br>[T2=lambda_reg*(1-alpha)=0.0007]<br>subgradient_step=100000.0<br>w0=-0.11<br>target_acc=98.4<br>target_zstd_ratio=0.0297<br>min_xi=0<br>max_xi=1<br>upper_c=44426<br>lower_c=0.01<br>zeta=50000<br>l=0.5<br>n_epochs=90<br>max_iterations=15<br>train_optimizer=ADAM<br>entropy_optimizer=FISTA<br>delta=28<br>pruning=Y<br>QuantizationType=center",
          "File: output-Test-2025-06-16-Fenchel.log<br>r = 1.1021<br>Accuracy: 98.06<br>Compression: 2.62%<br><b>Params:</b><br>model=LeNet-5<br>criterion=CrossEntropy<br>C=64<br>lr=0.0007<br>lambda_reg=0.0015<br>alpha=0.533<br>[T1=lambda_reg*alpha=0.0008]<br>[T2=lambda_reg*(1-alpha)=0.0007]<br>subgradient_step=100000.0<br>w0=-0.11<br>target_acc=98.4<br>target_zstd_ratio=0.0297<br>min_xi=0<br>max_xi=1<br>upper_c=44426<br>lower_c=0.01<br>zeta=50000<br>l=0.5<br>n_epochs=90<br>max_iterations=15<br>train_optimizer=ADAM<br>entropy_optimizer=FISTA<br>delta=28<br>pruning=Y<br>QuantizationType=center",
          "File: output-Test-2025-06-16-Fenchel.log<br>r = 1.1021<br>Accuracy: 98.03<br>Compression: 2.62%<br><b>Params:</b><br>model=LeNet-5<br>criterion=CrossEntropy<br>C=64<br>lr=0.0007<br>lambda_reg=0.0015<br>alpha=0.533<br>[T1=lambda_reg*alpha=0.0008]<br>[T2=lambda_reg*(1-alpha)=0.0007]<br>subgradient_step=100000.0<br>w0=-0.11<br>target_acc=98.4<br>target_zstd_ratio=0.0297<br>min_xi=0<br>max_xi=1<br>upper_c=44426<br>lower_c=0.01<br>zeta=50000<br>l=0.5<br>n_epochs=90<br>max_iterations=15<br>train_optimizer=ADAM<br>entropy_optimizer=FISTA<br>delta=28<br>pruning=Y<br>QuantizationType=center",
          "File: output-Test-2025-06-16-Fenchel.log<br>r = 1.1021<br>Accuracy: 98.16<br>Compression: 2.6%<br><b>Params:</b><br>model=LeNet-5<br>criterion=CrossEntropy<br>C=64<br>lr=0.0007<br>lambda_reg=0.0015<br>alpha=0.533<br>[T1=lambda_reg*alpha=0.0008]<br>[T2=lambda_reg*(1-alpha)=0.0007]<br>subgradient_step=100000.0<br>w0=-0.11<br>target_acc=98.4<br>target_zstd_ratio=0.0297<br>min_xi=0<br>max_xi=1<br>upper_c=44426<br>lower_c=0.01<br>zeta=50000<br>l=0.5<br>n_epochs=90<br>max_iterations=15<br>train_optimizer=ADAM<br>entropy_optimizer=FISTA<br>delta=28<br>pruning=Y<br>QuantizationType=center",
          "File: output-Test-2025-06-16-Fenchel.log<br>r = 1.1021<br>Accuracy: 98.03<br>Compression: 2.6%<br><b>Params:</b><br>model=LeNet-5<br>criterion=CrossEntropy<br>C=64<br>lr=0.0007<br>lambda_reg=0.0015<br>alpha=0.533<br>[T1=lambda_reg*alpha=0.0008]<br>[T2=lambda_reg*(1-alpha)=0.0007]<br>subgradient_step=100000.0<br>w0=-0.11<br>target_acc=98.4<br>target_zstd_ratio=0.0297<br>min_xi=0<br>max_xi=1<br>upper_c=44426<br>lower_c=0.01<br>zeta=50000<br>l=0.5<br>n_epochs=90<br>max_iterations=15<br>train_optimizer=ADAM<br>entropy_optimizer=FISTA<br>delta=28<br>pruning=Y<br>QuantizationType=center",
          "File: output-Test-2025-06-16-Fenchel.log<br>r = 1.1021<br>Accuracy: 98.03<br>Compression: 2.58%<br><b>Params:</b><br>model=LeNet-5<br>criterion=CrossEntropy<br>C=64<br>lr=0.0007<br>lambda_reg=0.0015<br>alpha=0.533<br>[T1=lambda_reg*alpha=0.0008]<br>[T2=lambda_reg*(1-alpha)=0.0007]<br>subgradient_step=100000.0<br>w0=-0.11<br>target_acc=98.4<br>target_zstd_ratio=0.0297<br>min_xi=0<br>max_xi=1<br>upper_c=44426<br>lower_c=0.01<br>zeta=50000<br>l=0.5<br>n_epochs=90<br>max_iterations=15<br>train_optimizer=ADAM<br>entropy_optimizer=FISTA<br>delta=28<br>pruning=Y<br>QuantizationType=center",
          "File: output-Test-2025-06-16-Fenchel.log<br>r = 1.1021<br>Accuracy: 98.19<br>Compression: 2.58%<br><b>Params:</b><br>model=LeNet-5<br>criterion=CrossEntropy<br>C=64<br>lr=0.0007<br>lambda_reg=0.0015<br>alpha=0.533<br>[T1=lambda_reg*alpha=0.0008]<br>[T2=lambda_reg*(1-alpha)=0.0007]<br>subgradient_step=100000.0<br>w0=-0.11<br>target_acc=98.4<br>target_zstd_ratio=0.0297<br>min_xi=0<br>max_xi=1<br>upper_c=44426<br>lower_c=0.01<br>zeta=50000<br>l=0.5<br>n_epochs=90<br>max_iterations=15<br>train_optimizer=ADAM<br>entropy_optimizer=FISTA<br>delta=28<br>pruning=Y<br>QuantizationType=center",
          "File: output-Test-2025-06-16-Fenchel.log<br>r = 1.1021<br>Accuracy: 98.2<br>Compression: 2.56%<br><b>Params:</b><br>model=LeNet-5<br>criterion=CrossEntropy<br>C=64<br>lr=0.0007<br>lambda_reg=0.0015<br>alpha=0.533<br>[T1=lambda_reg*alpha=0.0008]<br>[T2=lambda_reg*(1-alpha)=0.0007]<br>subgradient_step=100000.0<br>w0=-0.11<br>target_acc=98.4<br>target_zstd_ratio=0.0297<br>min_xi=0<br>max_xi=1<br>upper_c=44426<br>lower_c=0.01<br>zeta=50000<br>l=0.5<br>n_epochs=90<br>max_iterations=15<br>train_optimizer=ADAM<br>entropy_optimizer=FISTA<br>delta=28<br>pruning=Y<br>QuantizationType=center",
          "File: output-Test-2025-06-16-Fenchel.log<br>r = 1.1021<br>Accuracy: 98.29<br>Compression: 2.8%<br><b>Params:</b><br>model=LeNet-5<br>criterion=CrossEntropy<br>C=64<br>lr=0.0007<br>lambda_reg=0.0015<br>alpha=0.533<br>[T1=lambda_reg*alpha=0.0008]<br>[T2=lambda_reg*(1-alpha)=0.0007]<br>subgradient_step=100000.0<br>w0=-0.11<br>target_acc=98.4<br>target_zstd_ratio=0.0297<br>min_xi=0<br>max_xi=1<br>upper_c=44426<br>lower_c=0.01<br>zeta=50000<br>l=0.5<br>n_epochs=90<br>max_iterations=15<br>train_optimizer=ADAM<br>entropy_optimizer=FISTA<br>delta=28<br>pruning=Y<br>QuantizationType=center",
          "File: output-Test-2025-06-16-Fenchel.log<br>r = 1.1021<br>Accuracy: 98.24<br>Compression: 2.58%<br><b>Params:</b><br>model=LeNet-5<br>criterion=CrossEntropy<br>C=64<br>lr=0.0007<br>lambda_reg=0.0015<br>alpha=0.533<br>[T1=lambda_reg*alpha=0.0008]<br>[T2=lambda_reg*(1-alpha)=0.0007]<br>subgradient_step=100000.0<br>w0=-0.11<br>target_acc=98.4<br>target_zstd_ratio=0.0297<br>min_xi=0<br>max_xi=1<br>upper_c=44426<br>lower_c=0.01<br>zeta=50000<br>l=0.5<br>n_epochs=90<br>max_iterations=15<br>train_optimizer=ADAM<br>entropy_optimizer=FISTA<br>delta=28<br>pruning=Y<br>QuantizationType=center",
          "File: output-Test-2025-06-16-Fenchel.log<br>r = 1.1021<br>Accuracy: 98.59<br>Compression: 3.48%<br><b>Params:</b><br>model=LeNet-5<br>criterion=CrossEntropy<br>C=64<br>lr=0.0007<br>lambda_reg=0.0015<br>alpha=0.533<br>[T1=lambda_reg*alpha=0.0008]<br>[T2=lambda_reg*(1-alpha)=0.0007]<br>subgradient_step=100000.0<br>w0=-0.11<br>target_acc=98.4<br>target_zstd_ratio=0.0297<br>min_xi=0<br>max_xi=1<br>upper_c=44426<br>lower_c=0.01<br>zeta=50000<br>l=0.5<br>n_epochs=90<br>max_iterations=15<br>train_optimizer=ADAM<br>entropy_optimizer=FISTA<br>delta=28<br>pruning=Y<br>QuantizationType=center",
          "File: output-Test-2025-06-16-Fenchel.log<br>r = 1.1018<br>Accuracy: 98.07<br>Compression: 3.14%<br><b>Params:</b><br>model=LeNet-5<br>criterion=CrossEntropy<br>C=64<br>lr=0.0007<br>lambda_reg=0.0015<br>alpha=0.533<br>[T1=lambda_reg*alpha=0.0008]<br>[T2=lambda_reg*(1-alpha)=0.0007]<br>subgradient_step=100000.0<br>w0=-0.11<br>target_acc=98.4<br>target_zstd_ratio=0.0297<br>min_xi=0<br>max_xi=1<br>upper_c=44426<br>lower_c=0.01<br>zeta=50000<br>l=0.5<br>n_epochs=90<br>max_iterations=15<br>train_optimizer=ADAM<br>entropy_optimizer=FISTA<br>delta=28<br>pruning=Y<br>QuantizationType=center",
          "File: output-Test-2025-06-16-Fenchel.log<br>r = 1.1018<br>Accuracy: 98.04<br>Compression: 3.06%<br><b>Params:</b><br>model=LeNet-5<br>criterion=CrossEntropy<br>C=64<br>lr=0.0007<br>lambda_reg=0.0015<br>alpha=0.533<br>[T1=lambda_reg*alpha=0.0008]<br>[T2=lambda_reg*(1-alpha)=0.0007]<br>subgradient_step=100000.0<br>w0=-0.11<br>target_acc=98.4<br>target_zstd_ratio=0.0297<br>min_xi=0<br>max_xi=1<br>upper_c=44426<br>lower_c=0.01<br>zeta=50000<br>l=0.5<br>n_epochs=90<br>max_iterations=15<br>train_optimizer=ADAM<br>entropy_optimizer=FISTA<br>delta=28<br>pruning=Y<br>QuantizationType=center",
          "File: output-Test-2025-06-16-Fenchel.log<br>r = 1.1018<br>Accuracy: 98.33<br>Compression: 2.95%<br><b>Params:</b><br>model=LeNet-5<br>criterion=CrossEntropy<br>C=64<br>lr=0.0007<br>lambda_reg=0.0015<br>alpha=0.533<br>[T1=lambda_reg*alpha=0.0008]<br>[T2=lambda_reg*(1-alpha)=0.0007]<br>subgradient_step=100000.0<br>w0=-0.11<br>target_acc=98.4<br>target_zstd_ratio=0.0297<br>min_xi=0<br>max_xi=1<br>upper_c=44426<br>lower_c=0.01<br>zeta=50000<br>l=0.5<br>n_epochs=90<br>max_iterations=15<br>train_optimizer=ADAM<br>entropy_optimizer=FISTA<br>delta=28<br>pruning=Y<br>QuantizationType=center",
          "File: output-Test-2025-06-16-Fenchel.log<br>r = 1.1018<br>Accuracy: 98.01<br>Compression: 2.93%<br><b>Params:</b><br>model=LeNet-5<br>criterion=CrossEntropy<br>C=64<br>lr=0.0007<br>lambda_reg=0.0015<br>alpha=0.533<br>[T1=lambda_reg*alpha=0.0008]<br>[T2=lambda_reg*(1-alpha)=0.0007]<br>subgradient_step=100000.0<br>w0=-0.11<br>target_acc=98.4<br>target_zstd_ratio=0.0297<br>min_xi=0<br>max_xi=1<br>upper_c=44426<br>lower_c=0.01<br>zeta=50000<br>l=0.5<br>n_epochs=90<br>max_iterations=15<br>train_optimizer=ADAM<br>entropy_optimizer=FISTA<br>delta=28<br>pruning=Y<br>QuantizationType=center",
          "File: output-Test-2025-06-16-Fenchel.log<br>r = 1.1018<br>Accuracy: 98.27<br>Compression: 2.89%<br><b>Params:</b><br>model=LeNet-5<br>criterion=CrossEntropy<br>C=64<br>lr=0.0007<br>lambda_reg=0.0015<br>alpha=0.533<br>[T1=lambda_reg*alpha=0.0008]<br>[T2=lambda_reg*(1-alpha)=0.0007]<br>subgradient_step=100000.0<br>w0=-0.11<br>target_acc=98.4<br>target_zstd_ratio=0.0297<br>min_xi=0<br>max_xi=1<br>upper_c=44426<br>lower_c=0.01<br>zeta=50000<br>l=0.5<br>n_epochs=90<br>max_iterations=15<br>train_optimizer=ADAM<br>entropy_optimizer=FISTA<br>delta=28<br>pruning=Y<br>QuantizationType=center",
          "File: output-Test-2025-06-16-Fenchel.log<br>r = 1.1018<br>Accuracy: 98.18<br>Compression: 2.88%<br><b>Params:</b><br>model=LeNet-5<br>criterion=CrossEntropy<br>C=64<br>lr=0.0007<br>lambda_reg=0.0015<br>alpha=0.533<br>[T1=lambda_reg*alpha=0.0008]<br>[T2=lambda_reg*(1-alpha)=0.0007]<br>subgradient_step=100000.0<br>w0=-0.11<br>target_acc=98.4<br>target_zstd_ratio=0.0297<br>min_xi=0<br>max_xi=1<br>upper_c=44426<br>lower_c=0.01<br>zeta=50000<br>l=0.5<br>n_epochs=90<br>max_iterations=15<br>train_optimizer=ADAM<br>entropy_optimizer=FISTA<br>delta=28<br>pruning=Y<br>QuantizationType=center",
          "File: output-Test-2025-06-16-Fenchel.log<br>r = 1.1018<br>Accuracy: 98.25<br>Compression: 2.86%<br><b>Params:</b><br>model=LeNet-5<br>criterion=CrossEntropy<br>C=64<br>lr=0.0007<br>lambda_reg=0.0015<br>alpha=0.533<br>[T1=lambda_reg*alpha=0.0008]<br>[T2=lambda_reg*(1-alpha)=0.0007]<br>subgradient_step=100000.0<br>w0=-0.11<br>target_acc=98.4<br>target_zstd_ratio=0.0297<br>min_xi=0<br>max_xi=1<br>upper_c=44426<br>lower_c=0.01<br>zeta=50000<br>l=0.5<br>n_epochs=90<br>max_iterations=15<br>train_optimizer=ADAM<br>entropy_optimizer=FISTA<br>delta=28<br>pruning=Y<br>QuantizationType=center",
          "File: output-Test-2025-06-16-Fenchel.log<br>r = 1.1018<br>Accuracy: 98.54<br>Compression: 3.34%<br><b>Params:</b><br>model=LeNet-5<br>criterion=CrossEntropy<br>C=64<br>lr=0.0007<br>lambda_reg=0.0015<br>alpha=0.533<br>[T1=lambda_reg*alpha=0.0008]<br>[T2=lambda_reg*(1-alpha)=0.0007]<br>subgradient_step=100000.0<br>w0=-0.11<br>target_acc=98.4<br>target_zstd_ratio=0.0297<br>min_xi=0<br>max_xi=1<br>upper_c=44426<br>lower_c=0.01<br>zeta=50000<br>l=0.5<br>n_epochs=90<br>max_iterations=15<br>train_optimizer=ADAM<br>entropy_optimizer=FISTA<br>delta=28<br>pruning=Y<br>QuantizationType=center",
          "File: output-Test-2025-06-16-Fenchel.log<br>r = 1.1018<br>Accuracy: 98.2<br>Compression: 2.78%<br><b>Params:</b><br>model=LeNet-5<br>criterion=CrossEntropy<br>C=64<br>lr=0.0007<br>lambda_reg=0.0015<br>alpha=0.533<br>[T1=lambda_reg*alpha=0.0008]<br>[T2=lambda_reg*(1-alpha)=0.0007]<br>subgradient_step=100000.0<br>w0=-0.11<br>target_acc=98.4<br>target_zstd_ratio=0.0297<br>min_xi=0<br>max_xi=1<br>upper_c=44426<br>lower_c=0.01<br>zeta=50000<br>l=0.5<br>n_epochs=90<br>max_iterations=15<br>train_optimizer=ADAM<br>entropy_optimizer=FISTA<br>delta=28<br>pruning=Y<br>QuantizationType=center",
          "File: output-Test-2025-06-16-Fenchel.log<br>r = 1.1018<br>Accuracy: 98.36<br>Compression: 2.8%<br><b>Params:</b><br>model=LeNet-5<br>criterion=CrossEntropy<br>C=64<br>lr=0.0007<br>lambda_reg=0.0015<br>alpha=0.533<br>[T1=lambda_reg*alpha=0.0008]<br>[T2=lambda_reg*(1-alpha)=0.0007]<br>subgradient_step=100000.0<br>w0=-0.11<br>target_acc=98.4<br>target_zstd_ratio=0.0297<br>min_xi=0<br>max_xi=1<br>upper_c=44426<br>lower_c=0.01<br>zeta=50000<br>l=0.5<br>n_epochs=90<br>max_iterations=15<br>train_optimizer=ADAM<br>entropy_optimizer=FISTA<br>delta=28<br>pruning=Y<br>QuantizationType=center",
          "File: output-Test-2025-06-16-Fenchel.log<br>r = 1.1018<br>Accuracy: 98.17<br>Compression: 2.8%<br><b>Params:</b><br>model=LeNet-5<br>criterion=CrossEntropy<br>C=64<br>lr=0.0007<br>lambda_reg=0.0015<br>alpha=0.533<br>[T1=lambda_reg*alpha=0.0008]<br>[T2=lambda_reg*(1-alpha)=0.0007]<br>subgradient_step=100000.0<br>w0=-0.11<br>target_acc=98.4<br>target_zstd_ratio=0.0297<br>min_xi=0<br>max_xi=1<br>upper_c=44426<br>lower_c=0.01<br>zeta=50000<br>l=0.5<br>n_epochs=90<br>max_iterations=15<br>train_optimizer=ADAM<br>entropy_optimizer=FISTA<br>delta=28<br>pruning=Y<br>QuantizationType=center",
          "File: output-Test-2025-06-16-Fenchel.log<br>r = 1.1018<br>Accuracy: 98.4<br>Compression: 2.77%<br><b>Params:</b><br>model=LeNet-5<br>criterion=CrossEntropy<br>C=64<br>lr=0.0007<br>lambda_reg=0.0015<br>alpha=0.533<br>[T1=lambda_reg*alpha=0.0008]<br>[T2=lambda_reg*(1-alpha)=0.0007]<br>subgradient_step=100000.0<br>w0=-0.11<br>target_acc=98.4<br>target_zstd_ratio=0.0297<br>min_xi=0<br>max_xi=1<br>upper_c=44426<br>lower_c=0.01<br>zeta=50000<br>l=0.5<br>n_epochs=90<br>max_iterations=15<br>train_optimizer=ADAM<br>entropy_optimizer=FISTA<br>delta=28<br>pruning=Y<br>QuantizationType=center",
          "File: output-Test-2025-06-16-Fenchel.log<br>r = 1.1018<br>Accuracy: 98.16<br>Compression: 2.78%<br><b>Params:</b><br>model=LeNet-5<br>criterion=CrossEntropy<br>C=64<br>lr=0.0007<br>lambda_reg=0.0015<br>alpha=0.533<br>[T1=lambda_reg*alpha=0.0008]<br>[T2=lambda_reg*(1-alpha)=0.0007]<br>subgradient_step=100000.0<br>w0=-0.11<br>target_acc=98.4<br>target_zstd_ratio=0.0297<br>min_xi=0<br>max_xi=1<br>upper_c=44426<br>lower_c=0.01<br>zeta=50000<br>l=0.5<br>n_epochs=90<br>max_iterations=15<br>train_optimizer=ADAM<br>entropy_optimizer=FISTA<br>delta=28<br>pruning=Y<br>QuantizationType=center",
          "File: output-Test-2025-06-16-Fenchel.log<br>r = 1.1018<br>Accuracy: 98.34<br>Compression: 2.76%<br><b>Params:</b><br>model=LeNet-5<br>criterion=CrossEntropy<br>C=64<br>lr=0.0007<br>lambda_reg=0.0015<br>alpha=0.533<br>[T1=lambda_reg*alpha=0.0008]<br>[T2=lambda_reg*(1-alpha)=0.0007]<br>subgradient_step=100000.0<br>w0=-0.11<br>target_acc=98.4<br>target_zstd_ratio=0.0297<br>min_xi=0<br>max_xi=1<br>upper_c=44426<br>lower_c=0.01<br>zeta=50000<br>l=0.5<br>n_epochs=90<br>max_iterations=15<br>train_optimizer=ADAM<br>entropy_optimizer=FISTA<br>delta=28<br>pruning=Y<br>QuantizationType=center",
          "File: output-Test-2025-06-16-Fenchel.log<br>r = 1.1018<br>Accuracy: 98.44<br>Compression: 2.74%<br><b>Params:</b><br>model=LeNet-5<br>criterion=CrossEntropy<br>C=64<br>lr=0.0007<br>lambda_reg=0.0015<br>alpha=0.533<br>[T1=lambda_reg*alpha=0.0008]<br>[T2=lambda_reg*(1-alpha)=0.0007]<br>subgradient_step=100000.0<br>w0=-0.11<br>target_acc=98.4<br>target_zstd_ratio=0.0297<br>min_xi=0<br>max_xi=1<br>upper_c=44426<br>lower_c=0.01<br>zeta=50000<br>l=0.5<br>n_epochs=90<br>max_iterations=15<br>train_optimizer=ADAM<br>entropy_optimizer=FISTA<br>delta=28<br>pruning=Y<br>QuantizationType=center",
          "File: output-Test-2025-06-16-Fenchel.log<br>r = 1.1018<br>Accuracy: 98.24<br>Compression: 2.71%<br><b>Params:</b><br>model=LeNet-5<br>criterion=CrossEntropy<br>C=64<br>lr=0.0007<br>lambda_reg=0.0015<br>alpha=0.533<br>[T1=lambda_reg*alpha=0.0008]<br>[T2=lambda_reg*(1-alpha)=0.0007]<br>subgradient_step=100000.0<br>w0=-0.11<br>target_acc=98.4<br>target_zstd_ratio=0.0297<br>min_xi=0<br>max_xi=1<br>upper_c=44426<br>lower_c=0.01<br>zeta=50000<br>l=0.5<br>n_epochs=90<br>max_iterations=15<br>train_optimizer=ADAM<br>entropy_optimizer=FISTA<br>delta=28<br>pruning=Y<br>QuantizationType=center",
          "File: output-Test-2025-06-16-Fenchel.log<br>r = 1.1018<br>Accuracy: 98.06<br>Compression: 2.7%<br><b>Params:</b><br>model=LeNet-5<br>criterion=CrossEntropy<br>C=64<br>lr=0.0007<br>lambda_reg=0.0015<br>alpha=0.533<br>[T1=lambda_reg*alpha=0.0008]<br>[T2=lambda_reg*(1-alpha)=0.0007]<br>subgradient_step=100000.0<br>w0=-0.11<br>target_acc=98.4<br>target_zstd_ratio=0.0297<br>min_xi=0<br>max_xi=1<br>upper_c=44426<br>lower_c=0.01<br>zeta=50000<br>l=0.5<br>n_epochs=90<br>max_iterations=15<br>train_optimizer=ADAM<br>entropy_optimizer=FISTA<br>delta=28<br>pruning=Y<br>QuantizationType=center",
          "File: output-Test-2025-06-16-Fenchel.log<br>r = 1.1018<br>Accuracy: 98.46<br>Compression: 2.7%<br><b>Params:</b><br>model=LeNet-5<br>criterion=CrossEntropy<br>C=64<br>lr=0.0007<br>lambda_reg=0.0015<br>alpha=0.533<br>[T1=lambda_reg*alpha=0.0008]<br>[T2=lambda_reg*(1-alpha)=0.0007]<br>subgradient_step=100000.0<br>w0=-0.11<br>target_acc=98.4<br>target_zstd_ratio=0.0297<br>min_xi=0<br>max_xi=1<br>upper_c=44426<br>lower_c=0.01<br>zeta=50000<br>l=0.5<br>n_epochs=90<br>max_iterations=15<br>train_optimizer=ADAM<br>entropy_optimizer=FISTA<br>delta=28<br>pruning=Y<br>QuantizationType=center",
          "File: output-Test-2025-06-16-Fenchel.log<br>r = 1.1018<br>Accuracy: 98.49<br>Compression: 2.67%<br><b>Params:</b><br>model=LeNet-5<br>criterion=CrossEntropy<br>C=64<br>lr=0.0007<br>lambda_reg=0.0015<br>alpha=0.533<br>[T1=lambda_reg*alpha=0.0008]<br>[T2=lambda_reg*(1-alpha)=0.0007]<br>subgradient_step=100000.0<br>w0=-0.11<br>target_acc=98.4<br>target_zstd_ratio=0.0297<br>min_xi=0<br>max_xi=1<br>upper_c=44426<br>lower_c=0.01<br>zeta=50000<br>l=0.5<br>n_epochs=90<br>max_iterations=15<br>train_optimizer=ADAM<br>entropy_optimizer=FISTA<br>delta=28<br>pruning=Y<br>QuantizationType=center",
          "File: output-Test-2025-06-16-Fenchel.log<br>r = 1.1018<br>Accuracy: 98.14<br>Compression: 2.66%<br><b>Params:</b><br>model=LeNet-5<br>criterion=CrossEntropy<br>C=64<br>lr=0.0007<br>lambda_reg=0.0015<br>alpha=0.533<br>[T1=lambda_reg*alpha=0.0008]<br>[T2=lambda_reg*(1-alpha)=0.0007]<br>subgradient_step=100000.0<br>w0=-0.11<br>target_acc=98.4<br>target_zstd_ratio=0.0297<br>min_xi=0<br>max_xi=1<br>upper_c=44426<br>lower_c=0.01<br>zeta=50000<br>l=0.5<br>n_epochs=90<br>max_iterations=15<br>train_optimizer=ADAM<br>entropy_optimizer=FISTA<br>delta=28<br>pruning=Y<br>QuantizationType=center",
          "File: output-Test-2025-06-16-Fenchel.log<br>r = 1.1018<br>Accuracy: 98.14<br>Compression: 2.66%<br><b>Params:</b><br>model=LeNet-5<br>criterion=CrossEntropy<br>C=64<br>lr=0.0007<br>lambda_reg=0.0015<br>alpha=0.533<br>[T1=lambda_reg*alpha=0.0008]<br>[T2=lambda_reg*(1-alpha)=0.0007]<br>subgradient_step=100000.0<br>w0=-0.11<br>target_acc=98.4<br>target_zstd_ratio=0.0297<br>min_xi=0<br>max_xi=1<br>upper_c=44426<br>lower_c=0.01<br>zeta=50000<br>l=0.5<br>n_epochs=90<br>max_iterations=15<br>train_optimizer=ADAM<br>entropy_optimizer=FISTA<br>delta=28<br>pruning=Y<br>QuantizationType=center",
          "File: output-Test-2025-06-16-Fenchel.log<br>r = 1.1018<br>Accuracy: 98.05<br>Compression: 2.66%<br><b>Params:</b><br>model=LeNet-5<br>criterion=CrossEntropy<br>C=64<br>lr=0.0007<br>lambda_reg=0.0015<br>alpha=0.533<br>[T1=lambda_reg*alpha=0.0008]<br>[T2=lambda_reg*(1-alpha)=0.0007]<br>subgradient_step=100000.0<br>w0=-0.11<br>target_acc=98.4<br>target_zstd_ratio=0.0297<br>min_xi=0<br>max_xi=1<br>upper_c=44426<br>lower_c=0.01<br>zeta=50000<br>l=0.5<br>n_epochs=90<br>max_iterations=15<br>train_optimizer=ADAM<br>entropy_optimizer=FISTA<br>delta=28<br>pruning=Y<br>QuantizationType=center",
          "File: output-Test-2025-06-16-Fenchel.log<br>r = 1.1017<br>Accuracy: 98.6<br>Compression: 3.25%<br><b>Params:</b><br>model=LeNet-5<br>criterion=CrossEntropy<br>C=64<br>lr=0.0007<br>lambda_reg=0.0015<br>alpha=0.533<br>[T1=lambda_reg*alpha=0.0008]<br>[T2=lambda_reg*(1-alpha)=0.0007]<br>subgradient_step=100000.0<br>w0=-0.11<br>target_acc=98.4<br>target_zstd_ratio=0.0297<br>min_xi=0<br>max_xi=1<br>upper_c=44426<br>lower_c=0.01<br>zeta=50000<br>l=0.5<br>n_epochs=90<br>max_iterations=15<br>train_optimizer=ADAM<br>entropy_optimizer=FISTA<br>delta=28<br>pruning=Y<br>QuantizationType=center",
          "File: output-Test-2025-06-16-Fenchel.log<br>r = 1.1017<br>Accuracy: 98.25<br>Compression: 3.48%<br><b>Params:</b><br>model=LeNet-5<br>criterion=CrossEntropy<br>C=64<br>lr=0.0007<br>lambda_reg=0.0015<br>alpha=0.533<br>[T1=lambda_reg*alpha=0.0008]<br>[T2=lambda_reg*(1-alpha)=0.0007]<br>subgradient_step=100000.0<br>w0=-0.11<br>target_acc=98.4<br>target_zstd_ratio=0.0297<br>min_xi=0<br>max_xi=1<br>upper_c=44426<br>lower_c=0.01<br>zeta=50000<br>l=0.5<br>n_epochs=90<br>max_iterations=15<br>train_optimizer=ADAM<br>entropy_optimizer=FISTA<br>delta=28<br>pruning=Y<br>QuantizationType=center",
          "File: output-Test-2025-06-16-Fenchel.log<br>r = 1.1013<br>Accuracy: 98.24<br>Compression: 3.25%<br><b>Params:</b><br>model=LeNet-5<br>criterion=CrossEntropy<br>C=64<br>lr=0.0007<br>lambda_reg=0.0015<br>alpha=0.533<br>[T1=lambda_reg*alpha=0.0008]<br>[T2=lambda_reg*(1-alpha)=0.0007]<br>subgradient_step=100000.0<br>w0=-0.11<br>target_acc=98.4<br>target_zstd_ratio=0.0297<br>min_xi=0<br>max_xi=1<br>upper_c=44426<br>lower_c=0.01<br>zeta=50000<br>l=0.5<br>n_epochs=90<br>max_iterations=15<br>train_optimizer=ADAM<br>entropy_optimizer=FISTA<br>delta=28<br>pruning=Y<br>QuantizationType=center",
          "File: output-Test-2025-06-16-Fenchel.log<br>r = 1.1013<br>Accuracy: 98.27<br>Compression: 3.13%<br><b>Params:</b><br>model=LeNet-5<br>criterion=CrossEntropy<br>C=64<br>lr=0.0007<br>lambda_reg=0.0015<br>alpha=0.533<br>[T1=lambda_reg*alpha=0.0008]<br>[T2=lambda_reg*(1-alpha)=0.0007]<br>subgradient_step=100000.0<br>w0=-0.11<br>target_acc=98.4<br>target_zstd_ratio=0.0297<br>min_xi=0<br>max_xi=1<br>upper_c=44426<br>lower_c=0.01<br>zeta=50000<br>l=0.5<br>n_epochs=90<br>max_iterations=15<br>train_optimizer=ADAM<br>entropy_optimizer=FISTA<br>delta=28<br>pruning=Y<br>QuantizationType=center",
          "File: output-Test-2025-06-16-Fenchel.log<br>r = 1.1013<br>Accuracy: 98.01<br>Compression: 2.98%<br><b>Params:</b><br>model=LeNet-5<br>criterion=CrossEntropy<br>C=64<br>lr=0.0007<br>lambda_reg=0.0015<br>alpha=0.533<br>[T1=lambda_reg*alpha=0.0008]<br>[T2=lambda_reg*(1-alpha)=0.0007]<br>subgradient_step=100000.0<br>w0=-0.11<br>target_acc=98.4<br>target_zstd_ratio=0.0297<br>min_xi=0<br>max_xi=1<br>upper_c=44426<br>lower_c=0.01<br>zeta=50000<br>l=0.5<br>n_epochs=90<br>max_iterations=15<br>train_optimizer=ADAM<br>entropy_optimizer=FISTA<br>delta=28<br>pruning=Y<br>QuantizationType=center",
          "File: output-Test-2025-06-16-Fenchel.log<br>r = 1.1013<br>Accuracy: 98.61<br>Compression: 3.38%<br><b>Params:</b><br>model=LeNet-5<br>criterion=CrossEntropy<br>C=64<br>lr=0.0007<br>lambda_reg=0.0015<br>alpha=0.533<br>[T1=lambda_reg*alpha=0.0008]<br>[T2=lambda_reg*(1-alpha)=0.0007]<br>subgradient_step=100000.0<br>w0=-0.11<br>target_acc=98.4<br>target_zstd_ratio=0.0297<br>min_xi=0<br>max_xi=1<br>upper_c=44426<br>lower_c=0.01<br>zeta=50000<br>l=0.5<br>n_epochs=90<br>max_iterations=15<br>train_optimizer=ADAM<br>entropy_optimizer=FISTA<br>delta=28<br>pruning=Y<br>QuantizationType=center",
          "File: output-Test-2025-06-16-Fenchel.log<br>r = 1.1013<br>Accuracy: 98.2<br>Compression: 2.96%<br><b>Params:</b><br>model=LeNet-5<br>criterion=CrossEntropy<br>C=64<br>lr=0.0007<br>lambda_reg=0.0015<br>alpha=0.533<br>[T1=lambda_reg*alpha=0.0008]<br>[T2=lambda_reg*(1-alpha)=0.0007]<br>subgradient_step=100000.0<br>w0=-0.11<br>target_acc=98.4<br>target_zstd_ratio=0.0297<br>min_xi=0<br>max_xi=1<br>upper_c=44426<br>lower_c=0.01<br>zeta=50000<br>l=0.5<br>n_epochs=90<br>max_iterations=15<br>train_optimizer=ADAM<br>entropy_optimizer=FISTA<br>delta=28<br>pruning=Y<br>QuantizationType=center",
          "File: output-Test-2025-06-16-Fenchel.log<br>r = 1.1031<br>Accuracy: 98.2<br>Compression: 3.13%<br><b>Params:</b><br>model=LeNet-5<br>criterion=CrossEntropy<br>C=64<br>lr=0.0007<br>lambda_reg=0.0015<br>alpha=0.533<br>[T1=lambda_reg*alpha=0.0008]<br>[T2=lambda_reg*(1-alpha)=0.0007]<br>subgradient_step=100000.0<br>w0=-0.11<br>target_acc=98.4<br>target_zstd_ratio=0.0297<br>min_xi=0<br>max_xi=1<br>upper_c=44426<br>lower_c=0.01<br>zeta=50000<br>l=0.5<br>n_epochs=90<br>max_iterations=15<br>train_optimizer=ADAM<br>entropy_optimizer=FISTA<br>delta=28<br>pruning=Y<br>QuantizationType=center",
          "File: output-Test-2025-06-16-Fenchel.log<br>r = 1.1031<br>Accuracy: 98.02<br>Compression: 2.99%<br><b>Params:</b><br>model=LeNet-5<br>criterion=CrossEntropy<br>C=64<br>lr=0.0007<br>lambda_reg=0.0015<br>alpha=0.533<br>[T1=lambda_reg*alpha=0.0008]<br>[T2=lambda_reg*(1-alpha)=0.0007]<br>subgradient_step=100000.0<br>w0=-0.11<br>target_acc=98.4<br>target_zstd_ratio=0.0297<br>min_xi=0<br>max_xi=1<br>upper_c=44426<br>lower_c=0.01<br>zeta=50000<br>l=0.5<br>n_epochs=90<br>max_iterations=15<br>train_optimizer=ADAM<br>entropy_optimizer=FISTA<br>delta=28<br>pruning=Y<br>QuantizationType=center",
          "File: output-Test-2025-06-16-Fenchel.log<br>r = 1.1031<br>Accuracy: 98.18<br>Compression: 2.87%<br><b>Params:</b><br>model=LeNet-5<br>criterion=CrossEntropy<br>C=64<br>lr=0.0007<br>lambda_reg=0.0015<br>alpha=0.533<br>[T1=lambda_reg*alpha=0.0008]<br>[T2=lambda_reg*(1-alpha)=0.0007]<br>subgradient_step=100000.0<br>w0=-0.11<br>target_acc=98.4<br>target_zstd_ratio=0.0297<br>min_xi=0<br>max_xi=1<br>upper_c=44426<br>lower_c=0.01<br>zeta=50000<br>l=0.5<br>n_epochs=90<br>max_iterations=15<br>train_optimizer=ADAM<br>entropy_optimizer=FISTA<br>delta=28<br>pruning=Y<br>QuantizationType=center",
          "File: output-Test-2025-06-16-Fenchel.log<br>r = 1.1031<br>Accuracy: 98.12<br>Compression: 2.87%<br><b>Params:</b><br>model=LeNet-5<br>criterion=CrossEntropy<br>C=64<br>lr=0.0007<br>lambda_reg=0.0015<br>alpha=0.533<br>[T1=lambda_reg*alpha=0.0008]<br>[T2=lambda_reg*(1-alpha)=0.0007]<br>subgradient_step=100000.0<br>w0=-0.11<br>target_acc=98.4<br>target_zstd_ratio=0.0297<br>min_xi=0<br>max_xi=1<br>upper_c=44426<br>lower_c=0.01<br>zeta=50000<br>l=0.5<br>n_epochs=90<br>max_iterations=15<br>train_optimizer=ADAM<br>entropy_optimizer=FISTA<br>delta=28<br>pruning=Y<br>QuantizationType=center",
          "File: output-Test-2025-06-16-Fenchel.log<br>r = 1.1031<br>Accuracy: 98.12<br>Compression: 2.81%<br><b>Params:</b><br>model=LeNet-5<br>criterion=CrossEntropy<br>C=64<br>lr=0.0007<br>lambda_reg=0.0015<br>alpha=0.533<br>[T1=lambda_reg*alpha=0.0008]<br>[T2=lambda_reg*(1-alpha)=0.0007]<br>subgradient_step=100000.0<br>w0=-0.11<br>target_acc=98.4<br>target_zstd_ratio=0.0297<br>min_xi=0<br>max_xi=1<br>upper_c=44426<br>lower_c=0.01<br>zeta=50000<br>l=0.5<br>n_epochs=90<br>max_iterations=15<br>train_optimizer=ADAM<br>entropy_optimizer=FISTA<br>delta=28<br>pruning=Y<br>QuantizationType=center",
          "File: output-Test-2025-06-16-Fenchel.log<br>r = 1.1031<br>Accuracy: 98.02<br>Compression: 2.78%<br><b>Params:</b><br>model=LeNet-5<br>criterion=CrossEntropy<br>C=64<br>lr=0.0007<br>lambda_reg=0.0015<br>alpha=0.533<br>[T1=lambda_reg*alpha=0.0008]<br>[T2=lambda_reg*(1-alpha)=0.0007]<br>subgradient_step=100000.0<br>w0=-0.11<br>target_acc=98.4<br>target_zstd_ratio=0.0297<br>min_xi=0<br>max_xi=1<br>upper_c=44426<br>lower_c=0.01<br>zeta=50000<br>l=0.5<br>n_epochs=90<br>max_iterations=15<br>train_optimizer=ADAM<br>entropy_optimizer=FISTA<br>delta=28<br>pruning=Y<br>QuantizationType=center",
          "File: output-Test-2025-06-16-Fenchel.log<br>r = 1.1031<br>Accuracy: 98.14<br>Compression: 2.68%<br><b>Params:</b><br>model=LeNet-5<br>criterion=CrossEntropy<br>C=64<br>lr=0.0007<br>lambda_reg=0.0015<br>alpha=0.533<br>[T1=lambda_reg*alpha=0.0008]<br>[T2=lambda_reg*(1-alpha)=0.0007]<br>subgradient_step=100000.0<br>w0=-0.11<br>target_acc=98.4<br>target_zstd_ratio=0.0297<br>min_xi=0<br>max_xi=1<br>upper_c=44426<br>lower_c=0.01<br>zeta=50000<br>l=0.5<br>n_epochs=90<br>max_iterations=15<br>train_optimizer=ADAM<br>entropy_optimizer=FISTA<br>delta=28<br>pruning=Y<br>QuantizationType=center",
          "File: output-Test-2025-06-16-Fenchel.log<br>r = 1.1031<br>Accuracy: 98.18<br>Compression: 2.66%<br><b>Params:</b><br>model=LeNet-5<br>criterion=CrossEntropy<br>C=64<br>lr=0.0007<br>lambda_reg=0.0015<br>alpha=0.533<br>[T1=lambda_reg*alpha=0.0008]<br>[T2=lambda_reg*(1-alpha)=0.0007]<br>subgradient_step=100000.0<br>w0=-0.11<br>target_acc=98.4<br>target_zstd_ratio=0.0297<br>min_xi=0<br>max_xi=1<br>upper_c=44426<br>lower_c=0.01<br>zeta=50000<br>l=0.5<br>n_epochs=90<br>max_iterations=15<br>train_optimizer=ADAM<br>entropy_optimizer=FISTA<br>delta=28<br>pruning=Y<br>QuantizationType=center",
          "File: output-Test-2025-06-16-Fenchel.log<br>r = 1.1031<br>Accuracy: 98.06<br>Compression: 2.6%<br><b>Params:</b><br>model=LeNet-5<br>criterion=CrossEntropy<br>C=64<br>lr=0.0007<br>lambda_reg=0.0015<br>alpha=0.533<br>[T1=lambda_reg*alpha=0.0008]<br>[T2=lambda_reg*(1-alpha)=0.0007]<br>subgradient_step=100000.0<br>w0=-0.11<br>target_acc=98.4<br>target_zstd_ratio=0.0297<br>min_xi=0<br>max_xi=1<br>upper_c=44426<br>lower_c=0.01<br>zeta=50000<br>l=0.5<br>n_epochs=90<br>max_iterations=15<br>train_optimizer=ADAM<br>entropy_optimizer=FISTA<br>delta=28<br>pruning=Y<br>QuantizationType=center"
         ],
         "type": "scatter",
         "x": [
          98.04,
          98.04,
          98.15,
          98.37,
          98.3,
          98.1,
          98.06,
          98.06,
          98.03,
          98.16,
          98.03,
          98.03,
          98.19,
          98.2,
          98.29,
          98.24,
          98.59,
          98.07,
          98.04,
          98.33,
          98.01,
          98.27,
          98.18,
          98.25,
          98.54,
          98.2,
          98.36,
          98.17,
          98.4,
          98.16,
          98.34,
          98.44,
          98.24,
          98.06,
          98.46,
          98.49,
          98.14,
          98.14,
          98.05,
          98.6,
          98.25,
          98.24,
          98.27,
          98.01,
          98.61,
          98.2,
          98.2,
          98.02,
          98.18,
          98.12,
          98.12,
          98.02,
          98.14,
          98.18,
          98.06
         ],
         "y": [
          3.16,
          3.08,
          3.02,
          2.82,
          2.85,
          2.79,
          2.74,
          2.62,
          2.62,
          2.6,
          2.6,
          2.58,
          2.58,
          2.56,
          2.8,
          2.58,
          3.48,
          3.14,
          3.06,
          2.95,
          2.93,
          2.89,
          2.88,
          2.86,
          3.34,
          2.78,
          2.8,
          2.8,
          2.77,
          2.78,
          2.76,
          2.74,
          2.71,
          2.7,
          2.7,
          2.67,
          2.66,
          2.66,
          2.66,
          3.25,
          3.48,
          3.25,
          3.13,
          2.98,
          3.38,
          2.96,
          3.13,
          2.99,
          2.87,
          2.87,
          2.81,
          2.78,
          2.68,
          2.66,
          2.6
         ]
        }
       ],
       "layout": {
        "template": {
         "data": {
          "bar": [
           {
            "error_x": {
             "color": "#2a3f5f"
            },
            "error_y": {
             "color": "#2a3f5f"
            },
            "marker": {
             "line": {
              "color": "white",
              "width": 0.5
             },
             "pattern": {
              "fillmode": "overlay",
              "size": 10,
              "solidity": 0.2
             }
            },
            "type": "bar"
           }
          ],
          "barpolar": [
           {
            "marker": {
             "line": {
              "color": "white",
              "width": 0.5
             },
             "pattern": {
              "fillmode": "overlay",
              "size": 10,
              "solidity": 0.2
             }
            },
            "type": "barpolar"
           }
          ],
          "carpet": [
           {
            "aaxis": {
             "endlinecolor": "#2a3f5f",
             "gridcolor": "#C8D4E3",
             "linecolor": "#C8D4E3",
             "minorgridcolor": "#C8D4E3",
             "startlinecolor": "#2a3f5f"
            },
            "baxis": {
             "endlinecolor": "#2a3f5f",
             "gridcolor": "#C8D4E3",
             "linecolor": "#C8D4E3",
             "minorgridcolor": "#C8D4E3",
             "startlinecolor": "#2a3f5f"
            },
            "type": "carpet"
           }
          ],
          "choropleth": [
           {
            "colorbar": {
             "outlinewidth": 0,
             "ticks": ""
            },
            "type": "choropleth"
           }
          ],
          "contour": [
           {
            "colorbar": {
             "outlinewidth": 0,
             "ticks": ""
            },
            "colorscale": [
             [
              0,
              "#0d0887"
             ],
             [
              0.1111111111111111,
              "#46039f"
             ],
             [
              0.2222222222222222,
              "#7201a8"
             ],
             [
              0.3333333333333333,
              "#9c179e"
             ],
             [
              0.4444444444444444,
              "#bd3786"
             ],
             [
              0.5555555555555556,
              "#d8576b"
             ],
             [
              0.6666666666666666,
              "#ed7953"
             ],
             [
              0.7777777777777778,
              "#fb9f3a"
             ],
             [
              0.8888888888888888,
              "#fdca26"
             ],
             [
              1,
              "#f0f921"
             ]
            ],
            "type": "contour"
           }
          ],
          "contourcarpet": [
           {
            "colorbar": {
             "outlinewidth": 0,
             "ticks": ""
            },
            "type": "contourcarpet"
           }
          ],
          "heatmap": [
           {
            "colorbar": {
             "outlinewidth": 0,
             "ticks": ""
            },
            "colorscale": [
             [
              0,
              "#0d0887"
             ],
             [
              0.1111111111111111,
              "#46039f"
             ],
             [
              0.2222222222222222,
              "#7201a8"
             ],
             [
              0.3333333333333333,
              "#9c179e"
             ],
             [
              0.4444444444444444,
              "#bd3786"
             ],
             [
              0.5555555555555556,
              "#d8576b"
             ],
             [
              0.6666666666666666,
              "#ed7953"
             ],
             [
              0.7777777777777778,
              "#fb9f3a"
             ],
             [
              0.8888888888888888,
              "#fdca26"
             ],
             [
              1,
              "#f0f921"
             ]
            ],
            "type": "heatmap"
           }
          ],
          "heatmapgl": [
           {
            "colorbar": {
             "outlinewidth": 0,
             "ticks": ""
            },
            "colorscale": [
             [
              0,
              "#0d0887"
             ],
             [
              0.1111111111111111,
              "#46039f"
             ],
             [
              0.2222222222222222,
              "#7201a8"
             ],
             [
              0.3333333333333333,
              "#9c179e"
             ],
             [
              0.4444444444444444,
              "#bd3786"
             ],
             [
              0.5555555555555556,
              "#d8576b"
             ],
             [
              0.6666666666666666,
              "#ed7953"
             ],
             [
              0.7777777777777778,
              "#fb9f3a"
             ],
             [
              0.8888888888888888,
              "#fdca26"
             ],
             [
              1,
              "#f0f921"
             ]
            ],
            "type": "heatmapgl"
           }
          ],
          "histogram": [
           {
            "marker": {
             "pattern": {
              "fillmode": "overlay",
              "size": 10,
              "solidity": 0.2
             }
            },
            "type": "histogram"
           }
          ],
          "histogram2d": [
           {
            "colorbar": {
             "outlinewidth": 0,
             "ticks": ""
            },
            "colorscale": [
             [
              0,
              "#0d0887"
             ],
             [
              0.1111111111111111,
              "#46039f"
             ],
             [
              0.2222222222222222,
              "#7201a8"
             ],
             [
              0.3333333333333333,
              "#9c179e"
             ],
             [
              0.4444444444444444,
              "#bd3786"
             ],
             [
              0.5555555555555556,
              "#d8576b"
             ],
             [
              0.6666666666666666,
              "#ed7953"
             ],
             [
              0.7777777777777778,
              "#fb9f3a"
             ],
             [
              0.8888888888888888,
              "#fdca26"
             ],
             [
              1,
              "#f0f921"
             ]
            ],
            "type": "histogram2d"
           }
          ],
          "histogram2dcontour": [
           {
            "colorbar": {
             "outlinewidth": 0,
             "ticks": ""
            },
            "colorscale": [
             [
              0,
              "#0d0887"
             ],
             [
              0.1111111111111111,
              "#46039f"
             ],
             [
              0.2222222222222222,
              "#7201a8"
             ],
             [
              0.3333333333333333,
              "#9c179e"
             ],
             [
              0.4444444444444444,
              "#bd3786"
             ],
             [
              0.5555555555555556,
              "#d8576b"
             ],
             [
              0.6666666666666666,
              "#ed7953"
             ],
             [
              0.7777777777777778,
              "#fb9f3a"
             ],
             [
              0.8888888888888888,
              "#fdca26"
             ],
             [
              1,
              "#f0f921"
             ]
            ],
            "type": "histogram2dcontour"
           }
          ],
          "mesh3d": [
           {
            "colorbar": {
             "outlinewidth": 0,
             "ticks": ""
            },
            "type": "mesh3d"
           }
          ],
          "parcoords": [
           {
            "line": {
             "colorbar": {
              "outlinewidth": 0,
              "ticks": ""
             }
            },
            "type": "parcoords"
           }
          ],
          "pie": [
           {
            "automargin": true,
            "type": "pie"
           }
          ],
          "scatter": [
           {
            "fillpattern": {
             "fillmode": "overlay",
             "size": 10,
             "solidity": 0.2
            },
            "type": "scatter"
           }
          ],
          "scatter3d": [
           {
            "line": {
             "colorbar": {
              "outlinewidth": 0,
              "ticks": ""
             }
            },
            "marker": {
             "colorbar": {
              "outlinewidth": 0,
              "ticks": ""
             }
            },
            "type": "scatter3d"
           }
          ],
          "scattercarpet": [
           {
            "marker": {
             "colorbar": {
              "outlinewidth": 0,
              "ticks": ""
             }
            },
            "type": "scattercarpet"
           }
          ],
          "scattergeo": [
           {
            "marker": {
             "colorbar": {
              "outlinewidth": 0,
              "ticks": ""
             }
            },
            "type": "scattergeo"
           }
          ],
          "scattergl": [
           {
            "marker": {
             "colorbar": {
              "outlinewidth": 0,
              "ticks": ""
             }
            },
            "type": "scattergl"
           }
          ],
          "scattermapbox": [
           {
            "marker": {
             "colorbar": {
              "outlinewidth": 0,
              "ticks": ""
             }
            },
            "type": "scattermapbox"
           }
          ],
          "scatterpolar": [
           {
            "marker": {
             "colorbar": {
              "outlinewidth": 0,
              "ticks": ""
             }
            },
            "type": "scatterpolar"
           }
          ],
          "scatterpolargl": [
           {
            "marker": {
             "colorbar": {
              "outlinewidth": 0,
              "ticks": ""
             }
            },
            "type": "scatterpolargl"
           }
          ],
          "scatterternary": [
           {
            "marker": {
             "colorbar": {
              "outlinewidth": 0,
              "ticks": ""
             }
            },
            "type": "scatterternary"
           }
          ],
          "surface": [
           {
            "colorbar": {
             "outlinewidth": 0,
             "ticks": ""
            },
            "colorscale": [
             [
              0,
              "#0d0887"
             ],
             [
              0.1111111111111111,
              "#46039f"
             ],
             [
              0.2222222222222222,
              "#7201a8"
             ],
             [
              0.3333333333333333,
              "#9c179e"
             ],
             [
              0.4444444444444444,
              "#bd3786"
             ],
             [
              0.5555555555555556,
              "#d8576b"
             ],
             [
              0.6666666666666666,
              "#ed7953"
             ],
             [
              0.7777777777777778,
              "#fb9f3a"
             ],
             [
              0.8888888888888888,
              "#fdca26"
             ],
             [
              1,
              "#f0f921"
             ]
            ],
            "type": "surface"
           }
          ],
          "table": [
           {
            "cells": {
             "fill": {
              "color": "#EBF0F8"
             },
             "line": {
              "color": "white"
             }
            },
            "header": {
             "fill": {
              "color": "#C8D4E3"
             },
             "line": {
              "color": "white"
             }
            },
            "type": "table"
           }
          ]
         },
         "layout": {
          "annotationdefaults": {
           "arrowcolor": "#2a3f5f",
           "arrowhead": 0,
           "arrowwidth": 1
          },
          "autotypenumbers": "strict",
          "coloraxis": {
           "colorbar": {
            "outlinewidth": 0,
            "ticks": ""
           }
          },
          "colorscale": {
           "diverging": [
            [
             0,
             "#8e0152"
            ],
            [
             0.1,
             "#c51b7d"
            ],
            [
             0.2,
             "#de77ae"
            ],
            [
             0.3,
             "#f1b6da"
            ],
            [
             0.4,
             "#fde0ef"
            ],
            [
             0.5,
             "#f7f7f7"
            ],
            [
             0.6,
             "#e6f5d0"
            ],
            [
             0.7,
             "#b8e186"
            ],
            [
             0.8,
             "#7fbc41"
            ],
            [
             0.9,
             "#4d9221"
            ],
            [
             1,
             "#276419"
            ]
           ],
           "sequential": [
            [
             0,
             "#0d0887"
            ],
            [
             0.1111111111111111,
             "#46039f"
            ],
            [
             0.2222222222222222,
             "#7201a8"
            ],
            [
             0.3333333333333333,
             "#9c179e"
            ],
            [
             0.4444444444444444,
             "#bd3786"
            ],
            [
             0.5555555555555556,
             "#d8576b"
            ],
            [
             0.6666666666666666,
             "#ed7953"
            ],
            [
             0.7777777777777778,
             "#fb9f3a"
            ],
            [
             0.8888888888888888,
             "#fdca26"
            ],
            [
             1,
             "#f0f921"
            ]
           ],
           "sequentialminus": [
            [
             0,
             "#0d0887"
            ],
            [
             0.1111111111111111,
             "#46039f"
            ],
            [
             0.2222222222222222,
             "#7201a8"
            ],
            [
             0.3333333333333333,
             "#9c179e"
            ],
            [
             0.4444444444444444,
             "#bd3786"
            ],
            [
             0.5555555555555556,
             "#d8576b"
            ],
            [
             0.6666666666666666,
             "#ed7953"
            ],
            [
             0.7777777777777778,
             "#fb9f3a"
            ],
            [
             0.8888888888888888,
             "#fdca26"
            ],
            [
             1,
             "#f0f921"
            ]
           ]
          },
          "colorway": [
           "#636efa",
           "#EF553B",
           "#00cc96",
           "#ab63fa",
           "#FFA15A",
           "#19d3f3",
           "#FF6692",
           "#B6E880",
           "#FF97FF",
           "#FECB52"
          ],
          "font": {
           "color": "#2a3f5f"
          },
          "geo": {
           "bgcolor": "white",
           "lakecolor": "white",
           "landcolor": "white",
           "showlakes": true,
           "showland": true,
           "subunitcolor": "#C8D4E3"
          },
          "hoverlabel": {
           "align": "left"
          },
          "hovermode": "closest",
          "mapbox": {
           "style": "light"
          },
          "paper_bgcolor": "white",
          "plot_bgcolor": "white",
          "polar": {
           "angularaxis": {
            "gridcolor": "#EBF0F8",
            "linecolor": "#EBF0F8",
            "ticks": ""
           },
           "bgcolor": "white",
           "radialaxis": {
            "gridcolor": "#EBF0F8",
            "linecolor": "#EBF0F8",
            "ticks": ""
           }
          },
          "scene": {
           "xaxis": {
            "backgroundcolor": "white",
            "gridcolor": "#DFE8F3",
            "gridwidth": 2,
            "linecolor": "#EBF0F8",
            "showbackground": true,
            "ticks": "",
            "zerolinecolor": "#EBF0F8"
           },
           "yaxis": {
            "backgroundcolor": "white",
            "gridcolor": "#DFE8F3",
            "gridwidth": 2,
            "linecolor": "#EBF0F8",
            "showbackground": true,
            "ticks": "",
            "zerolinecolor": "#EBF0F8"
           },
           "zaxis": {
            "backgroundcolor": "white",
            "gridcolor": "#DFE8F3",
            "gridwidth": 2,
            "linecolor": "#EBF0F8",
            "showbackground": true,
            "ticks": "",
            "zerolinecolor": "#EBF0F8"
           }
          },
          "shapedefaults": {
           "line": {
            "color": "#2a3f5f"
           }
          },
          "ternary": {
           "aaxis": {
            "gridcolor": "#DFE8F3",
            "linecolor": "#A2B1C6",
            "ticks": ""
           },
           "baxis": {
            "gridcolor": "#DFE8F3",
            "linecolor": "#A2B1C6",
            "ticks": ""
           },
           "bgcolor": "white",
           "caxis": {
            "gridcolor": "#DFE8F3",
            "linecolor": "#A2B1C6",
            "ticks": ""
           }
          },
          "title": {
           "x": 0.05
          },
          "xaxis": {
           "automargin": true,
           "gridcolor": "#EBF0F8",
           "linecolor": "#EBF0F8",
           "ticks": "",
           "title": {
            "standoff": 15
           },
           "zerolinecolor": "#EBF0F8",
           "zerolinewidth": 2
          },
          "yaxis": {
           "automargin": true,
           "gridcolor": "#EBF0F8",
           "linecolor": "#EBF0F8",
           "ticks": "",
           "title": {
            "standoff": 15
           },
           "zerolinecolor": "#EBF0F8",
           "zerolinewidth": 2
          }
         }
        },
        "title": {
         "text": "Pareto Frontier [ACCURACY_THRESHOLD=98, COMPRESSION_THRESHOLD=3.5]"
        },
        "xaxis": {
         "title": {
          "text": "Accuracy (%)"
         }
        },
        "yaxis": {
         "title": {
          "text": "Compression Ratio (%)"
         }
        }
       }
      },
      "text/html": [
       "<div>                            <div id=\"557d1503-5704-4558-abf5-22ac9d299b96\" class=\"plotly-graph-div\" style=\"height:525px; width:100%;\"></div>            <script type=\"text/javascript\">                require([\"plotly\"], function(Plotly) {                    window.PLOTLYENV=window.PLOTLYENV || {};                                    if (document.getElementById(\"557d1503-5704-4558-abf5-22ac9d299b96\")) {                    Plotly.newPlot(                        \"557d1503-5704-4558-abf5-22ac9d299b96\",                        [{\"hoverinfo\":\"text\",\"marker\":{\"color\":\"blue\",\"size\":8},\"mode\":\"markers\",\"name\":\"Unefficient points\",\"text\":[\"File: output-Test-2025-06-09-A.log<br>r = 1.1031<br>Accuracy: 98.3<br>Compression: 2.87%<br><b>Params:</b><br>model=LeNet-5<br>criterion=CrossEntropy<br>C=6<br>lr=0.0007<br>lambda_reg=0.0015<br>alpha=0.533<br>[T1=lambda_reg*alpha=0.0008]<br>[T2=lambda_reg*(1-alpha)=0.0007]<br>subgradient_step=100000.0<br>w0=-0.11<br>target_acc=98.0<br>target_zstd_ratio=0.0297<br>min_xi=0<br>max_xi=1<br>upper_c=44426<br>lower_c=0.01<br>zeta=50000<br>l=0.5<br>n_epochs=100<br>max_iterations=15<br>train_optimizer=ADAM<br>entropy_optimizer=FISTA<br>delta=1000<br>pruning=Y<br>QuantizationType=center\",\"File: output-Test-2025-06-09-A.log<br>r = 1.1031<br>Accuracy: 98.26<br>Compression: 2.69%<br><b>Params:</b><br>model=LeNet-5<br>criterion=CrossEntropy<br>C=6<br>lr=0.0007<br>lambda_reg=0.0015<br>alpha=0.533<br>[T1=lambda_reg*alpha=0.0008]<br>[T2=lambda_reg*(1-alpha)=0.0007]<br>subgradient_step=100000.0<br>w0=-0.11<br>target_acc=98.0<br>target_zstd_ratio=0.0297<br>min_xi=0<br>max_xi=1<br>upper_c=44426<br>lower_c=0.01<br>zeta=50000<br>l=0.5<br>n_epochs=100<br>max_iterations=15<br>train_optimizer=ADAM<br>entropy_optimizer=FISTA<br>delta=1000<br>pruning=Y<br>QuantizationType=center\",\"File: output-Test-2025-06-09-A.log<br>r = 1.1031<br>Accuracy: 98.25<br>Compression: 2.86%<br><b>Params:</b><br>model=LeNet-5<br>criterion=CrossEntropy<br>C=6<br>lr=0.0007<br>lambda_reg=0.0015<br>alpha=0.533<br>[T1=lambda_reg*alpha=0.0008]<br>[T2=lambda_reg*(1-alpha)=0.0007]<br>subgradient_step=100000.0<br>w0=-0.11<br>target_acc=98.0<br>target_zstd_ratio=0.0297<br>min_xi=0<br>max_xi=1<br>upper_c=44426<br>lower_c=0.01<br>zeta=50000<br>l=0.5<br>n_epochs=100<br>max_iterations=15<br>train_optimizer=ADAM<br>entropy_optimizer=FISTA<br>delta=1000<br>pruning=Y<br>QuantizationType=center\",\"File: output-Test-2025-06-09-A.log<br>r = 1.1031<br>Accuracy: 98.2<br>Compression: 2.96%<br><b>Params:</b><br>model=LeNet-5<br>criterion=CrossEntropy<br>C=6<br>lr=0.0007<br>lambda_reg=0.0015<br>alpha=0.533<br>[T1=lambda_reg*alpha=0.0008]<br>[T2=lambda_reg*(1-alpha)=0.0007]<br>subgradient_step=100000.0<br>w0=-0.11<br>target_acc=98.0<br>target_zstd_ratio=0.0297<br>min_xi=0<br>max_xi=1<br>upper_c=44426<br>lower_c=0.01<br>zeta=50000<br>l=0.5<br>n_epochs=100<br>max_iterations=15<br>train_optimizer=ADAM<br>entropy_optimizer=FISTA<br>delta=1000<br>pruning=Y<br>QuantizationType=center\",\"File: output-Test-2025-06-09-A.log<br>r = 1.1031<br>Accuracy: 98.2<br>Compression: 2.97%<br><b>Params:</b><br>model=LeNet-5<br>criterion=CrossEntropy<br>C=6<br>lr=0.0007<br>lambda_reg=0.0015<br>alpha=0.533<br>[T1=lambda_reg*alpha=0.0008]<br>[T2=lambda_reg*(1-alpha)=0.0007]<br>subgradient_step=100000.0<br>w0=-0.11<br>target_acc=98.0<br>target_zstd_ratio=0.0297<br>min_xi=0<br>max_xi=1<br>upper_c=44426<br>lower_c=0.01<br>zeta=50000<br>l=0.5<br>n_epochs=100<br>max_iterations=15<br>train_optimizer=ADAM<br>entropy_optimizer=FISTA<br>delta=1000<br>pruning=Y<br>QuantizationType=center\",\"File: output-Test-2025-06-09-A.log<br>r = 1.1031<br>Accuracy: 98.19<br>Compression: 3.04%<br><b>Params:</b><br>model=LeNet-5<br>criterion=CrossEntropy<br>C=6<br>lr=0.0007<br>lambda_reg=0.0015<br>alpha=0.533<br>[T1=lambda_reg*alpha=0.0008]<br>[T2=lambda_reg*(1-alpha)=0.0007]<br>subgradient_step=100000.0<br>w0=-0.11<br>target_acc=98.0<br>target_zstd_ratio=0.0297<br>min_xi=0<br>max_xi=1<br>upper_c=44426<br>lower_c=0.01<br>zeta=50000<br>l=0.5<br>n_epochs=100<br>max_iterations=15<br>train_optimizer=ADAM<br>entropy_optimizer=FISTA<br>delta=1000<br>pruning=Y<br>QuantizationType=center\",\"File: output-Test-2025-06-09-A.log<br>r = 1.1031<br>Accuracy: 98.18<br>Compression: 3.13%<br><b>Params:</b><br>model=LeNet-5<br>criterion=CrossEntropy<br>C=6<br>lr=0.0007<br>lambda_reg=0.0015<br>alpha=0.533<br>[T1=lambda_reg*alpha=0.0008]<br>[T2=lambda_reg*(1-alpha)=0.0007]<br>subgradient_step=100000.0<br>w0=-0.11<br>target_acc=98.0<br>target_zstd_ratio=0.0297<br>min_xi=0<br>max_xi=1<br>upper_c=44426<br>lower_c=0.01<br>zeta=50000<br>l=0.5<br>n_epochs=100<br>max_iterations=15<br>train_optimizer=ADAM<br>entropy_optimizer=FISTA<br>delta=1000<br>pruning=Y<br>QuantizationType=center\",\"File: output-Test-2025-06-09-A.log<br>r = 1.1031<br>Accuracy: 98.14<br>Compression: 2.76%<br><b>Params:</b><br>model=LeNet-5<br>criterion=CrossEntropy<br>C=6<br>lr=0.0007<br>lambda_reg=0.0015<br>alpha=0.533<br>[T1=lambda_reg*alpha=0.0008]<br>[T2=lambda_reg*(1-alpha)=0.0007]<br>subgradient_step=100000.0<br>w0=-0.11<br>target_acc=98.0<br>target_zstd_ratio=0.0297<br>min_xi=0<br>max_xi=1<br>upper_c=44426<br>lower_c=0.01<br>zeta=50000<br>l=0.5<br>n_epochs=100<br>max_iterations=15<br>train_optimizer=ADAM<br>entropy_optimizer=FISTA<br>delta=1000<br>pruning=Y<br>QuantizationType=center\",\"File: output-Test-2025-06-09-A.log<br>r = 1.1031<br>Accuracy: 98.25<br>Compression: 2.84%<br><b>Params:</b><br>model=LeNet-5<br>criterion=CrossEntropy<br>C=6<br>lr=0.0007<br>lambda_reg=0.0015<br>alpha=0.533<br>[T1=lambda_reg*alpha=0.0008]<br>[T2=lambda_reg*(1-alpha)=0.0007]<br>subgradient_step=100000.0<br>w0=-0.11<br>target_acc=98.0<br>target_zstd_ratio=0.0297<br>min_xi=0<br>max_xi=1<br>upper_c=44426<br>lower_c=0.01<br>zeta=50000<br>l=0.5<br>n_epochs=100<br>max_iterations=15<br>train_optimizer=ADAM<br>entropy_optimizer=FISTA<br>delta=1000<br>pruning=Y<br>QuantizationType=center\",\"File: output-Test-2025-06-09-A.log<br>r = 1.1031<br>Accuracy: 98.24<br>Compression: 2.94%<br><b>Params:</b><br>model=LeNet-5<br>criterion=CrossEntropy<br>C=6<br>lr=0.0007<br>lambda_reg=0.0015<br>alpha=0.533<br>[T1=lambda_reg*alpha=0.0008]<br>[T2=lambda_reg*(1-alpha)=0.0007]<br>subgradient_step=100000.0<br>w0=-0.11<br>target_acc=98.0<br>target_zstd_ratio=0.0297<br>min_xi=0<br>max_xi=1<br>upper_c=44426<br>lower_c=0.01<br>zeta=50000<br>l=0.5<br>n_epochs=100<br>max_iterations=15<br>train_optimizer=ADAM<br>entropy_optimizer=FISTA<br>delta=1000<br>pruning=Y<br>QuantizationType=center\",\"File: output-Test-2025-06-09-A.log<br>r = 1.1031<br>Accuracy: 98.22<br>Compression: 3.04%<br><b>Params:</b><br>model=LeNet-5<br>criterion=CrossEntropy<br>C=6<br>lr=0.0007<br>lambda_reg=0.0015<br>alpha=0.533<br>[T1=lambda_reg*alpha=0.0008]<br>[T2=lambda_reg*(1-alpha)=0.0007]<br>subgradient_step=100000.0<br>w0=-0.11<br>target_acc=98.0<br>target_zstd_ratio=0.0297<br>min_xi=0<br>max_xi=1<br>upper_c=44426<br>lower_c=0.01<br>zeta=50000<br>l=0.5<br>n_epochs=100<br>max_iterations=15<br>train_optimizer=ADAM<br>entropy_optimizer=FISTA<br>delta=1000<br>pruning=Y<br>QuantizationType=center\",\"File: output-Test-2025-06-09-A.log<br>r = 1.1031<br>Accuracy: 98.32<br>Compression: 3.23%<br><b>Params:</b><br>model=LeNet-5<br>criterion=CrossEntropy<br>C=6<br>lr=0.0007<br>lambda_reg=0.0015<br>alpha=0.533<br>[T1=lambda_reg*alpha=0.0008]<br>[T2=lambda_reg*(1-alpha)=0.0007]<br>subgradient_step=100000.0<br>w0=-0.11<br>target_acc=98.0<br>target_zstd_ratio=0.0297<br>min_xi=0<br>max_xi=1<br>upper_c=44426<br>lower_c=0.01<br>zeta=50000<br>l=0.5<br>n_epochs=100<br>max_iterations=15<br>train_optimizer=ADAM<br>entropy_optimizer=FISTA<br>delta=1000<br>pruning=Y<br>QuantizationType=center\",\"File: output-Test-2025-06-09-A.log<br>r = 1.1031<br>Accuracy: 98.27<br>Compression: 3.41%<br><b>Params:</b><br>model=LeNet-5<br>criterion=CrossEntropy<br>C=6<br>lr=0.0007<br>lambda_reg=0.0015<br>alpha=0.533<br>[T1=lambda_reg*alpha=0.0008]<br>[T2=lambda_reg*(1-alpha)=0.0007]<br>subgradient_step=100000.0<br>w0=-0.11<br>target_acc=98.0<br>target_zstd_ratio=0.0297<br>min_xi=0<br>max_xi=1<br>upper_c=44426<br>lower_c=0.01<br>zeta=50000<br>l=0.5<br>n_epochs=100<br>max_iterations=15<br>train_optimizer=ADAM<br>entropy_optimizer=FISTA<br>delta=1000<br>pruning=Y<br>QuantizationType=center\",\"File: output-Test-2025-06-09-A.log<br>r = 1.1031<br>Accuracy: 98.26<br>Compression: 3.07%<br><b>Params:</b><br>model=LeNet-5<br>criterion=CrossEntropy<br>C=6<br>lr=0.0007<br>lambda_reg=0.0015<br>alpha=0.533<br>[T1=lambda_reg*alpha=0.0008]<br>[T2=lambda_reg*(1-alpha)=0.0007]<br>subgradient_step=100000.0<br>w0=-0.11<br>target_acc=98.0<br>target_zstd_ratio=0.0297<br>min_xi=0<br>max_xi=1<br>upper_c=44426<br>lower_c=0.01<br>zeta=50000<br>l=0.5<br>n_epochs=100<br>max_iterations=15<br>train_optimizer=ADAM<br>entropy_optimizer=FISTA<br>delta=1000<br>pruning=Y<br>QuantizationType=center\",\"File: output-Test-2025-06-09-A.log<br>r = 1.1031<br>Accuracy: 98.26<br>Compression: 3.06%<br><b>Params:</b><br>model=LeNet-5<br>criterion=CrossEntropy<br>C=6<br>lr=0.0007<br>lambda_reg=0.0015<br>alpha=0.533<br>[T1=lambda_reg*alpha=0.0008]<br>[T2=lambda_reg*(1-alpha)=0.0007]<br>subgradient_step=100000.0<br>w0=-0.11<br>target_acc=98.0<br>target_zstd_ratio=0.0297<br>min_xi=0<br>max_xi=1<br>upper_c=44426<br>lower_c=0.01<br>zeta=50000<br>l=0.5<br>n_epochs=100<br>max_iterations=15<br>train_optimizer=ADAM<br>entropy_optimizer=FISTA<br>delta=1000<br>pruning=Y<br>QuantizationType=center\",\"File: output-Test-2025-06-09-A.log<br>r = 1.1031<br>Accuracy: 98.23<br>Compression: 2.99%<br><b>Params:</b><br>model=LeNet-5<br>criterion=CrossEntropy<br>C=6<br>lr=0.0007<br>lambda_reg=0.0015<br>alpha=0.533<br>[T1=lambda_reg*alpha=0.0008]<br>[T2=lambda_reg*(1-alpha)=0.0007]<br>subgradient_step=100000.0<br>w0=-0.11<br>target_acc=98.0<br>target_zstd_ratio=0.0297<br>min_xi=0<br>max_xi=1<br>upper_c=44426<br>lower_c=0.01<br>zeta=50000<br>l=0.5<br>n_epochs=100<br>max_iterations=15<br>train_optimizer=ADAM<br>entropy_optimizer=FISTA<br>delta=1000<br>pruning=Y<br>QuantizationType=center\",\"File: output-Test-2025-06-09-A.log<br>r = 1.1031<br>Accuracy: 98.17<br>Compression: 3.09%<br><b>Params:</b><br>model=LeNet-5<br>criterion=CrossEntropy<br>C=6<br>lr=0.0007<br>lambda_reg=0.0015<br>alpha=0.533<br>[T1=lambda_reg*alpha=0.0008]<br>[T2=lambda_reg*(1-alpha)=0.0007]<br>subgradient_step=100000.0<br>w0=-0.11<br>target_acc=98.0<br>target_zstd_ratio=0.0297<br>min_xi=0<br>max_xi=1<br>upper_c=44426<br>lower_c=0.01<br>zeta=50000<br>l=0.5<br>n_epochs=100<br>max_iterations=15<br>train_optimizer=ADAM<br>entropy_optimizer=FISTA<br>delta=1000<br>pruning=Y<br>QuantizationType=center\",\"File: output-Test-2025-06-09-A.log<br>r = 1.1031<br>Accuracy: 98.32<br>Compression: 3.41%<br><b>Params:</b><br>model=LeNet-5<br>criterion=CrossEntropy<br>C=6<br>lr=0.0007<br>lambda_reg=0.0015<br>alpha=0.533<br>[T1=lambda_reg*alpha=0.0008]<br>[T2=lambda_reg*(1-alpha)=0.0007]<br>subgradient_step=100000.0<br>w0=-0.11<br>target_acc=98.0<br>target_zstd_ratio=0.0297<br>min_xi=0<br>max_xi=1<br>upper_c=44426<br>lower_c=0.01<br>zeta=50000<br>l=0.5<br>n_epochs=100<br>max_iterations=15<br>train_optimizer=ADAM<br>entropy_optimizer=FISTA<br>delta=1000<br>pruning=Y<br>QuantizationType=center\",\"File: output-Test-2025-06-09-A.log<br>r = 1.1031<br>Accuracy: 98.32<br>Compression: 3.18%<br><b>Params:</b><br>model=LeNet-5<br>criterion=CrossEntropy<br>C=6<br>lr=0.0007<br>lambda_reg=0.0015<br>alpha=0.533<br>[T1=lambda_reg*alpha=0.0008]<br>[T2=lambda_reg*(1-alpha)=0.0007]<br>subgradient_step=100000.0<br>w0=-0.11<br>target_acc=98.0<br>target_zstd_ratio=0.0297<br>min_xi=0<br>max_xi=1<br>upper_c=44426<br>lower_c=0.01<br>zeta=50000<br>l=0.5<br>n_epochs=100<br>max_iterations=15<br>train_optimizer=ADAM<br>entropy_optimizer=FISTA<br>delta=1000<br>pruning=Y<br>QuantizationType=center\",\"File: output-Test-2025-06-09-A.log<br>r = 1.1031<br>Accuracy: 98.34<br>Compression: 3.41%<br><b>Params:</b><br>model=LeNet-5<br>criterion=CrossEntropy<br>C=6<br>lr=0.0007<br>lambda_reg=0.0015<br>alpha=0.533<br>[T1=lambda_reg*alpha=0.0008]<br>[T2=lambda_reg*(1-alpha)=0.0007]<br>subgradient_step=100000.0<br>w0=-0.11<br>target_acc=98.0<br>target_zstd_ratio=0.0297<br>min_xi=0<br>max_xi=1<br>upper_c=44426<br>lower_c=0.01<br>zeta=50000<br>l=0.5<br>n_epochs=100<br>max_iterations=15<br>train_optimizer=ADAM<br>entropy_optimizer=FISTA<br>delta=1000<br>pruning=Y<br>QuantizationType=center\",\"File: output-Test-2025-06-09-A.log<br>r = 1.1031<br>Accuracy: 98.23<br>Compression: 2.9%<br><b>Params:</b><br>model=LeNet-5<br>criterion=CrossEntropy<br>C=6<br>lr=0.0007<br>lambda_reg=0.0015<br>alpha=0.533<br>[T1=lambda_reg*alpha=0.0008]<br>[T2=lambda_reg*(1-alpha)=0.0007]<br>subgradient_step=100000.0<br>w0=-0.11<br>target_acc=98.0<br>target_zstd_ratio=0.0297<br>min_xi=0<br>max_xi=1<br>upper_c=44426<br>lower_c=0.01<br>zeta=50000<br>l=0.5<br>n_epochs=100<br>max_iterations=15<br>train_optimizer=ADAM<br>entropy_optimizer=FISTA<br>delta=1000<br>pruning=Y<br>QuantizationType=center\",\"File: output-Test-2025-06-09-A.log<br>r = 1.1031<br>Accuracy: 98.2<br>Compression: 3.42%<br><b>Params:</b><br>model=LeNet-5<br>criterion=CrossEntropy<br>C=6<br>lr=0.0007<br>lambda_reg=0.0015<br>alpha=0.533<br>[T1=lambda_reg*alpha=0.0008]<br>[T2=lambda_reg*(1-alpha)=0.0007]<br>subgradient_step=100000.0<br>w0=-0.11<br>target_acc=98.0<br>target_zstd_ratio=0.0297<br>min_xi=0<br>max_xi=1<br>upper_c=44426<br>lower_c=0.01<br>zeta=50000<br>l=0.5<br>n_epochs=100<br>max_iterations=15<br>train_optimizer=ADAM<br>entropy_optimizer=FISTA<br>delta=1000<br>pruning=Y<br>QuantizationType=center\",\"File: output-Test-2025-06-09-A.log<br>r = 1.1031<br>Accuracy: 98.17<br>Compression: 3.26%<br><b>Params:</b><br>model=LeNet-5<br>criterion=CrossEntropy<br>C=6<br>lr=0.0007<br>lambda_reg=0.0015<br>alpha=0.533<br>[T1=lambda_reg*alpha=0.0008]<br>[T2=lambda_reg*(1-alpha)=0.0007]<br>subgradient_step=100000.0<br>w0=-0.11<br>target_acc=98.0<br>target_zstd_ratio=0.0297<br>min_xi=0<br>max_xi=1<br>upper_c=44426<br>lower_c=0.01<br>zeta=50000<br>l=0.5<br>n_epochs=100<br>max_iterations=15<br>train_optimizer=ADAM<br>entropy_optimizer=FISTA<br>delta=1000<br>pruning=Y<br>QuantizationType=center\",\"File: output-Test-2025-06-09-A.log<br>r = 1.1031<br>Accuracy: 98.33<br>Compression: 3.09%<br><b>Params:</b><br>model=LeNet-5<br>criterion=CrossEntropy<br>C=6<br>lr=0.0007<br>lambda_reg=0.0015<br>alpha=0.533<br>[T1=lambda_reg*alpha=0.0008]<br>[T2=lambda_reg*(1-alpha)=0.0007]<br>subgradient_step=100000.0<br>w0=-0.11<br>target_acc=98.0<br>target_zstd_ratio=0.0297<br>min_xi=0<br>max_xi=1<br>upper_c=44426<br>lower_c=0.01<br>zeta=50000<br>l=0.5<br>n_epochs=100<br>max_iterations=15<br>train_optimizer=ADAM<br>entropy_optimizer=FISTA<br>delta=1000<br>pruning=Y<br>QuantizationType=center\",\"File: output-Test-2025-06-09-A.log<br>r = 1.1031<br>Accuracy: 98.27<br>Compression: 3.11%<br><b>Params:</b><br>model=LeNet-5<br>criterion=CrossEntropy<br>C=6<br>lr=0.0007<br>lambda_reg=0.0015<br>alpha=0.533<br>[T1=lambda_reg*alpha=0.0008]<br>[T2=lambda_reg*(1-alpha)=0.0007]<br>subgradient_step=100000.0<br>w0=-0.11<br>target_acc=98.0<br>target_zstd_ratio=0.0297<br>min_xi=0<br>max_xi=1<br>upper_c=44426<br>lower_c=0.01<br>zeta=50000<br>l=0.5<br>n_epochs=100<br>max_iterations=15<br>train_optimizer=ADAM<br>entropy_optimizer=FISTA<br>delta=1000<br>pruning=Y<br>QuantizationType=center\",\"File: output-Test-2025-06-09-A.log<br>r = 1.1031<br>Accuracy: 98.26<br>Compression: 3.49%<br><b>Params:</b><br>model=LeNet-5<br>criterion=CrossEntropy<br>C=6<br>lr=0.0007<br>lambda_reg=0.0015<br>alpha=0.533<br>[T1=lambda_reg*alpha=0.0008]<br>[T2=lambda_reg*(1-alpha)=0.0007]<br>subgradient_step=100000.0<br>w0=-0.11<br>target_acc=98.0<br>target_zstd_ratio=0.0297<br>min_xi=0<br>max_xi=1<br>upper_c=44426<br>lower_c=0.01<br>zeta=50000<br>l=0.5<br>n_epochs=100<br>max_iterations=15<br>train_optimizer=ADAM<br>entropy_optimizer=FISTA<br>delta=1000<br>pruning=Y<br>QuantizationType=center\",\"File: output-Test-2025-06-09-A.log<br>r = 1.1031<br>Accuracy: 98.25<br>Compression: 3.21%<br><b>Params:</b><br>model=LeNet-5<br>criterion=CrossEntropy<br>C=6<br>lr=0.0007<br>lambda_reg=0.0015<br>alpha=0.533<br>[T1=lambda_reg*alpha=0.0008]<br>[T2=lambda_reg*(1-alpha)=0.0007]<br>subgradient_step=100000.0<br>w0=-0.11<br>target_acc=98.0<br>target_zstd_ratio=0.0297<br>min_xi=0<br>max_xi=1<br>upper_c=44426<br>lower_c=0.01<br>zeta=50000<br>l=0.5<br>n_epochs=100<br>max_iterations=15<br>train_optimizer=ADAM<br>entropy_optimizer=FISTA<br>delta=1000<br>pruning=Y<br>QuantizationType=center\",\"File: output-Test-2025-06-09-A.log<br>r = 1.1031<br>Accuracy: 98.28<br>Compression: 3.36%<br><b>Params:</b><br>model=LeNet-5<br>criterion=CrossEntropy<br>C=6<br>lr=0.0007<br>lambda_reg=0.0015<br>alpha=0.533<br>[T1=lambda_reg*alpha=0.0008]<br>[T2=lambda_reg*(1-alpha)=0.0007]<br>subgradient_step=100000.0<br>w0=-0.11<br>target_acc=98.0<br>target_zstd_ratio=0.0297<br>min_xi=0<br>max_xi=1<br>upper_c=44426<br>lower_c=0.01<br>zeta=50000<br>l=0.5<br>n_epochs=100<br>max_iterations=15<br>train_optimizer=ADAM<br>entropy_optimizer=FISTA<br>delta=1000<br>pruning=Y<br>QuantizationType=center\",\"File: output-Test-2025-06-09-A.log<br>r = 1.1031<br>Accuracy: 98.27<br>Compression: 3.44%<br><b>Params:</b><br>model=LeNet-5<br>criterion=CrossEntropy<br>C=6<br>lr=0.0007<br>lambda_reg=0.0015<br>alpha=0.533<br>[T1=lambda_reg*alpha=0.0008]<br>[T2=lambda_reg*(1-alpha)=0.0007]<br>subgradient_step=100000.0<br>w0=-0.11<br>target_acc=98.0<br>target_zstd_ratio=0.0297<br>min_xi=0<br>max_xi=1<br>upper_c=44426<br>lower_c=0.01<br>zeta=50000<br>l=0.5<br>n_epochs=100<br>max_iterations=15<br>train_optimizer=ADAM<br>entropy_optimizer=FISTA<br>delta=1000<br>pruning=Y<br>QuantizationType=center\",\"File: output-Test-2025-06-12-Fenchel.log<br>r = 1.1017<br>Accuracy: 98.88<br>Compression: 3.33%<br><b>Params:</b><br>model=LeNet-5<br>criterion=CrossEntropy<br>C=6<br>lr=0.0007<br>lambda_reg=0.0015<br>alpha=0.533<br>[T1=lambda_reg*alpha=0.0008]<br>[T2=lambda_reg*(1-alpha)=0.0007]<br>subgradient_step=100000.0<br>w0=-0.11<br>target_acc=98.8<br>target_zstd_ratio=0.0297<br>min_xi=0<br>max_xi=1<br>upper_c=44426<br>lower_c=0.01<br>zeta=50000<br>l=0.5<br>n_epochs=500<br>max_iterations=15<br>train_optimizer=ADAM<br>entropy_optimizer=FISTA<br>delta=1000<br>pruning=Y<br>QuantizationType=center\",\"File: output-Test-2025-06-13-B-Fenchel.log<br>r = 1.1026<br>Accuracy: 98.19<br>Compression: 3.32%<br><b>Params:</b><br>model=LeNet-5<br>criterion=CrossEntropy<br>C=64<br>lr=0.0007<br>lambda_reg=0.0015<br>alpha=0.533<br>[T1=lambda_reg*alpha=0.0008]<br>[T2=lambda_reg*(1-alpha)=0.0007]<br>subgradient_step=100000.0<br>w0=-0.11<br>target_acc=98.8<br>target_zstd_ratio=0.0297<br>min_xi=0<br>max_xi=1<br>upper_c=44426<br>lower_c=0.01<br>zeta=50000<br>l=0.5<br>n_epochs=30<br>max_iterations=15<br>train_optimizer=ADAM<br>entropy_optimizer=FISTA<br>delta=1000<br>pruning=Y<br>QuantizationType=center\",\"File: output-Test-2025-06-13-B-Fenchel.log<br>r = 1.102<br>Accuracy: 98.22<br>Compression: 3.21%<br><b>Params:</b><br>model=LeNet-5<br>criterion=CrossEntropy<br>C=64<br>lr=0.0007<br>lambda_reg=0.0015<br>alpha=0.533<br>[T1=lambda_reg*alpha=0.0008]<br>[T2=lambda_reg*(1-alpha)=0.0007]<br>subgradient_step=100000.0<br>w0=-0.11<br>target_acc=98.8<br>target_zstd_ratio=0.0297<br>min_xi=0<br>max_xi=1<br>upper_c=44426<br>lower_c=0.01<br>zeta=50000<br>l=0.5<br>n_epochs=30<br>max_iterations=15<br>train_optimizer=ADAM<br>entropy_optimizer=FISTA<br>delta=1000<br>pruning=Y<br>QuantizationType=center\",\"File: output-Test-2025-06-13-B-Fenchel.log<br>r = 1.102<br>Accuracy: 98.11<br>Compression: 3.15%<br><b>Params:</b><br>model=LeNet-5<br>criterion=CrossEntropy<br>C=64<br>lr=0.0007<br>lambda_reg=0.0015<br>alpha=0.533<br>[T1=lambda_reg*alpha=0.0008]<br>[T2=lambda_reg*(1-alpha)=0.0007]<br>subgradient_step=100000.0<br>w0=-0.11<br>target_acc=98.8<br>target_zstd_ratio=0.0297<br>min_xi=0<br>max_xi=1<br>upper_c=44426<br>lower_c=0.01<br>zeta=50000<br>l=0.5<br>n_epochs=30<br>max_iterations=15<br>train_optimizer=ADAM<br>entropy_optimizer=FISTA<br>delta=1000<br>pruning=Y<br>QuantizationType=center\",\"File: output-Test-2025-06-13-B-Fenchel.log<br>r = 1.102<br>Accuracy: 98.1<br>Compression: 3.1%<br><b>Params:</b><br>model=LeNet-5<br>criterion=CrossEntropy<br>C=64<br>lr=0.0007<br>lambda_reg=0.0015<br>alpha=0.533<br>[T1=lambda_reg*alpha=0.0008]<br>[T2=lambda_reg*(1-alpha)=0.0007]<br>subgradient_step=100000.0<br>w0=-0.11<br>target_acc=98.8<br>target_zstd_ratio=0.0297<br>min_xi=0<br>max_xi=1<br>upper_c=44426<br>lower_c=0.01<br>zeta=50000<br>l=0.5<br>n_epochs=30<br>max_iterations=15<br>train_optimizer=ADAM<br>entropy_optimizer=FISTA<br>delta=1000<br>pruning=Y<br>QuantizationType=center\",\"File: output-Test-2025-06-13-A-Dantzig.log<br>r = 1.1021<br>Accuracy: 98.02<br>Compression: 1.43%<br><b>Params:</b><br>model=LeNet-5<br>criterion=CrossEntropy<br>C=128<br>lr=0.0007<br>lambda_reg=0.0015<br>alpha=0.533<br>[T1=lambda_reg*alpha=0.0008]<br>[T2=lambda_reg*(1-alpha)=0.0007]<br>subgradient_step=100000.0<br>w0=-0.11<br>target_acc=98.8<br>target_zstd_ratio=0.0297<br>min_xi=0<br>max_xi=1<br>upper_c=44426<br>lower_c=0.01<br>zeta=50000<br>l=0.5<br>n_epochs=30<br>max_iterations=15<br>train_optimizer=ADAM<br>entropy_optimizer=FISTA<br>delta=0<br>pruning=Y<br>QuantizationType=center\",\"File: output-Test-2025-06-13-A-Dantzig.log<br>r = 1.1014<br>Accuracy: 98.08<br>Compression: 1.53%<br><b>Params:</b><br>model=LeNet-5<br>criterion=CrossEntropy<br>C=128<br>lr=0.0007<br>lambda_reg=0.0015<br>alpha=0.533<br>[T1=lambda_reg*alpha=0.0008]<br>[T2=lambda_reg*(1-alpha)=0.0007]<br>subgradient_step=100000.0<br>w0=-0.11<br>target_acc=98.8<br>target_zstd_ratio=0.0297<br>min_xi=0<br>max_xi=1<br>upper_c=44426<br>lower_c=0.01<br>zeta=50000<br>l=0.5<br>n_epochs=30<br>max_iterations=15<br>train_optimizer=ADAM<br>entropy_optimizer=FISTA<br>delta=0<br>pruning=Y<br>QuantizationType=center\",\"File: output-Test-2025-06-13-A-Dantzig.log<br>r = 1.1014<br>Accuracy: 98.02<br>Compression: 1.47%<br><b>Params:</b><br>model=LeNet-5<br>criterion=CrossEntropy<br>C=128<br>lr=0.0007<br>lambda_reg=0.0015<br>alpha=0.533<br>[T1=lambda_reg*alpha=0.0008]<br>[T2=lambda_reg*(1-alpha)=0.0007]<br>subgradient_step=100000.0<br>w0=-0.11<br>target_acc=98.8<br>target_zstd_ratio=0.0297<br>min_xi=0<br>max_xi=1<br>upper_c=44426<br>lower_c=0.01<br>zeta=50000<br>l=0.5<br>n_epochs=30<br>max_iterations=15<br>train_optimizer=ADAM<br>entropy_optimizer=FISTA<br>delta=0<br>pruning=Y<br>QuantizationType=center\",\"File: output-Test-2025-06-13-A-Dantzig.log<br>r = 1.1014<br>Accuracy: 98.12<br>Compression: 1.5%<br><b>Params:</b><br>model=LeNet-5<br>criterion=CrossEntropy<br>C=128<br>lr=0.0007<br>lambda_reg=0.0015<br>alpha=0.533<br>[T1=lambda_reg*alpha=0.0008]<br>[T2=lambda_reg*(1-alpha)=0.0007]<br>subgradient_step=100000.0<br>w0=-0.11<br>target_acc=98.8<br>target_zstd_ratio=0.0297<br>min_xi=0<br>max_xi=1<br>upper_c=44426<br>lower_c=0.01<br>zeta=50000<br>l=0.5<br>n_epochs=30<br>max_iterations=15<br>train_optimizer=ADAM<br>entropy_optimizer=FISTA<br>delta=0<br>pruning=Y<br>QuantizationType=center\",\"File: output-Test-2025-06-13-A-Dantzig.log<br>r = 1.1014<br>Accuracy: 98.11<br>Compression: 1.51%<br><b>Params:</b><br>model=LeNet-5<br>criterion=CrossEntropy<br>C=128<br>lr=0.0007<br>lambda_reg=0.0015<br>alpha=0.533<br>[T1=lambda_reg*alpha=0.0008]<br>[T2=lambda_reg*(1-alpha)=0.0007]<br>subgradient_step=100000.0<br>w0=-0.11<br>target_acc=98.8<br>target_zstd_ratio=0.0297<br>min_xi=0<br>max_xi=1<br>upper_c=44426<br>lower_c=0.01<br>zeta=50000<br>l=0.5<br>n_epochs=30<br>max_iterations=15<br>train_optimizer=ADAM<br>entropy_optimizer=FISTA<br>delta=0<br>pruning=Y<br>QuantizationType=center\",\"File: output-Test-2025-06-13-A-Dantzig.log<br>r = 1.1004<br>Accuracy: 98.01<br>Compression: 1.45%<br><b>Params:</b><br>model=LeNet-5<br>criterion=CrossEntropy<br>C=128<br>lr=0.0007<br>lambda_reg=0.0015<br>alpha=0.533<br>[T1=lambda_reg*alpha=0.0008]<br>[T2=lambda_reg*(1-alpha)=0.0007]<br>subgradient_step=100000.0<br>w0=-0.11<br>target_acc=98.8<br>target_zstd_ratio=0.0297<br>min_xi=0<br>max_xi=1<br>upper_c=44426<br>lower_c=0.01<br>zeta=50000<br>l=0.5<br>n_epochs=30<br>max_iterations=15<br>train_optimizer=ADAM<br>entropy_optimizer=FISTA<br>delta=0<br>pruning=Y<br>QuantizationType=center\",\"File: output-Test-2025-06-15-Fenchel.log<br>r = 1.1019<br>Accuracy: 98.17<br>Compression: 2.92%<br><b>Params:</b><br>model=LeNet-5<br>criterion=CrossEntropy<br>C=64<br>lr=0.0007<br>lambda_reg=0.0015<br>alpha=0.533<br>[T1=lambda_reg*alpha=0.0008]<br>[T2=lambda_reg*(1-alpha)=0.0007]<br>subgradient_step=100000.0<br>w0=-0.11<br>target_acc=98.4<br>target_zstd_ratio=0.0297<br>min_xi=0<br>max_xi=1<br>upper_c=44426<br>lower_c=0.01<br>zeta=50000<br>l=0.5<br>n_epochs=90<br>max_iterations=15<br>train_optimizer=ADAM<br>entropy_optimizer=FISTA<br>delta=32<br>pruning=Y<br>QuantizationType=center\",\"File: output-Test-2025-06-15-Fenchel.log<br>r = 1.1019<br>Accuracy: 98.06<br>Compression: 2.92%<br><b>Params:</b><br>model=LeNet-5<br>criterion=CrossEntropy<br>C=64<br>lr=0.0007<br>lambda_reg=0.0015<br>alpha=0.533<br>[T1=lambda_reg*alpha=0.0008]<br>[T2=lambda_reg*(1-alpha)=0.0007]<br>subgradient_step=100000.0<br>w0=-0.11<br>target_acc=98.4<br>target_zstd_ratio=0.0297<br>min_xi=0<br>max_xi=1<br>upper_c=44426<br>lower_c=0.01<br>zeta=50000<br>l=0.5<br>n_epochs=90<br>max_iterations=15<br>train_optimizer=ADAM<br>entropy_optimizer=FISTA<br>delta=32<br>pruning=Y<br>QuantizationType=center\",\"File: output-Test-2025-06-15-Fenchel.log<br>r = 1.1019<br>Accuracy: 98.35<br>Compression: 2.88%<br><b>Params:</b><br>model=LeNet-5<br>criterion=CrossEntropy<br>C=64<br>lr=0.0007<br>lambda_reg=0.0015<br>alpha=0.533<br>[T1=lambda_reg*alpha=0.0008]<br>[T2=lambda_reg*(1-alpha)=0.0007]<br>subgradient_step=100000.0<br>w0=-0.11<br>target_acc=98.4<br>target_zstd_ratio=0.0297<br>min_xi=0<br>max_xi=1<br>upper_c=44426<br>lower_c=0.01<br>zeta=50000<br>l=0.5<br>n_epochs=90<br>max_iterations=15<br>train_optimizer=ADAM<br>entropy_optimizer=FISTA<br>delta=32<br>pruning=Y<br>QuantizationType=center\",\"File: output-Test-2025-06-15-Fenchel.log<br>r = 1.1019<br>Accuracy: 98.63<br>Compression: 3.41%<br><b>Params:</b><br>model=LeNet-5<br>criterion=CrossEntropy<br>C=64<br>lr=0.0007<br>lambda_reg=0.0015<br>alpha=0.533<br>[T1=lambda_reg*alpha=0.0008]<br>[T2=lambda_reg*(1-alpha)=0.0007]<br>subgradient_step=100000.0<br>w0=-0.11<br>target_acc=98.4<br>target_zstd_ratio=0.0297<br>min_xi=0<br>max_xi=1<br>upper_c=44426<br>lower_c=0.01<br>zeta=50000<br>l=0.5<br>n_epochs=90<br>max_iterations=15<br>train_optimizer=ADAM<br>entropy_optimizer=FISTA<br>delta=32<br>pruning=Y<br>QuantizationType=center\",\"File: output-Test-2025-06-15-Fenchel.log<br>r = 1.1019<br>Accuracy: 98.04<br>Compression: 2.88%<br><b>Params:</b><br>model=LeNet-5<br>criterion=CrossEntropy<br>C=64<br>lr=0.0007<br>lambda_reg=0.0015<br>alpha=0.533<br>[T1=lambda_reg*alpha=0.0008]<br>[T2=lambda_reg*(1-alpha)=0.0007]<br>subgradient_step=100000.0<br>w0=-0.11<br>target_acc=98.4<br>target_zstd_ratio=0.0297<br>min_xi=0<br>max_xi=1<br>upper_c=44426<br>lower_c=0.01<br>zeta=50000<br>l=0.5<br>n_epochs=90<br>max_iterations=15<br>train_optimizer=ADAM<br>entropy_optimizer=FISTA<br>delta=32<br>pruning=Y<br>QuantizationType=center\",\"File: output-Test-2025-06-15-Fenchel.log<br>r = 1.1019<br>Accuracy: 98.01<br>Compression: 2.72%<br><b>Params:</b><br>model=LeNet-5<br>criterion=CrossEntropy<br>C=64<br>lr=0.0007<br>lambda_reg=0.0015<br>alpha=0.533<br>[T1=lambda_reg*alpha=0.0008]<br>[T2=lambda_reg*(1-alpha)=0.0007]<br>subgradient_step=100000.0<br>w0=-0.11<br>target_acc=98.4<br>target_zstd_ratio=0.0297<br>min_xi=0<br>max_xi=1<br>upper_c=44426<br>lower_c=0.01<br>zeta=50000<br>l=0.5<br>n_epochs=90<br>max_iterations=15<br>train_optimizer=ADAM<br>entropy_optimizer=FISTA<br>delta=32<br>pruning=Y<br>QuantizationType=center\",\"File: output-Test-2025-06-15-Fenchel.log<br>r = 1.1019<br>Accuracy: 98.37<br>Compression: 2.68%<br><b>Params:</b><br>model=LeNet-5<br>criterion=CrossEntropy<br>C=64<br>lr=0.0007<br>lambda_reg=0.0015<br>alpha=0.533<br>[T1=lambda_reg*alpha=0.0008]<br>[T2=lambda_reg*(1-alpha)=0.0007]<br>subgradient_step=100000.0<br>w0=-0.11<br>target_acc=98.4<br>target_zstd_ratio=0.0297<br>min_xi=0<br>max_xi=1<br>upper_c=44426<br>lower_c=0.01<br>zeta=50000<br>l=0.5<br>n_epochs=90<br>max_iterations=15<br>train_optimizer=ADAM<br>entropy_optimizer=FISTA<br>delta=32<br>pruning=Y<br>QuantizationType=center\",\"File: output-Test-2025-06-15-Fenchel.log<br>r = 1.1019<br>Accuracy: 98.76<br>Compression: 3.36%<br><b>Params:</b><br>model=LeNet-5<br>criterion=CrossEntropy<br>C=64<br>lr=0.0007<br>lambda_reg=0.0015<br>alpha=0.533<br>[T1=lambda_reg*alpha=0.0008]<br>[T2=lambda_reg*(1-alpha)=0.0007]<br>subgradient_step=100000.0<br>w0=-0.11<br>target_acc=98.4<br>target_zstd_ratio=0.0297<br>min_xi=0<br>max_xi=1<br>upper_c=44426<br>lower_c=0.01<br>zeta=50000<br>l=0.5<br>n_epochs=90<br>max_iterations=15<br>train_optimizer=ADAM<br>entropy_optimizer=FISTA<br>delta=32<br>pruning=Y<br>QuantizationType=center\",\"File: output-Test-2025-06-15-Fenchel.log<br>r = 1.1007<br>Accuracy: 98.42<br>Compression: 3.49%<br><b>Params:</b><br>model=LeNet-5<br>criterion=CrossEntropy<br>C=64<br>lr=0.0007<br>lambda_reg=0.0015<br>alpha=0.533<br>[T1=lambda_reg*alpha=0.0008]<br>[T2=lambda_reg*(1-alpha)=0.0007]<br>subgradient_step=100000.0<br>w0=-0.11<br>target_acc=98.4<br>target_zstd_ratio=0.0297<br>min_xi=0<br>max_xi=1<br>upper_c=44426<br>lower_c=0.01<br>zeta=50000<br>l=0.5<br>n_epochs=90<br>max_iterations=15<br>train_optimizer=ADAM<br>entropy_optimizer=FISTA<br>delta=32<br>pruning=Y<br>QuantizationType=center\",\"File: output-Test-2025-06-15-Fenchel.log<br>r = 1.1007<br>Accuracy: 98.37<br>Compression: 3.46%<br><b>Params:</b><br>model=LeNet-5<br>criterion=CrossEntropy<br>C=64<br>lr=0.0007<br>lambda_reg=0.0015<br>alpha=0.533<br>[T1=lambda_reg*alpha=0.0008]<br>[T2=lambda_reg*(1-alpha)=0.0007]<br>subgradient_step=100000.0<br>w0=-0.11<br>target_acc=98.4<br>target_zstd_ratio=0.0297<br>min_xi=0<br>max_xi=1<br>upper_c=44426<br>lower_c=0.01<br>zeta=50000<br>l=0.5<br>n_epochs=90<br>max_iterations=15<br>train_optimizer=ADAM<br>entropy_optimizer=FISTA<br>delta=32<br>pruning=Y<br>QuantizationType=center\",\"File: output-Test-2025-06-15-Fenchel.log<br>r = 1.1007<br>Accuracy: 98.26<br>Compression: 3.42%<br><b>Params:</b><br>model=LeNet-5<br>criterion=CrossEntropy<br>C=64<br>lr=0.0007<br>lambda_reg=0.0015<br>alpha=0.533<br>[T1=lambda_reg*alpha=0.0008]<br>[T2=lambda_reg*(1-alpha)=0.0007]<br>subgradient_step=100000.0<br>w0=-0.11<br>target_acc=98.4<br>target_zstd_ratio=0.0297<br>min_xi=0<br>max_xi=1<br>upper_c=44426<br>lower_c=0.01<br>zeta=50000<br>l=0.5<br>n_epochs=90<br>max_iterations=15<br>train_optimizer=ADAM<br>entropy_optimizer=FISTA<br>delta=32<br>pruning=Y<br>QuantizationType=center\",\"File: output-Test-2025-06-15-Fenchel.log<br>r = 1.1007<br>Accuracy: 98.08<br>Compression: 3.37%<br><b>Params:</b><br>model=LeNet-5<br>criterion=CrossEntropy<br>C=64<br>lr=0.0007<br>lambda_reg=0.0015<br>alpha=0.533<br>[T1=lambda_reg*alpha=0.0008]<br>[T2=lambda_reg*(1-alpha)=0.0007]<br>subgradient_step=100000.0<br>w0=-0.11<br>target_acc=98.4<br>target_zstd_ratio=0.0297<br>min_xi=0<br>max_xi=1<br>upper_c=44426<br>lower_c=0.01<br>zeta=50000<br>l=0.5<br>n_epochs=90<br>max_iterations=15<br>train_optimizer=ADAM<br>entropy_optimizer=FISTA<br>delta=32<br>pruning=Y<br>QuantizationType=center\",\"File: output-Test-2025-06-15-Fenchel.log<br>r = 1.1007<br>Accuracy: 98.23<br>Compression: 3.37%<br><b>Params:</b><br>model=LeNet-5<br>criterion=CrossEntropy<br>C=64<br>lr=0.0007<br>lambda_reg=0.0015<br>alpha=0.533<br>[T1=lambda_reg*alpha=0.0008]<br>[T2=lambda_reg*(1-alpha)=0.0007]<br>subgradient_step=100000.0<br>w0=-0.11<br>target_acc=98.4<br>target_zstd_ratio=0.0297<br>min_xi=0<br>max_xi=1<br>upper_c=44426<br>lower_c=0.01<br>zeta=50000<br>l=0.5<br>n_epochs=90<br>max_iterations=15<br>train_optimizer=ADAM<br>entropy_optimizer=FISTA<br>delta=32<br>pruning=Y<br>QuantizationType=center\",\"File: output-Test-2025-06-15-Fenchel.log<br>r = 1.1007<br>Accuracy: 98.22<br>Compression: 3.33%<br><b>Params:</b><br>model=LeNet-5<br>criterion=CrossEntropy<br>C=64<br>lr=0.0007<br>lambda_reg=0.0015<br>alpha=0.533<br>[T1=lambda_reg*alpha=0.0008]<br>[T2=lambda_reg*(1-alpha)=0.0007]<br>subgradient_step=100000.0<br>w0=-0.11<br>target_acc=98.4<br>target_zstd_ratio=0.0297<br>min_xi=0<br>max_xi=1<br>upper_c=44426<br>lower_c=0.01<br>zeta=50000<br>l=0.5<br>n_epochs=90<br>max_iterations=15<br>train_optimizer=ADAM<br>entropy_optimizer=FISTA<br>delta=32<br>pruning=Y<br>QuantizationType=center\",\"File: output-Test-2025-06-15-Fenchel.log<br>r = 1.1007<br>Accuracy: 98.34<br>Compression: 3.25%<br><b>Params:</b><br>model=LeNet-5<br>criterion=CrossEntropy<br>C=64<br>lr=0.0007<br>lambda_reg=0.0015<br>alpha=0.533<br>[T1=lambda_reg*alpha=0.0008]<br>[T2=lambda_reg*(1-alpha)=0.0007]<br>subgradient_step=100000.0<br>w0=-0.11<br>target_acc=98.4<br>target_zstd_ratio=0.0297<br>min_xi=0<br>max_xi=1<br>upper_c=44426<br>lower_c=0.01<br>zeta=50000<br>l=0.5<br>n_epochs=90<br>max_iterations=15<br>train_optimizer=ADAM<br>entropy_optimizer=FISTA<br>delta=32<br>pruning=Y<br>QuantizationType=center\",\"File: output-Test-2025-06-15-Fenchel.log<br>r = 1.1007<br>Accuracy: 98.29<br>Compression: 3.2%<br><b>Params:</b><br>model=LeNet-5<br>criterion=CrossEntropy<br>C=64<br>lr=0.0007<br>lambda_reg=0.0015<br>alpha=0.533<br>[T1=lambda_reg*alpha=0.0008]<br>[T2=lambda_reg*(1-alpha)=0.0007]<br>subgradient_step=100000.0<br>w0=-0.11<br>target_acc=98.4<br>target_zstd_ratio=0.0297<br>min_xi=0<br>max_xi=1<br>upper_c=44426<br>lower_c=0.01<br>zeta=50000<br>l=0.5<br>n_epochs=90<br>max_iterations=15<br>train_optimizer=ADAM<br>entropy_optimizer=FISTA<br>delta=32<br>pruning=Y<br>QuantizationType=center\",\"File: output-Test-2025-06-15-Fenchel.log<br>r = 1.1007<br>Accuracy: 98.39<br>Compression: 3.24%<br><b>Params:</b><br>model=LeNet-5<br>criterion=CrossEntropy<br>C=64<br>lr=0.0007<br>lambda_reg=0.0015<br>alpha=0.533<br>[T1=lambda_reg*alpha=0.0008]<br>[T2=lambda_reg*(1-alpha)=0.0007]<br>subgradient_step=100000.0<br>w0=-0.11<br>target_acc=98.4<br>target_zstd_ratio=0.0297<br>min_xi=0<br>max_xi=1<br>upper_c=44426<br>lower_c=0.01<br>zeta=50000<br>l=0.5<br>n_epochs=90<br>max_iterations=15<br>train_optimizer=ADAM<br>entropy_optimizer=FISTA<br>delta=32<br>pruning=Y<br>QuantizationType=center\",\"File: output-Test-2025-06-15-Fenchel.log<br>r = 1.1007<br>Accuracy: 98.66<br>Compression: 3.24%<br><b>Params:</b><br>model=LeNet-5<br>criterion=CrossEntropy<br>C=64<br>lr=0.0007<br>lambda_reg=0.0015<br>alpha=0.533<br>[T1=lambda_reg*alpha=0.0008]<br>[T2=lambda_reg*(1-alpha)=0.0007]<br>subgradient_step=100000.0<br>w0=-0.11<br>target_acc=98.4<br>target_zstd_ratio=0.0297<br>min_xi=0<br>max_xi=1<br>upper_c=44426<br>lower_c=0.01<br>zeta=50000<br>l=0.5<br>n_epochs=90<br>max_iterations=15<br>train_optimizer=ADAM<br>entropy_optimizer=FISTA<br>delta=32<br>pruning=Y<br>QuantizationType=center\",\"File: output-Test-2025-06-15-Fenchel.log<br>r = 1.1007<br>Accuracy: 98.72<br>Compression: 3.22%<br><b>Params:</b><br>model=LeNet-5<br>criterion=CrossEntropy<br>C=64<br>lr=0.0007<br>lambda_reg=0.0015<br>alpha=0.533<br>[T1=lambda_reg*alpha=0.0008]<br>[T2=lambda_reg*(1-alpha)=0.0007]<br>subgradient_step=100000.0<br>w0=-0.11<br>target_acc=98.4<br>target_zstd_ratio=0.0297<br>min_xi=0<br>max_xi=1<br>upper_c=44426<br>lower_c=0.01<br>zeta=50000<br>l=0.5<br>n_epochs=90<br>max_iterations=15<br>train_optimizer=ADAM<br>entropy_optimizer=FISTA<br>delta=32<br>pruning=Y<br>QuantizationType=center\",\"File: output-Test-2025-06-15-Fenchel.log<br>r = 1.1007<br>Accuracy: 98.04<br>Compression: 3.07%<br><b>Params:</b><br>model=LeNet-5<br>criterion=CrossEntropy<br>C=64<br>lr=0.0007<br>lambda_reg=0.0015<br>alpha=0.533<br>[T1=lambda_reg*alpha=0.0008]<br>[T2=lambda_reg*(1-alpha)=0.0007]<br>subgradient_step=100000.0<br>w0=-0.11<br>target_acc=98.4<br>target_zstd_ratio=0.0297<br>min_xi=0<br>max_xi=1<br>upper_c=44426<br>lower_c=0.01<br>zeta=50000<br>l=0.5<br>n_epochs=90<br>max_iterations=15<br>train_optimizer=ADAM<br>entropy_optimizer=FISTA<br>delta=32<br>pruning=Y<br>QuantizationType=center\",\"File: output-Test-2025-06-15-Fenchel.log<br>r = 1.1007<br>Accuracy: 98.08<br>Compression: 3.08%<br><b>Params:</b><br>model=LeNet-5<br>criterion=CrossEntropy<br>C=64<br>lr=0.0007<br>lambda_reg=0.0015<br>alpha=0.533<br>[T1=lambda_reg*alpha=0.0008]<br>[T2=lambda_reg*(1-alpha)=0.0007]<br>subgradient_step=100000.0<br>w0=-0.11<br>target_acc=98.4<br>target_zstd_ratio=0.0297<br>min_xi=0<br>max_xi=1<br>upper_c=44426<br>lower_c=0.01<br>zeta=50000<br>l=0.5<br>n_epochs=90<br>max_iterations=15<br>train_optimizer=ADAM<br>entropy_optimizer=FISTA<br>delta=32<br>pruning=Y<br>QuantizationType=center\",\"File: output-Test-2025-06-15-Fenchel.log<br>r = 1.1007<br>Accuracy: 98.24<br>Compression: 3.04%<br><b>Params:</b><br>model=LeNet-5<br>criterion=CrossEntropy<br>C=64<br>lr=0.0007<br>lambda_reg=0.0015<br>alpha=0.533<br>[T1=lambda_reg*alpha=0.0008]<br>[T2=lambda_reg*(1-alpha)=0.0007]<br>subgradient_step=100000.0<br>w0=-0.11<br>target_acc=98.4<br>target_zstd_ratio=0.0297<br>min_xi=0<br>max_xi=1<br>upper_c=44426<br>lower_c=0.01<br>zeta=50000<br>l=0.5<br>n_epochs=90<br>max_iterations=15<br>train_optimizer=ADAM<br>entropy_optimizer=FISTA<br>delta=32<br>pruning=Y<br>QuantizationType=center\",\"File: output-Test-2025-06-15-Fenchel.log<br>r = 1.1007<br>Accuracy: 98.33<br>Compression: 3.0%<br><b>Params:</b><br>model=LeNet-5<br>criterion=CrossEntropy<br>C=64<br>lr=0.0007<br>lambda_reg=0.0015<br>alpha=0.533<br>[T1=lambda_reg*alpha=0.0008]<br>[T2=lambda_reg*(1-alpha)=0.0007]<br>subgradient_step=100000.0<br>w0=-0.11<br>target_acc=98.4<br>target_zstd_ratio=0.0297<br>min_xi=0<br>max_xi=1<br>upper_c=44426<br>lower_c=0.01<br>zeta=50000<br>l=0.5<br>n_epochs=90<br>max_iterations=15<br>train_optimizer=ADAM<br>entropy_optimizer=FISTA<br>delta=32<br>pruning=Y<br>QuantizationType=center\",\"File: output-Test-2025-06-15-Fenchel.log<br>r = 1.1003<br>Accuracy: 98.36<br>Compression: 3.35%<br><b>Params:</b><br>model=LeNet-5<br>criterion=CrossEntropy<br>C=64<br>lr=0.0007<br>lambda_reg=0.0015<br>alpha=0.533<br>[T1=lambda_reg*alpha=0.0008]<br>[T2=lambda_reg*(1-alpha)=0.0007]<br>subgradient_step=100000.0<br>w0=-0.11<br>target_acc=98.4<br>target_zstd_ratio=0.0297<br>min_xi=0<br>max_xi=1<br>upper_c=44426<br>lower_c=0.01<br>zeta=50000<br>l=0.5<br>n_epochs=90<br>max_iterations=15<br>train_optimizer=ADAM<br>entropy_optimizer=FISTA<br>delta=32<br>pruning=Y<br>QuantizationType=center\",\"File: output-Test-2025-06-15-Fenchel.log<br>r = 1.1003<br>Accuracy: 98.23<br>Compression: 3.36%<br><b>Params:</b><br>model=LeNet-5<br>criterion=CrossEntropy<br>C=64<br>lr=0.0007<br>lambda_reg=0.0015<br>alpha=0.533<br>[T1=lambda_reg*alpha=0.0008]<br>[T2=lambda_reg*(1-alpha)=0.0007]<br>subgradient_step=100000.0<br>w0=-0.11<br>target_acc=98.4<br>target_zstd_ratio=0.0297<br>min_xi=0<br>max_xi=1<br>upper_c=44426<br>lower_c=0.01<br>zeta=50000<br>l=0.5<br>n_epochs=90<br>max_iterations=15<br>train_optimizer=ADAM<br>entropy_optimizer=FISTA<br>delta=32<br>pruning=Y<br>QuantizationType=center\",\"File: output-Test-2025-06-15-Fenchel.log<br>r = 1.1003<br>Accuracy: 98.33<br>Compression: 3.35%<br><b>Params:</b><br>model=LeNet-5<br>criterion=CrossEntropy<br>C=64<br>lr=0.0007<br>lambda_reg=0.0015<br>alpha=0.533<br>[T1=lambda_reg*alpha=0.0008]<br>[T2=lambda_reg*(1-alpha)=0.0007]<br>subgradient_step=100000.0<br>w0=-0.11<br>target_acc=98.4<br>target_zstd_ratio=0.0297<br>min_xi=0<br>max_xi=1<br>upper_c=44426<br>lower_c=0.01<br>zeta=50000<br>l=0.5<br>n_epochs=90<br>max_iterations=15<br>train_optimizer=ADAM<br>entropy_optimizer=FISTA<br>delta=32<br>pruning=Y<br>QuantizationType=center\",\"File: output-Test-2025-06-15-Fenchel.log<br>r = 1.1003<br>Accuracy: 98.08<br>Compression: 3.29%<br><b>Params:</b><br>model=LeNet-5<br>criterion=CrossEntropy<br>C=64<br>lr=0.0007<br>lambda_reg=0.0015<br>alpha=0.533<br>[T1=lambda_reg*alpha=0.0008]<br>[T2=lambda_reg*(1-alpha)=0.0007]<br>subgradient_step=100000.0<br>w0=-0.11<br>target_acc=98.4<br>target_zstd_ratio=0.0297<br>min_xi=0<br>max_xi=1<br>upper_c=44426<br>lower_c=0.01<br>zeta=50000<br>l=0.5<br>n_epochs=90<br>max_iterations=15<br>train_optimizer=ADAM<br>entropy_optimizer=FISTA<br>delta=32<br>pruning=Y<br>QuantizationType=center\",\"File: output-Test-2025-06-15-Fenchel.log<br>r = 1.1003<br>Accuracy: 98.24<br>Compression: 3.22%<br><b>Params:</b><br>model=LeNet-5<br>criterion=CrossEntropy<br>C=64<br>lr=0.0007<br>lambda_reg=0.0015<br>alpha=0.533<br>[T1=lambda_reg*alpha=0.0008]<br>[T2=lambda_reg*(1-alpha)=0.0007]<br>subgradient_step=100000.0<br>w0=-0.11<br>target_acc=98.4<br>target_zstd_ratio=0.0297<br>min_xi=0<br>max_xi=1<br>upper_c=44426<br>lower_c=0.01<br>zeta=50000<br>l=0.5<br>n_epochs=90<br>max_iterations=15<br>train_optimizer=ADAM<br>entropy_optimizer=FISTA<br>delta=32<br>pruning=Y<br>QuantizationType=center\",\"File: output-Test-2025-06-15-Fenchel.log<br>r = 1.1003<br>Accuracy: 98.38<br>Compression: 3.26%<br><b>Params:</b><br>model=LeNet-5<br>criterion=CrossEntropy<br>C=64<br>lr=0.0007<br>lambda_reg=0.0015<br>alpha=0.533<br>[T1=lambda_reg*alpha=0.0008]<br>[T2=lambda_reg*(1-alpha)=0.0007]<br>subgradient_step=100000.0<br>w0=-0.11<br>target_acc=98.4<br>target_zstd_ratio=0.0297<br>min_xi=0<br>max_xi=1<br>upper_c=44426<br>lower_c=0.01<br>zeta=50000<br>l=0.5<br>n_epochs=90<br>max_iterations=15<br>train_optimizer=ADAM<br>entropy_optimizer=FISTA<br>delta=32<br>pruning=Y<br>QuantizationType=center\",\"File: output-Test-2025-06-15-Fenchel.log<br>r = 1.1014<br>Accuracy: 98.1<br>Compression: 3.25%<br><b>Params:</b><br>model=LeNet-5<br>criterion=CrossEntropy<br>C=64<br>lr=0.0007<br>lambda_reg=0.0015<br>alpha=0.533<br>[T1=lambda_reg*alpha=0.0008]<br>[T2=lambda_reg*(1-alpha)=0.0007]<br>subgradient_step=100000.0<br>w0=-0.11<br>target_acc=98.4<br>target_zstd_ratio=0.0297<br>min_xi=0<br>max_xi=1<br>upper_c=44426<br>lower_c=0.01<br>zeta=50000<br>l=0.5<br>n_epochs=90<br>max_iterations=15<br>train_optimizer=ADAM<br>entropy_optimizer=FISTA<br>delta=32<br>pruning=Y<br>QuantizationType=center\",\"File: output-Test-2025-06-15-Fenchel.log<br>r = 1.1014<br>Accuracy: 98.09<br>Compression: 3.23%<br><b>Params:</b><br>model=LeNet-5<br>criterion=CrossEntropy<br>C=64<br>lr=0.0007<br>lambda_reg=0.0015<br>alpha=0.533<br>[T1=lambda_reg*alpha=0.0008]<br>[T2=lambda_reg*(1-alpha)=0.0007]<br>subgradient_step=100000.0<br>w0=-0.11<br>target_acc=98.4<br>target_zstd_ratio=0.0297<br>min_xi=0<br>max_xi=1<br>upper_c=44426<br>lower_c=0.01<br>zeta=50000<br>l=0.5<br>n_epochs=90<br>max_iterations=15<br>train_optimizer=ADAM<br>entropy_optimizer=FISTA<br>delta=32<br>pruning=Y<br>QuantizationType=center\",\"File: output-Test-2025-06-15-Fenchel.log<br>r = 1.1014<br>Accuracy: 98.23<br>Compression: 3.18%<br><b>Params:</b><br>model=LeNet-5<br>criterion=CrossEntropy<br>C=64<br>lr=0.0007<br>lambda_reg=0.0015<br>alpha=0.533<br>[T1=lambda_reg*alpha=0.0008]<br>[T2=lambda_reg*(1-alpha)=0.0007]<br>subgradient_step=100000.0<br>w0=-0.11<br>target_acc=98.4<br>target_zstd_ratio=0.0297<br>min_xi=0<br>max_xi=1<br>upper_c=44426<br>lower_c=0.01<br>zeta=50000<br>l=0.5<br>n_epochs=90<br>max_iterations=15<br>train_optimizer=ADAM<br>entropy_optimizer=FISTA<br>delta=32<br>pruning=Y<br>QuantizationType=center\",\"File: output-Test-2025-06-15-Fenchel.log<br>r = 1.1014<br>Accuracy: 98.02<br>Compression: 3.11%<br><b>Params:</b><br>model=LeNet-5<br>criterion=CrossEntropy<br>C=64<br>lr=0.0007<br>lambda_reg=0.0015<br>alpha=0.533<br>[T1=lambda_reg*alpha=0.0008]<br>[T2=lambda_reg*(1-alpha)=0.0007]<br>subgradient_step=100000.0<br>w0=-0.11<br>target_acc=98.4<br>target_zstd_ratio=0.0297<br>min_xi=0<br>max_xi=1<br>upper_c=44426<br>lower_c=0.01<br>zeta=50000<br>l=0.5<br>n_epochs=90<br>max_iterations=15<br>train_optimizer=ADAM<br>entropy_optimizer=FISTA<br>delta=32<br>pruning=Y<br>QuantizationType=center\",\"File: output-Test-2025-06-15-Fenchel.log<br>r = 1.1014<br>Accuracy: 98.07<br>Compression: 2.98%<br><b>Params:</b><br>model=LeNet-5<br>criterion=CrossEntropy<br>C=64<br>lr=0.0007<br>lambda_reg=0.0015<br>alpha=0.533<br>[T1=lambda_reg*alpha=0.0008]<br>[T2=lambda_reg*(1-alpha)=0.0007]<br>subgradient_step=100000.0<br>w0=-0.11<br>target_acc=98.4<br>target_zstd_ratio=0.0297<br>min_xi=0<br>max_xi=1<br>upper_c=44426<br>lower_c=0.01<br>zeta=50000<br>l=0.5<br>n_epochs=90<br>max_iterations=15<br>train_optimizer=ADAM<br>entropy_optimizer=FISTA<br>delta=32<br>pruning=Y<br>QuantizationType=center\",\"File: output-Test-2025-06-15-Fenchel.log<br>r = 1.1014<br>Accuracy: 98.32<br>Compression: 2.94%<br><b>Params:</b><br>model=LeNet-5<br>criterion=CrossEntropy<br>C=64<br>lr=0.0007<br>lambda_reg=0.0015<br>alpha=0.533<br>[T1=lambda_reg*alpha=0.0008]<br>[T2=lambda_reg*(1-alpha)=0.0007]<br>subgradient_step=100000.0<br>w0=-0.11<br>target_acc=98.4<br>target_zstd_ratio=0.0297<br>min_xi=0<br>max_xi=1<br>upper_c=44426<br>lower_c=0.01<br>zeta=50000<br>l=0.5<br>n_epochs=90<br>max_iterations=15<br>train_optimizer=ADAM<br>entropy_optimizer=FISTA<br>delta=32<br>pruning=Y<br>QuantizationType=center\",\"File: output-Test-2025-06-15-Fenchel.log<br>r = 1.1014<br>Accuracy: 98.63<br>Compression: 3.39%<br><b>Params:</b><br>model=LeNet-5<br>criterion=CrossEntropy<br>C=64<br>lr=0.0007<br>lambda_reg=0.0015<br>alpha=0.533<br>[T1=lambda_reg*alpha=0.0008]<br>[T2=lambda_reg*(1-alpha)=0.0007]<br>subgradient_step=100000.0<br>w0=-0.11<br>target_acc=98.4<br>target_zstd_ratio=0.0297<br>min_xi=0<br>max_xi=1<br>upper_c=44426<br>lower_c=0.01<br>zeta=50000<br>l=0.5<br>n_epochs=90<br>max_iterations=15<br>train_optimizer=ADAM<br>entropy_optimizer=FISTA<br>delta=32<br>pruning=Y<br>QuantizationType=center\",\"File: output-Test-2025-06-15-Fenchel.log<br>r = 1.1014<br>Accuracy: 98.58<br>Compression: 3.27%<br><b>Params:</b><br>model=LeNet-5<br>criterion=CrossEntropy<br>C=64<br>lr=0.0007<br>lambda_reg=0.0015<br>alpha=0.533<br>[T1=lambda_reg*alpha=0.0008]<br>[T2=lambda_reg*(1-alpha)=0.0007]<br>subgradient_step=100000.0<br>w0=-0.11<br>target_acc=98.4<br>target_zstd_ratio=0.0297<br>min_xi=0<br>max_xi=1<br>upper_c=44426<br>lower_c=0.01<br>zeta=50000<br>l=0.5<br>n_epochs=90<br>max_iterations=15<br>train_optimizer=ADAM<br>entropy_optimizer=FISTA<br>delta=32<br>pruning=Y<br>QuantizationType=center\",\"File: output-Test-2025-06-15-Fenchel.log<br>r = 1.1014<br>Accuracy: 98.54<br>Compression: 2.88%<br><b>Params:</b><br>model=LeNet-5<br>criterion=CrossEntropy<br>C=64<br>lr=0.0007<br>lambda_reg=0.0015<br>alpha=0.533<br>[T1=lambda_reg*alpha=0.0008]<br>[T2=lambda_reg*(1-alpha)=0.0007]<br>subgradient_step=100000.0<br>w0=-0.11<br>target_acc=98.4<br>target_zstd_ratio=0.0297<br>min_xi=0<br>max_xi=1<br>upper_c=44426<br>lower_c=0.01<br>zeta=50000<br>l=0.5<br>n_epochs=90<br>max_iterations=15<br>train_optimizer=ADAM<br>entropy_optimizer=FISTA<br>delta=32<br>pruning=Y<br>QuantizationType=center\",\"File: output-Test-2025-06-15-Fenchel.log<br>r = 1.1014<br>Accuracy: 98.67<br>Compression: 3.4%<br><b>Params:</b><br>model=LeNet-5<br>criterion=CrossEntropy<br>C=64<br>lr=0.0007<br>lambda_reg=0.0015<br>alpha=0.533<br>[T1=lambda_reg*alpha=0.0008]<br>[T2=lambda_reg*(1-alpha)=0.0007]<br>subgradient_step=100000.0<br>w0=-0.11<br>target_acc=98.4<br>target_zstd_ratio=0.0297<br>min_xi=0<br>max_xi=1<br>upper_c=44426<br>lower_c=0.01<br>zeta=50000<br>l=0.5<br>n_epochs=90<br>max_iterations=15<br>train_optimizer=ADAM<br>entropy_optimizer=FISTA<br>delta=32<br>pruning=Y<br>QuantizationType=center\",\"File: output-Test-2025-06-15-Fenchel.log<br>r = 1.1014<br>Accuracy: 98.66<br>Compression: 3.35%<br><b>Params:</b><br>model=LeNet-5<br>criterion=CrossEntropy<br>C=64<br>lr=0.0007<br>lambda_reg=0.0015<br>alpha=0.533<br>[T1=lambda_reg*alpha=0.0008]<br>[T2=lambda_reg*(1-alpha)=0.0007]<br>subgradient_step=100000.0<br>w0=-0.11<br>target_acc=98.4<br>target_zstd_ratio=0.0297<br>min_xi=0<br>max_xi=1<br>upper_c=44426<br>lower_c=0.01<br>zeta=50000<br>l=0.5<br>n_epochs=90<br>max_iterations=15<br>train_optimizer=ADAM<br>entropy_optimizer=FISTA<br>delta=32<br>pruning=Y<br>QuantizationType=center\",\"File: output-Test-2025-06-15-Fenchel.log<br>r = 1.1014<br>Accuracy: 98.66<br>Compression: 3.45%<br><b>Params:</b><br>model=LeNet-5<br>criterion=CrossEntropy<br>C=64<br>lr=0.0007<br>lambda_reg=0.0015<br>alpha=0.533<br>[T1=lambda_reg*alpha=0.0008]<br>[T2=lambda_reg*(1-alpha)=0.0007]<br>subgradient_step=100000.0<br>w0=-0.11<br>target_acc=98.4<br>target_zstd_ratio=0.0297<br>min_xi=0<br>max_xi=1<br>upper_c=44426<br>lower_c=0.01<br>zeta=50000<br>l=0.5<br>n_epochs=90<br>max_iterations=15<br>train_optimizer=ADAM<br>entropy_optimizer=FISTA<br>delta=32<br>pruning=Y<br>QuantizationType=center\",\"File: output-Test-2025-06-15-Fenchel.log<br>r = 1.1014<br>Accuracy: 98.36<br>Compression: 2.86%<br><b>Params:</b><br>model=LeNet-5<br>criterion=CrossEntropy<br>C=64<br>lr=0.0007<br>lambda_reg=0.0015<br>alpha=0.533<br>[T1=lambda_reg*alpha=0.0008]<br>[T2=lambda_reg*(1-alpha)=0.0007]<br>subgradient_step=100000.0<br>w0=-0.11<br>target_acc=98.4<br>target_zstd_ratio=0.0297<br>min_xi=0<br>max_xi=1<br>upper_c=44426<br>lower_c=0.01<br>zeta=50000<br>l=0.5<br>n_epochs=90<br>max_iterations=15<br>train_optimizer=ADAM<br>entropy_optimizer=FISTA<br>delta=32<br>pruning=Y<br>QuantizationType=center\",\"File: output-Test-2025-06-15-Fenchel.log<br>r = 1.1014<br>Accuracy: 98.01<br>Compression: 2.78%<br><b>Params:</b><br>model=LeNet-5<br>criterion=CrossEntropy<br>C=64<br>lr=0.0007<br>lambda_reg=0.0015<br>alpha=0.533<br>[T1=lambda_reg*alpha=0.0008]<br>[T2=lambda_reg*(1-alpha)=0.0007]<br>subgradient_step=100000.0<br>w0=-0.11<br>target_acc=98.4<br>target_zstd_ratio=0.0297<br>min_xi=0<br>max_xi=1<br>upper_c=44426<br>lower_c=0.01<br>zeta=50000<br>l=0.5<br>n_epochs=90<br>max_iterations=15<br>train_optimizer=ADAM<br>entropy_optimizer=FISTA<br>delta=32<br>pruning=Y<br>QuantizationType=center\",\"File: output-Test-2025-06-15-Fenchel.log<br>r = 1.1014<br>Accuracy: 98.45<br>Compression: 2.76%<br><b>Params:</b><br>model=LeNet-5<br>criterion=CrossEntropy<br>C=64<br>lr=0.0007<br>lambda_reg=0.0015<br>alpha=0.533<br>[T1=lambda_reg*alpha=0.0008]<br>[T2=lambda_reg*(1-alpha)=0.0007]<br>subgradient_step=100000.0<br>w0=-0.11<br>target_acc=98.4<br>target_zstd_ratio=0.0297<br>min_xi=0<br>max_xi=1<br>upper_c=44426<br>lower_c=0.01<br>zeta=50000<br>l=0.5<br>n_epochs=90<br>max_iterations=15<br>train_optimizer=ADAM<br>entropy_optimizer=FISTA<br>delta=32<br>pruning=Y<br>QuantizationType=center\",\"File: output-Test-2025-06-15-Fenchel.log<br>r = 1.1014<br>Accuracy: 98.32<br>Compression: 2.73%<br><b>Params:</b><br>model=LeNet-5<br>criterion=CrossEntropy<br>C=64<br>lr=0.0007<br>lambda_reg=0.0015<br>alpha=0.533<br>[T1=lambda_reg*alpha=0.0008]<br>[T2=lambda_reg*(1-alpha)=0.0007]<br>subgradient_step=100000.0<br>w0=-0.11<br>target_acc=98.4<br>target_zstd_ratio=0.0297<br>min_xi=0<br>max_xi=1<br>upper_c=44426<br>lower_c=0.01<br>zeta=50000<br>l=0.5<br>n_epochs=90<br>max_iterations=15<br>train_optimizer=ADAM<br>entropy_optimizer=FISTA<br>delta=32<br>pruning=Y<br>QuantizationType=center\",\"File: output-Test-2025-06-15-Fenchel.log<br>r = 1.1014<br>Accuracy: 98.03<br>Compression: 2.7%<br><b>Params:</b><br>model=LeNet-5<br>criterion=CrossEntropy<br>C=64<br>lr=0.0007<br>lambda_reg=0.0015<br>alpha=0.533<br>[T1=lambda_reg*alpha=0.0008]<br>[T2=lambda_reg*(1-alpha)=0.0007]<br>subgradient_step=100000.0<br>w0=-0.11<br>target_acc=98.4<br>target_zstd_ratio=0.0297<br>min_xi=0<br>max_xi=1<br>upper_c=44426<br>lower_c=0.01<br>zeta=50000<br>l=0.5<br>n_epochs=90<br>max_iterations=15<br>train_optimizer=ADAM<br>entropy_optimizer=FISTA<br>delta=32<br>pruning=Y<br>QuantizationType=center\",\"File: output-Test-2025-06-15-Fenchel.log<br>r = 1.1014<br>Accuracy: 98.12<br>Compression: 2.69%<br><b>Params:</b><br>model=LeNet-5<br>criterion=CrossEntropy<br>C=64<br>lr=0.0007<br>lambda_reg=0.0015<br>alpha=0.533<br>[T1=lambda_reg*alpha=0.0008]<br>[T2=lambda_reg*(1-alpha)=0.0007]<br>subgradient_step=100000.0<br>w0=-0.11<br>target_acc=98.4<br>target_zstd_ratio=0.0297<br>min_xi=0<br>max_xi=1<br>upper_c=44426<br>lower_c=0.01<br>zeta=50000<br>l=0.5<br>n_epochs=90<br>max_iterations=15<br>train_optimizer=ADAM<br>entropy_optimizer=FISTA<br>delta=32<br>pruning=Y<br>QuantizationType=center\",\"File: output-Test-2025-06-15-Fenchel.log<br>r = 1.101<br>Accuracy: 98.11<br>Compression: 3.49%<br><b>Params:</b><br>model=LeNet-5<br>criterion=CrossEntropy<br>C=64<br>lr=0.0007<br>lambda_reg=0.0015<br>alpha=0.533<br>[T1=lambda_reg*alpha=0.0008]<br>[T2=lambda_reg*(1-alpha)=0.0007]<br>subgradient_step=100000.0<br>w0=-0.11<br>target_acc=98.4<br>target_zstd_ratio=0.0297<br>min_xi=0<br>max_xi=1<br>upper_c=44426<br>lower_c=0.01<br>zeta=50000<br>l=0.5<br>n_epochs=90<br>max_iterations=15<br>train_optimizer=ADAM<br>entropy_optimizer=FISTA<br>delta=32<br>pruning=Y<br>QuantizationType=center\",\"File: output-Test-2025-06-15-Fenchel.log<br>r = 1.101<br>Accuracy: 98.25<br>Compression: 3.43%<br><b>Params:</b><br>model=LeNet-5<br>criterion=CrossEntropy<br>C=64<br>lr=0.0007<br>lambda_reg=0.0015<br>alpha=0.533<br>[T1=lambda_reg*alpha=0.0008]<br>[T2=lambda_reg*(1-alpha)=0.0007]<br>subgradient_step=100000.0<br>w0=-0.11<br>target_acc=98.4<br>target_zstd_ratio=0.0297<br>min_xi=0<br>max_xi=1<br>upper_c=44426<br>lower_c=0.01<br>zeta=50000<br>l=0.5<br>n_epochs=90<br>max_iterations=15<br>train_optimizer=ADAM<br>entropy_optimizer=FISTA<br>delta=32<br>pruning=Y<br>QuantizationType=center\",\"File: output-Test-2025-06-15-Fenchel.log<br>r = 1.101<br>Accuracy: 98.55<br>Compression: 3.4%<br><b>Params:</b><br>model=LeNet-5<br>criterion=CrossEntropy<br>C=64<br>lr=0.0007<br>lambda_reg=0.0015<br>alpha=0.533<br>[T1=lambda_reg*alpha=0.0008]<br>[T2=lambda_reg*(1-alpha)=0.0007]<br>subgradient_step=100000.0<br>w0=-0.11<br>target_acc=98.4<br>target_zstd_ratio=0.0297<br>min_xi=0<br>max_xi=1<br>upper_c=44426<br>lower_c=0.01<br>zeta=50000<br>l=0.5<br>n_epochs=90<br>max_iterations=15<br>train_optimizer=ADAM<br>entropy_optimizer=FISTA<br>delta=32<br>pruning=Y<br>QuantizationType=center\",\"File: output-Test-2025-06-15-Fenchel.log<br>r = 1.101<br>Accuracy: 98.04<br>Compression: 3.33%<br><b>Params:</b><br>model=LeNet-5<br>criterion=CrossEntropy<br>C=64<br>lr=0.0007<br>lambda_reg=0.0015<br>alpha=0.533<br>[T1=lambda_reg*alpha=0.0008]<br>[T2=lambda_reg*(1-alpha)=0.0007]<br>subgradient_step=100000.0<br>w0=-0.11<br>target_acc=98.4<br>target_zstd_ratio=0.0297<br>min_xi=0<br>max_xi=1<br>upper_c=44426<br>lower_c=0.01<br>zeta=50000<br>l=0.5<br>n_epochs=90<br>max_iterations=15<br>train_optimizer=ADAM<br>entropy_optimizer=FISTA<br>delta=32<br>pruning=Y<br>QuantizationType=center\",\"File: output-Test-2025-06-15-Fenchel.log<br>r = 1.101<br>Accuracy: 98.12<br>Compression: 3.28%<br><b>Params:</b><br>model=LeNet-5<br>criterion=CrossEntropy<br>C=64<br>lr=0.0007<br>lambda_reg=0.0015<br>alpha=0.533<br>[T1=lambda_reg*alpha=0.0008]<br>[T2=lambda_reg*(1-alpha)=0.0007]<br>subgradient_step=100000.0<br>w0=-0.11<br>target_acc=98.4<br>target_zstd_ratio=0.0297<br>min_xi=0<br>max_xi=1<br>upper_c=44426<br>lower_c=0.01<br>zeta=50000<br>l=0.5<br>n_epochs=90<br>max_iterations=15<br>train_optimizer=ADAM<br>entropy_optimizer=FISTA<br>delta=32<br>pruning=Y<br>QuantizationType=center\",\"File: output-Test-2025-06-15-Fenchel.log<br>r = 1.101<br>Accuracy: 98.37<br>Compression: 3.25%<br><b>Params:</b><br>model=LeNet-5<br>criterion=CrossEntropy<br>C=64<br>lr=0.0007<br>lambda_reg=0.0015<br>alpha=0.533<br>[T1=lambda_reg*alpha=0.0008]<br>[T2=lambda_reg*(1-alpha)=0.0007]<br>subgradient_step=100000.0<br>w0=-0.11<br>target_acc=98.4<br>target_zstd_ratio=0.0297<br>min_xi=0<br>max_xi=1<br>upper_c=44426<br>lower_c=0.01<br>zeta=50000<br>l=0.5<br>n_epochs=90<br>max_iterations=15<br>train_optimizer=ADAM<br>entropy_optimizer=FISTA<br>delta=32<br>pruning=Y<br>QuantizationType=center\",\"File: output-Test-2025-06-15-Fenchel.log<br>r = 1.101<br>Accuracy: 98.07<br>Compression: 3.24%<br><b>Params:</b><br>model=LeNet-5<br>criterion=CrossEntropy<br>C=64<br>lr=0.0007<br>lambda_reg=0.0015<br>alpha=0.533<br>[T1=lambda_reg*alpha=0.0008]<br>[T2=lambda_reg*(1-alpha)=0.0007]<br>subgradient_step=100000.0<br>w0=-0.11<br>target_acc=98.4<br>target_zstd_ratio=0.0297<br>min_xi=0<br>max_xi=1<br>upper_c=44426<br>lower_c=0.01<br>zeta=50000<br>l=0.5<br>n_epochs=90<br>max_iterations=15<br>train_optimizer=ADAM<br>entropy_optimizer=FISTA<br>delta=32<br>pruning=Y<br>QuantizationType=center\",\"File: output-Test-2025-06-15-Fenchel.log<br>r = 1.103<br>Accuracy: 98.22<br>Compression: 3.48%<br><b>Params:</b><br>model=LeNet-5<br>criterion=CrossEntropy<br>C=64<br>lr=0.0007<br>lambda_reg=0.0015<br>alpha=0.533<br>[T1=lambda_reg*alpha=0.0008]<br>[T2=lambda_reg*(1-alpha)=0.0007]<br>subgradient_step=100000.0<br>w0=-0.11<br>target_acc=98.4<br>target_zstd_ratio=0.0297<br>min_xi=0<br>max_xi=1<br>upper_c=44426<br>lower_c=0.01<br>zeta=50000<br>l=0.5<br>n_epochs=90<br>max_iterations=15<br>train_optimizer=ADAM<br>entropy_optimizer=FISTA<br>delta=32<br>pruning=Y<br>QuantizationType=center\",\"File: output-Test-2025-06-15-Fenchel.log<br>r = 1.103<br>Accuracy: 98.8<br>Compression: 3.44%<br><b>Params:</b><br>model=LeNet-5<br>criterion=CrossEntropy<br>C=64<br>lr=0.0007<br>lambda_reg=0.0015<br>alpha=0.533<br>[T1=lambda_reg*alpha=0.0008]<br>[T2=lambda_reg*(1-alpha)=0.0007]<br>subgradient_step=100000.0<br>w0=-0.11<br>target_acc=98.4<br>target_zstd_ratio=0.0297<br>min_xi=0<br>max_xi=1<br>upper_c=44426<br>lower_c=0.01<br>zeta=50000<br>l=0.5<br>n_epochs=90<br>max_iterations=15<br>train_optimizer=ADAM<br>entropy_optimizer=FISTA<br>delta=32<br>pruning=Y<br>QuantizationType=center\",\"File: output-Test-2025-06-15-Fenchel.log<br>r = 1.103<br>Accuracy: 98.34<br>Compression: 3.37%<br><b>Params:</b><br>model=LeNet-5<br>criterion=CrossEntropy<br>C=64<br>lr=0.0007<br>lambda_reg=0.0015<br>alpha=0.533<br>[T1=lambda_reg*alpha=0.0008]<br>[T2=lambda_reg*(1-alpha)=0.0007]<br>subgradient_step=100000.0<br>w0=-0.11<br>target_acc=98.4<br>target_zstd_ratio=0.0297<br>min_xi=0<br>max_xi=1<br>upper_c=44426<br>lower_c=0.01<br>zeta=50000<br>l=0.5<br>n_epochs=90<br>max_iterations=15<br>train_optimizer=ADAM<br>entropy_optimizer=FISTA<br>delta=32<br>pruning=Y<br>QuantizationType=center\",\"File: output-Test-2025-06-15-Fenchel.log<br>r = 1.103<br>Accuracy: 98.34<br>Compression: 3.34%<br><b>Params:</b><br>model=LeNet-5<br>criterion=CrossEntropy<br>C=64<br>lr=0.0007<br>lambda_reg=0.0015<br>alpha=0.533<br>[T1=lambda_reg*alpha=0.0008]<br>[T2=lambda_reg*(1-alpha)=0.0007]<br>subgradient_step=100000.0<br>w0=-0.11<br>target_acc=98.4<br>target_zstd_ratio=0.0297<br>min_xi=0<br>max_xi=1<br>upper_c=44426<br>lower_c=0.01<br>zeta=50000<br>l=0.5<br>n_epochs=90<br>max_iterations=15<br>train_optimizer=ADAM<br>entropy_optimizer=FISTA<br>delta=32<br>pruning=Y<br>QuantizationType=center\",\"File: output-Test-2025-06-15-Fenchel.log<br>r = 1.103<br>Accuracy: 98.16<br>Compression: 3.33%<br><b>Params:</b><br>model=LeNet-5<br>criterion=CrossEntropy<br>C=64<br>lr=0.0007<br>lambda_reg=0.0015<br>alpha=0.533<br>[T1=lambda_reg*alpha=0.0008]<br>[T2=lambda_reg*(1-alpha)=0.0007]<br>subgradient_step=100000.0<br>w0=-0.11<br>target_acc=98.4<br>target_zstd_ratio=0.0297<br>min_xi=0<br>max_xi=1<br>upper_c=44426<br>lower_c=0.01<br>zeta=50000<br>l=0.5<br>n_epochs=90<br>max_iterations=15<br>train_optimizer=ADAM<br>entropy_optimizer=FISTA<br>delta=32<br>pruning=Y<br>QuantizationType=center\",\"File: output-Test-2025-06-15-Fenchel.log<br>r = 1.103<br>Accuracy: 98.12<br>Compression: 3.29%<br><b>Params:</b><br>model=LeNet-5<br>criterion=CrossEntropy<br>C=64<br>lr=0.0007<br>lambda_reg=0.0015<br>alpha=0.533<br>[T1=lambda_reg*alpha=0.0008]<br>[T2=lambda_reg*(1-alpha)=0.0007]<br>subgradient_step=100000.0<br>w0=-0.11<br>target_acc=98.4<br>target_zstd_ratio=0.0297<br>min_xi=0<br>max_xi=1<br>upper_c=44426<br>lower_c=0.01<br>zeta=50000<br>l=0.5<br>n_epochs=90<br>max_iterations=15<br>train_optimizer=ADAM<br>entropy_optimizer=FISTA<br>delta=32<br>pruning=Y<br>QuantizationType=center\",\"File: output-Test-2025-06-15-Fenchel.log<br>r = 1.103<br>Accuracy: 98.5<br>Compression: 3.23%<br><b>Params:</b><br>model=LeNet-5<br>criterion=CrossEntropy<br>C=64<br>lr=0.0007<br>lambda_reg=0.0015<br>alpha=0.533<br>[T1=lambda_reg*alpha=0.0008]<br>[T2=lambda_reg*(1-alpha)=0.0007]<br>subgradient_step=100000.0<br>w0=-0.11<br>target_acc=98.4<br>target_zstd_ratio=0.0297<br>min_xi=0<br>max_xi=1<br>upper_c=44426<br>lower_c=0.01<br>zeta=50000<br>l=0.5<br>n_epochs=90<br>max_iterations=15<br>train_optimizer=ADAM<br>entropy_optimizer=FISTA<br>delta=32<br>pruning=Y<br>QuantizationType=center\",\"File: output-Test-2025-06-15-Fenchel.log<br>r = 1.103<br>Accuracy: 98.44<br>Compression: 3.16%<br><b>Params:</b><br>model=LeNet-5<br>criterion=CrossEntropy<br>C=64<br>lr=0.0007<br>lambda_reg=0.0015<br>alpha=0.533<br>[T1=lambda_reg*alpha=0.0008]<br>[T2=lambda_reg*(1-alpha)=0.0007]<br>subgradient_step=100000.0<br>w0=-0.11<br>target_acc=98.4<br>target_zstd_ratio=0.0297<br>min_xi=0<br>max_xi=1<br>upper_c=44426<br>lower_c=0.01<br>zeta=50000<br>l=0.5<br>n_epochs=90<br>max_iterations=15<br>train_optimizer=ADAM<br>entropy_optimizer=FISTA<br>delta=32<br>pruning=Y<br>QuantizationType=center\",\"File: output-Test-2025-06-15-Fenchel.log<br>r = 1.1016<br>Accuracy: 98.01<br>Compression: 3.49%<br><b>Params:</b><br>model=LeNet-5<br>criterion=CrossEntropy<br>C=64<br>lr=0.0007<br>lambda_reg=0.0015<br>alpha=0.533<br>[T1=lambda_reg*alpha=0.0008]<br>[T2=lambda_reg*(1-alpha)=0.0007]<br>subgradient_step=100000.0<br>w0=-0.11<br>target_acc=98.4<br>target_zstd_ratio=0.0297<br>min_xi=0<br>max_xi=1<br>upper_c=44426<br>lower_c=0.01<br>zeta=50000<br>l=0.5<br>n_epochs=90<br>max_iterations=15<br>train_optimizer=ADAM<br>entropy_optimizer=FISTA<br>delta=32<br>pruning=Y<br>QuantizationType=center\",\"File: output-Test-2025-06-15-Fenchel.log<br>r = 1.1016<br>Accuracy: 98.29<br>Compression: 3.4%<br><b>Params:</b><br>model=LeNet-5<br>criterion=CrossEntropy<br>C=64<br>lr=0.0007<br>lambda_reg=0.0015<br>alpha=0.533<br>[T1=lambda_reg*alpha=0.0008]<br>[T2=lambda_reg*(1-alpha)=0.0007]<br>subgradient_step=100000.0<br>w0=-0.11<br>target_acc=98.4<br>target_zstd_ratio=0.0297<br>min_xi=0<br>max_xi=1<br>upper_c=44426<br>lower_c=0.01<br>zeta=50000<br>l=0.5<br>n_epochs=90<br>max_iterations=15<br>train_optimizer=ADAM<br>entropy_optimizer=FISTA<br>delta=32<br>pruning=Y<br>QuantizationType=center\",\"File: output-Test-2025-06-15-Fenchel.log<br>r = 1.1016<br>Accuracy: 98.16<br>Compression: 3.31%<br><b>Params:</b><br>model=LeNet-5<br>criterion=CrossEntropy<br>C=64<br>lr=0.0007<br>lambda_reg=0.0015<br>alpha=0.533<br>[T1=lambda_reg*alpha=0.0008]<br>[T2=lambda_reg*(1-alpha)=0.0007]<br>subgradient_step=100000.0<br>w0=-0.11<br>target_acc=98.4<br>target_zstd_ratio=0.0297<br>min_xi=0<br>max_xi=1<br>upper_c=44426<br>lower_c=0.01<br>zeta=50000<br>l=0.5<br>n_epochs=90<br>max_iterations=15<br>train_optimizer=ADAM<br>entropy_optimizer=FISTA<br>delta=32<br>pruning=Y<br>QuantizationType=center\",\"File: output-Test-2025-06-15-Fenchel.log<br>r = 1.1016<br>Accuracy: 98.22<br>Compression: 3.22%<br><b>Params:</b><br>model=LeNet-5<br>criterion=CrossEntropy<br>C=64<br>lr=0.0007<br>lambda_reg=0.0015<br>alpha=0.533<br>[T1=lambda_reg*alpha=0.0008]<br>[T2=lambda_reg*(1-alpha)=0.0007]<br>subgradient_step=100000.0<br>w0=-0.11<br>target_acc=98.4<br>target_zstd_ratio=0.0297<br>min_xi=0<br>max_xi=1<br>upper_c=44426<br>lower_c=0.01<br>zeta=50000<br>l=0.5<br>n_epochs=90<br>max_iterations=15<br>train_optimizer=ADAM<br>entropy_optimizer=FISTA<br>delta=32<br>pruning=Y<br>QuantizationType=center\",\"File: output-Test-2025-06-15-Fenchel.log<br>r = 1.1016<br>Accuracy: 98.07<br>Compression: 3.17%<br><b>Params:</b><br>model=LeNet-5<br>criterion=CrossEntropy<br>C=64<br>lr=0.0007<br>lambda_reg=0.0015<br>alpha=0.533<br>[T1=lambda_reg*alpha=0.0008]<br>[T2=lambda_reg*(1-alpha)=0.0007]<br>subgradient_step=100000.0<br>w0=-0.11<br>target_acc=98.4<br>target_zstd_ratio=0.0297<br>min_xi=0<br>max_xi=1<br>upper_c=44426<br>lower_c=0.01<br>zeta=50000<br>l=0.5<br>n_epochs=90<br>max_iterations=15<br>train_optimizer=ADAM<br>entropy_optimizer=FISTA<br>delta=32<br>pruning=Y<br>QuantizationType=center\",\"File: output-Test-2025-06-15-Fenchel.log<br>r = 1.1016<br>Accuracy: 98.03<br>Compression: 3.12%<br><b>Params:</b><br>model=LeNet-5<br>criterion=CrossEntropy<br>C=64<br>lr=0.0007<br>lambda_reg=0.0015<br>alpha=0.533<br>[T1=lambda_reg*alpha=0.0008]<br>[T2=lambda_reg*(1-alpha)=0.0007]<br>subgradient_step=100000.0<br>w0=-0.11<br>target_acc=98.4<br>target_zstd_ratio=0.0297<br>min_xi=0<br>max_xi=1<br>upper_c=44426<br>lower_c=0.01<br>zeta=50000<br>l=0.5<br>n_epochs=90<br>max_iterations=15<br>train_optimizer=ADAM<br>entropy_optimizer=FISTA<br>delta=32<br>pruning=Y<br>QuantizationType=center\",\"File: output-Test-2025-06-15-Fenchel.log<br>r = 1.1016<br>Accuracy: 98.54<br>Compression: 2.88%<br><b>Params:</b><br>model=LeNet-5<br>criterion=CrossEntropy<br>C=64<br>lr=0.0007<br>lambda_reg=0.0015<br>alpha=0.533<br>[T1=lambda_reg*alpha=0.0008]<br>[T2=lambda_reg*(1-alpha)=0.0007]<br>subgradient_step=100000.0<br>w0=-0.11<br>target_acc=98.4<br>target_zstd_ratio=0.0297<br>min_xi=0<br>max_xi=1<br>upper_c=44426<br>lower_c=0.01<br>zeta=50000<br>l=0.5<br>n_epochs=90<br>max_iterations=15<br>train_optimizer=ADAM<br>entropy_optimizer=FISTA<br>delta=32<br>pruning=Y<br>QuantizationType=center\",\"File: output-Test-2025-06-15-Fenchel.log<br>r = 1.1016<br>Accuracy: 98.51<br>Compression: 3.08%<br><b>Params:</b><br>model=LeNet-5<br>criterion=CrossEntropy<br>C=64<br>lr=0.0007<br>lambda_reg=0.0015<br>alpha=0.533<br>[T1=lambda_reg*alpha=0.0008]<br>[T2=lambda_reg*(1-alpha)=0.0007]<br>subgradient_step=100000.0<br>w0=-0.11<br>target_acc=98.4<br>target_zstd_ratio=0.0297<br>min_xi=0<br>max_xi=1<br>upper_c=44426<br>lower_c=0.01<br>zeta=50000<br>l=0.5<br>n_epochs=90<br>max_iterations=15<br>train_optimizer=ADAM<br>entropy_optimizer=FISTA<br>delta=32<br>pruning=Y<br>QuantizationType=center\",\"File: output-Test-2025-06-15-Fenchel.log<br>r = 1.1016<br>Accuracy: 98.15<br>Compression: 3.03%<br><b>Params:</b><br>model=LeNet-5<br>criterion=CrossEntropy<br>C=64<br>lr=0.0007<br>lambda_reg=0.0015<br>alpha=0.533<br>[T1=lambda_reg*alpha=0.0008]<br>[T2=lambda_reg*(1-alpha)=0.0007]<br>subgradient_step=100000.0<br>w0=-0.11<br>target_acc=98.4<br>target_zstd_ratio=0.0297<br>min_xi=0<br>max_xi=1<br>upper_c=44426<br>lower_c=0.01<br>zeta=50000<br>l=0.5<br>n_epochs=90<br>max_iterations=15<br>train_optimizer=ADAM<br>entropy_optimizer=FISTA<br>delta=32<br>pruning=Y<br>QuantizationType=center\",\"File: output-Test-2025-06-15-Fenchel.log<br>r = 1.1016<br>Accuracy: 98.36<br>Compression: 3.03%<br><b>Params:</b><br>model=LeNet-5<br>criterion=CrossEntropy<br>C=64<br>lr=0.0007<br>lambda_reg=0.0015<br>alpha=0.533<br>[T1=lambda_reg*alpha=0.0008]<br>[T2=lambda_reg*(1-alpha)=0.0007]<br>subgradient_step=100000.0<br>w0=-0.11<br>target_acc=98.4<br>target_zstd_ratio=0.0297<br>min_xi=0<br>max_xi=1<br>upper_c=44426<br>lower_c=0.01<br>zeta=50000<br>l=0.5<br>n_epochs=90<br>max_iterations=15<br>train_optimizer=ADAM<br>entropy_optimizer=FISTA<br>delta=32<br>pruning=Y<br>QuantizationType=center\",\"File: output-Test-2025-06-15-Fenchel.log<br>r = 1.1016<br>Accuracy: 98.23<br>Compression: 2.97%<br><b>Params:</b><br>model=LeNet-5<br>criterion=CrossEntropy<br>C=64<br>lr=0.0007<br>lambda_reg=0.0015<br>alpha=0.533<br>[T1=lambda_reg*alpha=0.0008]<br>[T2=lambda_reg*(1-alpha)=0.0007]<br>subgradient_step=100000.0<br>w0=-0.11<br>target_acc=98.4<br>target_zstd_ratio=0.0297<br>min_xi=0<br>max_xi=1<br>upper_c=44426<br>lower_c=0.01<br>zeta=50000<br>l=0.5<br>n_epochs=90<br>max_iterations=15<br>train_optimizer=ADAM<br>entropy_optimizer=FISTA<br>delta=32<br>pruning=Y<br>QuantizationType=center\",\"File: output-Test-2025-06-15-Fenchel.log<br>r = 1.1016<br>Accuracy: 98.01<br>Compression: 2.95%<br><b>Params:</b><br>model=LeNet-5<br>criterion=CrossEntropy<br>C=64<br>lr=0.0007<br>lambda_reg=0.0015<br>alpha=0.533<br>[T1=lambda_reg*alpha=0.0008]<br>[T2=lambda_reg*(1-alpha)=0.0007]<br>subgradient_step=100000.0<br>w0=-0.11<br>target_acc=98.4<br>target_zstd_ratio=0.0297<br>min_xi=0<br>max_xi=1<br>upper_c=44426<br>lower_c=0.01<br>zeta=50000<br>l=0.5<br>n_epochs=90<br>max_iterations=15<br>train_optimizer=ADAM<br>entropy_optimizer=FISTA<br>delta=32<br>pruning=Y<br>QuantizationType=center\",\"File: output-Test-2025-06-15-Fenchel.log<br>r = 1.1016<br>Accuracy: 98.45<br>Compression: 2.96%<br><b>Params:</b><br>model=LeNet-5<br>criterion=CrossEntropy<br>C=64<br>lr=0.0007<br>lambda_reg=0.0015<br>alpha=0.533<br>[T1=lambda_reg*alpha=0.0008]<br>[T2=lambda_reg*(1-alpha)=0.0007]<br>subgradient_step=100000.0<br>w0=-0.11<br>target_acc=98.4<br>target_zstd_ratio=0.0297<br>min_xi=0<br>max_xi=1<br>upper_c=44426<br>lower_c=0.01<br>zeta=50000<br>l=0.5<br>n_epochs=90<br>max_iterations=15<br>train_optimizer=ADAM<br>entropy_optimizer=FISTA<br>delta=32<br>pruning=Y<br>QuantizationType=center\",\"File: output-Test-2025-06-15-Fenchel.log<br>r = 1.1016<br>Accuracy: 98.12<br>Compression: 2.93%<br><b>Params:</b><br>model=LeNet-5<br>criterion=CrossEntropy<br>C=64<br>lr=0.0007<br>lambda_reg=0.0015<br>alpha=0.533<br>[T1=lambda_reg*alpha=0.0008]<br>[T2=lambda_reg*(1-alpha)=0.0007]<br>subgradient_step=100000.0<br>w0=-0.11<br>target_acc=98.4<br>target_zstd_ratio=0.0297<br>min_xi=0<br>max_xi=1<br>upper_c=44426<br>lower_c=0.01<br>zeta=50000<br>l=0.5<br>n_epochs=90<br>max_iterations=15<br>train_optimizer=ADAM<br>entropy_optimizer=FISTA<br>delta=32<br>pruning=Y<br>QuantizationType=center\",\"File: output-Test-2025-06-15-Fenchel.log<br>r = 1.1016<br>Accuracy: 98.35<br>Compression: 2.94%<br><b>Params:</b><br>model=LeNet-5<br>criterion=CrossEntropy<br>C=64<br>lr=0.0007<br>lambda_reg=0.0015<br>alpha=0.533<br>[T1=lambda_reg*alpha=0.0008]<br>[T2=lambda_reg*(1-alpha)=0.0007]<br>subgradient_step=100000.0<br>w0=-0.11<br>target_acc=98.4<br>target_zstd_ratio=0.0297<br>min_xi=0<br>max_xi=1<br>upper_c=44426<br>lower_c=0.01<br>zeta=50000<br>l=0.5<br>n_epochs=90<br>max_iterations=15<br>train_optimizer=ADAM<br>entropy_optimizer=FISTA<br>delta=32<br>pruning=Y<br>QuantizationType=center\",\"File: output-Test-2025-06-15-Fenchel.log<br>r = 1.1016<br>Accuracy: 98.07<br>Compression: 2.9%<br><b>Params:</b><br>model=LeNet-5<br>criterion=CrossEntropy<br>C=64<br>lr=0.0007<br>lambda_reg=0.0015<br>alpha=0.533<br>[T1=lambda_reg*alpha=0.0008]<br>[T2=lambda_reg*(1-alpha)=0.0007]<br>subgradient_step=100000.0<br>w0=-0.11<br>target_acc=98.4<br>target_zstd_ratio=0.0297<br>min_xi=0<br>max_xi=1<br>upper_c=44426<br>lower_c=0.01<br>zeta=50000<br>l=0.5<br>n_epochs=90<br>max_iterations=15<br>train_optimizer=ADAM<br>entropy_optimizer=FISTA<br>delta=32<br>pruning=Y<br>QuantizationType=center\",\"File: output-Test-2025-06-15-Fenchel.log<br>r = 1.1016<br>Accuracy: 98.13<br>Compression: 2.82%<br><b>Params:</b><br>model=LeNet-5<br>criterion=CrossEntropy<br>C=64<br>lr=0.0007<br>lambda_reg=0.0015<br>alpha=0.533<br>[T1=lambda_reg*alpha=0.0008]<br>[T2=lambda_reg*(1-alpha)=0.0007]<br>subgradient_step=100000.0<br>w0=-0.11<br>target_acc=98.4<br>target_zstd_ratio=0.0297<br>min_xi=0<br>max_xi=1<br>upper_c=44426<br>lower_c=0.01<br>zeta=50000<br>l=0.5<br>n_epochs=90<br>max_iterations=15<br>train_optimizer=ADAM<br>entropy_optimizer=FISTA<br>delta=32<br>pruning=Y<br>QuantizationType=center\",\"File: output-Test-2025-06-15-Fenchel.log<br>r = 1.1016<br>Accuracy: 98.47<br>Compression: 2.79%<br><b>Params:</b><br>model=LeNet-5<br>criterion=CrossEntropy<br>C=64<br>lr=0.0007<br>lambda_reg=0.0015<br>alpha=0.533<br>[T1=lambda_reg*alpha=0.0008]<br>[T2=lambda_reg*(1-alpha)=0.0007]<br>subgradient_step=100000.0<br>w0=-0.11<br>target_acc=98.4<br>target_zstd_ratio=0.0297<br>min_xi=0<br>max_xi=1<br>upper_c=44426<br>lower_c=0.01<br>zeta=50000<br>l=0.5<br>n_epochs=90<br>max_iterations=15<br>train_optimizer=ADAM<br>entropy_optimizer=FISTA<br>delta=32<br>pruning=Y<br>QuantizationType=center\",\"File: output-Test-2025-06-15-Fenchel.log<br>r = 1.1016<br>Accuracy: 98.01<br>Compression: 2.77%<br><b>Params:</b><br>model=LeNet-5<br>criterion=CrossEntropy<br>C=64<br>lr=0.0007<br>lambda_reg=0.0015<br>alpha=0.533<br>[T1=lambda_reg*alpha=0.0008]<br>[T2=lambda_reg*(1-alpha)=0.0007]<br>subgradient_step=100000.0<br>w0=-0.11<br>target_acc=98.4<br>target_zstd_ratio=0.0297<br>min_xi=0<br>max_xi=1<br>upper_c=44426<br>lower_c=0.01<br>zeta=50000<br>l=0.5<br>n_epochs=90<br>max_iterations=15<br>train_optimizer=ADAM<br>entropy_optimizer=FISTA<br>delta=32<br>pruning=Y<br>QuantizationType=center\",\"File: output-Test-2025-06-15-Fenchel.log<br>r = 1.1016<br>Accuracy: 98.28<br>Compression: 2.75%<br><b>Params:</b><br>model=LeNet-5<br>criterion=CrossEntropy<br>C=64<br>lr=0.0007<br>lambda_reg=0.0015<br>alpha=0.533<br>[T1=lambda_reg*alpha=0.0008]<br>[T2=lambda_reg*(1-alpha)=0.0007]<br>subgradient_step=100000.0<br>w0=-0.11<br>target_acc=98.4<br>target_zstd_ratio=0.0297<br>min_xi=0<br>max_xi=1<br>upper_c=44426<br>lower_c=0.01<br>zeta=50000<br>l=0.5<br>n_epochs=90<br>max_iterations=15<br>train_optimizer=ADAM<br>entropy_optimizer=FISTA<br>delta=32<br>pruning=Y<br>QuantizationType=center\",\"File: output-Test-2025-06-15-Fenchel.log<br>r = 1.1016<br>Accuracy: 98.16<br>Compression: 2.76%<br><b>Params:</b><br>model=LeNet-5<br>criterion=CrossEntropy<br>C=64<br>lr=0.0007<br>lambda_reg=0.0015<br>alpha=0.533<br>[T1=lambda_reg*alpha=0.0008]<br>[T2=lambda_reg*(1-alpha)=0.0007]<br>subgradient_step=100000.0<br>w0=-0.11<br>target_acc=98.4<br>target_zstd_ratio=0.0297<br>min_xi=0<br>max_xi=1<br>upper_c=44426<br>lower_c=0.01<br>zeta=50000<br>l=0.5<br>n_epochs=90<br>max_iterations=15<br>train_optimizer=ADAM<br>entropy_optimizer=FISTA<br>delta=32<br>pruning=Y<br>QuantizationType=center\",\"File: output-Test-2025-06-15-Fenchel.log<br>r = 1.1016<br>Accuracy: 98.15<br>Compression: 2.74%<br><b>Params:</b><br>model=LeNet-5<br>criterion=CrossEntropy<br>C=64<br>lr=0.0007<br>lambda_reg=0.0015<br>alpha=0.533<br>[T1=lambda_reg*alpha=0.0008]<br>[T2=lambda_reg*(1-alpha)=0.0007]<br>subgradient_step=100000.0<br>w0=-0.11<br>target_acc=98.4<br>target_zstd_ratio=0.0297<br>min_xi=0<br>max_xi=1<br>upper_c=44426<br>lower_c=0.01<br>zeta=50000<br>l=0.5<br>n_epochs=90<br>max_iterations=15<br>train_optimizer=ADAM<br>entropy_optimizer=FISTA<br>delta=32<br>pruning=Y<br>QuantizationType=center\",\"File: output-Test-2025-06-15-Fenchel.log<br>r = 1.1016<br>Accuracy: 98.38<br>Compression: 2.73%<br><b>Params:</b><br>model=LeNet-5<br>criterion=CrossEntropy<br>C=64<br>lr=0.0007<br>lambda_reg=0.0015<br>alpha=0.533<br>[T1=lambda_reg*alpha=0.0008]<br>[T2=lambda_reg*(1-alpha)=0.0007]<br>subgradient_step=100000.0<br>w0=-0.11<br>target_acc=98.4<br>target_zstd_ratio=0.0297<br>min_xi=0<br>max_xi=1<br>upper_c=44426<br>lower_c=0.01<br>zeta=50000<br>l=0.5<br>n_epochs=90<br>max_iterations=15<br>train_optimizer=ADAM<br>entropy_optimizer=FISTA<br>delta=32<br>pruning=Y<br>QuantizationType=center\",\"File: output-Test-2025-06-15-Fenchel.log<br>r = 1.1016<br>Accuracy: 98.37<br>Compression: 2.66%<br><b>Params:</b><br>model=LeNet-5<br>criterion=CrossEntropy<br>C=64<br>lr=0.0007<br>lambda_reg=0.0015<br>alpha=0.533<br>[T1=lambda_reg*alpha=0.0008]<br>[T2=lambda_reg*(1-alpha)=0.0007]<br>subgradient_step=100000.0<br>w0=-0.11<br>target_acc=98.4<br>target_zstd_ratio=0.0297<br>min_xi=0<br>max_xi=1<br>upper_c=44426<br>lower_c=0.01<br>zeta=50000<br>l=0.5<br>n_epochs=90<br>max_iterations=15<br>train_optimizer=ADAM<br>entropy_optimizer=FISTA<br>delta=32<br>pruning=Y<br>QuantizationType=center\",\"File: output-Test-2025-06-15-Fenchel.log<br>r = 1.1016<br>Accuracy: 98.24<br>Compression: 2.71%<br><b>Params:</b><br>model=LeNet-5<br>criterion=CrossEntropy<br>C=64<br>lr=0.0007<br>lambda_reg=0.0015<br>alpha=0.533<br>[T1=lambda_reg*alpha=0.0008]<br>[T2=lambda_reg*(1-alpha)=0.0007]<br>subgradient_step=100000.0<br>w0=-0.11<br>target_acc=98.4<br>target_zstd_ratio=0.0297<br>min_xi=0<br>max_xi=1<br>upper_c=44426<br>lower_c=0.01<br>zeta=50000<br>l=0.5<br>n_epochs=90<br>max_iterations=15<br>train_optimizer=ADAM<br>entropy_optimizer=FISTA<br>delta=32<br>pruning=Y<br>QuantizationType=center\",\"File: output-Test-2025-06-15-Fenchel.log<br>r = 1.1016<br>Accuracy: 98.18<br>Compression: 2.69%<br><b>Params:</b><br>model=LeNet-5<br>criterion=CrossEntropy<br>C=64<br>lr=0.0007<br>lambda_reg=0.0015<br>alpha=0.533<br>[T1=lambda_reg*alpha=0.0008]<br>[T2=lambda_reg*(1-alpha)=0.0007]<br>subgradient_step=100000.0<br>w0=-0.11<br>target_acc=98.4<br>target_zstd_ratio=0.0297<br>min_xi=0<br>max_xi=1<br>upper_c=44426<br>lower_c=0.01<br>zeta=50000<br>l=0.5<br>n_epochs=90<br>max_iterations=15<br>train_optimizer=ADAM<br>entropy_optimizer=FISTA<br>delta=32<br>pruning=Y<br>QuantizationType=center\",\"File: output-Test-2025-06-15-Fenchel.log<br>r = 1.1016<br>Accuracy: 98.43<br>Compression: 2.69%<br><b>Params:</b><br>model=LeNet-5<br>criterion=CrossEntropy<br>C=64<br>lr=0.0007<br>lambda_reg=0.0015<br>alpha=0.533<br>[T1=lambda_reg*alpha=0.0008]<br>[T2=lambda_reg*(1-alpha)=0.0007]<br>subgradient_step=100000.0<br>w0=-0.11<br>target_acc=98.4<br>target_zstd_ratio=0.0297<br>min_xi=0<br>max_xi=1<br>upper_c=44426<br>lower_c=0.01<br>zeta=50000<br>l=0.5<br>n_epochs=90<br>max_iterations=15<br>train_optimizer=ADAM<br>entropy_optimizer=FISTA<br>delta=32<br>pruning=Y<br>QuantizationType=center\",\"File: output-Test-2025-06-15-Fenchel.log<br>r = 1.1016<br>Accuracy: 98.16<br>Compression: 2.64%<br><b>Params:</b><br>model=LeNet-5<br>criterion=CrossEntropy<br>C=64<br>lr=0.0007<br>lambda_reg=0.0015<br>alpha=0.533<br>[T1=lambda_reg*alpha=0.0008]<br>[T2=lambda_reg*(1-alpha)=0.0007]<br>subgradient_step=100000.0<br>w0=-0.11<br>target_acc=98.4<br>target_zstd_ratio=0.0297<br>min_xi=0<br>max_xi=1<br>upper_c=44426<br>lower_c=0.01<br>zeta=50000<br>l=0.5<br>n_epochs=90<br>max_iterations=15<br>train_optimizer=ADAM<br>entropy_optimizer=FISTA<br>delta=32<br>pruning=Y<br>QuantizationType=center\",\"File: output-Test-2025-06-15-Fenchel.log<br>r = 1.1016<br>Accuracy: 98.19<br>Compression: 2.61%<br><b>Params:</b><br>model=LeNet-5<br>criterion=CrossEntropy<br>C=64<br>lr=0.0007<br>lambda_reg=0.0015<br>alpha=0.533<br>[T1=lambda_reg*alpha=0.0008]<br>[T2=lambda_reg*(1-alpha)=0.0007]<br>subgradient_step=100000.0<br>w0=-0.11<br>target_acc=98.4<br>target_zstd_ratio=0.0297<br>min_xi=0<br>max_xi=1<br>upper_c=44426<br>lower_c=0.01<br>zeta=50000<br>l=0.5<br>n_epochs=90<br>max_iterations=15<br>train_optimizer=ADAM<br>entropy_optimizer=FISTA<br>delta=32<br>pruning=Y<br>QuantizationType=center\",\"File: output-Test-2025-06-15-Fenchel.log<br>r = 1.1018<br>Accuracy: 98.1<br>Compression: 3.49%<br><b>Params:</b><br>model=LeNet-5<br>criterion=CrossEntropy<br>C=64<br>lr=0.0007<br>lambda_reg=0.0015<br>alpha=0.533<br>[T1=lambda_reg*alpha=0.0008]<br>[T2=lambda_reg*(1-alpha)=0.0007]<br>subgradient_step=100000.0<br>w0=-0.11<br>target_acc=98.4<br>target_zstd_ratio=0.0297<br>min_xi=0<br>max_xi=1<br>upper_c=44426<br>lower_c=0.01<br>zeta=50000<br>l=0.5<br>n_epochs=90<br>max_iterations=15<br>train_optimizer=ADAM<br>entropy_optimizer=FISTA<br>delta=32<br>pruning=Y<br>QuantizationType=center\",\"File: output-Test-2025-06-15-Fenchel.log<br>r = 1.1018<br>Accuracy: 98.4<br>Compression: 3.48%<br><b>Params:</b><br>model=LeNet-5<br>criterion=CrossEntropy<br>C=64<br>lr=0.0007<br>lambda_reg=0.0015<br>alpha=0.533<br>[T1=lambda_reg*alpha=0.0008]<br>[T2=lambda_reg*(1-alpha)=0.0007]<br>subgradient_step=100000.0<br>w0=-0.11<br>target_acc=98.4<br>target_zstd_ratio=0.0297<br>min_xi=0<br>max_xi=1<br>upper_c=44426<br>lower_c=0.01<br>zeta=50000<br>l=0.5<br>n_epochs=90<br>max_iterations=15<br>train_optimizer=ADAM<br>entropy_optimizer=FISTA<br>delta=32<br>pruning=Y<br>QuantizationType=center\",\"File: output-Test-2025-06-15-Fenchel.log<br>r = 1.1018<br>Accuracy: 98.41<br>Compression: 3.46%<br><b>Params:</b><br>model=LeNet-5<br>criterion=CrossEntropy<br>C=64<br>lr=0.0007<br>lambda_reg=0.0015<br>alpha=0.533<br>[T1=lambda_reg*alpha=0.0008]<br>[T2=lambda_reg*(1-alpha)=0.0007]<br>subgradient_step=100000.0<br>w0=-0.11<br>target_acc=98.4<br>target_zstd_ratio=0.0297<br>min_xi=0<br>max_xi=1<br>upper_c=44426<br>lower_c=0.01<br>zeta=50000<br>l=0.5<br>n_epochs=90<br>max_iterations=15<br>train_optimizer=ADAM<br>entropy_optimizer=FISTA<br>delta=32<br>pruning=Y<br>QuantizationType=center\",\"File: output-Test-2025-06-15-Fenchel.log<br>r = 1.1018<br>Accuracy: 98.72<br>Compression: 3.38%<br><b>Params:</b><br>model=LeNet-5<br>criterion=CrossEntropy<br>C=64<br>lr=0.0007<br>lambda_reg=0.0015<br>alpha=0.533<br>[T1=lambda_reg*alpha=0.0008]<br>[T2=lambda_reg*(1-alpha)=0.0007]<br>subgradient_step=100000.0<br>w0=-0.11<br>target_acc=98.4<br>target_zstd_ratio=0.0297<br>min_xi=0<br>max_xi=1<br>upper_c=44426<br>lower_c=0.01<br>zeta=50000<br>l=0.5<br>n_epochs=90<br>max_iterations=15<br>train_optimizer=ADAM<br>entropy_optimizer=FISTA<br>delta=32<br>pruning=Y<br>QuantizationType=center\",\"File: output-Test-2025-06-15-Fenchel.log<br>r = 1.1018<br>Accuracy: 98.07<br>Compression: 3.38%<br><b>Params:</b><br>model=LeNet-5<br>criterion=CrossEntropy<br>C=64<br>lr=0.0007<br>lambda_reg=0.0015<br>alpha=0.533<br>[T1=lambda_reg*alpha=0.0008]<br>[T2=lambda_reg*(1-alpha)=0.0007]<br>subgradient_step=100000.0<br>w0=-0.11<br>target_acc=98.4<br>target_zstd_ratio=0.0297<br>min_xi=0<br>max_xi=1<br>upper_c=44426<br>lower_c=0.01<br>zeta=50000<br>l=0.5<br>n_epochs=90<br>max_iterations=15<br>train_optimizer=ADAM<br>entropy_optimizer=FISTA<br>delta=32<br>pruning=Y<br>QuantizationType=center\"],\"x\":[98.3,98.26,98.25,98.2,98.2,98.19,98.18,98.14,98.25,98.24,98.22,98.32,98.27,98.26,98.26,98.23,98.17,98.32,98.32,98.34,98.23,98.2,98.17,98.33,98.27,98.26,98.25,98.28,98.27,98.88,98.19,98.22,98.11,98.1,98.02,98.08,98.02,98.12,98.11,98.01,98.17,98.06,98.35,98.63,98.04,98.01,98.37,98.76,98.42,98.37,98.26,98.08,98.23,98.22,98.34,98.29,98.39,98.66,98.72,98.04,98.08,98.24,98.33,98.36,98.23,98.33,98.08,98.24,98.38,98.1,98.09,98.23,98.02,98.07,98.32,98.63,98.58,98.54,98.67,98.66,98.66,98.36,98.01,98.45,98.32,98.03,98.12,98.11,98.25,98.55,98.04,98.12,98.37,98.07,98.22,98.8,98.34,98.34,98.16,98.12,98.5,98.44,98.01,98.29,98.16,98.22,98.07,98.03,98.54,98.51,98.15,98.36,98.23,98.01,98.45,98.12,98.35,98.07,98.13,98.47,98.01,98.28,98.16,98.15,98.38,98.37,98.24,98.18,98.43,98.16,98.19,98.1,98.4,98.41,98.72,98.07],\"y\":[2.87,2.69,2.86,2.96,2.97,3.04,3.13,2.76,2.84,2.94,3.04,3.23,3.41,3.07,3.06,2.99,3.09,3.41,3.18,3.41,2.9,3.42,3.26,3.09,3.11,3.49,3.21,3.36,3.44,3.33,3.32,3.21,3.15,3.1,1.43,1.53,1.47,1.5,1.51,1.45,2.92,2.92,2.88,3.41,2.88,2.72,2.68,3.36,3.49,3.46,3.42,3.37,3.37,3.33,3.25,3.2,3.24,3.24,3.22,3.07,3.08,3.04,3.0,3.35,3.36,3.35,3.29,3.22,3.26,3.25,3.23,3.18,3.11,2.98,2.94,3.39,3.27,2.88,3.4,3.35,3.45,2.86,2.78,2.76,2.73,2.7,2.69,3.49,3.43,3.4,3.33,3.28,3.25,3.24,3.48,3.44,3.37,3.34,3.33,3.29,3.23,3.16,3.49,3.4,3.31,3.22,3.17,3.12,2.88,3.08,3.03,3.03,2.97,2.95,2.96,2.93,2.94,2.9,2.82,2.79,2.77,2.75,2.76,2.74,2.73,2.66,2.71,2.69,2.69,2.64,2.61,3.49,3.48,3.46,3.38,3.38],\"type\":\"scatter\"},{\"hoverinfo\":\"text\",\"line\":{\"color\":\"red\",\"dash\":\"dash\",\"width\":2},\"marker\":{\"size\":10,\"symbol\":\"diamond\"},\"mode\":\"markers+lines\",\"name\":\"Pareto Frontier\",\"text\":[\"File: output-Test-2025-06-13-A-Dantzig.log<br>r = 1.1015<br>Accuracy: 98.05<br>Compression: 1.43%<br><b>Params:</b><br>model=LeNet-5<br>criterion=CrossEntropy<br>C=128<br>lr=0.0007<br>lambda_reg=0.0015<br>alpha=0.533<br>[T1=lambda_reg*alpha=0.0008]<br>[T2=lambda_reg*(1-alpha)=0.0007]<br>subgradient_step=100000.0<br>w0=-0.11<br>target_acc=98.8<br>target_zstd_ratio=0.0297<br>min_xi=0<br>max_xi=1<br>upper_c=44426<br>lower_c=0.01<br>zeta=50000<br>l=0.5<br>n_epochs=30<br>max_iterations=15<br>train_optimizer=ADAM<br>entropy_optimizer=FISTA<br>delta=0<br>pruning=Y<br>QuantizationType=center\",\"File: output-Test-2025-06-13-A-Dantzig.log<br>r = 1.1014<br>Accuracy: 98.19<br>Compression: 1.47%<br><b>Params:</b><br>model=LeNet-5<br>criterion=CrossEntropy<br>C=128<br>lr=0.0007<br>lambda_reg=0.0015<br>alpha=0.533<br>[T1=lambda_reg*alpha=0.0008]<br>[T2=lambda_reg*(1-alpha)=0.0007]<br>subgradient_step=100000.0<br>w0=-0.11<br>target_acc=98.8<br>target_zstd_ratio=0.0297<br>min_xi=0<br>max_xi=1<br>upper_c=44426<br>lower_c=0.01<br>zeta=50000<br>l=0.5<br>n_epochs=30<br>max_iterations=15<br>train_optimizer=ADAM<br>entropy_optimizer=FISTA<br>delta=0<br>pruning=Y<br>QuantizationType=center\",\"File: output-Test-2025-06-16-Fenchel.log<br>r = 1.1021<br>Accuracy: 98.2<br>Compression: 2.56%<br><b>Params:</b><br>model=LeNet-5<br>criterion=CrossEntropy<br>C=64<br>lr=0.0007<br>lambda_reg=0.0015<br>alpha=0.533<br>[T1=lambda_reg*alpha=0.0008]<br>[T2=lambda_reg*(1-alpha)=0.0007]<br>subgradient_step=100000.0<br>w0=-0.11<br>target_acc=98.4<br>target_zstd_ratio=0.0297<br>min_xi=0<br>max_xi=1<br>upper_c=44426<br>lower_c=0.01<br>zeta=50000<br>l=0.5<br>n_epochs=90<br>max_iterations=15<br>train_optimizer=ADAM<br>entropy_optimizer=FISTA<br>delta=28<br>pruning=Y<br>QuantizationType=center\",\"File: output-Test-2025-06-16-Fenchel.log<br>r = 1.1021<br>Accuracy: 98.24<br>Compression: 2.58%<br><b>Params:</b><br>model=LeNet-5<br>criterion=CrossEntropy<br>C=64<br>lr=0.0007<br>lambda_reg=0.0015<br>alpha=0.533<br>[T1=lambda_reg*alpha=0.0008]<br>[T2=lambda_reg*(1-alpha)=0.0007]<br>subgradient_step=100000.0<br>w0=-0.11<br>target_acc=98.4<br>target_zstd_ratio=0.0297<br>min_xi=0<br>max_xi=1<br>upper_c=44426<br>lower_c=0.01<br>zeta=50000<br>l=0.5<br>n_epochs=90<br>max_iterations=15<br>train_optimizer=ADAM<br>entropy_optimizer=FISTA<br>delta=28<br>pruning=Y<br>QuantizationType=center\",\"File: output-Test-2025-06-15-Fenchel.log<br>r = 1.1016<br>Accuracy: 98.32<br>Compression: 2.65%<br><b>Params:</b><br>model=LeNet-5<br>criterion=CrossEntropy<br>C=64<br>lr=0.0007<br>lambda_reg=0.0015<br>alpha=0.533<br>[T1=lambda_reg*alpha=0.0008]<br>[T2=lambda_reg*(1-alpha)=0.0007]<br>subgradient_step=100000.0<br>w0=-0.11<br>target_acc=98.4<br>target_zstd_ratio=0.0297<br>min_xi=0<br>max_xi=1<br>upper_c=44426<br>lower_c=0.01<br>zeta=50000<br>l=0.5<br>n_epochs=90<br>max_iterations=15<br>train_optimizer=ADAM<br>entropy_optimizer=FISTA<br>delta=32<br>pruning=Y<br>QuantizationType=center\",\"File: output-Test-2025-06-15-Fenchel.log<br>r = 1.1016<br>Accuracy: 98.46<br>Compression: 2.66%<br><b>Params:</b><br>model=LeNet-5<br>criterion=CrossEntropy<br>C=64<br>lr=0.0007<br>lambda_reg=0.0015<br>alpha=0.533<br>[T1=lambda_reg*alpha=0.0008]<br>[T2=lambda_reg*(1-alpha)=0.0007]<br>subgradient_step=100000.0<br>w0=-0.11<br>target_acc=98.4<br>target_zstd_ratio=0.0297<br>min_xi=0<br>max_xi=1<br>upper_c=44426<br>lower_c=0.01<br>zeta=50000<br>l=0.5<br>n_epochs=90<br>max_iterations=15<br>train_optimizer=ADAM<br>entropy_optimizer=FISTA<br>delta=32<br>pruning=Y<br>QuantizationType=center\",\"File: output-Test-2025-06-16-Fenchel.log<br>r = 1.1018<br>Accuracy: 98.49<br>Compression: 2.67%<br><b>Params:</b><br>model=LeNet-5<br>criterion=CrossEntropy<br>C=64<br>lr=0.0007<br>lambda_reg=0.0015<br>alpha=0.533<br>[T1=lambda_reg*alpha=0.0008]<br>[T2=lambda_reg*(1-alpha)=0.0007]<br>subgradient_step=100000.0<br>w0=-0.11<br>target_acc=98.4<br>target_zstd_ratio=0.0297<br>min_xi=0<br>max_xi=1<br>upper_c=44426<br>lower_c=0.01<br>zeta=50000<br>l=0.5<br>n_epochs=90<br>max_iterations=15<br>train_optimizer=ADAM<br>entropy_optimizer=FISTA<br>delta=28<br>pruning=Y<br>QuantizationType=center\",\"File: output-Test-2025-06-15-Fenchel.log<br>r = 1.1014<br>Accuracy: 98.58<br>Compression: 2.77%<br><b>Params:</b><br>model=LeNet-5<br>criterion=CrossEntropy<br>C=64<br>lr=0.0007<br>lambda_reg=0.0015<br>alpha=0.533<br>[T1=lambda_reg*alpha=0.0008]<br>[T2=lambda_reg*(1-alpha)=0.0007]<br>subgradient_step=100000.0<br>w0=-0.11<br>target_acc=98.4<br>target_zstd_ratio=0.0297<br>min_xi=0<br>max_xi=1<br>upper_c=44426<br>lower_c=0.01<br>zeta=50000<br>l=0.5<br>n_epochs=90<br>max_iterations=15<br>train_optimizer=ADAM<br>entropy_optimizer=FISTA<br>delta=32<br>pruning=Y<br>QuantizationType=center\",\"File: output-Test-2025-06-12-Fenchel.log<br>r = 1.1029<br>Accuracy: 98.95<br>Compression: 3.16%<br><b>Params:</b><br>model=LeNet-5<br>criterion=CrossEntropy<br>C=6<br>lr=0.0007<br>lambda_reg=0.0015<br>alpha=0.533<br>[T1=lambda_reg*alpha=0.0008]<br>[T2=lambda_reg*(1-alpha)=0.0007]<br>subgradient_step=100000.0<br>w0=-0.11<br>target_acc=98.8<br>target_zstd_ratio=0.0297<br>min_xi=0<br>max_xi=1<br>upper_c=44426<br>lower_c=0.01<br>zeta=50000<br>l=0.5<br>n_epochs=500<br>max_iterations=15<br>train_optimizer=ADAM<br>entropy_optimizer=FISTA<br>delta=1000<br>pruning=Y<br>QuantizationType=center\"],\"x\":[98.05,98.19,98.2,98.24,98.32,98.46,98.49,98.58,98.95],\"y\":[1.43,1.47,2.56,2.58,2.65,2.66,2.67,2.77,3.16],\"type\":\"scatter\"},{\"hoverinfo\":\"text\",\"marker\":{\"color\":\"yellow\",\"line\":{\"color\":\"black\",\"width\":1},\"size\":9},\"mode\":\"markers\",\"name\":\"Last two tests\",\"text\":[\"File: output-Test-2025-06-16-Fenchel.log<br>r = 1.1021<br>Accuracy: 98.04<br>Compression: 3.16%<br><b>Params:</b><br>model=LeNet-5<br>criterion=CrossEntropy<br>C=64<br>lr=0.0007<br>lambda_reg=0.0015<br>alpha=0.533<br>[T1=lambda_reg*alpha=0.0008]<br>[T2=lambda_reg*(1-alpha)=0.0007]<br>subgradient_step=100000.0<br>w0=-0.11<br>target_acc=98.4<br>target_zstd_ratio=0.0297<br>min_xi=0<br>max_xi=1<br>upper_c=44426<br>lower_c=0.01<br>zeta=50000<br>l=0.5<br>n_epochs=90<br>max_iterations=15<br>train_optimizer=ADAM<br>entropy_optimizer=FISTA<br>delta=28<br>pruning=Y<br>QuantizationType=center\",\"File: output-Test-2025-06-16-Fenchel.log<br>r = 1.1021<br>Accuracy: 98.04<br>Compression: 3.08%<br><b>Params:</b><br>model=LeNet-5<br>criterion=CrossEntropy<br>C=64<br>lr=0.0007<br>lambda_reg=0.0015<br>alpha=0.533<br>[T1=lambda_reg*alpha=0.0008]<br>[T2=lambda_reg*(1-alpha)=0.0007]<br>subgradient_step=100000.0<br>w0=-0.11<br>target_acc=98.4<br>target_zstd_ratio=0.0297<br>min_xi=0<br>max_xi=1<br>upper_c=44426<br>lower_c=0.01<br>zeta=50000<br>l=0.5<br>n_epochs=90<br>max_iterations=15<br>train_optimizer=ADAM<br>entropy_optimizer=FISTA<br>delta=28<br>pruning=Y<br>QuantizationType=center\",\"File: output-Test-2025-06-16-Fenchel.log<br>r = 1.1021<br>Accuracy: 98.15<br>Compression: 3.02%<br><b>Params:</b><br>model=LeNet-5<br>criterion=CrossEntropy<br>C=64<br>lr=0.0007<br>lambda_reg=0.0015<br>alpha=0.533<br>[T1=lambda_reg*alpha=0.0008]<br>[T2=lambda_reg*(1-alpha)=0.0007]<br>subgradient_step=100000.0<br>w0=-0.11<br>target_acc=98.4<br>target_zstd_ratio=0.0297<br>min_xi=0<br>max_xi=1<br>upper_c=44426<br>lower_c=0.01<br>zeta=50000<br>l=0.5<br>n_epochs=90<br>max_iterations=15<br>train_optimizer=ADAM<br>entropy_optimizer=FISTA<br>delta=28<br>pruning=Y<br>QuantizationType=center\",\"File: output-Test-2025-06-16-Fenchel.log<br>r = 1.1021<br>Accuracy: 98.37<br>Compression: 2.82%<br><b>Params:</b><br>model=LeNet-5<br>criterion=CrossEntropy<br>C=64<br>lr=0.0007<br>lambda_reg=0.0015<br>alpha=0.533<br>[T1=lambda_reg*alpha=0.0008]<br>[T2=lambda_reg*(1-alpha)=0.0007]<br>subgradient_step=100000.0<br>w0=-0.11<br>target_acc=98.4<br>target_zstd_ratio=0.0297<br>min_xi=0<br>max_xi=1<br>upper_c=44426<br>lower_c=0.01<br>zeta=50000<br>l=0.5<br>n_epochs=90<br>max_iterations=15<br>train_optimizer=ADAM<br>entropy_optimizer=FISTA<br>delta=28<br>pruning=Y<br>QuantizationType=center\",\"File: output-Test-2025-06-16-Fenchel.log<br>r = 1.1021<br>Accuracy: 98.3<br>Compression: 2.85%<br><b>Params:</b><br>model=LeNet-5<br>criterion=CrossEntropy<br>C=64<br>lr=0.0007<br>lambda_reg=0.0015<br>alpha=0.533<br>[T1=lambda_reg*alpha=0.0008]<br>[T2=lambda_reg*(1-alpha)=0.0007]<br>subgradient_step=100000.0<br>w0=-0.11<br>target_acc=98.4<br>target_zstd_ratio=0.0297<br>min_xi=0<br>max_xi=1<br>upper_c=44426<br>lower_c=0.01<br>zeta=50000<br>l=0.5<br>n_epochs=90<br>max_iterations=15<br>train_optimizer=ADAM<br>entropy_optimizer=FISTA<br>delta=28<br>pruning=Y<br>QuantizationType=center\",\"File: output-Test-2025-06-16-Fenchel.log<br>r = 1.1021<br>Accuracy: 98.1<br>Compression: 2.79%<br><b>Params:</b><br>model=LeNet-5<br>criterion=CrossEntropy<br>C=64<br>lr=0.0007<br>lambda_reg=0.0015<br>alpha=0.533<br>[T1=lambda_reg*alpha=0.0008]<br>[T2=lambda_reg*(1-alpha)=0.0007]<br>subgradient_step=100000.0<br>w0=-0.11<br>target_acc=98.4<br>target_zstd_ratio=0.0297<br>min_xi=0<br>max_xi=1<br>upper_c=44426<br>lower_c=0.01<br>zeta=50000<br>l=0.5<br>n_epochs=90<br>max_iterations=15<br>train_optimizer=ADAM<br>entropy_optimizer=FISTA<br>delta=28<br>pruning=Y<br>QuantizationType=center\",\"File: output-Test-2025-06-16-Fenchel.log<br>r = 1.1021<br>Accuracy: 98.06<br>Compression: 2.74%<br><b>Params:</b><br>model=LeNet-5<br>criterion=CrossEntropy<br>C=64<br>lr=0.0007<br>lambda_reg=0.0015<br>alpha=0.533<br>[T1=lambda_reg*alpha=0.0008]<br>[T2=lambda_reg*(1-alpha)=0.0007]<br>subgradient_step=100000.0<br>w0=-0.11<br>target_acc=98.4<br>target_zstd_ratio=0.0297<br>min_xi=0<br>max_xi=1<br>upper_c=44426<br>lower_c=0.01<br>zeta=50000<br>l=0.5<br>n_epochs=90<br>max_iterations=15<br>train_optimizer=ADAM<br>entropy_optimizer=FISTA<br>delta=28<br>pruning=Y<br>QuantizationType=center\",\"File: output-Test-2025-06-16-Fenchel.log<br>r = 1.1021<br>Accuracy: 98.06<br>Compression: 2.62%<br><b>Params:</b><br>model=LeNet-5<br>criterion=CrossEntropy<br>C=64<br>lr=0.0007<br>lambda_reg=0.0015<br>alpha=0.533<br>[T1=lambda_reg*alpha=0.0008]<br>[T2=lambda_reg*(1-alpha)=0.0007]<br>subgradient_step=100000.0<br>w0=-0.11<br>target_acc=98.4<br>target_zstd_ratio=0.0297<br>min_xi=0<br>max_xi=1<br>upper_c=44426<br>lower_c=0.01<br>zeta=50000<br>l=0.5<br>n_epochs=90<br>max_iterations=15<br>train_optimizer=ADAM<br>entropy_optimizer=FISTA<br>delta=28<br>pruning=Y<br>QuantizationType=center\",\"File: output-Test-2025-06-16-Fenchel.log<br>r = 1.1021<br>Accuracy: 98.03<br>Compression: 2.62%<br><b>Params:</b><br>model=LeNet-5<br>criterion=CrossEntropy<br>C=64<br>lr=0.0007<br>lambda_reg=0.0015<br>alpha=0.533<br>[T1=lambda_reg*alpha=0.0008]<br>[T2=lambda_reg*(1-alpha)=0.0007]<br>subgradient_step=100000.0<br>w0=-0.11<br>target_acc=98.4<br>target_zstd_ratio=0.0297<br>min_xi=0<br>max_xi=1<br>upper_c=44426<br>lower_c=0.01<br>zeta=50000<br>l=0.5<br>n_epochs=90<br>max_iterations=15<br>train_optimizer=ADAM<br>entropy_optimizer=FISTA<br>delta=28<br>pruning=Y<br>QuantizationType=center\",\"File: output-Test-2025-06-16-Fenchel.log<br>r = 1.1021<br>Accuracy: 98.16<br>Compression: 2.6%<br><b>Params:</b><br>model=LeNet-5<br>criterion=CrossEntropy<br>C=64<br>lr=0.0007<br>lambda_reg=0.0015<br>alpha=0.533<br>[T1=lambda_reg*alpha=0.0008]<br>[T2=lambda_reg*(1-alpha)=0.0007]<br>subgradient_step=100000.0<br>w0=-0.11<br>target_acc=98.4<br>target_zstd_ratio=0.0297<br>min_xi=0<br>max_xi=1<br>upper_c=44426<br>lower_c=0.01<br>zeta=50000<br>l=0.5<br>n_epochs=90<br>max_iterations=15<br>train_optimizer=ADAM<br>entropy_optimizer=FISTA<br>delta=28<br>pruning=Y<br>QuantizationType=center\",\"File: output-Test-2025-06-16-Fenchel.log<br>r = 1.1021<br>Accuracy: 98.03<br>Compression: 2.6%<br><b>Params:</b><br>model=LeNet-5<br>criterion=CrossEntropy<br>C=64<br>lr=0.0007<br>lambda_reg=0.0015<br>alpha=0.533<br>[T1=lambda_reg*alpha=0.0008]<br>[T2=lambda_reg*(1-alpha)=0.0007]<br>subgradient_step=100000.0<br>w0=-0.11<br>target_acc=98.4<br>target_zstd_ratio=0.0297<br>min_xi=0<br>max_xi=1<br>upper_c=44426<br>lower_c=0.01<br>zeta=50000<br>l=0.5<br>n_epochs=90<br>max_iterations=15<br>train_optimizer=ADAM<br>entropy_optimizer=FISTA<br>delta=28<br>pruning=Y<br>QuantizationType=center\",\"File: output-Test-2025-06-16-Fenchel.log<br>r = 1.1021<br>Accuracy: 98.03<br>Compression: 2.58%<br><b>Params:</b><br>model=LeNet-5<br>criterion=CrossEntropy<br>C=64<br>lr=0.0007<br>lambda_reg=0.0015<br>alpha=0.533<br>[T1=lambda_reg*alpha=0.0008]<br>[T2=lambda_reg*(1-alpha)=0.0007]<br>subgradient_step=100000.0<br>w0=-0.11<br>target_acc=98.4<br>target_zstd_ratio=0.0297<br>min_xi=0<br>max_xi=1<br>upper_c=44426<br>lower_c=0.01<br>zeta=50000<br>l=0.5<br>n_epochs=90<br>max_iterations=15<br>train_optimizer=ADAM<br>entropy_optimizer=FISTA<br>delta=28<br>pruning=Y<br>QuantizationType=center\",\"File: output-Test-2025-06-16-Fenchel.log<br>r = 1.1021<br>Accuracy: 98.19<br>Compression: 2.58%<br><b>Params:</b><br>model=LeNet-5<br>criterion=CrossEntropy<br>C=64<br>lr=0.0007<br>lambda_reg=0.0015<br>alpha=0.533<br>[T1=lambda_reg*alpha=0.0008]<br>[T2=lambda_reg*(1-alpha)=0.0007]<br>subgradient_step=100000.0<br>w0=-0.11<br>target_acc=98.4<br>target_zstd_ratio=0.0297<br>min_xi=0<br>max_xi=1<br>upper_c=44426<br>lower_c=0.01<br>zeta=50000<br>l=0.5<br>n_epochs=90<br>max_iterations=15<br>train_optimizer=ADAM<br>entropy_optimizer=FISTA<br>delta=28<br>pruning=Y<br>QuantizationType=center\",\"File: output-Test-2025-06-16-Fenchel.log<br>r = 1.1021<br>Accuracy: 98.2<br>Compression: 2.56%<br><b>Params:</b><br>model=LeNet-5<br>criterion=CrossEntropy<br>C=64<br>lr=0.0007<br>lambda_reg=0.0015<br>alpha=0.533<br>[T1=lambda_reg*alpha=0.0008]<br>[T2=lambda_reg*(1-alpha)=0.0007]<br>subgradient_step=100000.0<br>w0=-0.11<br>target_acc=98.4<br>target_zstd_ratio=0.0297<br>min_xi=0<br>max_xi=1<br>upper_c=44426<br>lower_c=0.01<br>zeta=50000<br>l=0.5<br>n_epochs=90<br>max_iterations=15<br>train_optimizer=ADAM<br>entropy_optimizer=FISTA<br>delta=28<br>pruning=Y<br>QuantizationType=center\",\"File: output-Test-2025-06-16-Fenchel.log<br>r = 1.1021<br>Accuracy: 98.29<br>Compression: 2.8%<br><b>Params:</b><br>model=LeNet-5<br>criterion=CrossEntropy<br>C=64<br>lr=0.0007<br>lambda_reg=0.0015<br>alpha=0.533<br>[T1=lambda_reg*alpha=0.0008]<br>[T2=lambda_reg*(1-alpha)=0.0007]<br>subgradient_step=100000.0<br>w0=-0.11<br>target_acc=98.4<br>target_zstd_ratio=0.0297<br>min_xi=0<br>max_xi=1<br>upper_c=44426<br>lower_c=0.01<br>zeta=50000<br>l=0.5<br>n_epochs=90<br>max_iterations=15<br>train_optimizer=ADAM<br>entropy_optimizer=FISTA<br>delta=28<br>pruning=Y<br>QuantizationType=center\",\"File: output-Test-2025-06-16-Fenchel.log<br>r = 1.1021<br>Accuracy: 98.24<br>Compression: 2.58%<br><b>Params:</b><br>model=LeNet-5<br>criterion=CrossEntropy<br>C=64<br>lr=0.0007<br>lambda_reg=0.0015<br>alpha=0.533<br>[T1=lambda_reg*alpha=0.0008]<br>[T2=lambda_reg*(1-alpha)=0.0007]<br>subgradient_step=100000.0<br>w0=-0.11<br>target_acc=98.4<br>target_zstd_ratio=0.0297<br>min_xi=0<br>max_xi=1<br>upper_c=44426<br>lower_c=0.01<br>zeta=50000<br>l=0.5<br>n_epochs=90<br>max_iterations=15<br>train_optimizer=ADAM<br>entropy_optimizer=FISTA<br>delta=28<br>pruning=Y<br>QuantizationType=center\",\"File: output-Test-2025-06-16-Fenchel.log<br>r = 1.1021<br>Accuracy: 98.59<br>Compression: 3.48%<br><b>Params:</b><br>model=LeNet-5<br>criterion=CrossEntropy<br>C=64<br>lr=0.0007<br>lambda_reg=0.0015<br>alpha=0.533<br>[T1=lambda_reg*alpha=0.0008]<br>[T2=lambda_reg*(1-alpha)=0.0007]<br>subgradient_step=100000.0<br>w0=-0.11<br>target_acc=98.4<br>target_zstd_ratio=0.0297<br>min_xi=0<br>max_xi=1<br>upper_c=44426<br>lower_c=0.01<br>zeta=50000<br>l=0.5<br>n_epochs=90<br>max_iterations=15<br>train_optimizer=ADAM<br>entropy_optimizer=FISTA<br>delta=28<br>pruning=Y<br>QuantizationType=center\",\"File: output-Test-2025-06-16-Fenchel.log<br>r = 1.1018<br>Accuracy: 98.07<br>Compression: 3.14%<br><b>Params:</b><br>model=LeNet-5<br>criterion=CrossEntropy<br>C=64<br>lr=0.0007<br>lambda_reg=0.0015<br>alpha=0.533<br>[T1=lambda_reg*alpha=0.0008]<br>[T2=lambda_reg*(1-alpha)=0.0007]<br>subgradient_step=100000.0<br>w0=-0.11<br>target_acc=98.4<br>target_zstd_ratio=0.0297<br>min_xi=0<br>max_xi=1<br>upper_c=44426<br>lower_c=0.01<br>zeta=50000<br>l=0.5<br>n_epochs=90<br>max_iterations=15<br>train_optimizer=ADAM<br>entropy_optimizer=FISTA<br>delta=28<br>pruning=Y<br>QuantizationType=center\",\"File: output-Test-2025-06-16-Fenchel.log<br>r = 1.1018<br>Accuracy: 98.04<br>Compression: 3.06%<br><b>Params:</b><br>model=LeNet-5<br>criterion=CrossEntropy<br>C=64<br>lr=0.0007<br>lambda_reg=0.0015<br>alpha=0.533<br>[T1=lambda_reg*alpha=0.0008]<br>[T2=lambda_reg*(1-alpha)=0.0007]<br>subgradient_step=100000.0<br>w0=-0.11<br>target_acc=98.4<br>target_zstd_ratio=0.0297<br>min_xi=0<br>max_xi=1<br>upper_c=44426<br>lower_c=0.01<br>zeta=50000<br>l=0.5<br>n_epochs=90<br>max_iterations=15<br>train_optimizer=ADAM<br>entropy_optimizer=FISTA<br>delta=28<br>pruning=Y<br>QuantizationType=center\",\"File: output-Test-2025-06-16-Fenchel.log<br>r = 1.1018<br>Accuracy: 98.33<br>Compression: 2.95%<br><b>Params:</b><br>model=LeNet-5<br>criterion=CrossEntropy<br>C=64<br>lr=0.0007<br>lambda_reg=0.0015<br>alpha=0.533<br>[T1=lambda_reg*alpha=0.0008]<br>[T2=lambda_reg*(1-alpha)=0.0007]<br>subgradient_step=100000.0<br>w0=-0.11<br>target_acc=98.4<br>target_zstd_ratio=0.0297<br>min_xi=0<br>max_xi=1<br>upper_c=44426<br>lower_c=0.01<br>zeta=50000<br>l=0.5<br>n_epochs=90<br>max_iterations=15<br>train_optimizer=ADAM<br>entropy_optimizer=FISTA<br>delta=28<br>pruning=Y<br>QuantizationType=center\",\"File: output-Test-2025-06-16-Fenchel.log<br>r = 1.1018<br>Accuracy: 98.01<br>Compression: 2.93%<br><b>Params:</b><br>model=LeNet-5<br>criterion=CrossEntropy<br>C=64<br>lr=0.0007<br>lambda_reg=0.0015<br>alpha=0.533<br>[T1=lambda_reg*alpha=0.0008]<br>[T2=lambda_reg*(1-alpha)=0.0007]<br>subgradient_step=100000.0<br>w0=-0.11<br>target_acc=98.4<br>target_zstd_ratio=0.0297<br>min_xi=0<br>max_xi=1<br>upper_c=44426<br>lower_c=0.01<br>zeta=50000<br>l=0.5<br>n_epochs=90<br>max_iterations=15<br>train_optimizer=ADAM<br>entropy_optimizer=FISTA<br>delta=28<br>pruning=Y<br>QuantizationType=center\",\"File: output-Test-2025-06-16-Fenchel.log<br>r = 1.1018<br>Accuracy: 98.27<br>Compression: 2.89%<br><b>Params:</b><br>model=LeNet-5<br>criterion=CrossEntropy<br>C=64<br>lr=0.0007<br>lambda_reg=0.0015<br>alpha=0.533<br>[T1=lambda_reg*alpha=0.0008]<br>[T2=lambda_reg*(1-alpha)=0.0007]<br>subgradient_step=100000.0<br>w0=-0.11<br>target_acc=98.4<br>target_zstd_ratio=0.0297<br>min_xi=0<br>max_xi=1<br>upper_c=44426<br>lower_c=0.01<br>zeta=50000<br>l=0.5<br>n_epochs=90<br>max_iterations=15<br>train_optimizer=ADAM<br>entropy_optimizer=FISTA<br>delta=28<br>pruning=Y<br>QuantizationType=center\",\"File: output-Test-2025-06-16-Fenchel.log<br>r = 1.1018<br>Accuracy: 98.18<br>Compression: 2.88%<br><b>Params:</b><br>model=LeNet-5<br>criterion=CrossEntropy<br>C=64<br>lr=0.0007<br>lambda_reg=0.0015<br>alpha=0.533<br>[T1=lambda_reg*alpha=0.0008]<br>[T2=lambda_reg*(1-alpha)=0.0007]<br>subgradient_step=100000.0<br>w0=-0.11<br>target_acc=98.4<br>target_zstd_ratio=0.0297<br>min_xi=0<br>max_xi=1<br>upper_c=44426<br>lower_c=0.01<br>zeta=50000<br>l=0.5<br>n_epochs=90<br>max_iterations=15<br>train_optimizer=ADAM<br>entropy_optimizer=FISTA<br>delta=28<br>pruning=Y<br>QuantizationType=center\",\"File: output-Test-2025-06-16-Fenchel.log<br>r = 1.1018<br>Accuracy: 98.25<br>Compression: 2.86%<br><b>Params:</b><br>model=LeNet-5<br>criterion=CrossEntropy<br>C=64<br>lr=0.0007<br>lambda_reg=0.0015<br>alpha=0.533<br>[T1=lambda_reg*alpha=0.0008]<br>[T2=lambda_reg*(1-alpha)=0.0007]<br>subgradient_step=100000.0<br>w0=-0.11<br>target_acc=98.4<br>target_zstd_ratio=0.0297<br>min_xi=0<br>max_xi=1<br>upper_c=44426<br>lower_c=0.01<br>zeta=50000<br>l=0.5<br>n_epochs=90<br>max_iterations=15<br>train_optimizer=ADAM<br>entropy_optimizer=FISTA<br>delta=28<br>pruning=Y<br>QuantizationType=center\",\"File: output-Test-2025-06-16-Fenchel.log<br>r = 1.1018<br>Accuracy: 98.54<br>Compression: 3.34%<br><b>Params:</b><br>model=LeNet-5<br>criterion=CrossEntropy<br>C=64<br>lr=0.0007<br>lambda_reg=0.0015<br>alpha=0.533<br>[T1=lambda_reg*alpha=0.0008]<br>[T2=lambda_reg*(1-alpha)=0.0007]<br>subgradient_step=100000.0<br>w0=-0.11<br>target_acc=98.4<br>target_zstd_ratio=0.0297<br>min_xi=0<br>max_xi=1<br>upper_c=44426<br>lower_c=0.01<br>zeta=50000<br>l=0.5<br>n_epochs=90<br>max_iterations=15<br>train_optimizer=ADAM<br>entropy_optimizer=FISTA<br>delta=28<br>pruning=Y<br>QuantizationType=center\",\"File: output-Test-2025-06-16-Fenchel.log<br>r = 1.1018<br>Accuracy: 98.2<br>Compression: 2.78%<br><b>Params:</b><br>model=LeNet-5<br>criterion=CrossEntropy<br>C=64<br>lr=0.0007<br>lambda_reg=0.0015<br>alpha=0.533<br>[T1=lambda_reg*alpha=0.0008]<br>[T2=lambda_reg*(1-alpha)=0.0007]<br>subgradient_step=100000.0<br>w0=-0.11<br>target_acc=98.4<br>target_zstd_ratio=0.0297<br>min_xi=0<br>max_xi=1<br>upper_c=44426<br>lower_c=0.01<br>zeta=50000<br>l=0.5<br>n_epochs=90<br>max_iterations=15<br>train_optimizer=ADAM<br>entropy_optimizer=FISTA<br>delta=28<br>pruning=Y<br>QuantizationType=center\",\"File: output-Test-2025-06-16-Fenchel.log<br>r = 1.1018<br>Accuracy: 98.36<br>Compression: 2.8%<br><b>Params:</b><br>model=LeNet-5<br>criterion=CrossEntropy<br>C=64<br>lr=0.0007<br>lambda_reg=0.0015<br>alpha=0.533<br>[T1=lambda_reg*alpha=0.0008]<br>[T2=lambda_reg*(1-alpha)=0.0007]<br>subgradient_step=100000.0<br>w0=-0.11<br>target_acc=98.4<br>target_zstd_ratio=0.0297<br>min_xi=0<br>max_xi=1<br>upper_c=44426<br>lower_c=0.01<br>zeta=50000<br>l=0.5<br>n_epochs=90<br>max_iterations=15<br>train_optimizer=ADAM<br>entropy_optimizer=FISTA<br>delta=28<br>pruning=Y<br>QuantizationType=center\",\"File: output-Test-2025-06-16-Fenchel.log<br>r = 1.1018<br>Accuracy: 98.17<br>Compression: 2.8%<br><b>Params:</b><br>model=LeNet-5<br>criterion=CrossEntropy<br>C=64<br>lr=0.0007<br>lambda_reg=0.0015<br>alpha=0.533<br>[T1=lambda_reg*alpha=0.0008]<br>[T2=lambda_reg*(1-alpha)=0.0007]<br>subgradient_step=100000.0<br>w0=-0.11<br>target_acc=98.4<br>target_zstd_ratio=0.0297<br>min_xi=0<br>max_xi=1<br>upper_c=44426<br>lower_c=0.01<br>zeta=50000<br>l=0.5<br>n_epochs=90<br>max_iterations=15<br>train_optimizer=ADAM<br>entropy_optimizer=FISTA<br>delta=28<br>pruning=Y<br>QuantizationType=center\",\"File: output-Test-2025-06-16-Fenchel.log<br>r = 1.1018<br>Accuracy: 98.4<br>Compression: 2.77%<br><b>Params:</b><br>model=LeNet-5<br>criterion=CrossEntropy<br>C=64<br>lr=0.0007<br>lambda_reg=0.0015<br>alpha=0.533<br>[T1=lambda_reg*alpha=0.0008]<br>[T2=lambda_reg*(1-alpha)=0.0007]<br>subgradient_step=100000.0<br>w0=-0.11<br>target_acc=98.4<br>target_zstd_ratio=0.0297<br>min_xi=0<br>max_xi=1<br>upper_c=44426<br>lower_c=0.01<br>zeta=50000<br>l=0.5<br>n_epochs=90<br>max_iterations=15<br>train_optimizer=ADAM<br>entropy_optimizer=FISTA<br>delta=28<br>pruning=Y<br>QuantizationType=center\",\"File: output-Test-2025-06-16-Fenchel.log<br>r = 1.1018<br>Accuracy: 98.16<br>Compression: 2.78%<br><b>Params:</b><br>model=LeNet-5<br>criterion=CrossEntropy<br>C=64<br>lr=0.0007<br>lambda_reg=0.0015<br>alpha=0.533<br>[T1=lambda_reg*alpha=0.0008]<br>[T2=lambda_reg*(1-alpha)=0.0007]<br>subgradient_step=100000.0<br>w0=-0.11<br>target_acc=98.4<br>target_zstd_ratio=0.0297<br>min_xi=0<br>max_xi=1<br>upper_c=44426<br>lower_c=0.01<br>zeta=50000<br>l=0.5<br>n_epochs=90<br>max_iterations=15<br>train_optimizer=ADAM<br>entropy_optimizer=FISTA<br>delta=28<br>pruning=Y<br>QuantizationType=center\",\"File: output-Test-2025-06-16-Fenchel.log<br>r = 1.1018<br>Accuracy: 98.34<br>Compression: 2.76%<br><b>Params:</b><br>model=LeNet-5<br>criterion=CrossEntropy<br>C=64<br>lr=0.0007<br>lambda_reg=0.0015<br>alpha=0.533<br>[T1=lambda_reg*alpha=0.0008]<br>[T2=lambda_reg*(1-alpha)=0.0007]<br>subgradient_step=100000.0<br>w0=-0.11<br>target_acc=98.4<br>target_zstd_ratio=0.0297<br>min_xi=0<br>max_xi=1<br>upper_c=44426<br>lower_c=0.01<br>zeta=50000<br>l=0.5<br>n_epochs=90<br>max_iterations=15<br>train_optimizer=ADAM<br>entropy_optimizer=FISTA<br>delta=28<br>pruning=Y<br>QuantizationType=center\",\"File: output-Test-2025-06-16-Fenchel.log<br>r = 1.1018<br>Accuracy: 98.44<br>Compression: 2.74%<br><b>Params:</b><br>model=LeNet-5<br>criterion=CrossEntropy<br>C=64<br>lr=0.0007<br>lambda_reg=0.0015<br>alpha=0.533<br>[T1=lambda_reg*alpha=0.0008]<br>[T2=lambda_reg*(1-alpha)=0.0007]<br>subgradient_step=100000.0<br>w0=-0.11<br>target_acc=98.4<br>target_zstd_ratio=0.0297<br>min_xi=0<br>max_xi=1<br>upper_c=44426<br>lower_c=0.01<br>zeta=50000<br>l=0.5<br>n_epochs=90<br>max_iterations=15<br>train_optimizer=ADAM<br>entropy_optimizer=FISTA<br>delta=28<br>pruning=Y<br>QuantizationType=center\",\"File: output-Test-2025-06-16-Fenchel.log<br>r = 1.1018<br>Accuracy: 98.24<br>Compression: 2.71%<br><b>Params:</b><br>model=LeNet-5<br>criterion=CrossEntropy<br>C=64<br>lr=0.0007<br>lambda_reg=0.0015<br>alpha=0.533<br>[T1=lambda_reg*alpha=0.0008]<br>[T2=lambda_reg*(1-alpha)=0.0007]<br>subgradient_step=100000.0<br>w0=-0.11<br>target_acc=98.4<br>target_zstd_ratio=0.0297<br>min_xi=0<br>max_xi=1<br>upper_c=44426<br>lower_c=0.01<br>zeta=50000<br>l=0.5<br>n_epochs=90<br>max_iterations=15<br>train_optimizer=ADAM<br>entropy_optimizer=FISTA<br>delta=28<br>pruning=Y<br>QuantizationType=center\",\"File: output-Test-2025-06-16-Fenchel.log<br>r = 1.1018<br>Accuracy: 98.06<br>Compression: 2.7%<br><b>Params:</b><br>model=LeNet-5<br>criterion=CrossEntropy<br>C=64<br>lr=0.0007<br>lambda_reg=0.0015<br>alpha=0.533<br>[T1=lambda_reg*alpha=0.0008]<br>[T2=lambda_reg*(1-alpha)=0.0007]<br>subgradient_step=100000.0<br>w0=-0.11<br>target_acc=98.4<br>target_zstd_ratio=0.0297<br>min_xi=0<br>max_xi=1<br>upper_c=44426<br>lower_c=0.01<br>zeta=50000<br>l=0.5<br>n_epochs=90<br>max_iterations=15<br>train_optimizer=ADAM<br>entropy_optimizer=FISTA<br>delta=28<br>pruning=Y<br>QuantizationType=center\",\"File: output-Test-2025-06-16-Fenchel.log<br>r = 1.1018<br>Accuracy: 98.46<br>Compression: 2.7%<br><b>Params:</b><br>model=LeNet-5<br>criterion=CrossEntropy<br>C=64<br>lr=0.0007<br>lambda_reg=0.0015<br>alpha=0.533<br>[T1=lambda_reg*alpha=0.0008]<br>[T2=lambda_reg*(1-alpha)=0.0007]<br>subgradient_step=100000.0<br>w0=-0.11<br>target_acc=98.4<br>target_zstd_ratio=0.0297<br>min_xi=0<br>max_xi=1<br>upper_c=44426<br>lower_c=0.01<br>zeta=50000<br>l=0.5<br>n_epochs=90<br>max_iterations=15<br>train_optimizer=ADAM<br>entropy_optimizer=FISTA<br>delta=28<br>pruning=Y<br>QuantizationType=center\",\"File: output-Test-2025-06-16-Fenchel.log<br>r = 1.1018<br>Accuracy: 98.49<br>Compression: 2.67%<br><b>Params:</b><br>model=LeNet-5<br>criterion=CrossEntropy<br>C=64<br>lr=0.0007<br>lambda_reg=0.0015<br>alpha=0.533<br>[T1=lambda_reg*alpha=0.0008]<br>[T2=lambda_reg*(1-alpha)=0.0007]<br>subgradient_step=100000.0<br>w0=-0.11<br>target_acc=98.4<br>target_zstd_ratio=0.0297<br>min_xi=0<br>max_xi=1<br>upper_c=44426<br>lower_c=0.01<br>zeta=50000<br>l=0.5<br>n_epochs=90<br>max_iterations=15<br>train_optimizer=ADAM<br>entropy_optimizer=FISTA<br>delta=28<br>pruning=Y<br>QuantizationType=center\",\"File: output-Test-2025-06-16-Fenchel.log<br>r = 1.1018<br>Accuracy: 98.14<br>Compression: 2.66%<br><b>Params:</b><br>model=LeNet-5<br>criterion=CrossEntropy<br>C=64<br>lr=0.0007<br>lambda_reg=0.0015<br>alpha=0.533<br>[T1=lambda_reg*alpha=0.0008]<br>[T2=lambda_reg*(1-alpha)=0.0007]<br>subgradient_step=100000.0<br>w0=-0.11<br>target_acc=98.4<br>target_zstd_ratio=0.0297<br>min_xi=0<br>max_xi=1<br>upper_c=44426<br>lower_c=0.01<br>zeta=50000<br>l=0.5<br>n_epochs=90<br>max_iterations=15<br>train_optimizer=ADAM<br>entropy_optimizer=FISTA<br>delta=28<br>pruning=Y<br>QuantizationType=center\",\"File: output-Test-2025-06-16-Fenchel.log<br>r = 1.1018<br>Accuracy: 98.14<br>Compression: 2.66%<br><b>Params:</b><br>model=LeNet-5<br>criterion=CrossEntropy<br>C=64<br>lr=0.0007<br>lambda_reg=0.0015<br>alpha=0.533<br>[T1=lambda_reg*alpha=0.0008]<br>[T2=lambda_reg*(1-alpha)=0.0007]<br>subgradient_step=100000.0<br>w0=-0.11<br>target_acc=98.4<br>target_zstd_ratio=0.0297<br>min_xi=0<br>max_xi=1<br>upper_c=44426<br>lower_c=0.01<br>zeta=50000<br>l=0.5<br>n_epochs=90<br>max_iterations=15<br>train_optimizer=ADAM<br>entropy_optimizer=FISTA<br>delta=28<br>pruning=Y<br>QuantizationType=center\",\"File: output-Test-2025-06-16-Fenchel.log<br>r = 1.1018<br>Accuracy: 98.05<br>Compression: 2.66%<br><b>Params:</b><br>model=LeNet-5<br>criterion=CrossEntropy<br>C=64<br>lr=0.0007<br>lambda_reg=0.0015<br>alpha=0.533<br>[T1=lambda_reg*alpha=0.0008]<br>[T2=lambda_reg*(1-alpha)=0.0007]<br>subgradient_step=100000.0<br>w0=-0.11<br>target_acc=98.4<br>target_zstd_ratio=0.0297<br>min_xi=0<br>max_xi=1<br>upper_c=44426<br>lower_c=0.01<br>zeta=50000<br>l=0.5<br>n_epochs=90<br>max_iterations=15<br>train_optimizer=ADAM<br>entropy_optimizer=FISTA<br>delta=28<br>pruning=Y<br>QuantizationType=center\",\"File: output-Test-2025-06-16-Fenchel.log<br>r = 1.1017<br>Accuracy: 98.6<br>Compression: 3.25%<br><b>Params:</b><br>model=LeNet-5<br>criterion=CrossEntropy<br>C=64<br>lr=0.0007<br>lambda_reg=0.0015<br>alpha=0.533<br>[T1=lambda_reg*alpha=0.0008]<br>[T2=lambda_reg*(1-alpha)=0.0007]<br>subgradient_step=100000.0<br>w0=-0.11<br>target_acc=98.4<br>target_zstd_ratio=0.0297<br>min_xi=0<br>max_xi=1<br>upper_c=44426<br>lower_c=0.01<br>zeta=50000<br>l=0.5<br>n_epochs=90<br>max_iterations=15<br>train_optimizer=ADAM<br>entropy_optimizer=FISTA<br>delta=28<br>pruning=Y<br>QuantizationType=center\",\"File: output-Test-2025-06-16-Fenchel.log<br>r = 1.1017<br>Accuracy: 98.25<br>Compression: 3.48%<br><b>Params:</b><br>model=LeNet-5<br>criterion=CrossEntropy<br>C=64<br>lr=0.0007<br>lambda_reg=0.0015<br>alpha=0.533<br>[T1=lambda_reg*alpha=0.0008]<br>[T2=lambda_reg*(1-alpha)=0.0007]<br>subgradient_step=100000.0<br>w0=-0.11<br>target_acc=98.4<br>target_zstd_ratio=0.0297<br>min_xi=0<br>max_xi=1<br>upper_c=44426<br>lower_c=0.01<br>zeta=50000<br>l=0.5<br>n_epochs=90<br>max_iterations=15<br>train_optimizer=ADAM<br>entropy_optimizer=FISTA<br>delta=28<br>pruning=Y<br>QuantizationType=center\",\"File: output-Test-2025-06-16-Fenchel.log<br>r = 1.1013<br>Accuracy: 98.24<br>Compression: 3.25%<br><b>Params:</b><br>model=LeNet-5<br>criterion=CrossEntropy<br>C=64<br>lr=0.0007<br>lambda_reg=0.0015<br>alpha=0.533<br>[T1=lambda_reg*alpha=0.0008]<br>[T2=lambda_reg*(1-alpha)=0.0007]<br>subgradient_step=100000.0<br>w0=-0.11<br>target_acc=98.4<br>target_zstd_ratio=0.0297<br>min_xi=0<br>max_xi=1<br>upper_c=44426<br>lower_c=0.01<br>zeta=50000<br>l=0.5<br>n_epochs=90<br>max_iterations=15<br>train_optimizer=ADAM<br>entropy_optimizer=FISTA<br>delta=28<br>pruning=Y<br>QuantizationType=center\",\"File: output-Test-2025-06-16-Fenchel.log<br>r = 1.1013<br>Accuracy: 98.27<br>Compression: 3.13%<br><b>Params:</b><br>model=LeNet-5<br>criterion=CrossEntropy<br>C=64<br>lr=0.0007<br>lambda_reg=0.0015<br>alpha=0.533<br>[T1=lambda_reg*alpha=0.0008]<br>[T2=lambda_reg*(1-alpha)=0.0007]<br>subgradient_step=100000.0<br>w0=-0.11<br>target_acc=98.4<br>target_zstd_ratio=0.0297<br>min_xi=0<br>max_xi=1<br>upper_c=44426<br>lower_c=0.01<br>zeta=50000<br>l=0.5<br>n_epochs=90<br>max_iterations=15<br>train_optimizer=ADAM<br>entropy_optimizer=FISTA<br>delta=28<br>pruning=Y<br>QuantizationType=center\",\"File: output-Test-2025-06-16-Fenchel.log<br>r = 1.1013<br>Accuracy: 98.01<br>Compression: 2.98%<br><b>Params:</b><br>model=LeNet-5<br>criterion=CrossEntropy<br>C=64<br>lr=0.0007<br>lambda_reg=0.0015<br>alpha=0.533<br>[T1=lambda_reg*alpha=0.0008]<br>[T2=lambda_reg*(1-alpha)=0.0007]<br>subgradient_step=100000.0<br>w0=-0.11<br>target_acc=98.4<br>target_zstd_ratio=0.0297<br>min_xi=0<br>max_xi=1<br>upper_c=44426<br>lower_c=0.01<br>zeta=50000<br>l=0.5<br>n_epochs=90<br>max_iterations=15<br>train_optimizer=ADAM<br>entropy_optimizer=FISTA<br>delta=28<br>pruning=Y<br>QuantizationType=center\",\"File: output-Test-2025-06-16-Fenchel.log<br>r = 1.1013<br>Accuracy: 98.61<br>Compression: 3.38%<br><b>Params:</b><br>model=LeNet-5<br>criterion=CrossEntropy<br>C=64<br>lr=0.0007<br>lambda_reg=0.0015<br>alpha=0.533<br>[T1=lambda_reg*alpha=0.0008]<br>[T2=lambda_reg*(1-alpha)=0.0007]<br>subgradient_step=100000.0<br>w0=-0.11<br>target_acc=98.4<br>target_zstd_ratio=0.0297<br>min_xi=0<br>max_xi=1<br>upper_c=44426<br>lower_c=0.01<br>zeta=50000<br>l=0.5<br>n_epochs=90<br>max_iterations=15<br>train_optimizer=ADAM<br>entropy_optimizer=FISTA<br>delta=28<br>pruning=Y<br>QuantizationType=center\",\"File: output-Test-2025-06-16-Fenchel.log<br>r = 1.1013<br>Accuracy: 98.2<br>Compression: 2.96%<br><b>Params:</b><br>model=LeNet-5<br>criterion=CrossEntropy<br>C=64<br>lr=0.0007<br>lambda_reg=0.0015<br>alpha=0.533<br>[T1=lambda_reg*alpha=0.0008]<br>[T2=lambda_reg*(1-alpha)=0.0007]<br>subgradient_step=100000.0<br>w0=-0.11<br>target_acc=98.4<br>target_zstd_ratio=0.0297<br>min_xi=0<br>max_xi=1<br>upper_c=44426<br>lower_c=0.01<br>zeta=50000<br>l=0.5<br>n_epochs=90<br>max_iterations=15<br>train_optimizer=ADAM<br>entropy_optimizer=FISTA<br>delta=28<br>pruning=Y<br>QuantizationType=center\",\"File: output-Test-2025-06-16-Fenchel.log<br>r = 1.1031<br>Accuracy: 98.2<br>Compression: 3.13%<br><b>Params:</b><br>model=LeNet-5<br>criterion=CrossEntropy<br>C=64<br>lr=0.0007<br>lambda_reg=0.0015<br>alpha=0.533<br>[T1=lambda_reg*alpha=0.0008]<br>[T2=lambda_reg*(1-alpha)=0.0007]<br>subgradient_step=100000.0<br>w0=-0.11<br>target_acc=98.4<br>target_zstd_ratio=0.0297<br>min_xi=0<br>max_xi=1<br>upper_c=44426<br>lower_c=0.01<br>zeta=50000<br>l=0.5<br>n_epochs=90<br>max_iterations=15<br>train_optimizer=ADAM<br>entropy_optimizer=FISTA<br>delta=28<br>pruning=Y<br>QuantizationType=center\",\"File: output-Test-2025-06-16-Fenchel.log<br>r = 1.1031<br>Accuracy: 98.02<br>Compression: 2.99%<br><b>Params:</b><br>model=LeNet-5<br>criterion=CrossEntropy<br>C=64<br>lr=0.0007<br>lambda_reg=0.0015<br>alpha=0.533<br>[T1=lambda_reg*alpha=0.0008]<br>[T2=lambda_reg*(1-alpha)=0.0007]<br>subgradient_step=100000.0<br>w0=-0.11<br>target_acc=98.4<br>target_zstd_ratio=0.0297<br>min_xi=0<br>max_xi=1<br>upper_c=44426<br>lower_c=0.01<br>zeta=50000<br>l=0.5<br>n_epochs=90<br>max_iterations=15<br>train_optimizer=ADAM<br>entropy_optimizer=FISTA<br>delta=28<br>pruning=Y<br>QuantizationType=center\",\"File: output-Test-2025-06-16-Fenchel.log<br>r = 1.1031<br>Accuracy: 98.18<br>Compression: 2.87%<br><b>Params:</b><br>model=LeNet-5<br>criterion=CrossEntropy<br>C=64<br>lr=0.0007<br>lambda_reg=0.0015<br>alpha=0.533<br>[T1=lambda_reg*alpha=0.0008]<br>[T2=lambda_reg*(1-alpha)=0.0007]<br>subgradient_step=100000.0<br>w0=-0.11<br>target_acc=98.4<br>target_zstd_ratio=0.0297<br>min_xi=0<br>max_xi=1<br>upper_c=44426<br>lower_c=0.01<br>zeta=50000<br>l=0.5<br>n_epochs=90<br>max_iterations=15<br>train_optimizer=ADAM<br>entropy_optimizer=FISTA<br>delta=28<br>pruning=Y<br>QuantizationType=center\",\"File: output-Test-2025-06-16-Fenchel.log<br>r = 1.1031<br>Accuracy: 98.12<br>Compression: 2.87%<br><b>Params:</b><br>model=LeNet-5<br>criterion=CrossEntropy<br>C=64<br>lr=0.0007<br>lambda_reg=0.0015<br>alpha=0.533<br>[T1=lambda_reg*alpha=0.0008]<br>[T2=lambda_reg*(1-alpha)=0.0007]<br>subgradient_step=100000.0<br>w0=-0.11<br>target_acc=98.4<br>target_zstd_ratio=0.0297<br>min_xi=0<br>max_xi=1<br>upper_c=44426<br>lower_c=0.01<br>zeta=50000<br>l=0.5<br>n_epochs=90<br>max_iterations=15<br>train_optimizer=ADAM<br>entropy_optimizer=FISTA<br>delta=28<br>pruning=Y<br>QuantizationType=center\",\"File: output-Test-2025-06-16-Fenchel.log<br>r = 1.1031<br>Accuracy: 98.12<br>Compression: 2.81%<br><b>Params:</b><br>model=LeNet-5<br>criterion=CrossEntropy<br>C=64<br>lr=0.0007<br>lambda_reg=0.0015<br>alpha=0.533<br>[T1=lambda_reg*alpha=0.0008]<br>[T2=lambda_reg*(1-alpha)=0.0007]<br>subgradient_step=100000.0<br>w0=-0.11<br>target_acc=98.4<br>target_zstd_ratio=0.0297<br>min_xi=0<br>max_xi=1<br>upper_c=44426<br>lower_c=0.01<br>zeta=50000<br>l=0.5<br>n_epochs=90<br>max_iterations=15<br>train_optimizer=ADAM<br>entropy_optimizer=FISTA<br>delta=28<br>pruning=Y<br>QuantizationType=center\",\"File: output-Test-2025-06-16-Fenchel.log<br>r = 1.1031<br>Accuracy: 98.02<br>Compression: 2.78%<br><b>Params:</b><br>model=LeNet-5<br>criterion=CrossEntropy<br>C=64<br>lr=0.0007<br>lambda_reg=0.0015<br>alpha=0.533<br>[T1=lambda_reg*alpha=0.0008]<br>[T2=lambda_reg*(1-alpha)=0.0007]<br>subgradient_step=100000.0<br>w0=-0.11<br>target_acc=98.4<br>target_zstd_ratio=0.0297<br>min_xi=0<br>max_xi=1<br>upper_c=44426<br>lower_c=0.01<br>zeta=50000<br>l=0.5<br>n_epochs=90<br>max_iterations=15<br>train_optimizer=ADAM<br>entropy_optimizer=FISTA<br>delta=28<br>pruning=Y<br>QuantizationType=center\",\"File: output-Test-2025-06-16-Fenchel.log<br>r = 1.1031<br>Accuracy: 98.14<br>Compression: 2.68%<br><b>Params:</b><br>model=LeNet-5<br>criterion=CrossEntropy<br>C=64<br>lr=0.0007<br>lambda_reg=0.0015<br>alpha=0.533<br>[T1=lambda_reg*alpha=0.0008]<br>[T2=lambda_reg*(1-alpha)=0.0007]<br>subgradient_step=100000.0<br>w0=-0.11<br>target_acc=98.4<br>target_zstd_ratio=0.0297<br>min_xi=0<br>max_xi=1<br>upper_c=44426<br>lower_c=0.01<br>zeta=50000<br>l=0.5<br>n_epochs=90<br>max_iterations=15<br>train_optimizer=ADAM<br>entropy_optimizer=FISTA<br>delta=28<br>pruning=Y<br>QuantizationType=center\",\"File: output-Test-2025-06-16-Fenchel.log<br>r = 1.1031<br>Accuracy: 98.18<br>Compression: 2.66%<br><b>Params:</b><br>model=LeNet-5<br>criterion=CrossEntropy<br>C=64<br>lr=0.0007<br>lambda_reg=0.0015<br>alpha=0.533<br>[T1=lambda_reg*alpha=0.0008]<br>[T2=lambda_reg*(1-alpha)=0.0007]<br>subgradient_step=100000.0<br>w0=-0.11<br>target_acc=98.4<br>target_zstd_ratio=0.0297<br>min_xi=0<br>max_xi=1<br>upper_c=44426<br>lower_c=0.01<br>zeta=50000<br>l=0.5<br>n_epochs=90<br>max_iterations=15<br>train_optimizer=ADAM<br>entropy_optimizer=FISTA<br>delta=28<br>pruning=Y<br>QuantizationType=center\",\"File: output-Test-2025-06-16-Fenchel.log<br>r = 1.1031<br>Accuracy: 98.06<br>Compression: 2.6%<br><b>Params:</b><br>model=LeNet-5<br>criterion=CrossEntropy<br>C=64<br>lr=0.0007<br>lambda_reg=0.0015<br>alpha=0.533<br>[T1=lambda_reg*alpha=0.0008]<br>[T2=lambda_reg*(1-alpha)=0.0007]<br>subgradient_step=100000.0<br>w0=-0.11<br>target_acc=98.4<br>target_zstd_ratio=0.0297<br>min_xi=0<br>max_xi=1<br>upper_c=44426<br>lower_c=0.01<br>zeta=50000<br>l=0.5<br>n_epochs=90<br>max_iterations=15<br>train_optimizer=ADAM<br>entropy_optimizer=FISTA<br>delta=28<br>pruning=Y<br>QuantizationType=center\"],\"x\":[98.04,98.04,98.15,98.37,98.3,98.1,98.06,98.06,98.03,98.16,98.03,98.03,98.19,98.2,98.29,98.24,98.59,98.07,98.04,98.33,98.01,98.27,98.18,98.25,98.54,98.2,98.36,98.17,98.4,98.16,98.34,98.44,98.24,98.06,98.46,98.49,98.14,98.14,98.05,98.6,98.25,98.24,98.27,98.01,98.61,98.2,98.2,98.02,98.18,98.12,98.12,98.02,98.14,98.18,98.06],\"y\":[3.16,3.08,3.02,2.82,2.85,2.79,2.74,2.62,2.62,2.6,2.6,2.58,2.58,2.56,2.8,2.58,3.48,3.14,3.06,2.95,2.93,2.89,2.88,2.86,3.34,2.78,2.8,2.8,2.77,2.78,2.76,2.74,2.71,2.7,2.7,2.67,2.66,2.66,2.66,3.25,3.48,3.25,3.13,2.98,3.38,2.96,3.13,2.99,2.87,2.87,2.81,2.78,2.68,2.66,2.6],\"type\":\"scatter\"}],                        {\"template\":{\"data\":{\"barpolar\":[{\"marker\":{\"line\":{\"color\":\"white\",\"width\":0.5},\"pattern\":{\"fillmode\":\"overlay\",\"size\":10,\"solidity\":0.2}},\"type\":\"barpolar\"}],\"bar\":[{\"error_x\":{\"color\":\"#2a3f5f\"},\"error_y\":{\"color\":\"#2a3f5f\"},\"marker\":{\"line\":{\"color\":\"white\",\"width\":0.5},\"pattern\":{\"fillmode\":\"overlay\",\"size\":10,\"solidity\":0.2}},\"type\":\"bar\"}],\"carpet\":[{\"aaxis\":{\"endlinecolor\":\"#2a3f5f\",\"gridcolor\":\"#C8D4E3\",\"linecolor\":\"#C8D4E3\",\"minorgridcolor\":\"#C8D4E3\",\"startlinecolor\":\"#2a3f5f\"},\"baxis\":{\"endlinecolor\":\"#2a3f5f\",\"gridcolor\":\"#C8D4E3\",\"linecolor\":\"#C8D4E3\",\"minorgridcolor\":\"#C8D4E3\",\"startlinecolor\":\"#2a3f5f\"},\"type\":\"carpet\"}],\"choropleth\":[{\"colorbar\":{\"outlinewidth\":0,\"ticks\":\"\"},\"type\":\"choropleth\"}],\"contourcarpet\":[{\"colorbar\":{\"outlinewidth\":0,\"ticks\":\"\"},\"type\":\"contourcarpet\"}],\"contour\":[{\"colorbar\":{\"outlinewidth\":0,\"ticks\":\"\"},\"colorscale\":[[0.0,\"#0d0887\"],[0.1111111111111111,\"#46039f\"],[0.2222222222222222,\"#7201a8\"],[0.3333333333333333,\"#9c179e\"],[0.4444444444444444,\"#bd3786\"],[0.5555555555555556,\"#d8576b\"],[0.6666666666666666,\"#ed7953\"],[0.7777777777777778,\"#fb9f3a\"],[0.8888888888888888,\"#fdca26\"],[1.0,\"#f0f921\"]],\"type\":\"contour\"}],\"heatmapgl\":[{\"colorbar\":{\"outlinewidth\":0,\"ticks\":\"\"},\"colorscale\":[[0.0,\"#0d0887\"],[0.1111111111111111,\"#46039f\"],[0.2222222222222222,\"#7201a8\"],[0.3333333333333333,\"#9c179e\"],[0.4444444444444444,\"#bd3786\"],[0.5555555555555556,\"#d8576b\"],[0.6666666666666666,\"#ed7953\"],[0.7777777777777778,\"#fb9f3a\"],[0.8888888888888888,\"#fdca26\"],[1.0,\"#f0f921\"]],\"type\":\"heatmapgl\"}],\"heatmap\":[{\"colorbar\":{\"outlinewidth\":0,\"ticks\":\"\"},\"colorscale\":[[0.0,\"#0d0887\"],[0.1111111111111111,\"#46039f\"],[0.2222222222222222,\"#7201a8\"],[0.3333333333333333,\"#9c179e\"],[0.4444444444444444,\"#bd3786\"],[0.5555555555555556,\"#d8576b\"],[0.6666666666666666,\"#ed7953\"],[0.7777777777777778,\"#fb9f3a\"],[0.8888888888888888,\"#fdca26\"],[1.0,\"#f0f921\"]],\"type\":\"heatmap\"}],\"histogram2dcontour\":[{\"colorbar\":{\"outlinewidth\":0,\"ticks\":\"\"},\"colorscale\":[[0.0,\"#0d0887\"],[0.1111111111111111,\"#46039f\"],[0.2222222222222222,\"#7201a8\"],[0.3333333333333333,\"#9c179e\"],[0.4444444444444444,\"#bd3786\"],[0.5555555555555556,\"#d8576b\"],[0.6666666666666666,\"#ed7953\"],[0.7777777777777778,\"#fb9f3a\"],[0.8888888888888888,\"#fdca26\"],[1.0,\"#f0f921\"]],\"type\":\"histogram2dcontour\"}],\"histogram2d\":[{\"colorbar\":{\"outlinewidth\":0,\"ticks\":\"\"},\"colorscale\":[[0.0,\"#0d0887\"],[0.1111111111111111,\"#46039f\"],[0.2222222222222222,\"#7201a8\"],[0.3333333333333333,\"#9c179e\"],[0.4444444444444444,\"#bd3786\"],[0.5555555555555556,\"#d8576b\"],[0.6666666666666666,\"#ed7953\"],[0.7777777777777778,\"#fb9f3a\"],[0.8888888888888888,\"#fdca26\"],[1.0,\"#f0f921\"]],\"type\":\"histogram2d\"}],\"histogram\":[{\"marker\":{\"pattern\":{\"fillmode\":\"overlay\",\"size\":10,\"solidity\":0.2}},\"type\":\"histogram\"}],\"mesh3d\":[{\"colorbar\":{\"outlinewidth\":0,\"ticks\":\"\"},\"type\":\"mesh3d\"}],\"parcoords\":[{\"line\":{\"colorbar\":{\"outlinewidth\":0,\"ticks\":\"\"}},\"type\":\"parcoords\"}],\"pie\":[{\"automargin\":true,\"type\":\"pie\"}],\"scatter3d\":[{\"line\":{\"colorbar\":{\"outlinewidth\":0,\"ticks\":\"\"}},\"marker\":{\"colorbar\":{\"outlinewidth\":0,\"ticks\":\"\"}},\"type\":\"scatter3d\"}],\"scattercarpet\":[{\"marker\":{\"colorbar\":{\"outlinewidth\":0,\"ticks\":\"\"}},\"type\":\"scattercarpet\"}],\"scattergeo\":[{\"marker\":{\"colorbar\":{\"outlinewidth\":0,\"ticks\":\"\"}},\"type\":\"scattergeo\"}],\"scattergl\":[{\"marker\":{\"colorbar\":{\"outlinewidth\":0,\"ticks\":\"\"}},\"type\":\"scattergl\"}],\"scattermapbox\":[{\"marker\":{\"colorbar\":{\"outlinewidth\":0,\"ticks\":\"\"}},\"type\":\"scattermapbox\"}],\"scatterpolargl\":[{\"marker\":{\"colorbar\":{\"outlinewidth\":0,\"ticks\":\"\"}},\"type\":\"scatterpolargl\"}],\"scatterpolar\":[{\"marker\":{\"colorbar\":{\"outlinewidth\":0,\"ticks\":\"\"}},\"type\":\"scatterpolar\"}],\"scatter\":[{\"fillpattern\":{\"fillmode\":\"overlay\",\"size\":10,\"solidity\":0.2},\"type\":\"scatter\"}],\"scatterternary\":[{\"marker\":{\"colorbar\":{\"outlinewidth\":0,\"ticks\":\"\"}},\"type\":\"scatterternary\"}],\"surface\":[{\"colorbar\":{\"outlinewidth\":0,\"ticks\":\"\"},\"colorscale\":[[0.0,\"#0d0887\"],[0.1111111111111111,\"#46039f\"],[0.2222222222222222,\"#7201a8\"],[0.3333333333333333,\"#9c179e\"],[0.4444444444444444,\"#bd3786\"],[0.5555555555555556,\"#d8576b\"],[0.6666666666666666,\"#ed7953\"],[0.7777777777777778,\"#fb9f3a\"],[0.8888888888888888,\"#fdca26\"],[1.0,\"#f0f921\"]],\"type\":\"surface\"}],\"table\":[{\"cells\":{\"fill\":{\"color\":\"#EBF0F8\"},\"line\":{\"color\":\"white\"}},\"header\":{\"fill\":{\"color\":\"#C8D4E3\"},\"line\":{\"color\":\"white\"}},\"type\":\"table\"}]},\"layout\":{\"annotationdefaults\":{\"arrowcolor\":\"#2a3f5f\",\"arrowhead\":0,\"arrowwidth\":1},\"autotypenumbers\":\"strict\",\"coloraxis\":{\"colorbar\":{\"outlinewidth\":0,\"ticks\":\"\"}},\"colorscale\":{\"diverging\":[[0,\"#8e0152\"],[0.1,\"#c51b7d\"],[0.2,\"#de77ae\"],[0.3,\"#f1b6da\"],[0.4,\"#fde0ef\"],[0.5,\"#f7f7f7\"],[0.6,\"#e6f5d0\"],[0.7,\"#b8e186\"],[0.8,\"#7fbc41\"],[0.9,\"#4d9221\"],[1,\"#276419\"]],\"sequential\":[[0.0,\"#0d0887\"],[0.1111111111111111,\"#46039f\"],[0.2222222222222222,\"#7201a8\"],[0.3333333333333333,\"#9c179e\"],[0.4444444444444444,\"#bd3786\"],[0.5555555555555556,\"#d8576b\"],[0.6666666666666666,\"#ed7953\"],[0.7777777777777778,\"#fb9f3a\"],[0.8888888888888888,\"#fdca26\"],[1.0,\"#f0f921\"]],\"sequentialminus\":[[0.0,\"#0d0887\"],[0.1111111111111111,\"#46039f\"],[0.2222222222222222,\"#7201a8\"],[0.3333333333333333,\"#9c179e\"],[0.4444444444444444,\"#bd3786\"],[0.5555555555555556,\"#d8576b\"],[0.6666666666666666,\"#ed7953\"],[0.7777777777777778,\"#fb9f3a\"],[0.8888888888888888,\"#fdca26\"],[1.0,\"#f0f921\"]]},\"colorway\":[\"#636efa\",\"#EF553B\",\"#00cc96\",\"#ab63fa\",\"#FFA15A\",\"#19d3f3\",\"#FF6692\",\"#B6E880\",\"#FF97FF\",\"#FECB52\"],\"font\":{\"color\":\"#2a3f5f\"},\"geo\":{\"bgcolor\":\"white\",\"lakecolor\":\"white\",\"landcolor\":\"white\",\"showlakes\":true,\"showland\":true,\"subunitcolor\":\"#C8D4E3\"},\"hoverlabel\":{\"align\":\"left\"},\"hovermode\":\"closest\",\"mapbox\":{\"style\":\"light\"},\"paper_bgcolor\":\"white\",\"plot_bgcolor\":\"white\",\"polar\":{\"angularaxis\":{\"gridcolor\":\"#EBF0F8\",\"linecolor\":\"#EBF0F8\",\"ticks\":\"\"},\"bgcolor\":\"white\",\"radialaxis\":{\"gridcolor\":\"#EBF0F8\",\"linecolor\":\"#EBF0F8\",\"ticks\":\"\"}},\"scene\":{\"xaxis\":{\"backgroundcolor\":\"white\",\"gridcolor\":\"#DFE8F3\",\"gridwidth\":2,\"linecolor\":\"#EBF0F8\",\"showbackground\":true,\"ticks\":\"\",\"zerolinecolor\":\"#EBF0F8\"},\"yaxis\":{\"backgroundcolor\":\"white\",\"gridcolor\":\"#DFE8F3\",\"gridwidth\":2,\"linecolor\":\"#EBF0F8\",\"showbackground\":true,\"ticks\":\"\",\"zerolinecolor\":\"#EBF0F8\"},\"zaxis\":{\"backgroundcolor\":\"white\",\"gridcolor\":\"#DFE8F3\",\"gridwidth\":2,\"linecolor\":\"#EBF0F8\",\"showbackground\":true,\"ticks\":\"\",\"zerolinecolor\":\"#EBF0F8\"}},\"shapedefaults\":{\"line\":{\"color\":\"#2a3f5f\"}},\"ternary\":{\"aaxis\":{\"gridcolor\":\"#DFE8F3\",\"linecolor\":\"#A2B1C6\",\"ticks\":\"\"},\"baxis\":{\"gridcolor\":\"#DFE8F3\",\"linecolor\":\"#A2B1C6\",\"ticks\":\"\"},\"bgcolor\":\"white\",\"caxis\":{\"gridcolor\":\"#DFE8F3\",\"linecolor\":\"#A2B1C6\",\"ticks\":\"\"}},\"title\":{\"x\":0.05},\"xaxis\":{\"automargin\":true,\"gridcolor\":\"#EBF0F8\",\"linecolor\":\"#EBF0F8\",\"ticks\":\"\",\"title\":{\"standoff\":15},\"zerolinecolor\":\"#EBF0F8\",\"zerolinewidth\":2},\"yaxis\":{\"automargin\":true,\"gridcolor\":\"#EBF0F8\",\"linecolor\":\"#EBF0F8\",\"ticks\":\"\",\"title\":{\"standoff\":15},\"zerolinecolor\":\"#EBF0F8\",\"zerolinewidth\":2}}},\"title\":{\"text\":\"Pareto Frontier [ACCURACY_THRESHOLD=98, COMPRESSION_THRESHOLD=3.5]\"},\"xaxis\":{\"title\":{\"text\":\"Accuracy (%)\"}},\"yaxis\":{\"title\":{\"text\":\"Compression Ratio (%)\"}}},                        {\"responsive\": true}                    ).then(function(){\n",
       "                            \n",
       "var gd = document.getElementById('557d1503-5704-4558-abf5-22ac9d299b96');\n",
       "var x = new MutationObserver(function (mutations, observer) {{\n",
       "        var display = window.getComputedStyle(gd).display;\n",
       "        if (!display || display === 'none') {{\n",
       "            console.log([gd, 'removed!']);\n",
       "            Plotly.purge(gd);\n",
       "            observer.disconnect();\n",
       "        }}\n",
       "}});\n",
       "\n",
       "// Listen for the removal of the full notebook cells\n",
       "var notebookContainer = gd.closest('#notebook-container');\n",
       "if (notebookContainer) {{\n",
       "    x.observe(notebookContainer, {childList: true});\n",
       "}}\n",
       "\n",
       "// Listen for the clearing of the current output cell\n",
       "var outputEl = gd.closest('.output');\n",
       "if (outputEl) {{\n",
       "    x.observe(outputEl, {childList: true});\n",
       "}}\n",
       "\n",
       "                        })                };                });            </script>        </div>"
      ]
     },
     "metadata": {},
     "output_type": "display_data"
    }
   ],
   "source": [
    "import os\n",
    "import re\n",
    "import pandas as pd\n",
    "import plotly.graph_objects as go\n",
    "\n",
    "# === Parametri di soglia ===\n",
    "ACCURACY_THRESHOLD = 97.5\n",
    "ACCURACY_THRESHOLD = 98 #zoomed\n",
    "COMPRESSION_THRESHOLD = 3.5\n",
    "\n",
    "# === Funzione per estrarre dati da un singolo file, inclusa intestazione params ===\n",
    "def extract_metrics_from_file(filepath):\n",
    "    results = []\n",
    "    with open(filepath, 'r') as f:\n",
    "        lines = f.readlines()\n",
    "\n",
    "    # === Estrarre intestazione ===\n",
    "    header_params = {}\n",
    "    header_end_idx = None\n",
    "    for i, line in enumerate(lines):\n",
    "        if line.strip() == \"------------------------------------------------------------\":\n",
    "            header_end_idx = i\n",
    "            break\n",
    "\n",
    "    if header_end_idx is not None:\n",
    "        for line in lines[:header_end_idx]:\n",
    "            line = line.strip()\n",
    "            if '=' in line and not line.startswith('='):\n",
    "                key, val = line.split('=', 1)\n",
    "                header_params[key.strip()] = val.strip()\n",
    "\n",
    "    current_var_name = None\n",
    "    current_var_value = None\n",
    "\n",
    "    for i, line in enumerate(lines):\n",
    "        # Rileva blocco separatore\n",
    "        if \"------------------------------------------------------------\" in line:\n",
    "            # Estrai intestazione variabile nella riga successiva\n",
    "            if i + 1 < len(lines):\n",
    "                header_line = lines[i + 1].strip()\n",
    "                match_header = re.match(r\"([a-zA-Z_]+)\\s*=\\s*([0-9.]+)\", header_line)\n",
    "                if match_header:\n",
    "                    current_var_name = match_header.group(1)\n",
    "                    current_var_value = float(match_header.group(2))\n",
    "\n",
    "        # === Caso 1: Riga con A_Q e zstd_ratio ===\n",
    "        match_full_line = re.search(r\"A_Q\\s*=\\s*([\\d.]+).*?zstd_ratio\\s*=\\s*([\\d.]+)%\", line)\n",
    "        if match_full_line:\n",
    "            acc = float(match_full_line.group(1))\n",
    "            ratio = float(match_full_line.group(2))\n",
    "            if acc > ACCURACY_THRESHOLD and ratio < COMPRESSION_THRESHOLD:\n",
    "                results.append({\n",
    "                    'accuracy': acc,\n",
    "                    'zstd_ratio': ratio,\n",
    "                    'source': os.path.basename(filepath),\n",
    "                    'var_name': current_var_name,\n",
    "                    'var_value': current_var_value,\n",
    "                    'header_params': header_params\n",
    "                })\n",
    "            continue\n",
    "\n",
    "        # === Caso 2: Riga con 'to' e riga successiva con zstd_ratio ===\n",
    "        if \"to\" in line:\n",
    "            match_to = re.search(r'to\\s+([\\d.]+)', line)\n",
    "            if match_to and i + 1 < len(lines):\n",
    "                acc = float(match_to.group(1))\n",
    "                next_line = lines[i + 1]\n",
    "                match_ratio = re.search(r'zstd_ratio\\s*=\\s*([\\d.]+)%', next_line)\n",
    "                if match_ratio:\n",
    "                    ratio = float(match_ratio.group(1))\n",
    "                    if acc > ACCURACY_THRESHOLD and ratio < COMPRESSION_THRESHOLD:\n",
    "                        results.append({\n",
    "                            'accuracy': acc,\n",
    "                            'zstd_ratio': ratio,\n",
    "                            'source': os.path.basename(filepath),\n",
    "                            'var_name': current_var_name,\n",
    "                            'var_value': current_var_value,\n",
    "                            'header_params': header_params\n",
    "                        })\n",
    "    return results\n",
    "\n",
    "# === Lista e ordinamento file ===\n",
    "file_list = [f for f in os.listdir('.') if f.startswith('output-Test-2025-')]\n",
    "file_list.sort(key=lambda f: os.path.getmtime(f))\n",
    "last_two_files = file_list[-2:] if len(file_list) >= 2 else file_list\n",
    "\n",
    "# === Estrazione dati da tutti i file ===\n",
    "all_data = []\n",
    "for filename in file_list:\n",
    "    all_data.extend(extract_metrics_from_file(filename))\n",
    "\n",
    "df = pd.DataFrame(all_data)\n",
    "\n",
    "# Flagga punti provenienti dagli ultimi 2 file\n",
    "df['is_recent_file'] = df['source'].apply(lambda x: x in last_two_files)\n",
    "\n",
    "# === Funzione per convertire dict header_params in stringa leggibile per tooltip ===\n",
    "def header_params_to_str(params):\n",
    "    return '<br>'.join([f\"{k}={v}\" for k, v in params.items()])\n",
    "\n",
    "# Crea etichetta tooltip completa\n",
    "df['label'] = df.apply(lambda row: \n",
    "    f\"File: {row['source']}<br>\"\n",
    "    f\"{row['var_name']} = {row['var_value']}<br>\"\n",
    "    f\"Accuracy: {row['accuracy']}<br>\"\n",
    "    f\"Compression: {row['zstd_ratio']}%<br>\"\n",
    "    f\"<b>Params:</b><br>{header_params_to_str(row['header_params'])}\", axis=1)\n",
    "\n",
    "# === Calcola frontiera efficiente ===\n",
    "def efficient_frontier(df):\n",
    "    df_sorted = df.sort_values(by=['zstd_ratio', 'accuracy'], ascending=[True, False])\n",
    "    frontier_rows = []\n",
    "    max_acc = -1\n",
    "    for _, row in df_sorted.iterrows():\n",
    "        if row['accuracy'] > max_acc:\n",
    "            frontier_rows.append(row)\n",
    "            max_acc = row['accuracy']\n",
    "    return pd.DataFrame(frontier_rows)\n",
    "\n",
    "frontier_df = efficient_frontier(df)\n",
    "\n",
    "# Etichetta per frontiera efficiente\n",
    "frontier_df['label'] = frontier_df.apply(lambda row: \n",
    "    f\"File: {row['source']}<br>\"\n",
    "    f\"{row['var_name']} = {row['var_value']}<br>\"\n",
    "    f\"Accuracy: {row['accuracy']}<br>\"\n",
    "    f\"Compression: {row['zstd_ratio']}%<br>\"\n",
    "    f\"<b>Params:</b><br>{header_params_to_str(row['header_params'])}\", axis=1)\n",
    "\n",
    "# Flag frontiera nel df principale\n",
    "df['is_frontier'] = df.index.isin(frontier_df.index)\n",
    "\n",
    "# === Separazione punti per colori e gruppi ===\n",
    "recent_points = df[df['is_recent_file']]\n",
    "blue_points = df[(~df['is_recent_file']) & (~df['is_frontier'])]\n",
    "red_points = frontier_df\n",
    "\n",
    "# === Plot con plotly ===\n",
    "trace_blue = go.Scatter(\n",
    "    x=blue_points['accuracy'],\n",
    "    y=blue_points['zstd_ratio'],\n",
    "    mode='markers',\n",
    "    name='Unefficient points',\n",
    "    marker=dict(size=8, color='blue'),\n",
    "    text=blue_points['label'],\n",
    "    hoverinfo='text'\n",
    ")\n",
    "\n",
    "trace_red = go.Scatter(\n",
    "    x=red_points['accuracy'],\n",
    "    y=red_points['zstd_ratio'],\n",
    "    mode='markers+lines',\n",
    "    name='Pareto Frontier',\n",
    "    line=dict(color='red', width=2, dash='dash'),\n",
    "    marker=dict(size=10, symbol='diamond'),\n",
    "    text=red_points['label'],\n",
    "    hoverinfo='text'\n",
    ")\n",
    "\n",
    "trace_yellow = go.Scatter(\n",
    "    x=recent_points['accuracy'],\n",
    "    y=recent_points['zstd_ratio'],\n",
    "    mode='markers',\n",
    "    name='Last two tests',\n",
    "    marker=dict(size=9, color='yellow', line=dict(color='black', width=1)),\n",
    "    text=recent_points['label'],\n",
    "    hoverinfo='text'\n",
    ")\n",
    "\n",
    "fig = go.Figure(data=[trace_blue, trace_red, trace_yellow])\n",
    "\n",
    "fig.update_layout(\n",
    "    title=f'Pareto Frontier [ACCURACY_THRESHOLD={ACCURACY_THRESHOLD}, COMPRESSION_THRESHOLD={COMPRESSION_THRESHOLD}]',\n",
    "    xaxis_title='Accuracy (%)',\n",
    "    yaxis_title='Compression Ratio (%)',\n",
    "    template='plotly_white'\n",
    ")\n",
    "\n",
    "fig.show()\n"
   ]
  },
  {
   "cell_type": "code",
   "execution_count": 60,
   "id": "394da3da",
   "metadata": {},
   "outputs": [],
   "source": [
    "fig.write_html(\"ParetoFrontierZoomed.html\", include_plotlyjs='embed', full_html=True)"
   ]
  },
  {
   "cell_type": "code",
   "execution_count": 58,
   "id": "a46eafd5",
   "metadata": {},
   "outputs": [],
   "source": [
    "fig.write_html(\"ParetoFrontier.html\", include_plotlyjs='embed', full_html=True)"
   ]
  },
  {
   "cell_type": "code",
   "execution_count": null,
   "id": "599cfa8a",
   "metadata": {},
   "outputs": [],
   "source": []
  },
  {
   "cell_type": "code",
   "execution_count": null,
   "id": "23dd2ece",
   "metadata": {},
   "outputs": [],
   "source": []
  },
  {
   "cell_type": "code",
   "execution_count": null,
   "id": "b8497846",
   "metadata": {},
   "outputs": [],
   "source": []
  },
  {
   "cell_type": "code",
   "execution_count": null,
   "id": "a48a7a35",
   "metadata": {},
   "outputs": [],
   "source": []
  },
  {
   "cell_type": "code",
   "execution_count": null,
   "id": "9f84fdae",
   "metadata": {},
   "outputs": [],
   "source": []
  },
  {
   "cell_type": "code",
   "execution_count": null,
   "id": "d8ae6351",
   "metadata": {},
   "outputs": [],
   "source": []
  },
  {
   "cell_type": "code",
   "execution_count": null,
   "id": "f05858cf",
   "metadata": {},
   "outputs": [],
   "source": []
  },
  {
   "cell_type": "code",
   "execution_count": null,
   "id": "2ba04a32",
   "metadata": {},
   "outputs": [],
   "source": []
  },
  {
   "cell_type": "code",
   "execution_count": null,
   "id": "ff1bbcf2",
   "metadata": {},
   "outputs": [],
   "source": []
  },
  {
   "cell_type": "code",
   "execution_count": null,
   "id": "1b5da9fb",
   "metadata": {},
   "outputs": [],
   "source": []
  },
  {
   "cell_type": "code",
   "execution_count": null,
   "id": "5311baf7",
   "metadata": {},
   "outputs": [],
   "source": []
  },
  {
   "cell_type": "code",
   "execution_count": null,
   "id": "ca90c969",
   "metadata": {},
   "outputs": [],
   "source": []
  },
  {
   "cell_type": "code",
   "execution_count": null,
   "id": "132ca27d",
   "metadata": {},
   "outputs": [],
   "source": []
  },
  {
   "cell_type": "code",
   "execution_count": null,
   "id": "4d97d073",
   "metadata": {},
   "outputs": [],
   "source": []
  },
  {
   "cell_type": "code",
   "execution_count": null,
   "id": "14128f7e",
   "metadata": {},
   "outputs": [],
   "source": []
  },
  {
   "cell_type": "code",
   "execution_count": null,
   "id": "5527ad7a",
   "metadata": {},
   "outputs": [],
   "source": []
  }
 ],
 "metadata": {
  "kernelspec": {
   "display_name": "Python 3 (ipykernel)",
   "language": "python",
   "name": "python3"
  },
  "language_info": {
   "codemirror_mode": {
    "name": "ipython",
    "version": 3
   },
   "file_extension": ".py",
   "mimetype": "text/x-python",
   "name": "python",
   "nbconvert_exporter": "python",
   "pygments_lexer": "ipython3",
   "version": "3.11.7"
  }
 },
 "nbformat": 4,
 "nbformat_minor": 5
}
